{
 "cells": [
  {
   "cell_type": "markdown",
   "id": "227c85fd-10ba-40ba-ae9d-946b463bdb46",
   "metadata": {},
   "source": [
    "# **SQLAlchemy**"
   ]
  },
  {
   "cell_type": "markdown",
   "id": "be565ba7-daf8-4b79-b102-ebf4cac5c751",
   "metadata": {},
   "source": [
    "## Introdução"
   ]
  },
  {
   "cell_type": "markdown",
   "id": "9f0e2f12-7b6c-4878-beed-8d08937c4be5",
   "metadata": {},
   "source": [
    "Este notebook é apenas uma introdução ao SQLAlchemy."
   ]
  },
  {
   "cell_type": "markdown",
   "id": "a25977ce-e2e1-4f00-a43d-443137b45179",
   "metadata": {},
   "source": [
    "## ```create_engine()```"
   ]
  },
  {
   "cell_type": "markdown",
   "id": "a3e1839f-7ff8-4e98-9d17-c5bd756620fb",
   "metadata": {},
   "source": [
    "A função ```create_engine()``` realiza a conexão com um banco de dados e retorna o objeto ```Engine```. O banco de dados a ser \"ligado\" pode vir do SQLite, Oracle, PostgreSQL, dentre outros. Para mais informações, acesse https://docs.sqlalchemy.org/en/14/core/engines.html. "
   ]
  },
  {
   "cell_type": "code",
   "execution_count": 1,
   "id": "d42304a3-acf0-4d1b-b4e2-c88a51659eb4",
   "metadata": {},
   "outputs": [],
   "source": [
    "from sqlalchemy import create_engine"
   ]
  },
  {
   "cell_type": "markdown",
   "id": "1d655ca3-7c88-4041-ac94-75a577c246d4",
   "metadata": {},
   "source": [
    "Para ilustrar, usaremos o banco de dados ```NovoBanco.db``` criado no SQLite. Para bancos de dados criados nessa biblioteca, devemos fornecer como argumento uma string da seguinte forma: ```'sqlite:///NomeArquivo.db'```. "
   ]
  },
  {
   "cell_type": "code",
   "execution_count": 2,
   "id": "6f9c76a1-38a1-4fce-b867-f1da9a45663e",
   "metadata": {},
   "outputs": [],
   "source": [
    "conn = create_engine('sqlite:///NovoBanco.db')"
   ]
  },
  {
   "cell_type": "markdown",
   "id": "e1fc2b28-6431-4671-8ea9-0efda2b7511b",
   "metadata": {},
   "source": [
    "Vejamos o tipagem de ```conn```"
   ]
  },
  {
   "cell_type": "code",
   "execution_count": 3,
   "id": "043e7c3a-fb75-46cd-992c-1419274874f8",
   "metadata": {},
   "outputs": [
    {
     "data": {
      "text/plain": [
       "sqlalchemy.engine.base.Engine"
      ]
     },
     "execution_count": 3,
     "metadata": {},
     "output_type": "execute_result"
    }
   ],
   "source": [
    "type(conn)"
   ]
  },
  {
   "cell_type": "markdown",
   "id": "c986f9a6-8a23-4ea3-8d50-d92a96b868cf",
   "metadata": {},
   "source": [
    "Daqui em diante usaremos a função ```read_sql_query``` e o método ```to_sql```, ambas pertencentes à biblioteca pandas. Por esse motivo, continuarei a discussão em outro notebook para destrinchar os principais parâmetros."
   ]
  },
  {
   "cell_type": "code",
   "execution_count": null,
   "id": "43bdd2a8-e548-4f59-b492-b9df96d96640",
   "metadata": {},
   "outputs": [],
   "source": []
  }
 ],
 "metadata": {
  "kernelspec": {
   "display_name": "Python 3 (ipykernel)",
   "language": "python",
   "name": "python3"
  },
  "language_info": {
   "codemirror_mode": {
    "name": "ipython",
    "version": 3
   },
   "file_extension": ".py",
   "mimetype": "text/x-python",
   "name": "python",
   "nbconvert_exporter": "python",
   "pygments_lexer": "ipython3",
   "version": "3.8.10"
  }
 },
 "nbformat": 4,
 "nbformat_minor": 5
}
