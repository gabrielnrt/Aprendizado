{
 "cells": [
  {
   "cell_type": "markdown",
   "id": "7f6bb396-455d-48a2-8993-bdc52887e0e6",
   "metadata": {},
   "source": [
    "# Pandas SQL"
   ]
  },
  {
   "cell_type": "markdown",
   "id": "d27f4ab0-dc85-4828-9e35-e8be8c8a755e",
   "metadata": {},
   "source": [
    "## Introdução"
   ]
  },
  {
   "cell_type": "markdown",
   "id": "150884da-8e18-4e9e-90da-e041ac88c8a4",
   "metadata": {},
   "source": [
    "Este notebook é a continuação do ```SQLAlchemy.ipynb``` (https://github.com/gabrielnrt/Aprendizado/blob/main/Banco%20de%20Dados/SQLAlchemy.ipynb). \n",
    "\n",
    "Apenas para recapitular, podemos criar um banco de dados (bd) com o SQLite, PostgreSQL, MySQL, dentre outras plataformas. Uma vez feito isso, usamos a biblioteca ```sqlalchemy``` para estabelecer uma conexão com esse bd. Tendo realizado essa conexão, podemos usar o método ```to_sql()``` para inserir num bd os dados contidos num ```DataFrame```, e a função ```read_sql_query()``` para obter um ```DataFrame``` dados uma consulta e um bd.\n",
    "\n",
    "Posto isso, vamos estabelecer uma conexão com o sqlalchemy."
   ]
  },
  {
   "cell_type": "code",
   "execution_count": 7,
   "id": "37ec9fe7-1bd5-4eac-9abf-13fe703b64ca",
   "metadata": {},
   "outputs": [],
   "source": [
    "from sqlalchemy import create_engine\n",
    "\n",
    "conexao = create_engine('sqlite:///NovoBanco.db')"
   ]
  },
  {
   "cell_type": "markdown",
   "id": "3f0ad296-a1d5-44de-8e22-29e58bd545bd",
   "metadata": {},
   "source": [
    "## ```to_sql()```"
   ]
  },
  {
   "cell_type": "markdown",
   "id": "c407cf64-36fc-465e-b07a-fce310d68647",
   "metadata": {},
   "source": [
    "Inicialmente vamos carregar o arquivo ```TabelaXadrez.csv``` obtido através de raspagem de dados do site \"House of Chess\". A ideia é copiar esses dados num arquivo de bd."
   ]
  },
  {
   "cell_type": "code",
   "execution_count": 8,
   "id": "1b496b6d-4111-4aaa-bcd8-e534f6ccaefb",
   "metadata": {},
   "outputs": [
    {
     "data": {
      "text/html": [
       "<div>\n",
       "<style scoped>\n",
       "    .dataframe tbody tr th:only-of-type {\n",
       "        vertical-align: middle;\n",
       "    }\n",
       "\n",
       "    .dataframe tbody tr th {\n",
       "        vertical-align: top;\n",
       "    }\n",
       "\n",
       "    .dataframe thead th {\n",
       "        text-align: right;\n",
       "    }\n",
       "</style>\n",
       "<table border=\"1\" class=\"dataframe\">\n",
       "  <thead>\n",
       "    <tr style=\"text-align: right;\">\n",
       "      <th></th>\n",
       "      <th>Código</th>\n",
       "      <th>Nome</th>\n",
       "      <th>Altura (Polegadas)</th>\n",
       "      <th>Material</th>\n",
       "      <th>Preço (USD)</th>\n",
       "    </tr>\n",
       "  </thead>\n",
       "  <tbody>\n",
       "    <tr>\n",
       "      <th>0</th>\n",
       "      <td>CP2485</td>\n",
       "      <td>Famous Staunton Wood Chess Pieces King Size 3\"...</td>\n",
       "      <td>3.00</td>\n",
       "      <td>Golden Rosewood / Boxwood</td>\n",
       "      <td>29.95</td>\n",
       "    </tr>\n",
       "    <tr>\n",
       "      <th>1</th>\n",
       "      <td>CP1774</td>\n",
       "      <td>Wooden Unique Staunton Chess Pieces King Size ...</td>\n",
       "      <td>3.50</td>\n",
       "      <td>Golden Rosewood / Boxwood</td>\n",
       "      <td>39.95</td>\n",
       "    </tr>\n",
       "    <tr>\n",
       "      <th>2</th>\n",
       "      <td>CP3874</td>\n",
       "      <td>Wood Chess Set Pieces Monarch Staunton King Si...</td>\n",
       "      <td>3.00</td>\n",
       "      <td>Golden Rosewood / Boxwood</td>\n",
       "      <td>39.95</td>\n",
       "    </tr>\n",
       "    <tr>\n",
       "      <th>3</th>\n",
       "      <td>CP2358</td>\n",
       "      <td>Chess Set Pieces Sovereign Staunton 3-1/4\" Gol...</td>\n",
       "      <td>3.25</td>\n",
       "      <td>Golden Rosewood / Boxwood</td>\n",
       "      <td>44.95</td>\n",
       "    </tr>\n",
       "    <tr>\n",
       "      <th>4</th>\n",
       "      <td>CP2810</td>\n",
       "      <td>Famous Staunton Wood Chess Pieces King Size 3-...</td>\n",
       "      <td>3.25</td>\n",
       "      <td>Golden Rosewood / Boxwood</td>\n",
       "      <td>44.95</td>\n",
       "    </tr>\n",
       "  </tbody>\n",
       "</table>\n",
       "</div>"
      ],
      "text/plain": [
       "   Código                                               Nome  \\\n",
       "0  CP2485  Famous Staunton Wood Chess Pieces King Size 3\"...   \n",
       "1  CP1774  Wooden Unique Staunton Chess Pieces King Size ...   \n",
       "2  CP3874  Wood Chess Set Pieces Monarch Staunton King Si...   \n",
       "3  CP2358  Chess Set Pieces Sovereign Staunton 3-1/4\" Gol...   \n",
       "4  CP2810  Famous Staunton Wood Chess Pieces King Size 3-...   \n",
       "\n",
       "   Altura (Polegadas)                   Material  Preço (USD)  \n",
       "0                3.00  Golden Rosewood / Boxwood        29.95  \n",
       "1                3.50  Golden Rosewood / Boxwood        39.95  \n",
       "2                3.00  Golden Rosewood / Boxwood        39.95  \n",
       "3                3.25  Golden Rosewood / Boxwood        44.95  \n",
       "4                3.25  Golden Rosewood / Boxwood        44.95  "
      ]
     },
     "execution_count": 8,
     "metadata": {},
     "output_type": "execute_result"
    }
   ],
   "source": [
    "from pandas import read_csv\n",
    "\n",
    "dados = read_csv('TabelaXadrez.csv')\n",
    "\n",
    "dados.head()"
   ]
  },
  {
   "cell_type": "markdown",
   "id": "1ba80b37-9656-4b69-b370-2b4f1bb9ec7b",
   "metadata": {},
   "source": [
    "O objeto ```DataFrame``` possui método ```to_sql()```, que grava seus dados num bd SQL. Dentre os parâmetros desse método, destacamos\n",
    "\n",
    "* ```name```: (string) Nome da tabela\n",
    "\n",
    "* ```con```: (Objeto ```Engine``` ou ```Connection``` do sqlalchemy, ou o objeto ```Connection``` do sqlite3) conexão com o banco de dados\n",
    "\n",
    "* ```index```: (bool) Colocar os índices do ```DataFrame``` como uma coluna do bd\n",
    "\n",
    "* ```if_exists```: se a tabela já existe, então ```fail``` vai levantar um erro, ```replace``` vai substituir (sobrescrever) os dados já existentes, e ```append``` vai inserir os novos valores para a tabela.\n",
    "\n",
    "No nosso caso, a tabela se chama ```showroom```, vide a query feita em https://github.com/gabrielnrt/Aprendizado/blob/main/Banco%20de%20Dados/SQLite.ipynb, o que nos leva a"
   ]
  },
  {
   "cell_type": "code",
   "execution_count": 9,
   "id": "b83de69e-6d98-4df1-84f4-4689792bf5cb",
   "metadata": {},
   "outputs": [],
   "source": [
    "dados.to_sql(name = 'showroom',\n",
    "             con = conexao,\n",
    "             index = False,\n",
    "             if_exists = 'append')"
   ]
  },
  {
   "cell_type": "markdown",
   "id": "07394023-48fd-4417-afcb-518eb3943964",
   "metadata": {},
   "source": [
    "Aqui reiteramos que, para este método não levantar um erro, precisamos que o nome das colunas no bd seja o mesmo das colunas no ```.csv```."
   ]
  },
  {
   "cell_type": "markdown",
   "id": "9cb4ef30-d923-4d30-baef-cce636e3ebce",
   "metadata": {},
   "source": [
    "## ```read_sql_query()```"
   ]
  },
  {
   "cell_type": "markdown",
   "id": "4a56607d-42bf-43e4-a910-00155359a1fb",
   "metadata": {},
   "source": [
    "Agora que inserimos os dados do DataFrame no bd, podemos fazer o processo reverso, isto é, obter um DataFrame a partir de um banco de dados já feito. Para isso, usamos a função ```read_sql_query()```, que retorna um DataFrame. Dentre os parâmetros, destacamos\n",
    "\n",
    "* ```sql``` (string) nome da consulta a ser feita\n",
    "\n",
    "* ```con``` conexão com o banco de dados, que pode ser o objeto ```connection``` do sqlite3 ou da biblioteca sqlalchemy.\n",
    "\n",
    "No nosso caso, vamos selecionar todas as células no arquivo."
   ]
  },
  {
   "cell_type": "code",
   "execution_count": 10,
   "id": "8ea86124-da2f-45ef-9ee1-667c1c6d4d1e",
   "metadata": {},
   "outputs": [
    {
     "data": {
      "text/html": [
       "<div>\n",
       "<style scoped>\n",
       "    .dataframe tbody tr th:only-of-type {\n",
       "        vertical-align: middle;\n",
       "    }\n",
       "\n",
       "    .dataframe tbody tr th {\n",
       "        vertical-align: top;\n",
       "    }\n",
       "\n",
       "    .dataframe thead th {\n",
       "        text-align: right;\n",
       "    }\n",
       "</style>\n",
       "<table border=\"1\" class=\"dataframe\">\n",
       "  <thead>\n",
       "    <tr style=\"text-align: right;\">\n",
       "      <th></th>\n",
       "      <th>Código</th>\n",
       "      <th>Nome</th>\n",
       "      <th>Altura (Polegadas)</th>\n",
       "      <th>Material</th>\n",
       "      <th>Preço (USD)</th>\n",
       "    </tr>\n",
       "  </thead>\n",
       "  <tbody>\n",
       "    <tr>\n",
       "      <th>0</th>\n",
       "      <td>CP0001</td>\n",
       "      <td>Enoby Staunton</td>\n",
       "      <td>3.75</td>\n",
       "      <td>Padauk</td>\n",
       "      <td>199.99</td>\n",
       "    </tr>\n",
       "    <tr>\n",
       "      <th>1</th>\n",
       "      <td>CP2485</td>\n",
       "      <td>Famous Staunton Wood Chess Pieces King Size 3\"...</td>\n",
       "      <td>3.00</td>\n",
       "      <td>Golden Rosewood / Boxwood</td>\n",
       "      <td>29.95</td>\n",
       "    </tr>\n",
       "    <tr>\n",
       "      <th>2</th>\n",
       "      <td>CP1774</td>\n",
       "      <td>Wooden Unique Staunton Chess Pieces King Size ...</td>\n",
       "      <td>3.50</td>\n",
       "      <td>Golden Rosewood / Boxwood</td>\n",
       "      <td>39.95</td>\n",
       "    </tr>\n",
       "    <tr>\n",
       "      <th>3</th>\n",
       "      <td>CP3874</td>\n",
       "      <td>Wood Chess Set Pieces Monarch Staunton King Si...</td>\n",
       "      <td>3.00</td>\n",
       "      <td>Golden Rosewood / Boxwood</td>\n",
       "      <td>39.95</td>\n",
       "    </tr>\n",
       "    <tr>\n",
       "      <th>4</th>\n",
       "      <td>CP2358</td>\n",
       "      <td>Chess Set Pieces Sovereign Staunton 3-1/4\" Gol...</td>\n",
       "      <td>3.25</td>\n",
       "      <td>Golden Rosewood / Boxwood</td>\n",
       "      <td>44.95</td>\n",
       "    </tr>\n",
       "  </tbody>\n",
       "</table>\n",
       "</div>"
      ],
      "text/plain": [
       "   Código                                               Nome  \\\n",
       "0  CP0001                                     Enoby Staunton   \n",
       "1  CP2485  Famous Staunton Wood Chess Pieces King Size 3\"...   \n",
       "2  CP1774  Wooden Unique Staunton Chess Pieces King Size ...   \n",
       "3  CP3874  Wood Chess Set Pieces Monarch Staunton King Si...   \n",
       "4  CP2358  Chess Set Pieces Sovereign Staunton 3-1/4\" Gol...   \n",
       "\n",
       "   Altura (Polegadas)                   Material  Preço (USD)  \n",
       "0                3.75                     Padauk       199.99  \n",
       "1                3.00  Golden Rosewood / Boxwood        29.95  \n",
       "2                3.50  Golden Rosewood / Boxwood        39.95  \n",
       "3                3.00  Golden Rosewood / Boxwood        39.95  \n",
       "4                3.25  Golden Rosewood / Boxwood        44.95  "
      ]
     },
     "execution_count": 10,
     "metadata": {},
     "output_type": "execute_result"
    }
   ],
   "source": [
    "from pandas import read_sql_query\n",
    "\n",
    "consulta = \"SELECT * FROM showroom\"\n",
    "\n",
    "\n",
    "df = read_sql_query(sql = consulta, con = conexao)\n",
    "\n",
    "\n",
    "df.head()"
   ]
  },
  {
   "cell_type": "markdown",
   "id": "8aa5674a-3c45-4b8b-b479-ea5c7436e7e3",
   "metadata": {},
   "source": [
    "Note que conseguimos extrair os dados feitos na raspagem e com a linha adicional criada manualmente no notebook \"SQLite.ipynb\"."
   ]
  },
  {
   "cell_type": "code",
   "execution_count": null,
   "id": "5af2f4f0-7593-44d2-bea8-6fc50353eb6a",
   "metadata": {},
   "outputs": [],
   "source": []
  }
 ],
 "metadata": {
  "kernelspec": {
   "display_name": "Python 3 (ipykernel)",
   "language": "python",
   "name": "python3"
  },
  "language_info": {
   "codemirror_mode": {
    "name": "ipython",
    "version": 3
   },
   "file_extension": ".py",
   "mimetype": "text/x-python",
   "name": "python",
   "nbconvert_exporter": "python",
   "pygments_lexer": "ipython3",
   "version": "3.8.10"
  }
 },
 "nbformat": 4,
 "nbformat_minor": 5
}
