{
 "cells": [
  {
   "cell_type": "markdown",
   "id": "7f6bb396-455d-48a2-8993-bdc52887e0e6",
   "metadata": {},
   "source": [
    "# Pandas SQL"
   ]
  },
  {
   "cell_type": "markdown",
   "id": "d27f4ab0-dc85-4828-9e35-e8be8c8a755e",
   "metadata": {},
   "source": [
    "## Introdução"
   ]
  },
  {
   "cell_type": "markdown",
   "id": "150884da-8e18-4e9e-90da-e041ac88c8a4",
   "metadata": {},
   "source": [
    "Este notebook é a continuação do ```SQLAlchemy.ipynb``` (https://github.com/gabrielnrt/Aprendizado/blob/main/Banco%20de%20Dados/SQLAlchemy.ipynb). \n",
    "\n",
    "Apenas para recapitular, podemos criar um banco de dados (bd) com o SQLite, PostgreSQL, MySQL, dentre outras plataformas. Uma vez feito isso, usamos a biblioteca ```sqlalchemy``` para estabelecer uma conexão com esse bd. Tendo realizado essa conexão, podemos usar o método ```to_sql()``` para inserir os dados contidos num ```DataFrame``` num bd, e a função ```read_sql_query``` para obter um ```DataFrame``` dados uma consulta e um bd."
   ]
  },
  {
   "cell_type": "code",
   "execution_count": null,
   "id": "37ec9fe7-1bd5-4eac-9abf-13fe703b64ca",
   "metadata": {},
   "outputs": [],
   "source": []
  }
 ],
 "metadata": {
  "kernelspec": {
   "display_name": "Python 3 (ipykernel)",
   "language": "python",
   "name": "python3"
  },
  "language_info": {
   "codemirror_mode": {
    "name": "ipython",
    "version": 3
   },
   "file_extension": ".py",
   "mimetype": "text/x-python",
   "name": "python",
   "nbconvert_exporter": "python",
   "pygments_lexer": "ipython3",
   "version": "3.8.10"
  }
 },
 "nbformat": 4,
 "nbformat_minor": 5
}
