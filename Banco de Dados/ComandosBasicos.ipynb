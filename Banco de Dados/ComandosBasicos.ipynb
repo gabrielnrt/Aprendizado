{
 "cells": [
  {
   "cell_type": "markdown",
   "id": "2e213503-120d-4066-9352-37936c50ef27",
   "metadata": {},
   "source": [
    "## **Principais comandos em bancos de dados**"
   ]
  },
  {
   "cell_type": "markdown",
   "id": "366e5c14-7ff9-4a7a-8c0f-93a69ebdae8d",
   "metadata": {},
   "source": [
    "**DISTINCT** - OMITIR DADOS DUPLICADOS TRAZER DADOS UNICOS\n",
    "\n",
    "**SELECT DISTINCT** coluna1,coluna2\n",
    "**FROM** tabela\n",
    "\n",
    "**WHERE** - CONDIÇÃO\n",
    "\n",
    "**SELECT** coluna1,coluna2\n",
    "**FROM** tabela\n",
    "**WHERE** condição\n",
    "( Operadores = ,>,<,>=,<=,<>,AND,OR)\n",
    "\n",
    "**COUNT** - retorna o numero de linhas afetadas pela condição\n",
    "Pode ser utilizado o comando 'Distinct'\n",
    "\n",
    "**SELECT COUNT** ( distinct coluna)\n",
    "**FROM TABLE**\n",
    "\n",
    "**ORDER BY** - ordena de forma crescente ( asc) decrescente (desc)\n",
    "Pode ser feitas em diversas colunas juntas\n",
    "\n",
    "**SELECT** coluna1,coluna2\n",
    "**FROM** tabela\n",
    "**ORDER BY** coluna1 asc/desc\n",
    "\n",
    "**BETWEEN** - Traz no resultado ovalor entre as especificações\n",
    "\n",
    "**SELECT** coluna1\n",
    "**FROM** tabela\n",
    "**WHERE** coluna1 between ... and ...\n",
    "\n",
    "**IN** - Verifica se um valor corresponde a qualquer um listado\n",
    "\n",
    "Valor in (valor1,valor2)\n",
    "Valor in (SELECT coluna From tabela)\n",
    "\n",
    "**LIKE** - caso queira trazer algo parecido '%...%'\n",
    "\n",
    "**SELECT** *\n",
    "**FROM** tabela\n",
    "**WHERE** coluna like %...%\n",
    "\n",
    "**MIN MAX SUM AVG** - Funções que agregam ou combinam dados de uma tabela em 1 resultado só\n",
    "\n",
    "**GROUP BY** - Divide o resultado da sua pesquisa em grupos\n",
    "\n",
    "**SELECT** coluna1,funcaoAgregacao (coluna 2)\n",
    "**FROM** nomeTab\n",
    "**GROUP BY** coluna1\n",
    "\n",
    "**HAVING** - O having é basicamente muito usado em junção com o group by para filtrar resultados de um agrupamento. (where para dados agrupados). O having aplica depois dos dados agrupados e o where aplica antes.\n",
    "\n",
    "**SELECT** coluna1,funcaoAgregacao (coluna 2) select StateProvinceID,count (StateProvinceID) as 'quantidade'\n",
    "**FROM** nomeTab from person.Address\n",
    "**GROUP BY** coluna1 group by StateProvinceID\n",
    "**HAVING** condição; having count (StateProvinceID )> 1000"
   ]
  },
  {
   "cell_type": "code",
   "execution_count": null,
   "id": "6f1a986c-3842-4418-8eb5-ae6c17db9585",
   "metadata": {},
   "outputs": [],
   "source": []
  }
 ],
 "metadata": {
  "kernelspec": {
   "display_name": "Python 3 (ipykernel)",
   "language": "python",
   "name": "python3"
  },
  "language_info": {
   "codemirror_mode": {
    "name": "ipython",
    "version": 3
   },
   "file_extension": ".py",
   "mimetype": "text/x-python",
   "name": "python",
   "nbconvert_exporter": "python",
   "pygments_lexer": "ipython3",
   "version": "3.8.10"
  }
 },
 "nbformat": 4,
 "nbformat_minor": 5
}
