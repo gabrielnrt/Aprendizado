{
 "cells": [
  {
   "cell_type": "markdown",
   "id": "aadd9462-a463-4954-8b11-3e9e56d55584",
   "metadata": {
    "tags": []
   },
   "source": [
    "## House of chess"
   ]
  },
  {
   "cell_type": "markdown",
   "id": "319d746a-fbab-4202-a419-b4fcb53eee1e",
   "metadata": {},
   "source": [
    "Usaremos o sqlite para armazenar a tabela obtida com a raspagem de dados do site da House of Chess. Criemos inicialmente a estrutura da nossa tabela com suas tipagens."
   ]
  },
  {
   "cell_type": "code",
   "execution_count": 1,
   "id": "4da00f0b-552d-461e-b52e-f515141897cd",
   "metadata": {},
   "outputs": [],
   "source": [
    "consulta = \"\"\"\n",
    "    CREATE TABLE showroom ( \n",
    "            Codigo   TEXT,\n",
    "            Nome     TEXT,\n",
    "            Altura   INTEGER,\n",
    "            Material TEXT,\n",
    "            Preco    REAL\n",
    "    )\n",
    "\"\"\""
   ]
  },
  {
   "cell_type": "markdown",
   "id": "72a792b8-9639-40d5-a2be-edc3a043cc76",
   "metadata": {
    "tags": []
   },
   "source": [
    "# **SQLite**"
   ]
  },
  {
   "cell_type": "markdown",
   "id": "a573b6cc-acbb-416c-b701-ed85302e2774",
   "metadata": {},
   "source": [
    "## Introdução"
   ]
  },
  {
   "cell_type": "markdown",
   "id": "576cd559-44c9-43f8-a1da-1c250342f43e",
   "metadata": {},
   "source": [
    "Neste notebook veremos como usar a biblioteca SQLite para criar banco de dados e conectá-los com arquivos ```.csv```. O material será baseado no site http://pythonclub.com.br/gerenciando-banco-dados-sqlite3-python-parte1.html."
   ]
  },
  {
   "cell_type": "markdown",
   "id": "cbf14fa5-44d3-40a9-a724-3450464bb68d",
   "metadata": {},
   "source": [
    "## Criar, conectar e desconectar do banco"
   ]
  },
  {
   "cell_type": "markdown",
   "id": "d9bd73fd-aa23-4659-b87a-9aac935ba982",
   "metadata": {},
   "source": [
    "Para conectar a um banco de dados, devemos usar a função ```connect``` da biblioteca."
   ]
  },
  {
   "cell_type": "code",
   "execution_count": 2,
   "id": "20704308-8c65-47a3-b6b8-f6fcef8972f6",
   "metadata": {},
   "outputs": [],
   "source": [
    "from sqlite3 import connect"
   ]
  },
  {
   "cell_type": "markdown",
   "id": "add1268c-89eb-40ce-acaa-cf8799bb720e",
   "metadata": {},
   "source": [
    "Ele nos retorna um objeto de conexão, que possui alguns métodos que abordaremos mais adiante. Como parâmetro dessa função, inserimos como string o nome do banco de dados que é um arquivo do tipo ```.db```. \n",
    "\n",
    "Caso não exista um arquivo com o nome inserido, então essa função cria um banco de dados vazio com esse nome."
   ]
  },
  {
   "cell_type": "code",
   "execution_count": 3,
   "id": "92b434e4-485e-45c3-8900-367b78932580",
   "metadata": {},
   "outputs": [],
   "source": [
    "conexao = connect('NovoBanco.db')"
   ]
  },
  {
   "cell_type": "markdown",
   "id": "0c521cbb-5298-41b9-9983-8812e7f0aa2c",
   "metadata": {},
   "source": [
    "Uma vez criado, podemos usar os métodos de ```conexao``` para fornecer a estrutura do banco, como nome das colunas e suas respectivas tipagens, inserir dados, assim como alterá-los ou deletá-los.\n",
    "\n",
    "Para sair da conexão, usamos o método ```close()```:"
   ]
  },
  {
   "cell_type": "code",
   "execution_count": 4,
   "id": "e5a16504-6230-4f8f-9bd3-750d5d4cafdd",
   "metadata": {},
   "outputs": [],
   "source": [
    "conexao.close()"
   ]
  },
  {
   "cell_type": "markdown",
   "id": "020ff1fa-78a1-45d7-a6a8-5a0713a82490",
   "metadata": {},
   "source": [
    "## Editando o arquivo de banco de dados"
   ]
  },
  {
   "cell_type": "markdown",
   "id": "66aeed5d-eee4-44c0-9036-f5bfed23d7f1",
   "metadata": {},
   "source": [
    "Tanto para criar uma tabela quanto editar seus valores, usamos os métodos ```cursor()``` (método da conexão), que cria um interador que permite navegar e manipular os registros, e ```execute()``` (método de ```cursor()```), que realiza a consulta feita pelo usuário. A diferença é que para salvar as edições feitas nos valores, é necessário usar ```commit()```, que é um método da conexão."
   ]
  },
  {
   "cell_type": "markdown",
   "id": "b1e7bb9c-136f-485b-a413-6a5dc11ca92b",
   "metadata": {},
   "source": [
    "### Criação da tabela"
   ]
  },
  {
   "cell_type": "markdown",
   "id": "f749d065-923b-44f2-8b04-eeb02295ed8b",
   "metadata": {},
   "source": [
    "Como encerramos a conexão, vamos \"ligá-la\" de volta, e digitar a nossa consulta na qual criaremos a estrutura da tabela. O nome e o tipo das colunas se referem aos dados coletados de peças de xadrez do site \"House of Chess\"."
   ]
  },
  {
   "cell_type": "code",
   "execution_count": 5,
   "id": "b8f670fe-d057-4cc5-894c-15ec1ace4db8",
   "metadata": {},
   "outputs": [],
   "source": [
    "conexao = connect('NovoBanco.db')\n",
    "\n",
    "consulta = \"\"\"\n",
    "    CREATE TABLE showroom ( \n",
    "            Codigo   TEXT,\n",
    "            Nome     TEXT,\n",
    "            Altura   INTEGER,\n",
    "            Material TEXT,\n",
    "            Preco    REAL\n",
    "    )\n",
    "\"\"\"\n",
    "\n",
    "cursor = conexao.cursor()"
   ]
  },
  {
   "cell_type": "markdown",
   "id": "81b22dcf-07ab-4344-bded-c9ebc62dcd0b",
   "metadata": {},
   "source": [
    "Agora vamos inserir essa estrutura no arquivo ```NovoBanco.db``` com o comando ```cursor.execute()```, colocando no argumento a consulta criada na string."
   ]
  },
  {
   "cell_type": "code",
   "execution_count": 6,
   "id": "125d0918-be71-4815-873c-84c45b2d05a5",
   "metadata": {},
   "outputs": [
    {
     "data": {
      "text/plain": [
       "<sqlite3.Cursor at 0x7fea103c1880>"
      ]
     },
     "execution_count": 6,
     "metadata": {},
     "output_type": "execute_result"
    }
   ],
   "source": [
    "cursor.execute(consulta)"
   ]
  },
  {
   "cell_type": "markdown",
   "id": "8f76b1c2-811e-49a6-9fa6-383c22aafb09",
   "metadata": {},
   "source": [
    "Para visualizar o nome da tabela criada, que no nosso caso é ```showroom```, é só digitar ```sqlite3  NovoBanco.db '.tables'``` no terminal. Obs: se o sqlite3 não estiver instalado, basta digitar ```sudo apt install sqlite3``` no terminal antes."
   ]
  },
  {
   "cell_type": "markdown",
   "id": "17d0ba41-805c-46a4-9724-9b784bfe9658",
   "metadata": {},
   "source": [
    "### Inserção de valores"
   ]
  },
  {
   "cell_type": "markdown",
   "id": "f74ff0b2-a486-49ea-8211-4487a08b0786",
   "metadata": {},
   "source": [
    "Para inserir valores dentro da tabela criada, é só montar uma consulta usando a sintaxe SQL, e depois utlizar o método commit."
   ]
  },
  {
   "cell_type": "code",
   "execution_count": 7,
   "id": "14272f13-16f3-4f32-a4ed-b00d7dde38b8",
   "metadata": {},
   "outputs": [],
   "source": [
    "consulta = \"\"\"\n",
    "    INSERT INTO showroom (Codigo, Nome, Altura, Material, Preco)\n",
    "    VALUES ('CP0001', 'Enoby Staunton', 3.75, 'Padauk', 199.99)\n",
    "\"\"\"\n",
    "\n",
    "cursor.execute(consulta)\n",
    "\n",
    "conexao.commit()\n",
    "conexao.close()"
   ]
  },
  {
   "cell_type": "markdown",
   "id": "f689cdd8-223f-4387-9fdc-a325ac10323a",
   "metadata": {},
   "source": [
    "Note mais uma vez que o commit é um método da conexao, e não do cursor."
   ]
  },
  {
   "cell_type": "code",
   "execution_count": null,
   "id": "97bff78a-cebe-471c-80b2-ca89be1f4dbc",
   "metadata": {},
   "outputs": [],
   "source": []
  }
 ],
 "metadata": {
  "kernelspec": {
   "display_name": "Python 3 (ipykernel)",
   "language": "python",
   "name": "python3"
  },
  "language_info": {
   "codemirror_mode": {
    "name": "ipython",
    "version": 3
   },
   "file_extension": ".py",
   "mimetype": "text/x-python",
   "name": "python",
   "nbconvert_exporter": "python",
   "pygments_lexer": "ipython3",
   "version": "3.8.10"
  }
 },
 "nbformat": 4,
 "nbformat_minor": 5
}
