{
  "nbformat": 4,
  "nbformat_minor": 0,
  "metadata": {
    "colab": {
      "name": "Python POO",
      "provenance": []
    },
    "kernelspec": {
      "name": "python3",
      "display_name": "Python 3"
    },
    "language_info": {
      "name": "python"
    }
  },
  "cells": [
    {
      "cell_type": "markdown",
      "metadata": {
        "id": "HhioOnr3uv8X"
      },
      "source": [
        "#Programação orientada a objeto em Python"
      ]
    },
    {
      "cell_type": "markdown",
      "metadata": {
        "id": "TT5bHTvYvJT7"
      },
      "source": [
        "Este notebook vai ser um amontoado de coisas que aprendi e estou aprendendo sobre programação orientada a objeto em Python. Por hora, vou usar a playlist do Corey Schafer (https://www.youtube.com/playlist?list=PL-osiE80TeTsqhIuOqKhwlXsIBIdSeYtc), mas seu eu achar outros materiais complementares, vou colocando por aqui também.\n",
        "\n",
        "A motivação para ver esse conteúdo é basicamente a curiosidade em entender alguns comandos que via na biblioteca matplotlib, que eram linhas de código como ```ax.AlgumComando()```, onde ```ax``` não era uma função propriamente dita."
      ]
    },
    {
      "cell_type": "markdown",
      "metadata": {
        "id": "MuSor0Csidm7"
      },
      "source": [
        "## Parte 1: Classes e instâncias"
      ]
    },
    {
      "cell_type": "markdown",
      "metadata": {
        "id": "IaKnm_vjxJsU"
      },
      "source": [
        "### Introdução"
      ]
    },
    {
      "cell_type": "markdown",
      "metadata": {
        "id": "adl8zjINXahx"
      },
      "source": [
        "Uma classe nos serve quando queremos agrupar dados num único conjunto. Por exemplo, para fazer um cadastro de uma casa, devemos coletar dados como endereço, número de cômodos, área do terreno, área construída, preço, etc. \n",
        "\n",
        "Para criar uma classe sem nenhum parâmetro previamente definido, a sintaxe é"
      ]
    },
    {
      "cell_type": "code",
      "metadata": {
        "id": "-g2duF9kzU4S"
      },
      "source": [
        "class Casa:\n",
        "  pass"
      ],
      "execution_count": null,
      "outputs": []
    },
    {
      "cell_type": "markdown",
      "metadata": {
        "id": "Wr-uFKUnzgCv"
      },
      "source": [
        "Quando não temos parâmteros previamente definidos, é necessário colocar o ```pass``` para não haver erro quando rodamos o código. Com isso, podemos criar os seguintes objetos"
      ]
    },
    {
      "cell_type": "code",
      "metadata": {
        "id": "60n1n3AmVJtO"
      },
      "source": [
        "casa1 = Casa()\n",
        "casa2 = Casa()"
      ],
      "execution_count": null,
      "outputs": []
    },
    {
      "cell_type": "markdown",
      "metadata": {
        "id": "-ySHtdJeWLNy"
      },
      "source": [
        "Dizemos que ```Casa``` é a nossa classe, enquanto que ```casa1``` e ```casa2``` são chamadas de ***instâncias da classe***. "
      ]
    },
    {
      "cell_type": "markdown",
      "metadata": {
        "id": "0XRBYErkXPff"
      },
      "source": [
        "### Variáveis de instância "
      ]
    },
    {
      "cell_type": "markdown",
      "metadata": {
        "id": "7HtY1zzyYZDj"
      },
      "source": [
        "As características específicas de cada instância são chamadas de **variáveis de instância**, enquanto que as funções dentro da classe são chamadas de **métodos**.\n",
        "\n",
        "Podemos criar variáveis de instância de maneira \"manual\" no próprio código fazendo o seguinte:"
      ]
    },
    {
      "cell_type": "code",
      "metadata": {
        "id": "N3TXlbA0aerl"
      },
      "source": [
        "casa1.preco = 20000\n",
        "casa2.preco = 15000"
      ],
      "execution_count": null,
      "outputs": []
    },
    {
      "cell_type": "markdown",
      "metadata": {
        "id": "jZDYuzoRbHLN"
      },
      "source": [
        "Contudo, para não ter que digitar essencialmente a mesma linha para cada instância, podemos inserir essas variáveis quando criamos a classe.\n",
        "\n",
        "A sintaxe para criar essas variáveis dentro da classe é a seguinte:\n",
        "\n",
        "- Criar um método que, por padrão chamamos de ```__init__``` (com 2 underlines)\n",
        "\n",
        "- Colocar no primeiro parâmetro a própria instância, que por convenção chamamos de ```self```\n",
        "\n",
        "- Colocar nos demais parâmetros as variáveis da instância\n",
        "\n",
        "O ```self``` significa a própria instância a qual vamos atribuir variáveis. Uma vez feito isso, nas linhas de baixo fazemos as atribuições como na célula cima, isto é, ```self.preco = preco```, ..., ```self.quartos = quartos```."
      ]
    },
    {
      "cell_type": "code",
      "metadata": {
        "id": "v77Lk-cI3m6A"
      },
      "source": [
        "class Casa:\n",
        "  def __init__(self, preco, AreaTerreno, AreaConstruida, banheiros, quartos):\n",
        "    self.preco = preco\n",
        "    self.AreaTerreno =  AreaTerreno\n",
        "    self.AreaConstruida = AreaConstruida\n",
        "    self.banheiros = banheiros\n",
        "    self.quartos = quartos"
      ],
      "execution_count": null,
      "outputs": []
    },
    {
      "cell_type": "markdown",
      "metadata": {
        "id": "DZj2Sd0f7PqQ"
      },
      "source": [
        "**O ```__init__``` é executado toda vez que criamos uma instância.**"
      ]
    },
    {
      "cell_type": "markdown",
      "metadata": {
        "id": "5DI0Q8vfeNWK"
      },
      "source": [
        "Note que as variáveis da instância não precisam ter o mesmo nome que os parâmetros dentro do ```__init__```. Por exemplo, na linha da área do terreno poderíamos ter feito ```self.areaterreno =  AreaTerreno``` (tudo em minúsculo), e não teríamos nenhum problema.\n",
        "\n",
        "Com isso, podemos caracterizar cada casa de uma maneira mais limpa, fazendo"
      ]
    },
    {
      "cell_type": "code",
      "metadata": {
        "id": "RnoZvbc7SaY5"
      },
      "source": [
        "casa1 = Casa(20000,50,70,3,5)\n",
        "casa2 = Casa(15000,30,40,1,2)"
      ],
      "execution_count": null,
      "outputs": []
    },
    {
      "cell_type": "markdown",
      "metadata": {
        "id": "FTIaxd9HggoH"
      },
      "source": [
        "Vale ressaltar que não precisamos colocar a própria instância dentro dos parênteses pois isso é feito automaticamente em python."
      ]
    },
    {
      "cell_type": "markdown",
      "metadata": {
        "id": "_eRaMVy8hfsZ"
      },
      "source": [
        "###Métodos"
      ]
    },
    {
      "cell_type": "markdown",
      "metadata": {
        "id": "rpfesmqHipZ4"
      },
      "source": [
        "Para criar um método, devemos obrigatoriamente colocar a instância como um dos argumentos. Pode ser que o método precise de mais argumentos, mas isso depende de cada caso.\n",
        "\n",
        "Para exemplificar, digamos que, dado uma casa, queremos saber o valor venal dela. Suponha que o valor venal seja a metade do valor colocado a venda. Assim, a sintaxe é bastante similar ao de uma função:"
      ]
    },
    {
      "cell_type": "code",
      "metadata": {
        "id": "w7yxrPyJfgQK"
      },
      "source": [
        "class Casa:\n",
        "  def __init__(self, preco, AreaTerreno, AreaConstruida, banheiros, quartos):\n",
        "    self.preco = preco\n",
        "    self.AreaTerreno =  AreaTerreno\n",
        "    self.AreaConstruida = AreaConstruida\n",
        "    self.banheiros = banheiros\n",
        "    self.quartos = quartos\n",
        "\n",
        "  def ValorVenal(self):\n",
        "    x = (self.preco)/2\n",
        "    return x"
      ],
      "execution_count": null,
      "outputs": []
    },
    {
      "cell_type": "markdown",
      "metadata": {
        "id": "-_ZvRqXGkhhq"
      },
      "source": [
        "Para chamar o método no código, temos duas maneiras. A primeira consiste usando a seguinte sintaxe: ```NomeInstancia.metodo(argumentos)```. No nosso caso, teríamos que fazer"
      ]
    },
    {
      "cell_type": "code",
      "metadata": {
        "colab": {
          "base_uri": "https://localhost:8080/"
        },
        "id": "JY68mklmkRtI",
        "outputId": "c8209dec-b581-4e34-ee70-4191a5dec024"
      },
      "source": [
        "casa1 = Casa(20000,50,70,3,5)\n",
        "casa2 = Casa(15000,30,40,1,2)\n",
        "\n",
        "u = casa1.ValorVenal()\n",
        "print(u)"
      ],
      "execution_count": null,
      "outputs": [
        {
          "output_type": "stream",
          "text": [
            "10000.0\n"
          ],
          "name": "stdout"
        }
      ]
    },
    {
      "cell_type": "markdown",
      "metadata": {
        "id": "58J96IbKlK-R"
      },
      "source": [
        "Obs.: como estamos chamando um método e não uma variável da instância, **O USO DE PARÊNTESES É OBRIGATÓRIO**.\n",
        "\n",
        "A segunda maneira para chamar o método é usando a seguinte sintaxe: ```Classe.Metodo(Instancia, argumentos)```"
      ]
    },
    {
      "cell_type": "code",
      "metadata": {
        "colab": {
          "base_uri": "https://localhost:8080/"
        },
        "id": "Xpo-ZR3llGFY",
        "outputId": "bb7b1da8-342a-42f2-e803-a3928e7c1374"
      },
      "source": [
        "a = Casa.ValorVenal(casa1)\n",
        "print(a)"
      ],
      "execution_count": null,
      "outputs": [
        {
          "output_type": "stream",
          "text": [
            "10000.0\n"
          ],
          "name": "stdout"
        }
      ]
    },
    {
      "cell_type": "markdown",
      "metadata": {
        "id": "8n4EoHfP0dy-"
      },
      "source": [
        "## Parte 2: Variáveis de Classe"
      ]
    },
    {
      "cell_type": "markdown",
      "metadata": {
        "id": "hWnMTY5w0kgU"
      },
      "source": [
        "As variáveis de classe são variáveis que são as mesmas para todas as instâncias. Geralmente as colocamos no início de nossa classe. Para exemplificar, vamos criar as variáveis de país e cidade."
      ]
    },
    {
      "cell_type": "code",
      "metadata": {
        "id": "ojELViFN6-tj"
      },
      "source": [
        "class Casa:\n",
        "  pais = 'Brasil'\n",
        "  cidade = 'São Paulo'\n",
        "\n",
        "  def __init__(self, preco, AreaTerreno, AreaConstruida, banheiros, quartos):\n",
        "    self.preco = preco\n",
        "    self.AreaTerreno =  AreaTerreno\n",
        "    self.AreaConstruida = AreaConstruida\n",
        "    self.banheiros = banheiros\n",
        "    self.quartos = quartos\n",
        "\n",
        "  def ValorVenal(self):\n",
        "    x = (self.preco)/2\n",
        "    return x"
      ],
      "execution_count": null,
      "outputs": []
    },
    {
      "cell_type": "markdown",
      "metadata": {
        "id": "mFUo9Y92-srv"
      },
      "source": [
        "Podemos acessá-las através da sintaxe ```Classe.variavel```, mas também pela própria instância, fazendo ```instancia.variavel```, como se ela fosse uma variável de instância. "
      ]
    },
    {
      "cell_type": "code",
      "metadata": {
        "colab": {
          "base_uri": "https://localhost:8080/"
        },
        "id": "-oWVzaoY-X-o",
        "outputId": "3a81f6cf-032c-440e-fd7a-d573dbd3ca78"
      },
      "source": [
        "casa1 = Casa(20000,50,70,3,5)\n",
        "casa2 = Casa(15000,30,40,1,2)\n",
        "\n",
        "print(Casa.pais)\n",
        "print(casa1.pais)"
      ],
      "execution_count": null,
      "outputs": [
        {
          "output_type": "stream",
          "text": [
            "Brasil\n",
            "Brasil\n"
          ],
          "name": "stdout"
        }
      ]
    },
    {
      "cell_type": "markdown",
      "metadata": {
        "id": "eQTpL_C0ATmw"
      },
      "source": [
        "Para usar essas variáveis dentro de um método, devemos referenciá-la como ```Classe.variavel``` ou como ```self.variavel```."
      ]
    },
    {
      "cell_type": "code",
      "metadata": {
        "id": "3Q2LQb3pBOFs"
      },
      "source": [
        "class Casa:\n",
        "  pais = 'Brasil'\n",
        "  cidade = 'São Paulo'\n",
        "\n",
        "  def __init__(self, preco, AreaTerreno, AreaConstruida, banheiros, quartos):\n",
        "    self.preco = preco\n",
        "    self.AreaTerreno =  AreaTerreno\n",
        "    self.AreaConstruida = AreaConstruida\n",
        "    self.banheiros = banheiros\n",
        "    self.quartos = quartos\n",
        "\n",
        "  def ValorVenal(self):\n",
        "    x = (self.preco)/2\n",
        "    return x\n",
        "  \n",
        "  def PrintarCidade(self):\n",
        "    print(self.cidade)\n",
        "  \n",
        "  def PrintarPais(self):\n",
        "    print(Casa.pais)"
      ],
      "execution_count": null,
      "outputs": []
    },
    {
      "cell_type": "markdown",
      "metadata": {
        "id": "Mz1VyaCHB8My"
      },
      "source": [
        "Pode parecer contraditório com o que disse no começo do tópico, mas na verdade podemos mudar o valor da variável de classe para uma determinada instância. Por exemplo, imagine que estamos cadastrando várias casas que são de São Paulo, mas uma delas é na verdade de São Caetano devido à localização. \n",
        "\n",
        "Assim sendo, podemos alterar esse atributo apenas para essa casa."
      ]
    },
    {
      "cell_type": "code",
      "metadata": {
        "colab": {
          "base_uri": "https://localhost:8080/"
        },
        "id": "W2EXT7SOBIIW",
        "outputId": "54e5e1cf-d13e-4f4b-9115-68400316875e"
      },
      "source": [
        "casa1 = Casa(20000,50,70,3,5)\n",
        "casa2 = Casa(15000,30,40,1,2)\n",
        "\n",
        "Casa.PrintarCidade(casa1)\n",
        "\n",
        "casa1.cidade = 'São Caetano'\n",
        "\n",
        "casa1.PrintarCidade()"
      ],
      "execution_count": null,
      "outputs": [
        {
          "output_type": "stream",
          "text": [
            "São Paulo\n",
            "São Caetano\n"
          ],
          "name": "stdout"
        }
      ]
    },
    {
      "cell_type": "markdown",
      "metadata": {
        "id": "yZ-6Sj0_U0HB"
      },
      "source": [
        "Se ao longo do código eu quiser alterar a variável da classe para todas as instâncias, basta fazer ```Classe.VariavelDaClasse = valor novo```"
      ]
    },
    {
      "cell_type": "code",
      "metadata": {
        "id": "Q6lORnYwE8gX",
        "colab": {
          "base_uri": "https://localhost:8080/"
        },
        "outputId": "2e77c86d-5643-44a6-e9f6-eb1ccfd7853c"
      },
      "source": [
        "Casa.pais = 'Micronésia'\n",
        "\n",
        "print(casa1.pais, casa2.pais)"
      ],
      "execution_count": null,
      "outputs": [
        {
          "output_type": "stream",
          "text": [
            "Micronésia Micronésia\n"
          ],
          "name": "stdout"
        }
      ]
    },
    {
      "cell_type": "markdown",
      "metadata": {
        "id": "z69rxSZwWXLJ"
      },
      "source": [
        "Outra coisa bacana que pode ser feita é alterar o valor de uma variável a cada vez que inicializamos. Por exemplo, o número de casas cadastradas."
      ]
    },
    {
      "cell_type": "code",
      "metadata": {
        "colab": {
          "base_uri": "https://localhost:8080/"
        },
        "id": "p7YtBmCtVTLX",
        "outputId": "b8cd0a9e-6afc-454f-f80e-1721506ecf4c"
      },
      "source": [
        "class Casa:\n",
        "  # pais = 'Brasil'\n",
        "  # cidade = 'São Paulo'\n",
        "  CasasCadastradas = 0\n",
        "\n",
        "  def __init__(self, preco, AreaTerreno, AreaConstruida, banheiros, quartos):\n",
        "    self.preco = preco\n",
        "    self.AreaTerreno =  AreaTerreno\n",
        "    self.AreaConstruida = AreaConstruida\n",
        "    self.banheiros = banheiros\n",
        "    self.quartos = quartos\n",
        "    Casa.CasasCadastradas += 1\n",
        "\n",
        "  # def ValorVenal(self):\n",
        "  #   x = (self.preco)/2\n",
        "  #   return x\n",
        "  \n",
        "  # def PrintarCidade(self):\n",
        "  #   print(self.cidade)\n",
        "  \n",
        "  # def PrintarPais(self):\n",
        "  #   print(Casa.pais)\n",
        "\n",
        "casa1 = Casa(20000,50,70,3,5)\n",
        "casa2 = Casa(15000,30,40,1,2)\n",
        "\n",
        "print(Casa.CasasCadastradas)"
      ],
      "execution_count": null,
      "outputs": [
        {
          "output_type": "stream",
          "text": [
            "2\n"
          ],
          "name": "stdout"
        }
      ]
    },
    {
      "cell_type": "code",
      "metadata": {
        "id": "M8vcyLJvYmJ8"
      },
      "source": [
        ""
      ],
      "execution_count": null,
      "outputs": []
    }
  ]
}