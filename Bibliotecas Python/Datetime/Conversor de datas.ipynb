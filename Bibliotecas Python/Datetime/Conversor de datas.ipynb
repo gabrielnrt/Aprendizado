{
 "cells": [
  {
   "cell_type": "markdown",
   "id": "0c18874e-f919-48e0-9b14-dc9ab18017f3",
   "metadata": {},
   "source": [
    "# Converter uma string para uma data"
   ]
  },
  {
   "cell_type": "markdown",
   "id": "f72b9fce-7e56-4329-b80c-3546bb9cd748",
   "metadata": {},
   "source": [
    "Para converter uma string numa data, usamos o método ```strptime``` da classe ```datetime```, que por sua vez é importada na biblioteca ```datetime```."
   ]
  },
  {
   "cell_type": "code",
   "execution_count": 12,
   "id": "782e8ed0-a8b7-4b3d-9928-7b3232e52542",
   "metadata": {},
   "outputs": [],
   "source": [
    "from datetime import datetime"
   ]
  },
  {
   "cell_type": "markdown",
   "id": "5bf27e4f-e09e-41d9-b97c-60a08f7b8717",
   "metadata": {},
   "source": [
    "Com isso, vamos usar a seguinte string como teste."
   ]
  },
  {
   "cell_type": "code",
   "execution_count": 13,
   "id": "747e58af-70e1-41f7-8b91-7908f27e4eec",
   "metadata": {},
   "outputs": [],
   "source": [
    "x = '25-12-1998'"
   ]
  },
  {
   "cell_type": "markdown",
   "id": "b7623f9b-c114-4261-bcf6-cd70c2902c86",
   "metadata": {},
   "source": [
    "Esse método precisa de dois argumentos:\n",
    "\n",
    "* string a ser convertida,\n",
    "* formato de data no qual a string foi escrita. \n",
    "\n",
    "O formato de data é uma string na qual colocamos como a data está. Para representar os dias, usamos ```%d```, para mês usamos ```%m```, e assim por diante. Existe mais de um formato para mês e ano, além de outras escalas como dia da semana, segundos, e hora. \n",
    "\n",
    "Esses detalhes estão em https://docs.python.org/3/library/datetime.html#strftime-and-strptime-behavior."
   ]
  },
  {
   "cell_type": "code",
   "execution_count": 14,
   "id": "8e75bc5c-74df-4b50-9ef5-e98aec026a73",
   "metadata": {},
   "outputs": [],
   "source": [
    "data = datetime.strptime(x, '%d-%m-%Y')"
   ]
  },
  {
   "cell_type": "markdown",
   "id": "07b3f789-3957-4811-82dd-93b0cc85be6f",
   "metadata": {},
   "source": [
    "Agora que temos uma instância, podemos ver suas variáveis separadamente, que são\n",
    "\n",
    "* ```year```\n",
    "* ```month```\n",
    "* ```day```\n",
    "* ```hour```\n",
    "* ```minute```\n",
    "* ```second```\n",
    "* ```microsecond```\n",
    "* ```tzinfo```.\n",
    "\n",
    "Por exemplo,"
   ]
  },
  {
   "cell_type": "code",
   "execution_count": 19,
   "id": "b43b802e-4b7a-4a75-a57d-e4defbac6a70",
   "metadata": {},
   "outputs": [
    {
     "data": {
      "text/plain": [
       "25"
      ]
     },
     "execution_count": 19,
     "metadata": {},
     "output_type": "execute_result"
    }
   ],
   "source": [
    "data.day"
   ]
  },
  {
   "cell_type": "code",
   "execution_count": null,
   "id": "677f9ae2-ec47-43e4-8f62-da7296eea46f",
   "metadata": {},
   "outputs": [],
   "source": []
  },
  {
   "cell_type": "code",
   "execution_count": null,
   "id": "e182dc0b-326d-4bc7-8d67-ca462c8179ee",
   "metadata": {},
   "outputs": [],
   "source": []
  }
 ],
 "metadata": {
  "kernelspec": {
   "display_name": "Python 3 (ipykernel)",
   "language": "python",
   "name": "python3"
  },
  "language_info": {
   "codemirror_mode": {
    "name": "ipython",
    "version": 3
   },
   "file_extension": ".py",
   "mimetype": "text/x-python",
   "name": "python",
   "nbconvert_exporter": "python",
   "pygments_lexer": "ipython3",
   "version": "3.8.10"
  }
 },
 "nbformat": 4,
 "nbformat_minor": 5
}
