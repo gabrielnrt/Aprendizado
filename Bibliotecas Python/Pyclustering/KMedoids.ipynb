{
 "cells": [
  {
   "cell_type": "markdown",
   "id": "8f3b3af7-0c6f-49d3-aaca-ce57839dc8b3",
   "metadata": {
    "tags": []
   },
   "source": [
    "# K-Medoids"
   ]
  },
  {
   "cell_type": "markdown",
   "id": "2b523229-c858-42d4-bd3f-1c47ed1c01bc",
   "metadata": {
    "jp-MarkdownHeadingCollapsed": true,
    "tags": []
   },
   "source": [
    "## Introdução"
   ]
  },
  {
   "cell_type": "markdown",
   "id": "7f80aa99-c7da-4c15-9c92-c7aa161fd35f",
   "metadata": {},
   "source": [
    "Nesta seção vamos abordar o modelo de agrupamento chamado **K-Medoids**. Neste modelo, o \"centro\" de cada grupo é um ponto dos dados fornecidos. \n",
    "\n",
    "Como estamos ultimamente falando sobre agrupamento, os dados que vamos usar são os do Iris."
   ]
  },
  {
   "cell_type": "markdown",
   "id": "60967273-8e82-4da7-a7cf-023884280145",
   "metadata": {
    "jp-MarkdownHeadingCollapsed": true,
    "tags": []
   },
   "source": [
    "## Dados Iniciais"
   ]
  },
  {
   "cell_type": "code",
   "execution_count": 2,
   "id": "8571c69e-ae46-400f-95a5-2ff25ee983fb",
   "metadata": {},
   "outputs": [],
   "source": [
    "from sklearn import datasets\n",
    "from sklearn.metrics import confusion_matrix\n",
    "from numpy import asarray\n",
    "\n",
    "iris = datasets.load_iris()"
   ]
  },
  {
   "cell_type": "markdown",
   "id": "5da26579-dd6a-4416-98b8-c68a065fcf07",
   "metadata": {},
   "source": [
    "Obs: A função ```asarray``` do numpy transforma um objeto em array. Usaremos isso no fim do notebook para gerar a matriz de confusão."
   ]
  },
  {
   "cell_type": "markdown",
   "id": "1d454c1d-9e89-4d7b-b77a-1ba54edcfaad",
   "metadata": {
    "jp-MarkdownHeadingCollapsed": true,
    "tags": []
   },
   "source": [
    "## ```kmedoids```"
   ]
  },
  {
   "cell_type": "markdown",
   "id": "d0650873-ef2a-4c3e-b15a-6ca70e2a7de4",
   "metadata": {},
   "source": [
    "Para chamarmos a classe ```kmedoids```, digitamos"
   ]
  },
  {
   "cell_type": "code",
   "execution_count": 6,
   "id": "6458a300-459d-4015-8836-805e154ce103",
   "metadata": {},
   "outputs": [],
   "source": [
    "from pyclustering.cluster.kmedoids import kmedoids"
   ]
  },
  {
   "cell_type": "markdown",
   "id": "b07531fe-d19a-4356-a9c7-3f4bc167c4e2",
   "metadata": {},
   "source": [
    "Assim, para criarmos uma instância dessa classe, devemos fornecer os seguintes parâmetros:\n",
    "\n",
    "* ```data```: dados iniciais a serem agrupados,\n",
    "* ```initial_index_medoids```: lista contendo os índices (número das linhas) dos medoides iniciais. Como queremos criar 3 grupos, então a lista deve possuir 3 elementos. Além disso, como o próprio algoritmo vai encontrar os \"medoides de verdade\", então podemos colocar índices quaisquer.\n",
    "\n",
    "Como é mais simples fazer gráficos 2D, então pegaremos as duas primeiras colunas dos dados Iris."
   ]
  },
  {
   "cell_type": "code",
   "execution_count": 7,
   "id": "10195db6-43a0-4d87-b3ac-f715b862b6a4",
   "metadata": {},
   "outputs": [],
   "source": [
    "cluster = kmedoids(data = iris.data[:,0:2],\n",
    "                   initial_index_medoids = [3,12,20])"
   ]
  },
  {
   "cell_type": "markdown",
   "id": "af9e33a8-357e-4dfd-a4ce-30c0516f8239",
   "metadata": {},
   "source": [
    "Note que, quando digitamos ```0:2```, selecionamos as colunas 0 e 1 (a coluna 2 não é selecionada). Além disso, quando digitamos no parâmetro ```initial_index_medoids``` a lista [3,12,20], queremos dizer que os medoides iniciais são os pontos correspondentes às linhas 3, 12 e 20, respectivamente.  "
   ]
  },
  {
   "cell_type": "markdown",
   "id": "0a378ef6-1468-4a9c-8571-b7552072e652",
   "metadata": {},
   "source": [
    "Para visualizar os medoids, usamos o método ```get_medoids```:"
   ]
  },
  {
   "cell_type": "code",
   "execution_count": 8,
   "id": "9a3088e2-8f0b-4649-a654-84a365c4b570",
   "metadata": {},
   "outputs": [
    {
     "data": {
      "text/plain": [
       "[3, 12, 20]"
      ]
     },
     "execution_count": 8,
     "metadata": {},
     "output_type": "execute_result"
    }
   ],
   "source": [
    "cluster.get_medoids()"
   ]
  },
  {
   "cell_type": "markdown",
   "id": "13a589d3-5729-4f94-afa9-1f8fb23f0e73",
   "metadata": {},
   "source": [
    "Parece redundante chamar esse método, mas ele será útil mais tarde depois que o modelo realizar o agrupamento dos dados. Assim sendo, para realizar o agrupamento propriamente dito, basta usar o método ```process```."
   ]
  },
  {
   "cell_type": "code",
   "execution_count": 9,
   "id": "d26fa035-160e-497e-8980-161efb7cc24c",
   "metadata": {},
   "outputs": [
    {
     "data": {
      "text/plain": [
       "<pyclustering.cluster.kmedoids.kmedoids at 0x7fcf4991bd90>"
      ]
     },
     "execution_count": 9,
     "metadata": {},
     "output_type": "execute_result"
    }
   ],
   "source": [
    "cluster.process()"
   ]
  },
  {
   "cell_type": "markdown",
   "id": "908888ec-3561-4c78-ae77-4a41aa943355",
   "metadata": {},
   "source": [
    "Assimm, os novos medoides são"
   ]
  },
  {
   "cell_type": "code",
   "execution_count": 11,
   "id": "2e2fea4c-7ae0-48ae-9828-823bfaaedc23",
   "metadata": {},
   "outputs": [
    {
     "data": {
      "text/plain": [
       "[112, 82, 7]"
      ]
     },
     "execution_count": 11,
     "metadata": {},
     "output_type": "execute_result"
    }
   ],
   "source": [
    "medoides = cluster.get_medoids()\n",
    "\n",
    "medoides"
   ]
  },
  {
   "cell_type": "markdown",
   "id": "f096ada8-9cff-4076-b856-a0edadf03a71",
   "metadata": {},
   "source": [
    "Além disso, para vermos como estão agrupados os dados, usamos o método ```get_clusters```, que retorna uma lista contendo os índices que correspondem a um mesmo grupo. No nosso caso, teremos 3 elementos, onde cada elemento é uma lista contendo os números das linhas (índices) de cada grupo. Por exemplo, se o retorno for [[1,3],[8,4],[5,6]], então as linhas 1 e 3 pertencem a um mesmo grupo; as linhas 8 e 4 pertencem a outro grupo e assim por diante."
   ]
  },
  {
   "cell_type": "code",
   "execution_count": 12,
   "id": "2fd972d5-7d27-48ec-ae21-4ee3cc45aac3",
   "metadata": {},
   "outputs": [
    {
     "data": {
      "text/plain": [
       "[[50,\n",
       "  51,\n",
       "  52,\n",
       "  54,\n",
       "  56,\n",
       "  58,\n",
       "  65,\n",
       "  74,\n",
       "  75,\n",
       "  76,\n",
       "  77,\n",
       "  86,\n",
       "  100,\n",
       "  102,\n",
       "  103,\n",
       "  104,\n",
       "  105,\n",
       "  107,\n",
       "  108,\n",
       "  109,\n",
       "  110,\n",
       "  111,\n",
       "  112,\n",
       "  115,\n",
       "  116,\n",
       "  117,\n",
       "  118,\n",
       "  120,\n",
       "  122,\n",
       "  124,\n",
       "  125,\n",
       "  128,\n",
       "  129,\n",
       "  130,\n",
       "  131,\n",
       "  132,\n",
       "  135,\n",
       "  136,\n",
       "  137,\n",
       "  139,\n",
       "  140,\n",
       "  141,\n",
       "  143,\n",
       "  144,\n",
       "  145,\n",
       "  147,\n",
       "  148],\n",
       " [53,\n",
       "  55,\n",
       "  57,\n",
       "  59,\n",
       "  60,\n",
       "  61,\n",
       "  62,\n",
       "  63,\n",
       "  64,\n",
       "  66,\n",
       "  67,\n",
       "  68,\n",
       "  69,\n",
       "  70,\n",
       "  71,\n",
       "  72,\n",
       "  73,\n",
       "  78,\n",
       "  79,\n",
       "  80,\n",
       "  81,\n",
       "  82,\n",
       "  83,\n",
       "  84,\n",
       "  85,\n",
       "  87,\n",
       "  88,\n",
       "  89,\n",
       "  90,\n",
       "  91,\n",
       "  92,\n",
       "  93,\n",
       "  94,\n",
       "  95,\n",
       "  96,\n",
       "  97,\n",
       "  98,\n",
       "  99,\n",
       "  101,\n",
       "  113,\n",
       "  114,\n",
       "  119,\n",
       "  121,\n",
       "  123,\n",
       "  126,\n",
       "  127,\n",
       "  133,\n",
       "  134,\n",
       "  138,\n",
       "  142,\n",
       "  146,\n",
       "  149],\n",
       " [0,\n",
       "  1,\n",
       "  2,\n",
       "  3,\n",
       "  4,\n",
       "  5,\n",
       "  6,\n",
       "  7,\n",
       "  8,\n",
       "  9,\n",
       "  10,\n",
       "  11,\n",
       "  12,\n",
       "  13,\n",
       "  14,\n",
       "  15,\n",
       "  16,\n",
       "  17,\n",
       "  18,\n",
       "  19,\n",
       "  20,\n",
       "  21,\n",
       "  22,\n",
       "  23,\n",
       "  24,\n",
       "  25,\n",
       "  26,\n",
       "  27,\n",
       "  28,\n",
       "  29,\n",
       "  30,\n",
       "  31,\n",
       "  32,\n",
       "  33,\n",
       "  34,\n",
       "  35,\n",
       "  36,\n",
       "  37,\n",
       "  38,\n",
       "  39,\n",
       "  40,\n",
       "  41,\n",
       "  42,\n",
       "  43,\n",
       "  44,\n",
       "  45,\n",
       "  46,\n",
       "  47,\n",
       "  48,\n",
       "  49,\n",
       "  106]]"
      ]
     },
     "execution_count": 12,
     "metadata": {},
     "output_type": "execute_result"
    }
   ],
   "source": [
    "previsoes = cluster.get_clusters()\n",
    "\n",
    "previsoes"
   ]
  },
  {
   "cell_type": "markdown",
   "id": "c48301cd-b41b-4516-a8fe-d7ff59f9fcfa",
   "metadata": {},
   "source": [
    "Pelo resultado, podemos inferir que o último grupo é o da Setosa de acordo com o que já vimos nos notebooks anteriores."
   ]
  },
  {
   "cell_type": "markdown",
   "id": "96b2b1c2-bf4d-457b-a38d-8993b54d55f0",
   "metadata": {
    "jp-MarkdownHeadingCollapsed": true,
    "tags": []
   },
   "source": [
    "## ```cluster_visualizer```"
   ]
  },
  {
   "cell_type": "markdown",
   "id": "058343da-05ce-489f-a56a-32f8c85227ea",
   "metadata": {},
   "source": [
    "Agora que já temos as previsões, vamos visualizá-las com a classe ```cluster_visualizer```. Para importá-la, digitamos"
   ]
  },
  {
   "cell_type": "code",
   "execution_count": 13,
   "id": "fdaeea77-1c97-4dc6-a06d-f902004366d9",
   "metadata": {},
   "outputs": [],
   "source": [
    "from pyclustering.cluster import cluster_visualizer"
   ]
  },
  {
   "cell_type": "markdown",
   "id": "5b395c1a-06fe-4866-8432-932079f93343",
   "metadata": {},
   "source": [
    "Com isso, usamos os métodos ```append_cluster``` e ```show```"
   ]
  },
  {
   "cell_type": "code",
   "execution_count": 14,
   "id": "b30e0076-8c76-45a7-aaa2-ad96b6d7e140",
   "metadata": {},
   "outputs": [
    {
     "data": {
      "image/png": "[encoded data removed]",
      "text/plain": [
       "<Figure size 432x288 with 1 Axes>"
      ]
     },
     "metadata": {
      "needs_background": "light"
     },
     "output_type": "display_data"
    },
    {
     "data": {
      "image/png": "[encoded data removed]",
      "text/plain": [
       "<Figure size 432x288 with 1 Axes>"
      ]
     },
     "execution_count": 14,
     "metadata": {},
     "output_type": "execute_result"
    }
   ],
   "source": [
    "v = cluster_visualizer()\n",
    "\n",
    "v.append_clusters(previsoes, iris.data[:,0:2])\n",
    "\n",
    "v.append_cluster(medoides, data = iris.data[:,0:2], marker = '*', markersize = 20)\n",
    "\n",
    "v.show()"
   ]
  },
  {
   "cell_type": "markdown",
   "id": "fd7cecbc-4e77-430c-bed2-94e08e7b0913",
   "metadata": {
    "tags": []
   },
   "source": [
    "## Precisão do Modelo"
   ]
  },
  {
   "cell_type": "markdown",
   "id": "f3549366-b683-43d9-8c59-12de37e9e319",
   "metadata": {},
   "source": [
    "Para estimar a precisão do modelo, usamos a matriz de confusão. A diferença é que devemos criar listas com os resultaos e depois transformá-los em arrays."
   ]
  },
  {
   "cell_type": "code",
   "execution_count": 16,
   "id": "751a37a0-a45c-490a-8684-0aaa0ab36f02",
   "metadata": {},
   "outputs": [
    {
     "data": {
      "text/plain": [
       "array([[ 0,  0, 50],\n",
       "       [12, 38,  0],\n",
       "       [35, 14,  1]])"
      ]
     },
     "execution_count": 16,
     "metadata": {},
     "output_type": "execute_result"
    }
   ],
   "source": [
    "lista_previsoes = []\n",
    "lista_real = []\n",
    "for i in range(len(previsoes)):\n",
    "     for j in range(len(previsoes[i])):\n",
    "        lista_previsoes.append(i)\n",
    "        lista_real.append(iris.target[previsoes[i][j]])\n",
    "        \n",
    "lista_previsoes = asarray(lista_previsoes)\n",
    "lista_real = asarray(lista_real)\n",
    "resultados = confusion_matrix(lista_real, lista_previsoes)\n",
    "resultados"
   ]
  },
  {
   "cell_type": "markdown",
   "id": "1ca48a19-a4d3-4db7-b226-fa883edfe9fa",
   "metadata": {},
   "source": [
    "### Outros"
   ]
  },
  {
   "cell_type": "code",
   "execution_count": 17,
   "id": "421b026f-6bd1-4ef6-b9d3-d10152220322",
   "metadata": {},
   "outputs": [
    {
     "data": {
      "text/plain": [
       "array([0, 0, 0, 0, 0, 0, 0, 0, 0, 0, 0, 0, 0, 0, 0, 0, 0, 0, 0, 0, 0, 0,\n",
       "       0, 0, 0, 0, 0, 0, 0, 0, 0, 0, 0, 0, 0, 0, 0, 0, 0, 0, 0, 0, 0, 0,\n",
       "       0, 0, 0, 1, 1, 1, 1, 1, 1, 1, 1, 1, 1, 1, 1, 1, 1, 1, 1, 1, 1, 1,\n",
       "       1, 1, 1, 1, 1, 1, 1, 1, 1, 1, 1, 1, 1, 1, 1, 1, 1, 1, 1, 1, 1, 1,\n",
       "       1, 1, 1, 1, 1, 1, 1, 1, 1, 1, 1, 2, 2, 2, 2, 2, 2, 2, 2, 2, 2, 2,\n",
       "       2, 2, 2, 2, 2, 2, 2, 2, 2, 2, 2, 2, 2, 2, 2, 2, 2, 2, 2, 2, 2, 2,\n",
       "       2, 2, 2, 2, 2, 2, 2, 2, 2, 2, 2, 2, 2, 2, 2, 2, 2, 2])"
      ]
     },
     "execution_count": 17,
     "metadata": {},
     "output_type": "execute_result"
    }
   ],
   "source": [
    "lista_previsoes"
   ]
  },
  {
   "cell_type": "code",
   "execution_count": 18,
   "id": "8980b0f4-e7f2-48d1-b8e4-b08c568756f4",
   "metadata": {},
   "outputs": [
    {
     "data": {
      "text/plain": [
       "array([1, 1, 1, 1, 1, 1, 1, 1, 1, 1, 1, 1, 2, 2, 2, 2, 2, 2, 2, 2, 2, 2,\n",
       "       2, 2, 2, 2, 2, 2, 2, 2, 2, 2, 2, 2, 2, 2, 2, 2, 2, 2, 2, 2, 2, 2,\n",
       "       2, 2, 2, 1, 1, 1, 1, 1, 1, 1, 1, 1, 1, 1, 1, 1, 1, 1, 1, 1, 1, 1,\n",
       "       1, 1, 1, 1, 1, 1, 1, 1, 1, 1, 1, 1, 1, 1, 1, 1, 1, 1, 1, 2, 2, 2,\n",
       "       2, 2, 2, 2, 2, 2, 2, 2, 2, 2, 2, 0, 0, 0, 0, 0, 0, 0, 0, 0, 0, 0,\n",
       "       0, 0, 0, 0, 0, 0, 0, 0, 0, 0, 0, 0, 0, 0, 0, 0, 0, 0, 0, 0, 0, 0,\n",
       "       0, 0, 0, 0, 0, 0, 0, 0, 0, 0, 0, 0, 0, 0, 0, 0, 0, 2])"
      ]
     },
     "execution_count": 18,
     "metadata": {},
     "output_type": "execute_result"
    }
   ],
   "source": [
    "lista_real"
   ]
  }
 ],
 "metadata": {
  "kernelspec": {
   "display_name": "Python 3 (ipykernel)",
   "language": "python",
   "name": "python3"
  },
  "language_info": {
   "codemirror_mode": {
    "name": "ipython",
    "version": 3
   },
   "file_extension": ".py",
   "mimetype": "text/x-python",
   "name": "python",
   "nbconvert_exporter": "python",
   "pygments_lexer": "ipython3",
   "version": "3.8.10"
  }
 },
 "nbformat": 4,
 "nbformat_minor": 5
}
