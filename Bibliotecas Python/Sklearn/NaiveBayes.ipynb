{
 "cells": [
  {
   "cell_type": "markdown",
   "id": "2d68a890-02b7-48a7-85fe-fd8fde1be7ad",
   "metadata": {},
   "source": [
    "# Algoritmo de Naive Bayes"
   ]
  },
  {
   "cell_type": "markdown",
   "id": "8aeb2d00-6d2d-4ac8-90b5-4fac4c689d55",
   "metadata": {
    "jp-MarkdownHeadingCollapsed": true,
    "tags": []
   },
   "source": [
    "## Introdução"
   ]
  },
  {
   "cell_type": "markdown",
   "id": "6224f366-7b86-4eef-8b05-a67be0440159",
   "metadata": {},
   "source": [
    "Este notebook versará sobre o algoritmo de Naive Bayes, um classificador, de maneira relativamente sucinta pois a ideia por trás do algoritmo em si envolve um conhecimento em estatística que não possuo no momento. Uma explicação mais detalhada se encontra em https://en.wikipedia.org/wiki/Naive_Bayes_classifier.\n",
    "\n"
   ]
  },
  {
   "cell_type": "markdown",
   "id": "89742b5f-a6e5-46ac-99bb-358d032ae54e",
   "metadata": {
    "jp-MarkdownHeadingCollapsed": true,
    "tags": []
   },
   "source": [
    "## Dados iniciais"
   ]
  },
  {
   "cell_type": "markdown",
   "id": "2edc36d8-a41e-44f9-adcc-620ea0f0ab7e",
   "metadata": {},
   "source": [
    "Usando o que já foi visto de codificação de categorias e particionamento, temos"
   ]
  },
  {
   "cell_type": "code",
   "execution_count": 1,
   "id": "b761067b-2012-495e-a65e-8263305f54bb",
   "metadata": {},
   "outputs": [],
   "source": [
    "from pandas import read_csv\n",
    "from sklearn.preprocessing import LabelEncoder\n",
    "from sklearn.model_selection import train_test_split\n",
    "\n",
    "\n",
    "df = read_csv('Credit.csv')\n",
    "\n",
    "#-----------------------------------------------------------------------------\n",
    "\n",
    "previsores = df.iloc[:,0:20].values\n",
    "classe = df.iloc[:,20].values\n",
    "\n",
    "#-----------------------------------------------------------------------------\n",
    "# Transformando as colunas de strings em colunas numéricas (CODIFICAÇÃO DE CATEGORIAS)\n",
    "\n",
    "labelencoder1 = LabelEncoder()\n",
    "previsores[:,0] = labelencoder1.fit_transform(previsores[:,0])\n",
    "\n",
    "labelencoder2 = LabelEncoder()\n",
    "previsores[:,2] = labelencoder2.fit_transform(previsores[:,2])\n",
    "\n",
    "labelencoder3 = LabelEncoder()\n",
    "previsores[:, 3] = labelencoder3.fit_transform(previsores[:, 3])\n",
    "\n",
    "labelencoder4 = LabelEncoder()\n",
    "previsores[:, 5] = labelencoder4.fit_transform(previsores[:, 5])\n",
    "\n",
    "labelencoder5 = LabelEncoder()\n",
    "previsores[:, 6] = labelencoder5.fit_transform(previsores[:, 6])\n",
    "\n",
    "labelencoder6 = LabelEncoder()\n",
    "previsores[:, 8] = labelencoder6.fit_transform(previsores[:, 8])\n",
    "\n",
    "labelencoder7 = LabelEncoder()\n",
    "previsores[:, 9] = labelencoder7.fit_transform(previsores[:, 9])\n",
    "\n",
    "labelencoder8 = LabelEncoder()\n",
    "previsores[:, 11] = labelencoder8.fit_transform(previsores[:, 11])\n",
    "\n",
    "labelencoder9 = LabelEncoder()\n",
    "previsores[:, 13] = labelencoder9.fit_transform(previsores[:, 13])\n",
    "\n",
    "labelencoder10 = LabelEncoder()\n",
    "previsores[:, 14] = labelencoder10.fit_transform(previsores[:, 14])\n",
    "\n",
    "labelencoder11 = LabelEncoder()\n",
    "previsores[:, 16] = labelencoder11.fit_transform(previsores[:, 16])\n",
    "\n",
    "labelencoder12 = LabelEncoder()\n",
    "previsores[:, 18] = labelencoder12.fit_transform(previsores[:, 18])\n",
    "\n",
    "labelencoder13 = LabelEncoder()\n",
    "previsores[:, 19] = labelencoder13.fit_transform(previsores[:, 19])\n",
    "\n",
    "#--------------------------------------------------------------------------------------------------------------------------\n",
    "# PARTICIONAMENTO\n",
    "\n",
    "X_treinamento, X_teste, y_treinamento, y_teste = train_test_split(previsores, classe, test_size = 0.3, random_state = 0)"
   ]
  },
  {
   "cell_type": "markdown",
   "id": "fdefae4a-31a9-4b2d-a757-1d5465eb5452",
   "metadata": {
    "jp-MarkdownHeadingCollapsed": true,
    "tags": []
   },
   "source": [
    "## ```GaussianNB```"
   ]
  },
  {
   "cell_type": "markdown",
   "id": "03aa5ba8-8e7a-4c53-9c1b-41377d7a1ccf",
   "metadata": {},
   "source": [
    "Uma vez carregaodos os dados iniciais e transformado colunas de string em colunas numéricas, vamos usar o algoritmo de naive Bayes. Para chamar, basta digitar"
   ]
  },
  {
   "cell_type": "code",
   "execution_count": 2,
   "id": "cce0b9cf-f97f-4e77-acda-d05968145046",
   "metadata": {},
   "outputs": [],
   "source": [
    "from sklearn.naive_bayes import GaussianNB"
   ]
  },
  {
   "cell_type": "markdown",
   "id": "9543e1aa-33c9-4da8-9a9b-dacf70ab4688",
   "metadata": {},
   "source": [
    "Assim, ```GaussianNB``` é uma classe dotada de variáveis e métodos, e detre esses objetos destacamos os métodos ```fit``` e ```predict```.\n",
    "\n",
    "O método ```fit``` precisa de dois parâmetros e os usa para treinamento,\n",
    "\n",
    "* ```X```: são as colunas contendo as características de cada \"linha\". No nosso caso, ```X``` contém as características de cada pessoa relacionadas à concessão de crédito, como renda mensal e faixa etária.\n",
    "\n",
    "* ```y```: é uma coluna com as \"respostas\" que servem para treinar. No nosso exemplo, cada elemento dessa coluna pode ser \"good\" quando um perfil, de uma determinada linha de X, é considerado como bom pagador e \"bad\" quando é considerado um mau pagador.\n",
    "\n",
    "Como resultado, esse método retorna a própria instância, só que com os atributos atualizados.\n",
    "\n",
    "\n",
    "Já o método ```predict``` possui como entrada um conjunto de dados ```X```, que serve para testar o algoritmo, e devolve uma coluna ```y``` de resultados em função de ```X``` e no treino previamente feito. Com isso, a ideia é comparar o retorno desse método com os resultados ```y``` \"reais\", e assim verificar se a metodologia empregada possui uma boa performance.\n",
    "\n",
    "Criando a instância e aplicando esses métodos,"
   ]
  },
  {
   "cell_type": "code",
   "execution_count": 4,
   "id": "0372f2b9-1d73-4af1-af8a-452468e40f02",
   "metadata": {},
   "outputs": [
    {
     "data": {
      "text/plain": [
       "array(['bad', 'good', 'good', 'good', 'bad', 'good', 'good', 'good',\n",
       "       'good', 'bad', 'bad', 'bad', 'good', 'bad', 'good', 'good', 'good',\n",
       "       'good', 'bad', 'good', 'bad', 'good', 'bad', 'good', 'good', 'bad',\n",
       "       'good', 'good', 'good', 'bad', 'good', 'good', 'good', 'good',\n",
       "       'good', 'bad', 'good', 'good', 'good', 'good', 'good', 'bad',\n",
       "       'good', 'good', 'good', 'bad', 'bad', 'bad', 'bad', 'bad', 'good',\n",
       "       'bad', 'good', 'good', 'good', 'good', 'bad', 'good', 'good',\n",
       "       'good', 'bad', 'good', 'good', 'good', 'good', 'good', 'good',\n",
       "       'good', 'bad', 'good', 'good', 'good', 'good', 'good', 'bad',\n",
       "       'good', 'good', 'good', 'good', 'good', 'good', 'good', 'good',\n",
       "       'bad', 'good', 'good', 'bad', 'bad', 'good', 'bad', 'good', 'good',\n",
       "       'good', 'good', 'good', 'good', 'good', 'good', 'good', 'good',\n",
       "       'good', 'good', 'good', 'bad', 'good', 'good', 'bad', 'bad',\n",
       "       'good', 'good', 'good', 'bad', 'good', 'good', 'bad', 'good',\n",
       "       'good', 'good', 'good', 'bad', 'bad', 'good', 'good', 'bad',\n",
       "       'good', 'good', 'good', 'good', 'good', 'good', 'good', 'good',\n",
       "       'bad', 'good', 'good', 'good', 'good', 'good', 'good', 'bad',\n",
       "       'bad', 'bad', 'good', 'bad', 'good', 'good', 'good', 'bad', 'bad',\n",
       "       'bad', 'good', 'good', 'good', 'good', 'good', 'good', 'good',\n",
       "       'good', 'good', 'good', 'bad', 'bad', 'bad', 'good', 'bad', 'bad',\n",
       "       'good', 'good', 'good', 'good', 'bad', 'good', 'bad', 'bad',\n",
       "       'good', 'good', 'good', 'bad', 'good', 'good', 'good', 'good',\n",
       "       'bad', 'bad', 'good', 'bad', 'good', 'good', 'good', 'good',\n",
       "       'good', 'bad', 'good', 'good', 'good', 'good', 'good', 'good',\n",
       "       'good', 'good', 'good', 'bad', 'bad', 'good', 'good', 'good',\n",
       "       'bad', 'good', 'good', 'good', 'bad', 'bad', 'bad', 'good', 'bad',\n",
       "       'good', 'good', 'bad', 'good', 'bad', 'bad', 'good', 'good',\n",
       "       'good', 'good', 'bad', 'good', 'bad', 'bad', 'good', 'good',\n",
       "       'good', 'good', 'good', 'bad', 'good', 'good', 'good', 'bad',\n",
       "       'bad', 'good', 'good', 'good', 'good', 'good', 'bad', 'good',\n",
       "       'good', 'good', 'good', 'good', 'bad', 'good', 'good', 'good',\n",
       "       'good', 'good', 'bad', 'good', 'good', 'bad', 'good', 'good',\n",
       "       'good', 'bad', 'bad', 'bad', 'good', 'good', 'good', 'good',\n",
       "       'good', 'good', 'good', 'bad', 'good', 'good', 'bad', 'good',\n",
       "       'good', 'good', 'good', 'good', 'good', 'good', 'good', 'good',\n",
       "       'good', 'good', 'good', 'good', 'good', 'good', 'good', 'good',\n",
       "       'good', 'bad', 'good', 'bad', 'good'], dtype='<U4')"
      ]
     },
     "execution_count": 4,
     "metadata": {},
     "output_type": "execute_result"
    }
   ],
   "source": [
    "naive_bayes = GaussianNB()\n",
    "\n",
    "naive_bayes.fit(X_treinamento, y_treinamento)\n",
    "\n",
    "previsoes = naive_bayes.predict(X_teste)\n",
    "\n",
    "previsoes"
   ]
  },
  {
   "cell_type": "markdown",
   "id": "4be051f5-7736-49de-a648-88b26db70aaf",
   "metadata": {},
   "source": [
    "Uma vez que tenhamos esse conjunto de previsões, a ideia no nosso exemplo é comparar as variáveis ```previsoes``` com ```y_teste``` para ver se o algoritmo usado teve uma boa acurácia com respeito a determinadas métricas frequentemente usadas.\n",
    "\n",
    "Como isso é um outro assunto, ele ficará em outro notebok."
   ]
  },
  {
   "cell_type": "code",
   "execution_count": null,
   "id": "523d0ba6-09c6-4016-b082-246fe6c59410",
   "metadata": {},
   "outputs": [],
   "source": []
  }
 ],
 "metadata": {
  "kernelspec": {
   "display_name": "Python 3 (ipykernel)",
   "language": "python",
   "name": "python3"
  },
  "language_info": {
   "codemirror_mode": {
    "name": "ipython",
    "version": 3
   },
   "file_extension": ".py",
   "mimetype": "text/x-python",
   "name": "python",
   "nbconvert_exporter": "python",
   "pygments_lexer": "ipython3",
   "version": "3.8.10"
  }
 },
 "nbformat": 4,
 "nbformat_minor": 5
}
