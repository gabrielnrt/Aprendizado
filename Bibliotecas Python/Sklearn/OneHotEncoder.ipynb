{
 "cells": [
  {
   "cell_type": "markdown",
   "id": "cc78b67e-794b-4239-8651-2221e22dfa62",
   "metadata": {},
   "source": [
    "# One Hot Encoder"
   ]
  },
  {
   "cell_type": "markdown",
   "id": "ccb337ce-da0b-491c-80cf-fd19cb620a18",
   "metadata": {
    "jp-MarkdownHeadingCollapsed": true,
    "tags": []
   },
   "source": [
    "## Introdução"
   ]
  },
  {
   "cell_type": "markdown",
   "id": "d297b096-de6d-464d-acaf-205dc3a8e204",
   "metadata": {},
   "source": [
    "Este notebook está na mesma categoria que o \"LabelEncoder.ipynb\" pois ambos versam sobre a codificação de categorias. No caso do label encoder, a gente transformava strings em números de modo que havia uma relação de ordem entre os elementos. Por exemplo, se temos strings \"cartão gold\" e \"cartão black\", é mais adequado atribuirmos um número x para o black e y para o gold de modo que x > y pois é bem sabido que um cartão de crédito black é mais valioso que um gold.\n",
    "\n",
    "Contudo, ocorre ocasiões nas quais não há sentido em estabelecer uma relação de ordem entre as variáveis. Por exemplo, por que a cor \"violeta\" valeria menos ou mais do que a cor \"azul\"? Para sanar esse tipo de problema, usamos o *One Hot Encoding*, que transforma essas strings em vetores, e assim conseguimos transformar variáveis categóricas em numéricas de modo que o algoritmo de machine learning não tire conclusões errôneas."
   ]
  },
  {
   "cell_type": "markdown",
   "id": "13a6bf08-b5ce-4ba8-93ee-9a36fd35a155",
   "metadata": {
    "jp-MarkdownHeadingCollapsed": true,
    "tags": []
   },
   "source": [
    "## Dados Iniciais"
   ]
  },
  {
   "cell_type": "markdown",
   "id": "b260b5ff-b22c-4786-823a-f233d51c5409",
   "metadata": {},
   "source": [
    "Criaremos em essência o mesmo conjunto de dados, e a partir dele faremos um array e um DataFrame para mostrar que em ambas as tipagens o código funciona."
   ]
  },
  {
   "cell_type": "code",
   "execution_count": 11,
   "id": "42c19c49-1d0a-4bcc-beaf-98ac884f06f9",
   "metadata": {},
   "outputs": [
    {
     "data": {
      "text/html": [
       "<div>\n",
       "<style scoped>\n",
       "    .dataframe tbody tr th:only-of-type {\n",
       "        vertical-align: middle;\n",
       "    }\n",
       "\n",
       "    .dataframe tbody tr th {\n",
       "        vertical-align: top;\n",
       "    }\n",
       "\n",
       "    .dataframe thead th {\n",
       "        text-align: right;\n",
       "    }\n",
       "</style>\n",
       "<table border=\"1\" class=\"dataframe\">\n",
       "  <thead>\n",
       "    <tr style=\"text-align: right;\">\n",
       "      <th></th>\n",
       "      <th>cores</th>\n",
       "    </tr>\n",
       "  </thead>\n",
       "  <tbody>\n",
       "    <tr>\n",
       "      <th>0</th>\n",
       "      <td>vermelho</td>\n",
       "    </tr>\n",
       "    <tr>\n",
       "      <th>1</th>\n",
       "      <td>azul</td>\n",
       "    </tr>\n",
       "    <tr>\n",
       "      <th>2</th>\n",
       "      <td>rosa</td>\n",
       "    </tr>\n",
       "    <tr>\n",
       "      <th>3</th>\n",
       "      <td>azul</td>\n",
       "    </tr>\n",
       "    <tr>\n",
       "      <th>4</th>\n",
       "      <td>bege</td>\n",
       "    </tr>\n",
       "    <tr>\n",
       "      <th>5</th>\n",
       "      <td>vermelho</td>\n",
       "    </tr>\n",
       "  </tbody>\n",
       "</table>\n",
       "</div>"
      ],
      "text/plain": [
       "      cores\n",
       "0  vermelho\n",
       "1      azul\n",
       "2      rosa\n",
       "3      azul\n",
       "4      bege\n",
       "5  vermelho"
      ]
     },
     "execution_count": 11,
     "metadata": {},
     "output_type": "execute_result"
    }
   ],
   "source": [
    "from numpy import array\n",
    "from pandas import DataFrame\n",
    "\n",
    "lista = ['vermelho', 'azul', 'rosa', 'azul', 'bege', 'vermelho']\n",
    "\n",
    "dicionario = {'cores': lista}\n",
    "df = DataFrame(data = dicionario)\n",
    "df"
   ]
  },
  {
   "cell_type": "code",
   "execution_count": 16,
   "id": "ed5e3a7e-fa0a-4b3d-9db9-4c59eae152ce",
   "metadata": {},
   "outputs": [
    {
     "data": {
      "text/plain": [
       "array(['vermelho', 'azul', 'rosa', 'azul', 'bege', 'vermelho'],\n",
       "      dtype='<U8')"
      ]
     },
     "execution_count": 16,
     "metadata": {},
     "output_type": "execute_result"
    }
   ],
   "source": [
    "x = array(lista)\n",
    "x"
   ]
  },
  {
   "cell_type": "markdown",
   "id": "3fad2e60-f028-4a00-8aee-eb11b0ab3923",
   "metadata": {},
   "source": [
    "## ```OneHotEncoder```"
   ]
  },
  {
   "cell_type": "markdown",
   "id": "c36af1c7-128f-47f7-9a5c-1ef9e336ff14",
   "metadata": {},
   "source": [
    "Para fazermos essa codificação de categorias, importamos a classe ```OneHotEncoder``` de ```sklearn.preprocessing``` . Daí, é só criar uma instância, e colocar no parâmetro ```sparse``` como ```False``` para indicar que queremos um array - ao invés de matriz - depois de efetuar a codificação."
   ]
  },
  {
   "cell_type": "code",
   "execution_count": 20,
   "id": "3e69fc94-f99e-44a3-b108-5aed7afac136",
   "metadata": {},
   "outputs": [],
   "source": [
    "from sklearn.preprocessing import OneHotEncoder\n",
    "\n",
    "codificador = OneHotEncoder(sparse = False)"
   ]
  },
  {
   "cell_type": "markdown",
   "id": "073c3a5d-de9f-438d-8e58-4e2b7c4de93a",
   "metadata": {},
   "source": [
    "Para fazermos a codificação de fato, é só usar o método ```fit_transform```, e colocar na entrada os dados a serem codificados. \n",
    "\n",
    "No caso de um ```DataFrame```, é só colocar diretamente no argumento do método."
   ]
  },
  {
   "cell_type": "code",
   "execution_count": 19,
   "id": "30301e39-b464-4b34-951f-0c43368c6400",
   "metadata": {},
   "outputs": [
    {
     "data": {
      "text/plain": [
       "array([[0., 0., 0., 1.],\n",
       "       [1., 0., 0., 0.],\n",
       "       [0., 0., 1., 0.],\n",
       "       [1., 0., 0., 0.],\n",
       "       [0., 1., 0., 0.],\n",
       "       [0., 0., 0., 1.]])"
      ]
     },
     "execution_count": 19,
     "metadata": {},
     "output_type": "execute_result"
    }
   ],
   "source": [
    "u = codificador.fit_transform(df)\n",
    "u"
   ]
  },
  {
   "cell_type": "markdown",
   "id": "13fd7d5f-8cda-4903-a780-3e36055ebf57",
   "metadata": {},
   "source": [
    "Já no caso de ```array```, precisamos redimensionar os dados, pois os dados não possuem uma coluna, como podemos ver abaixo."
   ]
  },
  {
   "cell_type": "code",
   "execution_count": 23,
   "id": "d339ebbf-2b0d-43fb-9dc4-b595fe99246f",
   "metadata": {},
   "outputs": [
    {
     "data": {
      "text/plain": [
       "(6,)"
      ]
     },
     "execution_count": 23,
     "metadata": {},
     "output_type": "execute_result"
    }
   ],
   "source": [
    "x.shape"
   ]
  },
  {
   "cell_type": "markdown",
   "id": "d0a92999-eddf-4bc3-8327-b971e0bb5cc9",
   "metadata": {},
   "source": [
    "São apenas 6 linhas e \"zero\" colunas. Para sanar sanar esse problema, é só fazer"
   ]
  },
  {
   "cell_type": "code",
   "execution_count": 26,
   "id": "b0eda8ac-8c09-47da-b2cb-986a775cbfbd",
   "metadata": {},
   "outputs": [],
   "source": [
    "xx = x.reshape(len(x),1)"
   ]
  },
  {
   "cell_type": "markdown",
   "id": "b623798c-deae-4c74-9c6e-d2be5fa5f582",
   "metadata": {},
   "source": [
    "E agora sim procedemos da mesma maneira que no caso do ```DataFrame```."
   ]
  },
  {
   "cell_type": "code",
   "execution_count": 27,
   "id": "41975336-3e88-4586-bcf2-75df778f26b6",
   "metadata": {},
   "outputs": [
    {
     "data": {
      "text/plain": [
       "array([[0., 0., 0., 1.],\n",
       "       [1., 0., 0., 0.],\n",
       "       [0., 0., 1., 0.],\n",
       "       [1., 0., 0., 0.],\n",
       "       [0., 1., 0., 0.],\n",
       "       [0., 0., 0., 1.]])"
      ]
     },
     "execution_count": 27,
     "metadata": {},
     "output_type": "execute_result"
    }
   ],
   "source": [
    "v = codificador.fit_transform(xx)\n",
    "v"
   ]
  },
  {
   "cell_type": "code",
   "execution_count": null,
   "id": "f7728691-4be1-46c4-83fd-026bbf353b63",
   "metadata": {},
   "outputs": [],
   "source": []
  }
 ],
 "metadata": {
  "kernelspec": {
   "display_name": "Python 3 (ipykernel)",
   "language": "python",
   "name": "python3"
  },
  "language_info": {
   "codemirror_mode": {
    "name": "ipython",
    "version": 3
   },
   "file_extension": ".py",
   "mimetype": "text/x-python",
   "name": "python",
   "nbconvert_exporter": "python",
   "pygments_lexer": "ipython3",
   "version": "3.8.10"
  }
 },
 "nbformat": 4,
 "nbformat_minor": 5
}
