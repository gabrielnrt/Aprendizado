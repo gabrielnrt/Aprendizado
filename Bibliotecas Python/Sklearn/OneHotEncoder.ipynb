{
 "cells": [
  {
   "cell_type": "markdown",
   "id": "cc78b67e-794b-4239-8651-2221e22dfa62",
   "metadata": {},
   "source": [
    "# One Hot Encoder"
   ]
  },
  {
   "cell_type": "markdown",
   "id": "ccb337ce-da0b-491c-80cf-fd19cb620a18",
   "metadata": {
    "tags": []
   },
   "source": [
    "## Introdução"
   ]
  },
  {
   "cell_type": "markdown",
   "id": "d297b096-de6d-464d-acaf-205dc3a8e204",
   "metadata": {},
   "source": [
    "Este notebook está na mesma categoria que o \"LabelEncoder.ipynb\" pois ambos versam sobre a codificação de categorias. No caso do label encoder, a gente transformava strings em números de modo que havia uma relação de ordem entre os elementos. Por exemplo, se temos strings \"cartão gold\" e \"cartão black\", é mais adequado atribuirmos um número x para o black e y para o gold de modo que x > y pois é bem sabido que um cartão de crédito black é mais valioso que um gold.\n",
    "\n",
    "Contudo, ocorre ocasiões nas quais não há sentido em estabelecer uma relação de ordem entre as variáveis. Por exemplo, por que a cor \"violeta\" valeria menos ou mais do que a cor \"azul\"? Para sanar esse tipo de problema, usamos o *One Hot Encoding*, que transforma essas strings em vetores, e assim conseguimos transformar variáveis categóricas em numéricas de modo que o algoritmo de machine learning não tire conclusões errôneas."
   ]
  },
  {
   "cell_type": "markdown",
   "id": "13a6bf08-b5ce-4ba8-93ee-9a36fd35a155",
   "metadata": {
    "tags": []
   },
   "source": [
    "## Dados Iniciais"
   ]
  },
  {
   "cell_type": "markdown",
   "id": "b260b5ff-b22c-4786-823a-f233d51c5409",
   "metadata": {},
   "source": [
    "Criaremos em essência o mesmo conjunto de dados, e a partir dele faremos um array e um DataFrame para mostrar que em ambas as tipagens o código funciona."
   ]
  },
  {
   "cell_type": "code",
   "execution_count": 3,
   "id": "42c19c49-1d0a-4bcc-beaf-98ac884f06f9",
   "metadata": {},
   "outputs": [
    {
     "data": {
      "text/html": [
       "<div>\n",
       "<style scoped>\n",
       "    .dataframe tbody tr th:only-of-type {\n",
       "        vertical-align: middle;\n",
       "    }\n",
       "\n",
       "    .dataframe tbody tr th {\n",
       "        vertical-align: top;\n",
       "    }\n",
       "\n",
       "    .dataframe thead th {\n",
       "        text-align: right;\n",
       "    }\n",
       "</style>\n",
       "<table border=\"1\" class=\"dataframe\">\n",
       "  <thead>\n",
       "    <tr style=\"text-align: right;\">\n",
       "      <th></th>\n",
       "      <th>cores</th>\n",
       "    </tr>\n",
       "  </thead>\n",
       "  <tbody>\n",
       "    <tr>\n",
       "      <th>0</th>\n",
       "      <td>vermelho</td>\n",
       "    </tr>\n",
       "    <tr>\n",
       "      <th>1</th>\n",
       "      <td>azul</td>\n",
       "    </tr>\n",
       "    <tr>\n",
       "      <th>2</th>\n",
       "      <td>rosa</td>\n",
       "    </tr>\n",
       "    <tr>\n",
       "      <th>3</th>\n",
       "      <td>azul</td>\n",
       "    </tr>\n",
       "    <tr>\n",
       "      <th>4</th>\n",
       "      <td>bege</td>\n",
       "    </tr>\n",
       "    <tr>\n",
       "      <th>5</th>\n",
       "      <td>vermelho</td>\n",
       "    </tr>\n",
       "  </tbody>\n",
       "</table>\n",
       "</div>"
      ],
      "text/plain": [
       "      cores\n",
       "0  vermelho\n",
       "1      azul\n",
       "2      rosa\n",
       "3      azul\n",
       "4      bege\n",
       "5  vermelho"
      ]
     },
     "execution_count": 3,
     "metadata": {},
     "output_type": "execute_result"
    }
   ],
   "source": [
    "from numpy import array\n",
    "from pandas import DataFrame\n",
    "\n",
    "lista = ['vermelho', 'azul', 'rosa', 'azul', 'bege', 'vermelho']\n",
    "\n",
    "dicionario = {'cores': lista}\n",
    "df = DataFrame(data = dicionario)\n",
    "df"
   ]
  },
  {
   "cell_type": "code",
   "execution_count": 4,
   "id": "ed5e3a7e-fa0a-4b3d-9db9-4c59eae152ce",
   "metadata": {},
   "outputs": [
    {
     "data": {
      "text/plain": [
       "array(['vermelho', 'azul', 'rosa', 'azul', 'bege', 'vermelho'],\n",
       "      dtype='<U8')"
      ]
     },
     "execution_count": 4,
     "metadata": {},
     "output_type": "execute_result"
    }
   ],
   "source": [
    "x = array(lista)\n",
    "x"
   ]
  },
  {
   "cell_type": "markdown",
   "id": "3fad2e60-f028-4a00-8aee-eb11b0ab3923",
   "metadata": {
    "tags": []
   },
   "source": [
    "## ```OneHotEncoder```"
   ]
  },
  {
   "cell_type": "markdown",
   "id": "c36af1c7-128f-47f7-9a5c-1ef9e336ff14",
   "metadata": {},
   "source": [
    "Para fazermos essa codificação de categorias, importamos a classe ```OneHotEncoder``` de ```sklearn.preprocessing``` . Daí, é só criar uma instância, e colocar no parâmetro ```sparse``` como ```False``` para indicar que queremos um array - ao invés de matriz - depois de efetuar a codificação."
   ]
  },
  {
   "cell_type": "code",
   "execution_count": 1,
   "id": "3e69fc94-f99e-44a3-b108-5aed7afac136",
   "metadata": {},
   "outputs": [],
   "source": [
    "from sklearn.preprocessing import OneHotEncoder\n",
    "\n",
    "codificador = OneHotEncoder(sparse = False)"
   ]
  },
  {
   "cell_type": "markdown",
   "id": "073c3a5d-de9f-438d-8e58-4e2b7c4de93a",
   "metadata": {},
   "source": [
    "Para fazermos a codificação de fato, é só usar o método ```fit_transform```, e colocar na entrada os dados a serem codificados. \n",
    "\n",
    "No caso de um ```DataFrame```, é só colocar diretamente no argumento do método."
   ]
  },
  {
   "cell_type": "code",
   "execution_count": 5,
   "id": "30301e39-b464-4b34-951f-0c43368c6400",
   "metadata": {},
   "outputs": [
    {
     "data": {
      "text/plain": [
       "array([[0., 0., 0., 1.],\n",
       "       [1., 0., 0., 0.],\n",
       "       [0., 0., 1., 0.],\n",
       "       [1., 0., 0., 0.],\n",
       "       [0., 1., 0., 0.],\n",
       "       [0., 0., 0., 1.]])"
      ]
     },
     "execution_count": 5,
     "metadata": {},
     "output_type": "execute_result"
    }
   ],
   "source": [
    "u = codificador.fit_transform(df)\n",
    "u"
   ]
  },
  {
   "cell_type": "markdown",
   "id": "13fd7d5f-8cda-4903-a780-3e36055ebf57",
   "metadata": {},
   "source": [
    "Já no caso de ```array```, precisamos redimensionar os dados, pois os dados não possuem uma coluna, como podemos ver abaixo."
   ]
  },
  {
   "cell_type": "code",
   "execution_count": 6,
   "id": "d339ebbf-2b0d-43fb-9dc4-b595fe99246f",
   "metadata": {},
   "outputs": [
    {
     "data": {
      "text/plain": [
       "(6,)"
      ]
     },
     "execution_count": 6,
     "metadata": {},
     "output_type": "execute_result"
    }
   ],
   "source": [
    "x.shape"
   ]
  },
  {
   "cell_type": "markdown",
   "id": "d0a92999-eddf-4bc3-8327-b971e0bb5cc9",
   "metadata": {},
   "source": [
    "São apenas 6 linhas e \"zero\" colunas. Para sanar esse problema, é só fazer"
   ]
  },
  {
   "cell_type": "code",
   "execution_count": 7,
   "id": "b0eda8ac-8c09-47da-b2cb-986a775cbfbd",
   "metadata": {},
   "outputs": [],
   "source": [
    "xx = x.reshape(len(x),1)"
   ]
  },
  {
   "cell_type": "markdown",
   "id": "b623798c-deae-4c74-9c6e-d2be5fa5f582",
   "metadata": {},
   "source": [
    "E agora sim procedemos da mesma maneira que no caso do ```DataFrame```."
   ]
  },
  {
   "cell_type": "code",
   "execution_count": 8,
   "id": "41975336-3e88-4586-bcf2-75df778f26b6",
   "metadata": {},
   "outputs": [
    {
     "data": {
      "text/plain": [
       "array([[0., 0., 0., 1.],\n",
       "       [1., 0., 0., 0.],\n",
       "       [0., 0., 1., 0.],\n",
       "       [1., 0., 0., 0.],\n",
       "       [0., 1., 0., 0.],\n",
       "       [0., 0., 0., 1.]])"
      ]
     },
     "execution_count": 8,
     "metadata": {},
     "output_type": "execute_result"
    }
   ],
   "source": [
    "v = codificador.fit_transform(xx)\n",
    "v"
   ]
  },
  {
   "cell_type": "markdown",
   "id": "3d804499-fb46-4f8e-8059-182878a71974",
   "metadata": {},
   "source": [
    "## Dummy Variable Trap"
   ]
  },
  {
   "cell_type": "markdown",
   "id": "0c734ffd-13fb-405c-b092-3354aef8c994",
   "metadata": {},
   "source": [
    "Para o caso acima, basta apenas retirar uma coluna e evitamos o \"Dummy variable trap\"."
   ]
  },
  {
   "cell_type": "code",
   "execution_count": 9,
   "id": "72a75341-cde8-46e2-bef9-2da947e5cc89",
   "metadata": {},
   "outputs": [
    {
     "data": {
      "text/plain": [
       "array([[0., 0., 1.],\n",
       "       [0., 0., 0.],\n",
       "       [0., 1., 0.],\n",
       "       [0., 0., 0.],\n",
       "       [1., 0., 0.],\n",
       "       [0., 0., 1.]])"
      ]
     },
     "execution_count": 9,
     "metadata": {},
     "output_type": "execute_result"
    }
   ],
   "source": [
    "fff = v[:,1:]\n",
    "\n",
    "fff"
   ]
  },
  {
   "cell_type": "markdown",
   "id": "829512c5-d86e-4bd0-877e-46b4eed39722",
   "metadata": {},
   "source": [
    "Com isso, retiramos a primeira coluna do array. Contudo, essa tarefa se torna mais difícil quando temos outras categorias, e queremos juntar tudo num mesmo conjunto de dados. Por exemplo, imagine que os dados a serem trabalhados sejam"
   ]
  },
  {
   "cell_type": "code",
   "execution_count": 10,
   "id": "e4e2f100-49fd-4b94-bd22-95e8b33fd3bd",
   "metadata": {},
   "outputs": [
    {
     "data": {
      "text/html": [
       "<div>\n",
       "<style scoped>\n",
       "    .dataframe tbody tr th:only-of-type {\n",
       "        vertical-align: middle;\n",
       "    }\n",
       "\n",
       "    .dataframe tbody tr th {\n",
       "        vertical-align: top;\n",
       "    }\n",
       "\n",
       "    .dataframe thead th {\n",
       "        text-align: right;\n",
       "    }\n",
       "</style>\n",
       "<table border=\"1\" class=\"dataframe\">\n",
       "  <thead>\n",
       "    <tr style=\"text-align: right;\">\n",
       "      <th></th>\n",
       "      <th>Nome</th>\n",
       "      <th>Cor</th>\n",
       "      <th>Idade</th>\n",
       "    </tr>\n",
       "  </thead>\n",
       "  <tbody>\n",
       "    <tr>\n",
       "      <th>0</th>\n",
       "      <td>Antonio</td>\n",
       "      <td>vermelho</td>\n",
       "      <td>12</td>\n",
       "    </tr>\n",
       "    <tr>\n",
       "      <th>1</th>\n",
       "      <td>Alberto</td>\n",
       "      <td>azul</td>\n",
       "      <td>33</td>\n",
       "    </tr>\n",
       "    <tr>\n",
       "      <th>2</th>\n",
       "      <td>Andreza</td>\n",
       "      <td>rosa</td>\n",
       "      <td>20</td>\n",
       "    </tr>\n",
       "    <tr>\n",
       "      <th>3</th>\n",
       "      <td>Anísio</td>\n",
       "      <td>azul</td>\n",
       "      <td>87</td>\n",
       "    </tr>\n",
       "    <tr>\n",
       "      <th>4</th>\n",
       "      <td>André</td>\n",
       "      <td>bege</td>\n",
       "      <td>9</td>\n",
       "    </tr>\n",
       "    <tr>\n",
       "      <th>5</th>\n",
       "      <td>Aline</td>\n",
       "      <td>vermelho</td>\n",
       "      <td>46</td>\n",
       "    </tr>\n",
       "  </tbody>\n",
       "</table>\n",
       "</div>"
      ],
      "text/plain": [
       "      Nome       Cor  Idade\n",
       "0  Antonio  vermelho     12\n",
       "1  Alberto      azul     33\n",
       "2  Andreza      rosa     20\n",
       "3   Anísio      azul     87\n",
       "4    André      bege      9\n",
       "5    Aline  vermelho     46"
      ]
     },
     "execution_count": 10,
     "metadata": {},
     "output_type": "execute_result"
    }
   ],
   "source": [
    "nomes = ['Antonio', 'Alberto', 'Andreza', 'Anísio', 'André', 'Aline']\n",
    "\n",
    "idades = array([12, 33, 20, 87, 9, 46])\n",
    "\n",
    "dicionario2 = {'Nome': nomes, 'Cor': lista, 'Idade': idades}\n",
    "\n",
    "df2 = DataFrame(dicionario2)\n",
    "\n",
    "df2"
   ]
  },
  {
   "cell_type": "markdown",
   "id": "8d9e2862-915a-45b1-9cf2-b9f26e3dcf6a",
   "metadata": {},
   "source": [
    "Suponha que queiramos apenas realizar essa codificação apenas para as cores. Deste modo, teremos que aumentar a tabela de 3 para 6 colunas (2 + 4), e depois retirar uma delas para evitar a multicolinearidade, fazendo com que tenhamos no final com 5 colunas.\n",
    "\n",
    "Primeiramente, criamos a instância da classe ```OneHotEncoder```, e além do parâmetro ```sparse```, inserimos também o parâmetro ```drop``` como ```'first'```, e assim o codificador já descarta automaticamente a primeira coluna depois do processo.\n",
    "\n",
    "Assim, armazenamos o retorno do método ```fit_transform``` numa nova variável."
   ]
  },
  {
   "cell_type": "code",
   "execution_count": 15,
   "id": "e1612f51-83c3-430d-8e9d-706483184bd3",
   "metadata": {},
   "outputs": [
    {
     "data": {
      "text/plain": [
       "array([[0., 0., 1.],\n",
       "       [0., 0., 0.],\n",
       "       [0., 1., 0.],\n",
       "       [0., 0., 0.],\n",
       "       [1., 0., 0.],\n",
       "       [0., 0., 1.]])"
      ]
     },
     "execution_count": 15,
     "metadata": {},
     "output_type": "execute_result"
    }
   ],
   "source": [
    "codificador2 = OneHotEncoder(sparse = False,\n",
    "                             drop = 'first')\n",
    "\n",
    "\n",
    "\n",
    "ArrayCores = codificador2.fit_transform(df2[['Cor']])\n",
    "\n",
    "ArrayCores"
   ]
  },
  {
   "cell_type": "markdown",
   "id": "effd9abd-6cfa-4ec6-affa-5857e972ef21",
   "metadata": {},
   "source": [
    "Feito isso, transformamos esse array num DataFrame, para juntar os dados em seguida."
   ]
  },
  {
   "cell_type": "code",
   "execution_count": 16,
   "id": "6e663a86-ae7e-48a1-a803-427d810b86bf",
   "metadata": {},
   "outputs": [
    {
     "data": {
      "text/html": [
       "<div>\n",
       "<style scoped>\n",
       "    .dataframe tbody tr th:only-of-type {\n",
       "        vertical-align: middle;\n",
       "    }\n",
       "\n",
       "    .dataframe tbody tr th {\n",
       "        vertical-align: top;\n",
       "    }\n",
       "\n",
       "    .dataframe thead th {\n",
       "        text-align: right;\n",
       "    }\n",
       "</style>\n",
       "<table border=\"1\" class=\"dataframe\">\n",
       "  <thead>\n",
       "    <tr style=\"text-align: right;\">\n",
       "      <th></th>\n",
       "      <th>0</th>\n",
       "      <th>1</th>\n",
       "      <th>2</th>\n",
       "    </tr>\n",
       "  </thead>\n",
       "  <tbody>\n",
       "    <tr>\n",
       "      <th>0</th>\n",
       "      <td>0.0</td>\n",
       "      <td>0.0</td>\n",
       "      <td>1.0</td>\n",
       "    </tr>\n",
       "    <tr>\n",
       "      <th>1</th>\n",
       "      <td>0.0</td>\n",
       "      <td>0.0</td>\n",
       "      <td>0.0</td>\n",
       "    </tr>\n",
       "    <tr>\n",
       "      <th>2</th>\n",
       "      <td>0.0</td>\n",
       "      <td>1.0</td>\n",
       "      <td>0.0</td>\n",
       "    </tr>\n",
       "    <tr>\n",
       "      <th>3</th>\n",
       "      <td>0.0</td>\n",
       "      <td>0.0</td>\n",
       "      <td>0.0</td>\n",
       "    </tr>\n",
       "    <tr>\n",
       "      <th>4</th>\n",
       "      <td>1.0</td>\n",
       "      <td>0.0</td>\n",
       "      <td>0.0</td>\n",
       "    </tr>\n",
       "    <tr>\n",
       "      <th>5</th>\n",
       "      <td>0.0</td>\n",
       "      <td>0.0</td>\n",
       "      <td>1.0</td>\n",
       "    </tr>\n",
       "  </tbody>\n",
       "</table>\n",
       "</div>"
      ],
      "text/plain": [
       "     0    1    2\n",
       "0  0.0  0.0  1.0\n",
       "1  0.0  0.0  0.0\n",
       "2  0.0  1.0  0.0\n",
       "3  0.0  0.0  0.0\n",
       "4  1.0  0.0  0.0\n",
       "5  0.0  0.0  1.0"
      ]
     },
     "execution_count": 16,
     "metadata": {},
     "output_type": "execute_result"
    }
   ],
   "source": [
    "dfArrayCores = DataFrame(ArrayCores)\n",
    "\n",
    "dfArrayCores"
   ]
  },
  {
   "cell_type": "markdown",
   "id": "dbe72962-771d-4811-a21c-d1d256922887",
   "metadata": {},
   "source": [
    "Com o método ```join```, juntamos os dados ao DataFrame inicial."
   ]
  },
  {
   "cell_type": "code",
   "execution_count": 17,
   "id": "36659b1d-09e2-43ae-894b-43eb3b974175",
   "metadata": {},
   "outputs": [
    {
     "data": {
      "text/html": [
       "<div>\n",
       "<style scoped>\n",
       "    .dataframe tbody tr th:only-of-type {\n",
       "        vertical-align: middle;\n",
       "    }\n",
       "\n",
       "    .dataframe tbody tr th {\n",
       "        vertical-align: top;\n",
       "    }\n",
       "\n",
       "    .dataframe thead th {\n",
       "        text-align: right;\n",
       "    }\n",
       "</style>\n",
       "<table border=\"1\" class=\"dataframe\">\n",
       "  <thead>\n",
       "    <tr style=\"text-align: right;\">\n",
       "      <th></th>\n",
       "      <th>Nome</th>\n",
       "      <th>Cor</th>\n",
       "      <th>Idade</th>\n",
       "      <th>0</th>\n",
       "      <th>1</th>\n",
       "      <th>2</th>\n",
       "    </tr>\n",
       "  </thead>\n",
       "  <tbody>\n",
       "    <tr>\n",
       "      <th>0</th>\n",
       "      <td>Antonio</td>\n",
       "      <td>vermelho</td>\n",
       "      <td>12</td>\n",
       "      <td>0.0</td>\n",
       "      <td>0.0</td>\n",
       "      <td>1.0</td>\n",
       "    </tr>\n",
       "    <tr>\n",
       "      <th>1</th>\n",
       "      <td>Alberto</td>\n",
       "      <td>azul</td>\n",
       "      <td>33</td>\n",
       "      <td>0.0</td>\n",
       "      <td>0.0</td>\n",
       "      <td>0.0</td>\n",
       "    </tr>\n",
       "    <tr>\n",
       "      <th>2</th>\n",
       "      <td>Andreza</td>\n",
       "      <td>rosa</td>\n",
       "      <td>20</td>\n",
       "      <td>0.0</td>\n",
       "      <td>1.0</td>\n",
       "      <td>0.0</td>\n",
       "    </tr>\n",
       "    <tr>\n",
       "      <th>3</th>\n",
       "      <td>Anísio</td>\n",
       "      <td>azul</td>\n",
       "      <td>87</td>\n",
       "      <td>0.0</td>\n",
       "      <td>0.0</td>\n",
       "      <td>0.0</td>\n",
       "    </tr>\n",
       "    <tr>\n",
       "      <th>4</th>\n",
       "      <td>André</td>\n",
       "      <td>bege</td>\n",
       "      <td>9</td>\n",
       "      <td>1.0</td>\n",
       "      <td>0.0</td>\n",
       "      <td>0.0</td>\n",
       "    </tr>\n",
       "    <tr>\n",
       "      <th>5</th>\n",
       "      <td>Aline</td>\n",
       "      <td>vermelho</td>\n",
       "      <td>46</td>\n",
       "      <td>0.0</td>\n",
       "      <td>0.0</td>\n",
       "      <td>1.0</td>\n",
       "    </tr>\n",
       "  </tbody>\n",
       "</table>\n",
       "</div>"
      ],
      "text/plain": [
       "      Nome       Cor  Idade    0    1    2\n",
       "0  Antonio  vermelho     12  0.0  0.0  1.0\n",
       "1  Alberto      azul     33  0.0  0.0  0.0\n",
       "2  Andreza      rosa     20  0.0  1.0  0.0\n",
       "3   Anísio      azul     87  0.0  0.0  0.0\n",
       "4    André      bege      9  1.0  0.0  0.0\n",
       "5    Aline  vermelho     46  0.0  0.0  1.0"
      ]
     },
     "execution_count": 17,
     "metadata": {},
     "output_type": "execute_result"
    }
   ],
   "source": [
    "df2 = df2.join(dfArrayCores)\n",
    "\n",
    "df2"
   ]
  },
  {
   "cell_type": "markdown",
   "id": "dad96e54-91a5-4f34-90f5-9b4ace827568",
   "metadata": {},
   "source": [
    "Em seguida, retiramos a coluna 'Cor' pois os dados codificados já estão nas últimas colunas."
   ]
  },
  {
   "cell_type": "code",
   "execution_count": 18,
   "id": "0894d67a-7888-45d6-a3cc-9d6ce206216b",
   "metadata": {},
   "outputs": [
    {
     "data": {
      "text/html": [
       "<div>\n",
       "<style scoped>\n",
       "    .dataframe tbody tr th:only-of-type {\n",
       "        vertical-align: middle;\n",
       "    }\n",
       "\n",
       "    .dataframe tbody tr th {\n",
       "        vertical-align: top;\n",
       "    }\n",
       "\n",
       "    .dataframe thead th {\n",
       "        text-align: right;\n",
       "    }\n",
       "</style>\n",
       "<table border=\"1\" class=\"dataframe\">\n",
       "  <thead>\n",
       "    <tr style=\"text-align: right;\">\n",
       "      <th></th>\n",
       "      <th>Nome</th>\n",
       "      <th>Idade</th>\n",
       "      <th>0</th>\n",
       "      <th>1</th>\n",
       "      <th>2</th>\n",
       "    </tr>\n",
       "  </thead>\n",
       "  <tbody>\n",
       "    <tr>\n",
       "      <th>0</th>\n",
       "      <td>Antonio</td>\n",
       "      <td>12</td>\n",
       "      <td>0.0</td>\n",
       "      <td>0.0</td>\n",
       "      <td>1.0</td>\n",
       "    </tr>\n",
       "    <tr>\n",
       "      <th>1</th>\n",
       "      <td>Alberto</td>\n",
       "      <td>33</td>\n",
       "      <td>0.0</td>\n",
       "      <td>0.0</td>\n",
       "      <td>0.0</td>\n",
       "    </tr>\n",
       "    <tr>\n",
       "      <th>2</th>\n",
       "      <td>Andreza</td>\n",
       "      <td>20</td>\n",
       "      <td>0.0</td>\n",
       "      <td>1.0</td>\n",
       "      <td>0.0</td>\n",
       "    </tr>\n",
       "    <tr>\n",
       "      <th>3</th>\n",
       "      <td>Anísio</td>\n",
       "      <td>87</td>\n",
       "      <td>0.0</td>\n",
       "      <td>0.0</td>\n",
       "      <td>0.0</td>\n",
       "    </tr>\n",
       "    <tr>\n",
       "      <th>4</th>\n",
       "      <td>André</td>\n",
       "      <td>9</td>\n",
       "      <td>1.0</td>\n",
       "      <td>0.0</td>\n",
       "      <td>0.0</td>\n",
       "    </tr>\n",
       "    <tr>\n",
       "      <th>5</th>\n",
       "      <td>Aline</td>\n",
       "      <td>46</td>\n",
       "      <td>0.0</td>\n",
       "      <td>0.0</td>\n",
       "      <td>1.0</td>\n",
       "    </tr>\n",
       "  </tbody>\n",
       "</table>\n",
       "</div>"
      ],
      "text/plain": [
       "      Nome  Idade    0    1    2\n",
       "0  Antonio     12  0.0  0.0  1.0\n",
       "1  Alberto     33  0.0  0.0  0.0\n",
       "2  Andreza     20  0.0  1.0  0.0\n",
       "3   Anísio     87  0.0  0.0  0.0\n",
       "4    André      9  1.0  0.0  0.0\n",
       "5    Aline     46  0.0  0.0  1.0"
      ]
     },
     "execution_count": 18,
     "metadata": {},
     "output_type": "execute_result"
    }
   ],
   "source": [
    "df2.drop(columns = ['Cor'],\n",
    "         inplace = True)\n",
    "\n",
    "df2"
   ]
  },
  {
   "cell_type": "markdown",
   "id": "da546b1d-1f7e-40f1-9526-477e1ed4bee2",
   "metadata": {},
   "source": [
    "Por fim, vamos pegar só as células propriamente ditas, pois em aprendizado de máquina trabalhamos dessa forma, e ficamos com"
   ]
  },
  {
   "cell_type": "code",
   "execution_count": 19,
   "id": "2748d8ff-ef16-4ec0-b71c-911fc81a953e",
   "metadata": {},
   "outputs": [
    {
     "data": {
      "text/plain": [
       "array([['Antonio', 12, 0.0, 0.0, 1.0],\n",
       "       ['Alberto', 33, 0.0, 0.0, 0.0],\n",
       "       ['Andreza', 20, 0.0, 1.0, 0.0],\n",
       "       ['Anísio', 87, 0.0, 0.0, 0.0],\n",
       "       ['André', 9, 1.0, 0.0, 0.0],\n",
       "       ['Aline', 46, 0.0, 0.0, 1.0]], dtype=object)"
      ]
     },
     "execution_count": 19,
     "metadata": {},
     "output_type": "execute_result"
    }
   ],
   "source": [
    "dados = df2.iloc[:,:].values\n",
    "\n",
    "dados"
   ]
  }
 ],
 "metadata": {
  "kernelspec": {
   "display_name": "Python 3 (ipykernel)",
   "language": "python",
   "name": "python3"
  },
  "language_info": {
   "codemirror_mode": {
    "name": "ipython",
    "version": 3
   },
   "file_extension": ".py",
   "mimetype": "text/x-python",
   "name": "python",
   "nbconvert_exporter": "python",
   "pygments_lexer": "ipython3",
   "version": "3.8.10"
  }
 },
 "nbformat": 4,
 "nbformat_minor": 5
}
