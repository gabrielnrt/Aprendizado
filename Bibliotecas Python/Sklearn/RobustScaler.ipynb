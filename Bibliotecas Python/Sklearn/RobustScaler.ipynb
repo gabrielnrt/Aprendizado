{
 "cells": [
  {
   "cell_type": "markdown",
   "id": "e95be1be-eca2-498a-bdcc-65dfb8773f90",
   "metadata": {},
   "source": [
    "# **`RobustScaler()`**"
   ]
  },
  {
   "cell_type": "markdown",
   "id": "0888d56f-ffef-4b40-9c5b-a8415dabcb69",
   "metadata": {},
   "source": [
    "## **Introdução**"
   ]
  },
  {
   "cell_type": "markdown",
   "id": "3e2402bf-c70c-45c2-af8a-16cc8315f96d",
   "metadata": {},
   "source": [
    "Neste notebook veremos como redimensionar nossos dados com a classe `RobustScaler()`, do `sklearn.preprocessing`. Essa classe usa a chamada *amplitude interquartil*, que é melhor explicada [neste link](https://pt.wikipedia.org/wiki/Amplitude_interquartil). Já na [documentação](https://scikit-learn.org/stable/modules/generated/sklearn.preprocessing.RobustScaler.html) podemos encontrar todos os atributos e métodos disponíveis. \n",
    "\n",
    "Aqui focaremos mais no método `fit_transform()`."
   ]
  },
  {
   "cell_type": "code",
   "execution_count": null,
   "id": "c08355bd-79fc-409a-8920-3be0d38e59f8",
   "metadata": {},
   "outputs": [],
   "source": []
  }
 ],
 "metadata": {
  "kernelspec": {
   "display_name": "Python 3 (ipykernel)",
   "language": "python",
   "name": "python3"
  },
  "language_info": {
   "codemirror_mode": {
    "name": "ipython",
    "version": 3
   },
   "file_extension": ".py",
   "mimetype": "text/x-python",
   "name": "python",
   "nbconvert_exporter": "python",
   "pygments_lexer": "ipython3",
   "version": "3.8.10"
  }
 },
 "nbformat": 4,
 "nbformat_minor": 5
}
