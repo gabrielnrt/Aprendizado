{
 "cells": [
  {
   "cell_type": "markdown",
   "id": "e95be1be-eca2-498a-bdcc-65dfb8773f90",
   "metadata": {},
   "source": [
    "# **`RobustScaler()`**"
   ]
  },
  {
   "cell_type": "markdown",
   "id": "0888d56f-ffef-4b40-9c5b-a8415dabcb69",
   "metadata": {},
   "source": [
    "## **Introdução**"
   ]
  },
  {
   "cell_type": "markdown",
   "id": "3e2402bf-c70c-45c2-af8a-16cc8315f96d",
   "metadata": {},
   "source": [
    "Neste notebook veremos como redimensionar nossos dados com a classe `RobustScaler()`, do `sklearn.preprocessing`. Essa classe usa a chamada *amplitude interquartil*, que é melhor explicada [neste link](https://pt.wikipedia.org/wiki/Amplitude_interquartil). Já na [documentação](https://scikit-learn.org/stable/modules/generated/sklearn.preprocessing.RobustScaler.html) podemos encontrar todos os atributos e métodos disponíveis. \n",
    "\n",
    "\n",
    "A metodologia se dá retirando o valor mediano, e fazendo uma alteração de escala nos valores da amostra a partir da fórmula:\n",
    "\n",
    "$$\n",
    "\\frac{x_i - Q_1}{Q_3 - Q_1},\n",
    "$$\n",
    "\n",
    "onde $Q_1$ e $Q_3$ são o primeiro e terceiro quartil respectivamente. Obs, o valor $Q_3 - Q_1$ é a amplitude interquartil.\n",
    "\n",
    "Aqui focaremos mais no método `fit_transform()`.\n"
   ]
  },
  {
   "cell_type": "code",
   "execution_count": 2,
   "id": "c08355bd-79fc-409a-8920-3be0d38e59f8",
   "metadata": {},
   "outputs": [
    {
     "data": {
      "text/plain": [
       "array([[ 0. , -2. ,  0. ],\n",
       "       [-1. ,  0. ,  0.4],\n",
       "       [ 1. ,  0. , -1.6]])"
      ]
     },
     "execution_count": 2,
     "metadata": {},
     "output_type": "execute_result"
    }
   ],
   "source": [
    "from sklearn.preprocessing import RobustScaler\n",
    "\n",
    "X = [[ 1., -2.,  2.],\n",
    "     [ -2.,  1.,  3.],\n",
    "     [ 4.,  1., -2.]]\n",
    "\n",
    "transformer = RobustScaler()\n",
    "\n",
    "transformer.fit_transform(X)"
   ]
  },
  {
   "cell_type": "code",
   "execution_count": null,
   "id": "373379a0-d6ee-4da5-ab9f-05ecf7377516",
   "metadata": {},
   "outputs": [],
   "source": []
  }
 ],
 "metadata": {
  "kernelspec": {
   "display_name": "Python 3 (ipykernel)",
   "language": "python",
   "name": "python3"
  },
  "language_info": {
   "codemirror_mode": {
    "name": "ipython",
    "version": 3
   },
   "file_extension": ".py",
   "mimetype": "text/x-python",
   "name": "python",
   "nbconvert_exporter": "python",
   "pygments_lexer": "ipython3",
   "version": "3.8.10"
  }
 },
 "nbformat": 4,
 "nbformat_minor": 5
}
