{
 "cells": [
  {
   "cell_type": "markdown",
   "id": "3b3cd1ad-c09a-4952-a613-7ce421671f78",
   "metadata": {},
   "source": [
    "# K-Means"
   ]
  },
  {
   "cell_type": "markdown",
   "id": "374377c8-7746-4910-b363-d60098c10263",
   "metadata": {
    "jp-MarkdownHeadingCollapsed": true,
    "tags": []
   },
   "source": [
    "## Introdução"
   ]
  },
  {
   "cell_type": "markdown",
   "id": "1983f74c-b2b2-4787-8f64-e0bfc6e04d94",
   "metadata": {},
   "source": [
    "Neste notebook iremos estudar outro tipo de problema dentro do aprendizado de máquina, que é o **agrupamento**. Em particular, veremos aqui o modelo **K-Means**, que agrupa os dados a partir de um ponto médio (centroide) de todas as instâncias fornecidas. Com isso, o modelo consegue colocar os pontos em grupos, sem deixar ruídos, isto é, pontos sem classificação.\n",
    "\n",
    "Usaremos aqui os dados do Iris para implementar o modelo. "
   ]
  },
  {
   "cell_type": "markdown",
   "id": "ebb1488d-b6fd-4111-a9d7-ce32de2b043b",
   "metadata": {
    "jp-MarkdownHeadingCollapsed": true,
    "tags": []
   },
   "source": [
    "## Dados Iniciais"
   ]
  },
  {
   "cell_type": "code",
   "execution_count": 2,
   "id": "b1a294bd-50c3-4b59-bfda-6c5dad9b25a6",
   "metadata": {},
   "outputs": [],
   "source": [
    "from pylab import scatter, legend\n",
    "from sklearn.metrics import confusion_matrix\n",
    "from sklearn import datasets\n",
    "\n",
    "iris = datasets.load_iris()"
   ]
  },
  {
   "cell_type": "markdown",
   "id": "8b97003a-a1ec-4644-9aa6-c2e229f12458",
   "metadata": {
    "jp-MarkdownHeadingCollapsed": true,
    "tags": []
   },
   "source": [
    "## ```KMeans```"
   ]
  },
  {
   "cell_type": "markdown",
   "id": "09467ac4-f4fc-4f46-82e0-3e07ba2be6a8",
   "metadata": {},
   "source": [
    "Para invocar a classe ```KMeans```, basta digitar"
   ]
  },
  {
   "cell_type": "code",
   "execution_count": 3,
   "id": "abb980c1-d19f-47f4-9f2c-a770753c6264",
   "metadata": {},
   "outputs": [],
   "source": [
    "from sklearn.cluster import KMeans"
   ]
  },
  {
   "cell_type": "markdown",
   "id": "099fd56f-f606-4bb0-a136-f78b949becb5",
   "metadata": {},
   "source": [
    "Assim, dentre os parâmetros qu existem, vamos destacar o ```n_clusters```, que é o número de grupos que queremos criar. No caso do Iris, vamos colocar esse parâmetro igual a 3."
   ]
  },
  {
   "cell_type": "code",
   "execution_count": 4,
   "id": "6fc39829-9715-495f-853e-8b3e00e75b36",
   "metadata": {},
   "outputs": [],
   "source": [
    "cluster = KMeans(n_clusters = 3)"
   ]
  },
  {
   "cell_type": "markdown",
   "id": "caaabbd8-223d-4b06-b812-08553aa530f3",
   "metadata": {},
   "source": [
    "Para treinar o modelo, usamos o método ```fit```, e colocamos na entrada desse método **apenas** as características dos dados. Isso ocorre pois o intuito do modelo é apenas agrupar os dados, e não classificá-los num determinado resultado."
   ]
  },
  {
   "cell_type": "code",
   "execution_count": 5,
   "id": "bd93dea5-6a30-41dc-84e8-8278db46b52d",
   "metadata": {},
   "outputs": [
    {
     "data": {
      "text/plain": [
       "KMeans(n_clusters=3)"
      ]
     },
     "execution_count": 5,
     "metadata": {},
     "output_type": "execute_result"
    }
   ],
   "source": [
    "cluster.fit(iris.data)"
   ]
  },
  {
   "cell_type": "markdown",
   "id": "88c83dc9-42b9-4dff-a3b3-3fa4def3a4ed",
   "metadata": {},
   "source": [
    "Além de treinar o modelo, o método também atualiza as variáveis da instância. Dentre elas, destacamos o ```cluster_centers_```, que retorna os centroides de cada grupo, e o ```labels_```, que é um array de uma coluna só dizendo a que grupo cada ponto pertence."
   ]
  },
  {
   "cell_type": "code",
   "execution_count": 6,
   "id": "456b04fa-4772-4671-9682-ff0391860d4a",
   "metadata": {},
   "outputs": [
    {
     "data": {
      "text/plain": [
       "array([[5.006     , 3.428     , 1.462     , 0.246     ],\n",
       "       [5.9016129 , 2.7483871 , 4.39354839, 1.43387097],\n",
       "       [6.85      , 3.07368421, 5.74210526, 2.07105263]])"
      ]
     },
     "execution_count": 6,
     "metadata": {},
     "output_type": "execute_result"
    }
   ],
   "source": [
    "centroides = cluster.cluster_centers_\n",
    "centroides"
   ]
  },
  {
   "cell_type": "markdown",
   "id": "c49f467a-f873-4e08-ac78-f50930d7a698",
   "metadata": {},
   "source": [
    "Obs: cada linha é uma coordenada de um centroide. Como temos 3 grupos, então temos 3 linhas. Além disso vale ressaltar que cada coordenada possui 4 componentes pois, lembrando do notebook de KNN, temos 4 características: sepal length, sepal width, petal length, e petal width."
   ]
  },
  {
   "cell_type": "code",
   "execution_count": 7,
   "id": "70407d0a-e6ed-4ab1-a3a0-056bdbc52db2",
   "metadata": {},
   "outputs": [
    {
     "data": {
      "text/plain": [
       "array([0, 0, 0, 0, 0, 0, 0, 0, 0, 0, 0, 0, 0, 0, 0, 0, 0, 0, 0, 0, 0, 0,\n",
       "       0, 0, 0, 0, 0, 0, 0, 0, 0, 0, 0, 0, 0, 0, 0, 0, 0, 0, 0, 0, 0, 0,\n",
       "       0, 0, 0, 0, 0, 0, 1, 1, 2, 1, 1, 1, 1, 1, 1, 1, 1, 1, 1, 1, 1, 1,\n",
       "       1, 1, 1, 1, 1, 1, 1, 1, 1, 1, 1, 2, 1, 1, 1, 1, 1, 1, 1, 1, 1, 1,\n",
       "       1, 1, 1, 1, 1, 1, 1, 1, 1, 1, 1, 1, 2, 1, 2, 2, 2, 2, 1, 2, 2, 2,\n",
       "       2, 2, 2, 1, 1, 2, 2, 2, 2, 1, 2, 1, 2, 1, 2, 2, 1, 1, 2, 2, 2, 2,\n",
       "       2, 1, 2, 2, 2, 2, 1, 2, 2, 2, 1, 2, 2, 2, 1, 2, 2, 1], dtype=int32)"
      ]
     },
     "execution_count": 7,
     "metadata": {},
     "output_type": "execute_result"
    }
   ],
   "source": [
    "previsoes = cluster.labels_\n",
    "previsoes"
   ]
  },
  {
   "cell_type": "markdown",
   "id": "e7128696-14b4-4467-97d9-de5e219e4023",
   "metadata": {
    "jp-MarkdownHeadingCollapsed": true,
    "tags": []
   },
   "source": [
    "## Precisão do Modelo"
   ]
  },
  {
   "cell_type": "markdown",
   "id": "fd04324b-b308-4709-b794-121ac73db39b",
   "metadata": {},
   "source": [
    "Para medir o modelo, vamos usar a matriz de confusão."
   ]
  },
  {
   "cell_type": "code",
   "execution_count": 10,
   "id": "46ff8a83-0dce-496d-a34e-d93530f5ea1d",
   "metadata": {},
   "outputs": [
    {
     "data": {
      "text/plain": [
       "array([[50,  0,  0],\n",
       "       [ 0, 48,  2],\n",
       "       [ 0, 14, 36]])"
      ]
     },
     "execution_count": 10,
     "metadata": {},
     "output_type": "execute_result"
    }
   ],
   "source": [
    "resultados = confusion_matrix(iris.target, previsoes)\n",
    "resultados"
   ]
  },
  {
   "cell_type": "markdown",
   "id": "0746a318-378e-4b43-88ca-b11e0926158c",
   "metadata": {
    "jp-MarkdownHeadingCollapsed": true,
    "tags": []
   },
   "source": [
    "## Visualização Gráfica do resultado"
   ]
  },
  {
   "cell_type": "markdown",
   "id": "1f6704a9-2131-4d82-9df8-82d7b2a1bf14",
   "metadata": {},
   "source": [
    "Como temos 4 características, então vamos selecionar apenas duas para que o gráfico fique em 2D."
   ]
  },
  {
   "cell_type": "code",
   "execution_count": 12,
   "id": "158842ea-29c8-4415-a531-1f8031ffd4bb",
   "metadata": {},
   "outputs": [
    {
     "data": {
      "text/plain": [
       "<matplotlib.legend.Legend at 0x7f12a0563a90>"
      ]
     },
     "execution_count": 12,
     "metadata": {},
     "output_type": "execute_result"
    },
    {
     "data": {
      "image/png": "[encoded data removed]",
      "text/plain": [
       "<Figure size 432x288 with 1 Axes>"
      ]
     },
     "metadata": {
      "needs_background": "light"
     },
     "output_type": "display_data"
    }
   ],
   "source": [
    "scatter(iris.data[previsoes == 0, 0], iris.data[previsoes == 0, 1], \n",
    "            c = 'green', label = 'Setosa')\n",
    "scatter(iris.data[previsoes == 1, 0], iris.data[previsoes == 1, 1], \n",
    "            c = 'red', label = 'Versicolor')\n",
    "scatter(iris.data[previsoes == 2, 0], iris.data[previsoes == 2, 1], \n",
    "            c = 'blue', label = 'Virgica')\n",
    "legend()"
   ]
  },
  {
   "cell_type": "code",
   "execution_count": null,
   "id": "cf4e85d2-3c67-4703-9450-467c1927bd11",
   "metadata": {},
   "outputs": [],
   "source": []
  }
 ],
 "metadata": {
  "kernelspec": {
   "display_name": "Python 3 (ipykernel)",
   "language": "python",
   "name": "python3"
  },
  "language_info": {
   "codemirror_mode": {
    "name": "ipython",
    "version": 3
   },
   "file_extension": ".py",
   "mimetype": "text/x-python",
   "name": "python",
   "nbconvert_exporter": "python",
   "pygments_lexer": "ipython3",
   "version": "3.8.10"
  }
 },
 "nbformat": 4,
 "nbformat_minor": 5
}
