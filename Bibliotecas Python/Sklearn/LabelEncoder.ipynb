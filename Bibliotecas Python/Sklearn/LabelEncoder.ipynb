{
 "cells": [
  {
   "cell_type": "markdown",
   "id": "5f8271f8-0fe7-4ed7-9241-86ee5faf000c",
   "metadata": {},
   "source": [
    "# Label Encoder"
   ]
  },
  {
   "cell_type": "markdown",
   "id": "163c4b94-5934-4d4b-92db-eafb0375959e",
   "metadata": {},
   "source": [
    "## Introdução"
   ]
  },
  {
   "cell_type": "markdown",
   "id": "f2c0c82b-f4b1-45b5-8cb6-d60b98f46862",
   "metadata": {},
   "source": [
    "Neste notebook vamos dedicar nossa atenção a classe ```LabelEncoder``` do sklearn. Por hora, a utilidade desta classe será a de transformar colunas de strings em coluna de números, pois desta maneira os algoritmos de machine learning têm uma performance melhor."
   ]
  },
  {
   "cell_type": "markdown",
   "id": "3cb54464-adae-4de2-85e9-a458d0fb4df0",
   "metadata": {
    "jp-MarkdownHeadingCollapsed": true,
    "tags": []
   },
   "source": [
    "## Importando os dados e bibliotecas iniciais"
   ]
  },
  {
   "cell_type": "code",
   "execution_count": 10,
   "id": "2a977938-3365-4730-b0df-1e88242f30bb",
   "metadata": {},
   "outputs": [
    {
     "name": "stdout",
     "output_type": "stream",
     "text": [
      "As dimensões dessa base são: (1000, 21) \n",
      "\n"
     ]
    },
    {
     "data": {
      "text/html": [
       "<div>\n",
       "<style scoped>\n",
       "    .dataframe tbody tr th:only-of-type {\n",
       "        vertical-align: middle;\n",
       "    }\n",
       "\n",
       "    .dataframe tbody tr th {\n",
       "        vertical-align: top;\n",
       "    }\n",
       "\n",
       "    .dataframe thead th {\n",
       "        text-align: right;\n",
       "    }\n",
       "</style>\n",
       "<table border=\"1\" class=\"dataframe\">\n",
       "  <thead>\n",
       "    <tr style=\"text-align: right;\">\n",
       "      <th></th>\n",
       "      <th>checking_status</th>\n",
       "      <th>duration</th>\n",
       "      <th>credit_history</th>\n",
       "      <th>purpose</th>\n",
       "      <th>credit_amount</th>\n",
       "      <th>savings_status</th>\n",
       "      <th>employment</th>\n",
       "      <th>installment_commitment</th>\n",
       "      <th>personal_status</th>\n",
       "      <th>other_parties</th>\n",
       "      <th>...</th>\n",
       "      <th>property_magnitude</th>\n",
       "      <th>age</th>\n",
       "      <th>other_payment_plans</th>\n",
       "      <th>housing</th>\n",
       "      <th>existing_credits</th>\n",
       "      <th>job</th>\n",
       "      <th>num_dependents</th>\n",
       "      <th>own_telephone</th>\n",
       "      <th>foreign_worker</th>\n",
       "      <th>class</th>\n",
       "    </tr>\n",
       "  </thead>\n",
       "  <tbody>\n",
       "    <tr>\n",
       "      <th>0</th>\n",
       "      <td>&lt;0</td>\n",
       "      <td>6</td>\n",
       "      <td>'critical/other existing credit'</td>\n",
       "      <td>radio/tv</td>\n",
       "      <td>1169</td>\n",
       "      <td>'no known savings'</td>\n",
       "      <td>&gt;=7</td>\n",
       "      <td>4</td>\n",
       "      <td>'male single'</td>\n",
       "      <td>none</td>\n",
       "      <td>...</td>\n",
       "      <td>'real estate'</td>\n",
       "      <td>67</td>\n",
       "      <td>none</td>\n",
       "      <td>own</td>\n",
       "      <td>2</td>\n",
       "      <td>skilled</td>\n",
       "      <td>1</td>\n",
       "      <td>yes</td>\n",
       "      <td>yes</td>\n",
       "      <td>good</td>\n",
       "    </tr>\n",
       "  </tbody>\n",
       "</table>\n",
       "<p>1 rows × 21 columns</p>\n",
       "</div>"
      ],
      "text/plain": [
       "  checking_status  duration                    credit_history   purpose  \\\n",
       "0              <0         6  'critical/other existing credit'  radio/tv   \n",
       "\n",
       "   credit_amount      savings_status employment  installment_commitment  \\\n",
       "0           1169  'no known savings'        >=7                       4   \n",
       "\n",
       "  personal_status other_parties  ...  property_magnitude age  \\\n",
       "0   'male single'          none  ...       'real estate'  67   \n",
       "\n",
       "   other_payment_plans housing existing_credits      job num_dependents  \\\n",
       "0                 none     own                2  skilled              1   \n",
       "\n",
       "   own_telephone foreign_worker class  \n",
       "0            yes            yes  good  \n",
       "\n",
       "[1 rows x 21 columns]"
      ]
     },
     "execution_count": 10,
     "metadata": {},
     "output_type": "execute_result"
    }
   ],
   "source": [
    "from pandas import read_csv\n",
    "\n",
    "df = read_csv('Credit.csv')\n",
    "\n",
    "print('As dimensões dessa base são:',df.shape, '\\n')\n",
    "\n",
    "df.head(1)"
   ]
  },
  {
   "cell_type": "markdown",
   "id": "e3a997a8-7c02-4c33-944b-740878e85988",
   "metadata": {
    "jp-MarkdownHeadingCollapsed": true,
    "tags": []
   },
   "source": [
    "## ```LabelEncoder```"
   ]
  },
  {
   "cell_type": "markdown",
   "id": "91150eaa-bcc7-4567-b0b0-d0afe0441202",
   "metadata": {},
   "source": [
    "Como podemos ver, temos 1000 linhas e 21 colunas nessa base de dados. Dentre as colunas, algumas delas são strings como a \"checking_status\" e \"credit_history\", e são nesses tipos de colunas que a classe ```LabelEncoder``` atua (Na verdade a classe é provida de métodos que possuem mais utilidades do que apenas transformar strings em números).\n",
    "\n",
    "Para chamá-la, basta digitar"
   ]
  },
  {
   "cell_type": "code",
   "execution_count": 11,
   "id": "5a936b45-d312-4325-b5c5-4caae1871c26",
   "metadata": {},
   "outputs": [],
   "source": [
    "from sklearn.preprocessing import LabelEncoder"
   ]
  },
  {
   "cell_type": "markdown",
   "id": "efe63442-ceeb-4605-a8a1-364290247dbb",
   "metadata": {},
   "source": [
    "Assim, podemos criar uma instância fazendo apenas"
   ]
  },
  {
   "cell_type": "code",
   "execution_count": 13,
   "id": "a796ab07-f40d-4c14-a4b4-37eb56e41304",
   "metadata": {},
   "outputs": [],
   "source": [
    "labelencoder1 = LabelEncoder()"
   ]
  },
  {
   "cell_type": "markdown",
   "id": "66e50476-49d7-43a3-9a73-86990286b07f",
   "metadata": {},
   "source": [
    "Com isso, chamamos o método ```fit_transform``` para transformar uma coluna de strings em coluna de números. Antes disso, a entrada deve ser uma coluna pura, no sentido de que não pode ter o nome da coluna em si. Para tal, basta apenas fazer"
   ]
  },
  {
   "cell_type": "code",
   "execution_count": 15,
   "id": "9a479867-6561-47da-8a69-2c6bb763a1c6",
   "metadata": {},
   "outputs": [],
   "source": [
    "previsores = df.iloc[:,0:20].values"
   ]
  },
  {
   "cell_type": "markdown",
   "id": "94f8d1dd-5ea1-4a1a-bc65-aa6337a6d356",
   "metadata": {},
   "source": [
    "Fazendo a transformação de variável categórica em variável numérica na primeira coluna, temos"
   ]
  },
  {
   "cell_type": "code",
   "execution_count": 17,
   "id": "351698cf-9a0b-4bab-876b-79f8bb911af2",
   "metadata": {},
   "outputs": [
    {
     "data": {
      "text/plain": [
       "array([2, 1, 0, 2, 2, 0, 0, 1, 0, 1, 1, 2, 1, 2, 2, 2, 0, 2, 1, 0, 0, 2,\n",
       "       2, 1, 0, 2, 0, 3, 1, 2, 1, 2, 1, 0, 3, 1, 0, 3, 3, 1, 0, 1, 1, 2,\n",
       "       2, 0, 0, 2, 0, 0, 1, 1, 0, 0, 1, 0, 1, 0, 3, 2, 1, 1, 1, 1, 0, 0,\n",
       "       0, 1, 0, 0, 0, 0, 2, 1, 2, 2, 2, 1, 0, 1, 0, 0, 0, 2, 2, 0, 1, 1,\n",
       "       2, 2, 0, 2, 0, 3, 1, 1, 0, 1, 1, 1, 0, 1, 0, 1, 0, 1, 0, 1, 2, 1,\n",
       "       1, 3, 1, 0, 2, 0, 2, 2, 2, 1, 2, 0, 0, 3, 1, 2, 2, 1, 1, 2, 1, 2,\n",
       "       0, 0, 0, 0, 0, 1, 1, 3, 3, 1, 2, 2, 0, 1, 2, 0, 2, 0, 0, 0, 3, 1,\n",
       "       1, 2, 2, 2, 1, 0, 0, 0, 0, 1, 0, 0, 2, 1, 0, 1, 2, 0, 1, 1, 2, 0,\n",
       "       2, 2, 0, 2, 0, 1, 2, 0, 1, 0, 1, 1, 2, 1, 0, 1, 1, 0, 1, 1, 0, 1,\n",
       "       1, 1, 0, 2, 0, 2, 0, 2, 0, 1, 2, 0, 0, 0, 2, 3, 0, 1, 2, 3, 2, 0,\n",
       "       1, 2, 0, 0, 0, 0, 1, 2, 0, 2, 3, 0, 0, 1, 0, 2, 1, 1, 0, 2, 2, 0,\n",
       "       2, 0, 0, 0, 0, 0, 3, 0, 2, 3, 1, 0, 1, 1, 0, 2, 0, 0, 2, 2, 2, 0,\n",
       "       0, 1, 0, 0, 2, 0, 0, 0, 1, 1, 2, 0, 0, 2, 0, 0, 0, 0, 3, 0, 1, 2,\n",
       "       2, 1, 1, 2, 0, 1, 2, 3, 0, 1, 0, 0, 0, 1, 0, 1, 3, 2, 0, 0, 0, 2,\n",
       "       1, 1, 1, 0, 3, 1, 3, 2, 2, 1, 0, 2, 1, 2, 2, 2, 0, 2, 0, 0, 3, 1,\n",
       "       2, 0, 1, 0, 2, 2, 1, 2, 2, 1, 1, 2, 1, 1, 3, 0, 1, 1, 0, 1, 0, 1,\n",
       "       0, 2, 0, 1, 0, 0, 0, 2, 1, 3, 3, 0, 2, 0, 0, 2, 2, 1, 0, 0, 0, 0,\n",
       "       1, 2, 0, 0, 1, 0, 2, 1, 0, 3, 0, 0, 0, 1, 1, 0, 0, 1, 2, 2, 0, 1,\n",
       "       2, 2, 1, 0, 0, 1, 0, 0, 1, 1, 0, 2, 0, 3, 1, 0, 0, 0, 2, 0, 2, 2,\n",
       "       0, 1, 0, 1, 1, 0, 1, 1, 0, 0, 0, 2, 0, 1, 2, 0, 2, 1, 0, 0, 2, 3,\n",
       "       0, 2, 1, 0, 1, 0, 2, 1, 3, 1, 0, 0, 0, 0, 2, 0, 2, 2, 2, 0, 2, 2,\n",
       "       1, 1, 0, 2, 2, 0, 0, 0, 1, 2, 2, 0, 1, 2, 0, 3, 1, 2, 1, 1, 2, 0,\n",
       "       0, 1, 0, 0, 0, 0, 0, 1, 0, 1, 2, 2, 1, 0, 1, 3, 2, 2, 3, 1, 2, 0,\n",
       "       3, 1, 0, 0, 2, 0, 3, 1, 0, 2, 2, 0, 2, 0, 0, 2, 2, 0, 1, 1, 0, 0,\n",
       "       2, 2, 1, 1, 0, 0, 0, 3, 2, 1, 2, 3, 1, 0, 2, 3, 0, 2, 0, 0, 2, 0,\n",
       "       0, 0, 2, 1, 1, 1, 1, 0, 2, 1, 2, 2, 3, 1, 1, 1, 2, 0, 1, 2, 2, 0,\n",
       "       0, 2, 1, 0, 1, 0, 1, 0, 1, 1, 0, 1, 0, 2, 2, 2, 2, 2, 2, 1, 0, 1,\n",
       "       2, 1, 2, 1, 0, 0, 1, 1, 1, 0, 3, 2, 0, 1, 0, 0, 2, 3, 2, 2, 0, 1,\n",
       "       1, 2, 1, 0, 1, 0, 0, 2, 2, 0, 3, 1, 0, 0, 2, 2, 1, 0, 1, 0, 0, 0,\n",
       "       0, 2, 2, 1, 0, 0, 2, 0, 2, 0, 3, 2, 2, 1, 2, 1, 0, 2, 1, 0, 1, 1,\n",
       "       3, 2, 0, 1, 3, 0, 1, 0, 2, 3, 0, 0, 0, 0, 0, 0, 0, 1, 2, 0, 0, 0,\n",
       "       0, 0, 1, 0, 3, 1, 0, 2, 2, 1, 1, 2, 0, 0, 1, 0, 0, 3, 0, 2, 3, 1,\n",
       "       1, 0, 1, 1, 1, 1, 0, 2, 0, 2, 1, 0, 0, 0, 3, 1, 3, 1, 2, 1, 0, 0,\n",
       "       0, 2, 1, 3, 1, 2, 1, 0, 0, 1, 1, 2, 0, 1, 2, 1, 0, 2, 2, 2, 2, 2,\n",
       "       0, 0, 2, 2, 1, 0, 0, 2, 3, 3, 0, 2, 0, 2, 2, 0, 0, 1, 2, 0, 1, 0,\n",
       "       2, 2, 0, 0, 3, 2, 0, 2, 0, 1, 1, 0, 1, 1, 1, 1, 0, 0, 1, 2, 1, 0,\n",
       "       0, 3, 0, 0, 2, 0, 0, 1, 0, 1, 2, 0, 1, 2, 1, 0, 1, 1, 1, 1, 2, 2,\n",
       "       2, 1, 0, 0, 2, 2, 0, 3, 2, 2, 0, 2, 2, 0, 2, 1, 0, 2, 2, 1, 3, 2,\n",
       "       0, 0, 2, 0, 2, 0, 0, 0, 0, 1, 0, 0, 2, 2, 2, 0, 0, 2, 0, 0, 0, 0,\n",
       "       2, 0, 0, 0, 2, 0, 0, 0, 2, 0, 0, 2, 0, 3, 2, 0, 2, 1, 2, 0, 2, 0,\n",
       "       0, 0, 1, 0, 1, 2, 1, 1, 0, 0, 2, 0, 2, 1, 0, 0, 2, 0, 0, 2, 2, 0,\n",
       "       0, 0, 0, 2, 2, 1, 0, 1, 0, 1, 1, 0, 2, 1, 0, 2, 2, 2, 0, 0, 2, 1,\n",
       "       2, 2, 2, 2, 0, 2, 2, 1, 0, 0, 2, 1, 3, 1, 1, 0, 0, 0, 0, 0, 2, 1,\n",
       "       2, 0, 0, 0, 1, 2, 1, 0, 2, 2, 3, 1, 2, 1, 0, 1, 0, 0, 1, 1, 1, 0,\n",
       "       0, 2, 1, 0, 2, 2, 0, 3, 1, 1, 0, 1, 1, 0, 3, 2, 0, 2, 3, 0, 2, 1,\n",
       "       0, 0, 2, 2, 0, 0, 2, 0, 2, 1], dtype=object)"
      ]
     },
     "execution_count": 17,
     "metadata": {},
     "output_type": "execute_result"
    }
   ],
   "source": [
    "previsores[:,0] = labelencoder1.fit_transform(previsores[:,0])\n",
    "\n",
    "previsores[:,0]"
   ]
  },
  {
   "cell_type": "code",
   "execution_count": null,
   "id": "c6caca15-b3e3-4c96-93bc-82d997bcf950",
   "metadata": {},
   "outputs": [],
   "source": []
  }
 ],
 "metadata": {
  "kernelspec": {
   "display_name": "Python 3 (ipykernel)",
   "language": "python",
   "name": "python3"
  },
  "language_info": {
   "codemirror_mode": {
    "name": "ipython",
    "version": 3
   },
   "file_extension": ".py",
   "mimetype": "text/x-python",
   "name": "python",
   "nbconvert_exporter": "python",
   "pygments_lexer": "ipython3",
   "version": "3.8.10"
  }
 },
 "nbformat": 4,
 "nbformat_minor": 5
}
