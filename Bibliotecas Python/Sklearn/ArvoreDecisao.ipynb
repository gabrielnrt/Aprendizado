{
 "cells": [
  {
   "cell_type": "markdown",
   "id": "80c3dd76-5ce7-4071-b0eb-69191cdfae45",
   "metadata": {},
   "source": [
    "# Árvore de decisão"
   ]
  },
  {
   "cell_type": "markdown",
   "id": "cc57bb8e-6871-4cb1-83d6-eebf1b6b1199",
   "metadata": {
    "jp-MarkdownHeadingCollapsed": true,
    "tags": []
   },
   "source": [
    "## Introdução"
   ]
  },
  {
   "cell_type": "markdown",
   "id": "8c2b6d2e-5896-4ea3-b841-b63e6ee0c9b6",
   "metadata": {},
   "source": [
    "Como o próprio nome sugere, este notebook versará sobre a árvore de decisão. A grosso modo, o algoritmo cria uma estatística a partir de uma árvore gerada com as categorias que o conjunto de dados possui.\n",
    "\n",
    "Por exemplo, imagine uma tabela com 3 colunas, em que a primeira é \"País\" (que pode ser Brasil ou Argentina), a segunda é \"Estação\" (que pode ser primavera, verão, outono ou inverno) e a terceira (que corresponde ao resultado) seja \"Clima\" (que pode ser \"chuva\" ou \"ensolarado). Deste modo, a árvore de decisão nos gera um conjunto de ramos que nos dizem qual a porcentagem de termos um clima com chuva ou ensolarado. Se recebermos um novo dado, como \"Brasil\" e \"Inverno\", o algoritmo vai buscar apenas nestes ramos qual é a chance que ocorra, por exemplo, uma chuva num dia de inverno no Brasil.  \n",
    "\n",
    "No nosso caso, vamos usar a mesma tabela de crédito como no algortimo de Naive Bayes."
   ]
  },
  {
   "cell_type": "markdown",
   "id": "63d53fa3-0263-4f8f-8674-ffc84e6e1c56",
   "metadata": {
    "jp-MarkdownHeadingCollapsed": true,
    "tags": []
   },
   "source": [
    "## Dados iniciais"
   ]
  },
  {
   "cell_type": "markdown",
   "id": "d20028d8-7c1a-49f0-b8bb-40053c49e5bf",
   "metadata": {},
   "source": [
    "Como vamos pegar os mesmos dados sobre o \"Credit.csv\", e já vimos a parte de codificação de categorias e particionamento, não entraremos em detalhes no bloco de código abaixo."
   ]
  },
  {
   "cell_type": "code",
   "execution_count": 9,
   "id": "3ca5da88-3f0e-4771-aa76-3cfb12e4cdd9",
   "metadata": {},
   "outputs": [],
   "source": [
    "from pandas import read_csv\n",
    "from sklearn.preprocessing import LabelEncoder\n",
    "from sklearn.model_selection import train_test_split\n",
    "from sklearn.metrics import confusion_matrix, accuracy_score\n",
    "\n",
    "\n",
    "df = read_csv('Credit.csv')\n",
    "\n",
    "#-----------------------------------------------------------------------------\n",
    "\n",
    "previsores = df.iloc[:,0:20].values\n",
    "classe = df.iloc[:,20].values\n",
    "\n",
    "#-----------------------------------------------------------------------------\n",
    "# Transformando as colunas de strings em colunas numéricas (CODIFICAÇÃO DE CATEGORIAS)\n",
    "\n",
    "labelencoder1 = LabelEncoder()\n",
    "previsores[:,0] = labelencoder1.fit_transform(previsores[:,0])\n",
    "\n",
    "labelencoder2 = LabelEncoder()\n",
    "previsores[:,2] = labelencoder2.fit_transform(previsores[:,2])\n",
    "\n",
    "labelencoder3 = LabelEncoder()\n",
    "previsores[:, 3] = labelencoder3.fit_transform(previsores[:, 3])\n",
    "\n",
    "labelencoder4 = LabelEncoder()\n",
    "previsores[:, 5] = labelencoder4.fit_transform(previsores[:, 5])\n",
    "\n",
    "labelencoder5 = LabelEncoder()\n",
    "previsores[:, 6] = labelencoder5.fit_transform(previsores[:, 6])\n",
    "\n",
    "labelencoder6 = LabelEncoder()\n",
    "previsores[:, 8] = labelencoder6.fit_transform(previsores[:, 8])\n",
    "\n",
    "labelencoder7 = LabelEncoder()\n",
    "previsores[:, 9] = labelencoder7.fit_transform(previsores[:, 9])\n",
    "\n",
    "labelencoder8 = LabelEncoder()\n",
    "previsores[:, 11] = labelencoder8.fit_transform(previsores[:, 11])\n",
    "\n",
    "labelencoder9 = LabelEncoder()\n",
    "previsores[:, 13] = labelencoder9.fit_transform(previsores[:, 13])\n",
    "\n",
    "labelencoder10 = LabelEncoder()\n",
    "previsores[:, 14] = labelencoder10.fit_transform(previsores[:, 14])\n",
    "\n",
    "labelencoder11 = LabelEncoder()\n",
    "previsores[:, 16] = labelencoder11.fit_transform(previsores[:, 16])\n",
    "\n",
    "labelencoder12 = LabelEncoder()\n",
    "previsores[:, 18] = labelencoder12.fit_transform(previsores[:, 18])\n",
    "\n",
    "labelencoder13 = LabelEncoder()\n",
    "previsores[:, 19] = labelencoder13.fit_transform(previsores[:, 19])\n",
    "\n",
    "#--------------------------------------------------------------------------------------------------------------------------\n",
    "# PARTICIONAMENTO\n",
    "\n",
    "X_treinamento, X_teste, y_treinamento, y_teste = train_test_split(previsores, classe, test_size = 0.3, random_state = 0)"
   ]
  },
  {
   "cell_type": "markdown",
   "id": "85f91fc1-0837-4b0b-aa32-0711796c7e2a",
   "metadata": {
    "jp-MarkdownHeadingCollapsed": true,
    "tags": []
   },
   "source": [
    "## ```DecisionTreeClassifier```"
   ]
  },
  {
   "cell_type": "markdown",
   "id": "9ff9d3a7-9f33-4ec5-a404-9ae7674bb912",
   "metadata": {},
   "source": [
    "Na biblioteca ```Sklearn``` usamos a classe ```DecisionTreeClassifier```. Para chamá-la, digitamos"
   ]
  },
  {
   "cell_type": "code",
   "execution_count": 2,
   "id": "cee4484c-0428-47f4-87dd-602f71aec42c",
   "metadata": {},
   "outputs": [],
   "source": [
    "from sklearn.tree import DecisionTreeClassifier"
   ]
  },
  {
   "cell_type": "markdown",
   "id": "f1b29863-1c96-440f-9257-53326fce8193",
   "metadata": {},
   "source": [
    "Para criar uma instância dessa classe, fazemos"
   ]
  },
  {
   "cell_type": "code",
   "execution_count": 10,
   "id": "2be95b44-f862-4996-9523-1278e8a3db9f",
   "metadata": {},
   "outputs": [],
   "source": [
    "arvore = DecisionTreeClassifier()"
   ]
  },
  {
   "cell_type": "markdown",
   "id": "0974c73f-886c-4260-9928-dacb8594c4a8",
   "metadata": {},
   "source": [
    "Detre as variáveis e métodos que a instância possui, destacamos os métodos ```fit``` e ```predict```, similar ao algoritmo de Niaves Bayes. \n",
    "\n",
    "Com relação ao ```fit```, temos os seguintes parâmetros:\n",
    "* ```X```: é o conjunto de variáveis independentes que mostra as características. No nosso caso, cada linha representa caractaerísticas do perfil de um candidato a crédito.\n",
    "* ```y```: é a coluna dos resultados (classes) para cada linha de X. No nosso exemplo, temos \"good\" para bons pagadores e \"bad\" para maus pagadores.\n",
    "\n",
    "Dando esse conjunto de entrada, esse método realiza o treino e retorna a própria instância, mas agora com os suas variáveis atualizadas.\n",
    "\n",
    "Com relação ao ```predict```, devemos fornecer o seguinte parâmetro:\n",
    "* ```X```: é o conjunto de dados que vamos usar para testar a fim de verificar mais tarde a precisão da metodologia empregada.\n",
    "\n",
    "Como saída, esse método retorna, baseado na entrada ```X``` e no treinamento feito primeiramente, uma coluna com os resultados (classes) previstos pelo modelo. Com esses resultados podemos comparar com os resultados verdadeiros e medir a precisão."
   ]
  },
  {
   "cell_type": "code",
   "execution_count": 14,
   "id": "44c64ead-76fd-4989-bef1-e774db1d3d4e",
   "metadata": {},
   "outputs": [
    {
     "data": {
      "text/plain": [
       "array(['bad', 'bad', 'good', 'good', 'good', 'good', 'good', 'good',\n",
       "       'good', 'bad', 'bad', 'bad', 'bad', 'bad', 'bad', 'bad', 'good',\n",
       "       'good', 'bad', 'bad', 'bad', 'bad', 'good', 'good', 'good', 'bad',\n",
       "       'good', 'good', 'good', 'bad', 'good', 'bad', 'bad', 'bad', 'good',\n",
       "       'bad', 'good', 'good', 'good', 'good', 'good', 'bad', 'good',\n",
       "       'bad', 'good', 'good', 'good', 'bad', 'good', 'good', 'good',\n",
       "       'bad', 'bad', 'good', 'good', 'bad', 'good', 'good', 'good',\n",
       "       'good', 'bad', 'good', 'good', 'good', 'good', 'good', 'good',\n",
       "       'good', 'bad', 'good', 'good', 'good', 'bad', 'bad', 'good',\n",
       "       'good', 'bad', 'good', 'good', 'good', 'good', 'good', 'good',\n",
       "       'good', 'good', 'good', 'bad', 'bad', 'good', 'good', 'good',\n",
       "       'bad', 'good', 'good', 'good', 'good', 'good', 'good', 'good',\n",
       "       'bad', 'good', 'good', 'good', 'good', 'good', 'good', 'bad',\n",
       "       'bad', 'good', 'good', 'good', 'good', 'good', 'good', 'good',\n",
       "       'good', 'bad', 'good', 'bad', 'good', 'bad', 'good', 'good', 'bad',\n",
       "       'good', 'good', 'good', 'good', 'good', 'good', 'good', 'good',\n",
       "       'good', 'good', 'good', 'good', 'good', 'good', 'good', 'bad',\n",
       "       'bad', 'good', 'good', 'good', 'good', 'good', 'good', 'bad',\n",
       "       'good', 'good', 'good', 'good', 'good', 'good', 'bad', 'good',\n",
       "       'good', 'good', 'good', 'good', 'bad', 'good', 'good', 'good',\n",
       "       'bad', 'bad', 'bad', 'good', 'good', 'good', 'bad', 'good', 'bad',\n",
       "       'bad', 'good', 'bad', 'bad', 'bad', 'good', 'good', 'good', 'good',\n",
       "       'bad', 'good', 'bad', 'good', 'good', 'good', 'bad', 'good',\n",
       "       'good', 'bad', 'good', 'good', 'good', 'bad', 'good', 'good',\n",
       "       'good', 'bad', 'bad', 'bad', 'bad', 'good', 'good', 'good', 'bad',\n",
       "       'good', 'good', 'good', 'bad', 'bad', 'good', 'good', 'good',\n",
       "       'bad', 'good', 'good', 'good', 'bad', 'bad', 'bad', 'good', 'good',\n",
       "       'good', 'good', 'good', 'bad', 'bad', 'good', 'good', 'good',\n",
       "       'good', 'good', 'bad', 'bad', 'good', 'good', 'good', 'good',\n",
       "       'good', 'good', 'good', 'good', 'good', 'bad', 'good', 'bad',\n",
       "       'good', 'good', 'bad', 'bad', 'good', 'bad', 'good', 'good',\n",
       "       'good', 'good', 'bad', 'bad', 'good', 'bad', 'good', 'good', 'bad',\n",
       "       'bad', 'good', 'good', 'good', 'bad', 'bad', 'good', 'good',\n",
       "       'good', 'good', 'good', 'good', 'good', 'bad', 'bad', 'good',\n",
       "       'good', 'good', 'good', 'good', 'good', 'good', 'bad', 'bad',\n",
       "       'bad', 'bad', 'good', 'good', 'good', 'good', 'good', 'bad',\n",
       "       'good', 'bad', 'good'], dtype=object)"
      ]
     },
     "execution_count": 14,
     "metadata": {},
     "output_type": "execute_result"
    }
   ],
   "source": [
    "arvore.fit(X_treinamento, y_treinamento)\n",
    "\n",
    "previsoes = arvore.predict(X_teste)\n",
    "\n",
    "previsoes"
   ]
  },
  {
   "cell_type": "markdown",
   "id": "0a363b68-cdbe-4d71-866f-f456a81de2b6",
   "metadata": {
    "jp-MarkdownHeadingCollapsed": true,
    "tags": []
   },
   "source": [
    "## Precisão"
   ]
  },
  {
   "cell_type": "markdown",
   "id": "54b11d86-89d9-43bb-93f3-6e95ded9e727",
   "metadata": {},
   "source": [
    "Agora comparamos o resultado obtido com o \"correto\" para medir a acurácia do modelo"
   ]
  },
  {
   "cell_type": "code",
   "execution_count": 15,
   "id": "eb54a613-c8c2-43d8-9146-9e34fb2f6320",
   "metadata": {},
   "outputs": [
    {
     "data": {
      "text/plain": [
       "array([[ 42,  44],\n",
       "       [ 52, 162]])"
      ]
     },
     "execution_count": 15,
     "metadata": {},
     "output_type": "execute_result"
    }
   ],
   "source": [
    "from sklearn.metrics import confusion_matrix, accuracy_score\n",
    "\n",
    "confusao = confusion_matrix(y_teste, previsoes)\n",
    "confusao"
   ]
  },
  {
   "cell_type": "code",
   "execution_count": 16,
   "id": "d33758b8-5b2d-4058-8d27-e11a3d99cdf0",
   "metadata": {},
   "outputs": [
    {
     "data": {
      "text/plain": [
       "0.68"
      ]
     },
     "execution_count": 16,
     "metadata": {},
     "output_type": "execute_result"
    }
   ],
   "source": [
    "taxa_acerto = accuracy_score(y_teste, previsoes)\n",
    "taxa_acerto"
   ]
  },
  {
   "cell_type": "markdown",
   "id": "0693e69e-bd7b-4a81-b9da-44de03299efb",
   "metadata": {
    "jp-MarkdownHeadingCollapsed": true,
    "tags": []
   },
   "source": [
    "## Visualização da árvore"
   ]
  },
  {
   "cell_type": "markdown",
   "id": "e120965b-8205-4628-b273-0cd0d2ee62ea",
   "metadata": {},
   "source": [
    "Para visualizarmos a árvore gerada pelo modelo, basta digitar o seguinte código."
   ]
  },
  {
   "cell_type": "code",
   "execution_count": 17,
   "id": "d62e43a2-0b3c-4a37-845e-52d83042fa85",
   "metadata": {},
   "outputs": [],
   "source": [
    "from sklearn.tree import export_graphviz\n",
    "\n",
    "export_graphviz(arvore, out_file = 'tree.dot')"
   ]
  },
  {
   "cell_type": "markdown",
   "id": "6874e434-6177-4cb4-9099-a333178f7bab",
   "metadata": {},
   "source": [
    "Com isso, ele vai gerar um arquivo na mesma pasta do notebook. Depois disso, basta abri-lo com algum editor de texto, copiar o que está escrito, e colar em algum visualizador de grafos como o http://webgraphviz.com/."
   ]
  },
  {
   "cell_type": "code",
   "execution_count": null,
   "id": "e6241170-98ed-4141-b013-8b90ea5c58d2",
   "metadata": {},
   "outputs": [],
   "source": []
  }
 ],
 "metadata": {
  "kernelspec": {
   "display_name": "Python 3 (ipykernel)",
   "language": "python",
   "name": "python3"
  },
  "language_info": {
   "codemirror_mode": {
    "name": "ipython",
    "version": 3
   },
   "file_extension": ".py",
   "mimetype": "text/x-python",
   "name": "python",
   "nbconvert_exporter": "python",
   "pygments_lexer": "ipython3",
   "version": "3.8.10"
  }
 },
 "nbformat": 4,
 "nbformat_minor": 5
}
