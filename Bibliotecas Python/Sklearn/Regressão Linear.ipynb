{
 "cells": [
  {
   "cell_type": "markdown",
   "id": "bb70df44-c095-40be-bb21-3d0166b784f9",
   "metadata": {
    "tags": []
   },
   "source": [
    "# Regressão Linear Simples"
   ]
  },
  {
   "cell_type": "markdown",
   "id": "a7dbbba8-71ed-453a-9115-53da96db83ba",
   "metadata": {
    "jp-MarkdownHeadingCollapsed": true,
    "tags": []
   },
   "source": [
    "## Importando as bibliotecas"
   ]
  },
  {
   "cell_type": "code",
   "execution_count": 3,
   "id": "c1aedd83-96aa-46f2-b9a0-b80adfc09670",
   "metadata": {},
   "outputs": [],
   "source": [
    "from pandas import read_csv\n",
    "from sklearn.linear_model import LinearRegression\n",
    "from pylab import scatter, plot, show"
   ]
  },
  {
   "cell_type": "markdown",
   "id": "41d2945e-9e33-417d-8be5-30f46ffbba78",
   "metadata": {
    "jp-MarkdownHeadingCollapsed": true,
    "tags": []
   },
   "source": [
    "## Lendo e configurando os dados"
   ]
  },
  {
   "cell_type": "markdown",
   "id": "96bd8650-5907-4097-a3be-a650d6098ed3",
   "metadata": {},
   "source": [
    "Aqui devemos mudar a tipagem de ```DataFrame``` para um array do numpy  a fim de que o método funcione."
   ]
  },
  {
   "cell_type": "code",
   "execution_count": 4,
   "id": "8f3e49ac-3878-406b-8b52-6d2239618a3b",
   "metadata": {},
   "outputs": [],
   "source": [
    "df = read_csv('cars.csv')\n",
    "\n",
    "X = df['dist'].to_numpy()\n",
    "y = df['speed'].to_numpy()"
   ]
  },
  {
   "cell_type": "markdown",
   "id": "93c52df2-6c5a-420d-8815-ba19cf41bc9c",
   "metadata": {
    "jp-MarkdownHeadingCollapsed": true,
    "tags": []
   },
   "source": [
    "## Fazendo a regressão propriamente dita"
   ]
  },
  {
   "cell_type": "markdown",
   "id": "4b549830-a21c-4468-b663-7b02e02a23d7",
   "metadata": {},
   "source": [
    "Para fazer a regressão linear, usamos a classe ```LinearRegression```, que, dentre outras, possui as seguintes variáveis:\n",
    "\n",
    "* ```coef_```: inclinação da reta;\n",
    "* ```intercept_```: ponto onde corta a reta $y_0 = f(0)$. \n",
    "\n",
    "Além disso, destacamos dois métodos:\n",
    "\n",
    "* ```fit(x,y)```: é esse método que faz a regressão de fato. Nos parâmetros, x e y são os pontos os quais queremos ajustar a melhor reta. Temos que ter cuidado pois x deve ser uma matriz coluna, e não apenas um array. Para isso, basta mudar a forma dos pontos com ```pontos_x = x.reshape(-1,1)```;\n",
    "\n",
    "* ```predict(x)```: esse método pega um ponto x e retorna o correspondente y da reta. Podemos colocar tanto um número no argumento quanto um conjunto de pontos."
   ]
  },
  {
   "cell_type": "code",
   "execution_count": 6,
   "id": "66ff3819-37fb-4a99-9fc4-348f772b292d",
   "metadata": {},
   "outputs": [],
   "source": [
    "x = X.reshape(-1,1)"
   ]
  },
  {
   "cell_type": "code",
   "execution_count": 7,
   "id": "61a83318-03a7-45d1-b1e0-83341e881e74",
   "metadata": {},
   "outputs": [
    {
     "data": {
      "text/plain": [
       "LinearRegression()"
      ]
     },
     "execution_count": 7,
     "metadata": {},
     "output_type": "execute_result"
    }
   ],
   "source": [
    "modelo = LinearRegression()\n",
    "\n",
    "modelo.fit(x,y)"
   ]
  },
  {
   "cell_type": "markdown",
   "id": "c1954d77-0a8c-4aa3-af70-7c0d7228421d",
   "metadata": {
    "jp-MarkdownHeadingCollapsed": true,
    "tags": []
   },
   "source": [
    "## Resultados"
   ]
  },
  {
   "cell_type": "markdown",
   "id": "b2f9aadb-4016-498b-9fdc-123cd0519f40",
   "metadata": {},
   "source": [
    "Para fazermos o gráfico da regressão linear, podemos usar as variáveis ```modelo.coef_``` e ```modelo.intercept_``` para criar \"no braço\" a reta ``` y_modelo = x*modelo.coef_ + modelo_intercept```. Contudo, graças ao método ```predict```, basta colocar ```predict(x)``` no argumento y do ```plot``` e assim poupamos esse trabalho."
   ]
  },
  {
   "cell_type": "code",
   "execution_count": 8,
   "id": "a4bf95a4-9fee-465a-91dc-b7dc3e3a8e69",
   "metadata": {},
   "outputs": [
    {
     "data": {
      "image/png": "[encoded data removed]",
      "text/plain": [
       "<Figure size 432x288 with 1 Axes>"
      ]
     },
     "metadata": {
      "needs_background": "light"
     },
     "output_type": "display_data"
    }
   ],
   "source": [
    "scatter(x,y)\n",
    "\n",
    "plot(x, modelo.predict(x))\n",
    "\n",
    "show()"
   ]
  },
  {
   "cell_type": "markdown",
   "id": "b1fc5a9e-61d8-4dc5-b775-138a84c665dd",
   "metadata": {},
   "source": [
    "No demais, é só alterar parâmetros como as cores e colocar um título, por exemplo."
   ]
  }
 ],
 "metadata": {
  "kernelspec": {
   "display_name": "Python 3 (ipykernel)",
   "language": "python",
   "name": "python3"
  },
  "language_info": {
   "codemirror_mode": {
    "name": "ipython",
    "version": 3
   },
   "file_extension": ".py",
   "mimetype": "text/x-python",
   "name": "python",
   "nbconvert_exporter": "python",
   "pygments_lexer": "ipython3",
   "version": "3.8.10"
  }
 },
 "nbformat": 4,
 "nbformat_minor": 5
}
