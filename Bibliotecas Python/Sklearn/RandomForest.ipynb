{
 "cells": [
  {
   "cell_type": "markdown",
   "id": "9014ba53-67a5-4107-921a-0b3bf813cba5",
   "metadata": {},
   "source": [
    "# Floresta Aleatória"
   ]
  },
  {
   "cell_type": "markdown",
   "id": "aacfaabb-3df1-401b-b1ab-dd1f8fd81f6e",
   "metadata": {
    "jp-MarkdownHeadingCollapsed": true,
    "tags": []
   },
   "source": [
    "## Introdução"
   ]
  },
  {
   "cell_type": "markdown",
   "id": "445d6f01-c6c5-4e37-a3d4-03e80ee696bd",
   "metadata": {},
   "source": [
    "Neste notebook vamos abordar a floresta aleatória, que é uma espécie de várias árvores de decisões. Como dados iniciais, usaremos a tabela de concessão de crédito. Como já o usamos desde o modelo de Naive Bayes, então ela ficará mais enxuta a fim de focarmos mais na implementação do modelo."
   ]
  },
  {
   "cell_type": "markdown",
   "id": "1e9d5b66-e5b1-4809-a6ba-9daefb64e128",
   "metadata": {
    "jp-MarkdownHeadingCollapsed": true,
    "tags": []
   },
   "source": [
    "## Dados Iniciais"
   ]
  },
  {
   "cell_type": "code",
   "execution_count": 1,
   "id": "a0a3c3d2-112c-4441-a780-35f0b2225b37",
   "metadata": {},
   "outputs": [],
   "source": [
    "# IMPORTAÇÃO DAS BIBLIOTECAS\n",
    "\n",
    "from pandas import read_csv\n",
    "from sklearn.model_selection import train_test_split\n",
    "from sklearn.preprocessing import LabelEncoder\n",
    "from sklearn.metrics import confusion_matrix, accuracy_score\n",
    "\n",
    "# -----------------------------------------------------------------------\n",
    "# LEITURA DOS DADOS\n",
    "\n",
    "credito = read_csv('Credit.csv')\n",
    "\n",
    "previsores = credito.iloc[:,0:20].values\n",
    "classe = credito.iloc[:,20].values\n",
    "\n",
    "#--------------------------------------------------------------------------\n",
    "# TRANSFORMANDO COLUNAS DE STRINGS EM COLUNAS DE NÚMEROS\n",
    "\n",
    "labelencoder = LabelEncoder()\n",
    "previsores[:,0] = labelencoder.fit_transform(previsores[:,0])\n",
    "previsores[:,2] = labelencoder.fit_transform(previsores[:,2])\n",
    "previsores[:, 3] = labelencoder.fit_transform(previsores[:, 3])\n",
    "previsores[:, 5] = labelencoder.fit_transform(previsores[:, 5])\n",
    "previsores[:, 6] = labelencoder.fit_transform(previsores[:, 6])\n",
    "previsores[:, 8] = labelencoder.fit_transform(previsores[:, 8])\n",
    "previsores[:, 9] = labelencoder.fit_transform(previsores[:, 9])\n",
    "previsores[:, 11] = labelencoder.fit_transform(previsores[:, 11])\n",
    "previsores[:, 13] = labelencoder.fit_transform(previsores[:, 13])\n",
    "previsores[:, 14] = labelencoder.fit_transform(previsores[:, 14])\n",
    "previsores[:, 16] = labelencoder.fit_transform(previsores[:, 16])\n",
    "previsores[:, 18] = labelencoder.fit_transform(previsores[:, 18])\n",
    "previsores[:, 19] = labelencoder.fit_transform(previsores[:, 19])\n",
    "\n",
    "#---------------------------------------------------------------------------\n",
    "# PARTICIONAMENTO DOS DADOS\n",
    "\n",
    "X_treinamento, X_teste, y_treinamento, y_teste = train_test_split(previsores,\n",
    "                                                                  classe,\n",
    "                                                                  test_size = 0.3,\n",
    "                                                                  random_state = 0)"
   ]
  },
  {
   "cell_type": "markdown",
   "id": "c1f0b375-65a1-45b3-8a35-cd84c92dfb3c",
   "metadata": {
    "jp-MarkdownHeadingCollapsed": true,
    "tags": []
   },
   "source": [
    "## ```RandomForestClassifier```"
   ]
  },
  {
   "cell_type": "markdown",
   "id": "ec341739-5f07-47d9-9163-1f847e58aa92",
   "metadata": {},
   "source": [
    "Aqui entra o modelo propriamente dito. Para usarmos a floresta aleatória, digitamos"
   ]
  },
  {
   "cell_type": "code",
   "execution_count": 2,
   "id": "fa093831-7f40-44ec-b85c-d4048e4d750d",
   "metadata": {},
   "outputs": [],
   "source": [
    "from sklearn.ensemble import RandomForestClassifier"
   ]
  },
  {
   "cell_type": "markdown",
   "id": "2dcfa202-5c7d-4d18-a9a8-fca6d07fdf5e",
   "metadata": {},
   "source": [
    "Assim, basta criar uma instância da classe ```RandomForestClassifier```. A diferença com os outros modelos é que temos um parâmetro que devemos editar, que é o ```n_estimators```, que representa o número de árvores que o modelo vai criar. Por convenção, vamos criar uma floresta com 100 árvores."
   ]
  },
  {
   "cell_type": "code",
   "execution_count": 3,
   "id": "064d8307-aada-40bf-ae2f-02722eb9caba",
   "metadata": {},
   "outputs": [],
   "source": [
    "floresta = RandomForestClassifier(n_estimators = 100)"
   ]
  },
  {
   "cell_type": "markdown",
   "id": "d178efb6-18fb-47fa-9127-1952f1c6273d",
   "metadata": {},
   "source": [
    "A partir daí as linhas de código são as mesmas do que nos modelos anteriores, pois agora treinamos nossa floresta com o método ```fit``` (que precisa dos parâmetros X de características e y de resultados) e geramos previsões com o método ```predict``` (que precisa só de um parâmetro X de características)."
   ]
  },
  {
   "cell_type": "code",
   "execution_count": 4,
   "id": "ccd08ff5-43d8-460b-a541-b28ca02c5391",
   "metadata": {},
   "outputs": [],
   "source": [
    "floresta.fit(X_treinamento, y_treinamento)\n",
    "\n",
    "previsoes = floresta.predict(X_teste)"
   ]
  },
  {
   "cell_type": "markdown",
   "id": "75cc70ff-e354-4e2d-94a4-f2c17e7a4758",
   "metadata": {},
   "source": [
    "## Precisão do modelo"
   ]
  },
  {
   "cell_type": "markdown",
   "id": "054d8c0e-c3a9-435b-962c-bdccdbc1b943",
   "metadata": {},
   "source": [
    "Procedendo da maneira usual, vamos agora calcular a acurácia do modelo com a matriz de confusão e a taxa de acertos."
   ]
  },
  {
   "cell_type": "code",
   "execution_count": 5,
   "id": "7b899ba3-cb95-4540-a7c3-e66144d70384",
   "metadata": {},
   "outputs": [
    {
     "data": {
      "text/plain": [
       "array([[ 40,  46],\n",
       "       [ 15, 199]])"
      ]
     },
     "execution_count": 5,
     "metadata": {},
     "output_type": "execute_result"
    }
   ],
   "source": [
    "confusao = confusion_matrix(y_teste, previsoes)\n",
    "\n",
    "confusao"
   ]
  },
  {
   "cell_type": "code",
   "execution_count": 6,
   "id": "59bb36b9-cbd3-4d04-a038-05fa8157a1aa",
   "metadata": {},
   "outputs": [
    {
     "data": {
      "text/plain": [
       "0.7966666666666666"
      ]
     },
     "execution_count": 6,
     "metadata": {},
     "output_type": "execute_result"
    }
   ],
   "source": [
    "taxa_acerto = accuracy_score(y_teste, previsoes)\n",
    "taxa_acerto"
   ]
  },
  {
   "cell_type": "code",
   "execution_count": null,
   "id": "2ccbf413-2aed-4fdf-ba64-b94e88e8fef9",
   "metadata": {},
   "outputs": [],
   "source": []
  }
 ],
 "metadata": {
  "kernelspec": {
   "display_name": "Python 3 (ipykernel)",
   "language": "python",
   "name": "python3"
  },
  "language_info": {
   "codemirror_mode": {
    "name": "ipython",
    "version": 3
   },
   "file_extension": ".py",
   "mimetype": "text/x-python",
   "name": "python",
   "nbconvert_exporter": "python",
   "pygments_lexer": "ipython3",
   "version": "3.8.10"
  }
 },
 "nbformat": 4,
 "nbformat_minor": 5
}
