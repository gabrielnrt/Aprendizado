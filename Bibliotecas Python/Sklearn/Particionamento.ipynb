{
 "cells": [
  {
   "cell_type": "markdown",
   "id": "f5d354d2-739b-4e6e-8eb5-70febd705b8d",
   "metadata": {},
   "source": [
    "# Particionamento de dados"
   ]
  },
  {
   "cell_type": "markdown",
   "id": "c32d7c18-a142-4f02-9dd2-f7a652e2d3e4",
   "metadata": {},
   "source": [
    "## Introdução"
   ]
  },
  {
   "cell_type": "markdown",
   "id": "ad15ebf6-3748-430c-a86b-ad5cd04c87d6",
   "metadata": {},
   "source": [
    "Esse notebook é essencialmente sobre a função ```train_test_split```, que pega uma base de dados como entrada e realiza um particionamento entre uma parte que será responsável pelo treinamento da máquina e outro que será usado como teste para estimar a precisão do algoritmo empregado."
   ]
  },
  {
   "cell_type": "code",
   "execution_count": null,
   "id": "b2dbcb7f-0165-4694-9514-064ce3b41c34",
   "metadata": {},
   "outputs": [],
   "source": []
  }
 ],
 "metadata": {
  "kernelspec": {
   "display_name": "Python 3 (ipykernel)",
   "language": "python",
   "name": "python3"
  },
  "language_info": {
   "codemirror_mode": {
    "name": "ipython",
    "version": 3
   },
   "file_extension": ".py",
   "mimetype": "text/x-python",
   "name": "python",
   "nbconvert_exporter": "python",
   "pygments_lexer": "ipython3",
   "version": "3.8.10"
  }
 },
 "nbformat": 4,
 "nbformat_minor": 5
}
