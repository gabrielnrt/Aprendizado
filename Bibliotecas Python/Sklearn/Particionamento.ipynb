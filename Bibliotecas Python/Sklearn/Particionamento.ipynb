{
 "cells": [
  {
   "cell_type": "markdown",
   "id": "f5d354d2-739b-4e6e-8eb5-70febd705b8d",
   "metadata": {},
   "source": [
    "# Particionamento de dados"
   ]
  },
  {
   "cell_type": "markdown",
   "id": "c32d7c18-a142-4f02-9dd2-f7a652e2d3e4",
   "metadata": {
    "jp-MarkdownHeadingCollapsed": true,
    "tags": []
   },
   "source": [
    "## Introdução"
   ]
  },
  {
   "cell_type": "markdown",
   "id": "ad15ebf6-3748-430c-a86b-ad5cd04c87d6",
   "metadata": {},
   "source": [
    "Esse notebook é essencialmente sobre a função ```train_test_split```, que pega uma base de dados como entrada e realiza um particionamento entre uma parte que será responsável pelo treinamento da máquina e outro que será usado como teste para estimar a precisão do algoritmo empregado."
   ]
  },
  {
   "cell_type": "markdown",
   "id": "081f7c58-3553-41d8-ae50-a2c3e0f2d08f",
   "metadata": {
    "jp-MarkdownHeadingCollapsed": true,
    "tags": []
   },
   "source": [
    "## Dados iniciais"
   ]
  },
  {
   "cell_type": "markdown",
   "id": "fc7de142-d15a-49ec-b326-abf8d1d2287f",
   "metadata": {},
   "source": [
    "Aqui vamos primeiramente transformar todas as colunas de strings em colunas numéricas usando o ```LabelEncoder()```. Alem disso, vamos trabalhar com a coluna dos resultados (classe) separadamente."
   ]
  },
  {
   "cell_type": "code",
   "execution_count": 1,
   "id": "6ac9cc0c-8a88-4d9f-a08f-dfe03b3ac4e2",
   "metadata": {},
   "outputs": [],
   "source": [
    "from pandas import read_csv\n",
    "from sklearn.preprocessing import LabelEncoder\n",
    "\n",
    "\n",
    "df = read_csv('Credit.csv')\n",
    "\n",
    "#-----------------------------------------------------------------------------\n",
    "\n",
    "previsores = df.iloc[:,0:20].values\n",
    "classe = df.iloc[:,20].values\n",
    "\n",
    "#-----------------------------------------------------------------------------\n",
    "# Transformando as colunas de strings em colunas numéricas\n",
    "\n",
    "labelencoder1 = LabelEncoder()\n",
    "previsores[:,0] = labelencoder1.fit_transform(previsores[:,0])\n",
    "\n",
    "labelencoder2 = LabelEncoder()\n",
    "previsores[:,2] = labelencoder2.fit_transform(previsores[:,2])\n",
    "\n",
    "labelencoder3 = LabelEncoder()\n",
    "previsores[:, 3] = labelencoder3.fit_transform(previsores[:, 3])\n",
    "\n",
    "labelencoder4 = LabelEncoder()\n",
    "previsores[:, 5] = labelencoder4.fit_transform(previsores[:, 5])\n",
    "\n",
    "labelencoder5 = LabelEncoder()\n",
    "previsores[:, 6] = labelencoder5.fit_transform(previsores[:, 6])\n",
    "\n",
    "labelencoder6 = LabelEncoder()\n",
    "previsores[:, 8] = labelencoder6.fit_transform(previsores[:, 8])\n",
    "\n",
    "labelencoder7 = LabelEncoder()\n",
    "previsores[:, 9] = labelencoder7.fit_transform(previsores[:, 9])\n",
    "\n",
    "labelencoder8 = LabelEncoder()\n",
    "previsores[:, 11] = labelencoder8.fit_transform(previsores[:, 11])\n",
    "\n",
    "labelencoder9 = LabelEncoder()\n",
    "previsores[:, 13] = labelencoder9.fit_transform(previsores[:, 13])\n",
    "\n",
    "labelencoder10 = LabelEncoder()\n",
    "previsores[:, 14] = labelencoder10.fit_transform(previsores[:, 14])\n",
    "\n",
    "labelencoder11 = LabelEncoder()\n",
    "previsores[:, 16] = labelencoder11.fit_transform(previsores[:, 16])\n",
    "\n",
    "labelencoder12 = LabelEncoder()\n",
    "previsores[:, 18] = labelencoder12.fit_transform(previsores[:, 18])\n",
    "\n",
    "labelencoder13 = LabelEncoder()\n",
    "previsores[:, 19] = labelencoder13.fit_transform(previsores[:, 19])\n"
   ]
  },
  {
   "cell_type": "markdown",
   "id": "89b83764-2f6f-4986-91e7-8404f67a98b8",
   "metadata": {},
   "source": [
    "## ```train_test_split```"
   ]
  },
  {
   "cell_type": "markdown",
   "id": "49316de2-fe6b-4422-a61c-1f0bb27434b8",
   "metadata": {},
   "source": [
    "Para invocar essa função, basta digitar"
   ]
  },
  {
   "cell_type": "code",
   "execution_count": 2,
   "id": "adf4e840-c0af-4dc5-95a6-84978eaccf28",
   "metadata": {},
   "outputs": [],
   "source": [
    "from sklearn.model_selection import train_test_split"
   ]
  },
  {
   "cell_type": "markdown",
   "id": "015af659-0c15-4177-99f7-c0211b17340c",
   "metadata": {},
   "source": [
    "Dentre os parâmetros que existem, destacamos\n",
    "\n",
    "* ```*arrays```: são os dados iniciais a serem particionados.\n",
    "* ```test_size```: porcentagem da amostra que servirá como teste.\n",
    "* ```train_size```: porcentagem da amostra que servirá como treino. Obs: se forneço a porcentagem de teste, não é necessário fornecer a de treino, e vice-versa.\n",
    "* ```random_state```: é um inteiro que seria o análogo de ```seed``` do módulo random do numpy. Para fatiar da mesma maneira quando rodamos o código várias vezes, colocamos esse parâmetro com um número. Por padrão, ele está configurado como ```None```.\n",
    "\n",
    "\n",
    "Como saída, essa função nos retorna o ou os dados fatiados na ordem que foram colocados em treino e teste, respectivamente."
   ]
  },
  {
   "cell_type": "code",
   "execution_count": 4,
   "id": "aae451c0-8dbc-4379-a0e3-d834ee57912f",
   "metadata": {},
   "outputs": [
    {
     "data": {
      "text/plain": [
       "array([[2, 36, 3, ..., 1, 1, 1],\n",
       "       [0, 9, 3, ..., 2, 0, 0],\n",
       "       [0, 18, 3, ..., 1, 1, 1],\n",
       "       ...,\n",
       "       [0, 24, 1, ..., 1, 0, 1],\n",
       "       [1, 27, 4, ..., 1, 1, 1],\n",
       "       [1, 12, 3, ..., 1, 0, 1]], dtype=object)"
      ]
     },
     "execution_count": 4,
     "metadata": {},
     "output_type": "execute_result"
    }
   ],
   "source": [
    "X_treinamento, X_teste, y_treinamento, y_teste = train_test_split(previsores, classe,\n",
    "                                                                  test_size = 0.3,\n",
    "                                                                  random_state = 0)\n",
    "X_teste"
   ]
  },
  {
   "cell_type": "code",
   "execution_count": null,
   "id": "afc3604b-bc02-42fc-a044-78a668d28882",
   "metadata": {},
   "outputs": [],
   "source": []
  }
 ],
 "metadata": {
  "kernelspec": {
   "display_name": "Python 3 (ipykernel)",
   "language": "python",
   "name": "python3"
  },
  "language_info": {
   "codemirror_mode": {
    "name": "ipython",
    "version": 3
   },
   "file_extension": ".py",
   "mimetype": "text/x-python",
   "name": "python",
   "nbconvert_exporter": "python",
   "pygments_lexer": "ipython3",
   "version": "3.8.10"
  }
 },
 "nbformat": 4,
 "nbformat_minor": 5
}
