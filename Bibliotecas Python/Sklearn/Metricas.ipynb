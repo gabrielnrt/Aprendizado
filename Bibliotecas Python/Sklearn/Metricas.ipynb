{
 "cells": [
  {
   "cell_type": "markdown",
   "id": "079a68ad-f274-444a-a34f-5a08f4d15bd8",
   "metadata": {},
   "source": [
    "# Métricas"
   ]
  },
  {
   "cell_type": "markdown",
   "id": "b70868b4-0900-410d-934b-0185bedf9798",
   "metadata": {
    "jp-MarkdownHeadingCollapsed": true,
    "tags": []
   },
   "source": [
    "## Introdução"
   ]
  },
  {
   "cell_type": "markdown",
   "id": "ad38d7e6-aba2-4c20-b345-c3c1b55a6723",
   "metadata": {},
   "source": [
    "Este notebook versará sobre métricas que avaliam a acurácia de um algoritmo para um determinado problema. No nosso caso vamos usar os dados de crédito como no notebook de Naive Bayes, Particionamento e Label Encoder. Contudo, vale ressaltar que essas métricas são válidas para qualquer algoritmo em geral."
   ]
  },
  {
   "cell_type": "markdown",
   "id": "4386bca1-922e-4239-8017-095132a8a1a9",
   "metadata": {
    "jp-MarkdownHeadingCollapsed": true,
    "tags": []
   },
   "source": [
    "## Dados Iniciais"
   ]
  },
  {
   "cell_type": "code",
   "execution_count": 1,
   "id": "69561fe9-9b81-4479-b18c-845455675e3c",
   "metadata": {},
   "outputs": [],
   "source": [
    "from pandas import read_csv\n",
    "from sklearn.preprocessing import LabelEncoder\n",
    "from sklearn.model_selection import train_test_split\n",
    "from sklearn.naive_bayes import GaussianNB\n",
    "\n",
    "\n",
    "df = read_csv('Credit.csv')\n",
    "\n",
    "#-----------------------------------------------------------------------------\n",
    "\n",
    "previsores = df.iloc[:,0:20].values\n",
    "classe = df.iloc[:,20].values\n",
    "\n",
    "#-----------------------------------------------------------------------------\n",
    "# Transformando as colunas de strings em colunas numéricas (CODIFICAÇÃO DE CATEGORIAS)\n",
    "\n",
    "labelencoder1 = LabelEncoder()\n",
    "previsores[:,0] = labelencoder1.fit_transform(previsores[:,0])\n",
    "\n",
    "labelencoder2 = LabelEncoder()\n",
    "previsores[:,2] = labelencoder2.fit_transform(previsores[:,2])\n",
    "\n",
    "labelencoder3 = LabelEncoder()\n",
    "previsores[:, 3] = labelencoder3.fit_transform(previsores[:, 3])\n",
    "\n",
    "labelencoder4 = LabelEncoder()\n",
    "previsores[:, 5] = labelencoder4.fit_transform(previsores[:, 5])\n",
    "\n",
    "labelencoder5 = LabelEncoder()\n",
    "previsores[:, 6] = labelencoder5.fit_transform(previsores[:, 6])\n",
    "\n",
    "labelencoder6 = LabelEncoder()\n",
    "previsores[:, 8] = labelencoder6.fit_transform(previsores[:, 8])\n",
    "\n",
    "labelencoder7 = LabelEncoder()\n",
    "previsores[:, 9] = labelencoder7.fit_transform(previsores[:, 9])\n",
    "\n",
    "labelencoder8 = LabelEncoder()\n",
    "previsores[:, 11] = labelencoder8.fit_transform(previsores[:, 11])\n",
    "\n",
    "labelencoder9 = LabelEncoder()\n",
    "previsores[:, 13] = labelencoder9.fit_transform(previsores[:, 13])\n",
    "\n",
    "labelencoder10 = LabelEncoder()\n",
    "previsores[:, 14] = labelencoder10.fit_transform(previsores[:, 14])\n",
    "\n",
    "labelencoder11 = LabelEncoder()\n",
    "previsores[:, 16] = labelencoder11.fit_transform(previsores[:, 16])\n",
    "\n",
    "labelencoder12 = LabelEncoder()\n",
    "previsores[:, 18] = labelencoder12.fit_transform(previsores[:, 18])\n",
    "\n",
    "labelencoder13 = LabelEncoder()\n",
    "previsores[:, 19] = labelencoder13.fit_transform(previsores[:, 19])\n",
    "\n",
    "#--------------------------------------------------------------------------------------------------------------------------\n",
    "# PARTICIONAMENTO\n",
    "\n",
    "X_treinamento, X_teste, y_treinamento, y_teste = train_test_split(previsores, classe, test_size = 0.3, random_state = 0)\n",
    "\n",
    "#-------------------------------------------------------------------------------------------------------------------------\n",
    "# APLICAÇÃO DO ALGORITMO DE NAIVE BAYES\n",
    "\n",
    "naive_bayes = GaussianNB()\n",
    "\n",
    "naive_bayes.fit(X_treinamento, y_treinamento)\n",
    "\n",
    "previsoes = naive_bayes.predict(X_teste)\n"
   ]
  },
  {
   "cell_type": "markdown",
   "id": "02c23f73-09fa-4150-b17f-616147efcd3d",
   "metadata": {
    "jp-MarkdownHeadingCollapsed": true,
    "tags": []
   },
   "source": [
    "## Matriz de Confusão"
   ]
  },
  {
   "cell_type": "markdown",
   "id": "a8c78141-3902-4440-a38d-8039ba32a0dd",
   "metadata": {},
   "source": [
    "A grosso modo, a matriz de confusão mede quantos acertos a máquina teve ao comparar dados fornecidos pela previsão de um modelo com as \"respostas\". As colunas são as classificações das respostas, enquanto que as linhas representam os resultados dados pela previsão. Deste modo, os termos diagonais dessa matriz representam quantos acertos o modelo teve, enquanto que os demais termos são \"falsos diagnósticos\". \n",
    "\n",
    "No nosso exemplo, como só existem os resultados \"bom pagador\" (good) e \"mau pagador\" (bad), então a matriz é do tipo 2x2.\n",
    "\n",
    "Para chamar essa função, basta digitar"
   ]
  },
  {
   "cell_type": "code",
   "execution_count": 2,
   "id": "0deb0253-547a-4717-b5f6-56053fa8e110",
   "metadata": {},
   "outputs": [],
   "source": [
    "from sklearn.metrics import confusion_matrix"
   ]
  },
  {
   "cell_type": "markdown",
   "id": "e89d1e89-4d97-4a6e-b0cb-c8eae5c99c32",
   "metadata": {},
   "source": [
    "Essa função precisa de dois parâmetros:\n",
    "\n",
    "* ```y_true```: dados \"corretos\" que servem para serem comparados;\n",
    "* ```y_pred```: dados fornecidos pelo modelo em qustão;\n",
    "\n",
    "e retorna a matriz de confusão."
   ]
  },
  {
   "cell_type": "code",
   "execution_count": 3,
   "id": "fd80a016-7be5-4313-bc83-c4823f0be59d",
   "metadata": {},
   "outputs": [
    {
     "data": {
      "text/plain": [
       "array([[ 41,  45],\n",
       "       [ 42, 172]])"
      ]
     },
     "execution_count": 3,
     "metadata": {},
     "output_type": "execute_result"
    }
   ],
   "source": [
    "confusao = confusion_matrix(y_teste, previsoes)\n",
    "\n",
    "confusao"
   ]
  },
  {
   "cell_type": "markdown",
   "id": "95892ea7-ee97-4c82-b08b-f9a645aebf97",
   "metadata": {},
   "source": [
    "Obs: A matriz que essa função retorna usa a convenção onde as linhas são os resultados \"corretos\" e as colunas são os resultados gerados pelo modelo."
   ]
  },
  {
   "cell_type": "markdown",
   "id": "2b31d937-3d80-4484-91c2-39c0eca052ce",
   "metadata": {
    "jp-MarkdownHeadingCollapsed": true,
    "tags": []
   },
   "source": [
    "## ```accuracy_score```"
   ]
  },
  {
   "cell_type": "markdown",
   "id": "6dd89d6d-3071-492b-811f-83f85c5f9249",
   "metadata": {},
   "source": [
    "A função ```accuracy_score``` fornece a porcentagem de acertos do modelo. Os parâmetros que precisamos são os mesmos que os da função ```confusion_matrix```:\n",
    "\n",
    "* ```y_true```: dados \"corretos\" que servem para serem comparados;\n",
    "* ```y_pred```: dados fornecidos pelo modelo em qustão.\n",
    "\n",
    "Para chamá-la, basta digitar"
   ]
  },
  {
   "cell_type": "code",
   "execution_count": 4,
   "id": "72530756-9f76-415c-b3ee-20cfe7bcebab",
   "metadata": {},
   "outputs": [],
   "source": [
    "from sklearn.metrics import accuracy_score"
   ]
  },
  {
   "cell_type": "markdown",
   "id": "7affeeb4-2b07-44ee-aed9-a465089ba1fc",
   "metadata": {},
   "source": [
    "Daí,"
   ]
  },
  {
   "cell_type": "code",
   "execution_count": 5,
   "id": "beafc117-21db-416f-9f13-a956d03de359",
   "metadata": {},
   "outputs": [
    {
     "data": {
      "text/plain": [
       "0.71"
      ]
     },
     "execution_count": 5,
     "metadata": {},
     "output_type": "execute_result"
    }
   ],
   "source": [
    "taxa_acerto = accuracy_score(y_teste, previsoes)\n",
    "\n",
    "taxa_acerto"
   ]
  },
  {
   "cell_type": "code",
   "execution_count": null,
   "id": "171568e2-8b7a-406e-a476-43893dee5bc7",
   "metadata": {},
   "outputs": [],
   "source": []
  }
 ],
 "metadata": {
  "kernelspec": {
   "display_name": "Python 3 (ipykernel)",
   "language": "python",
   "name": "python3"
  },
  "language_info": {
   "codemirror_mode": {
    "name": "ipython",
    "version": 3
   },
   "file_extension": ".py",
   "mimetype": "text/x-python",
   "name": "python",
   "nbconvert_exporter": "python",
   "pygments_lexer": "ipython3",
   "version": "3.8.10"
  }
 },
 "nbformat": 4,
 "nbformat_minor": 5
}
