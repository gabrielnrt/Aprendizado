{
 "cells": [
  {
   "cell_type": "markdown",
   "id": "211da25c-bc1f-46e0-a1cf-a9a998e5f155",
   "metadata": {},
   "source": [
    "# **`MinMaxScaler()`**"
   ]
  },
  {
   "cell_type": "markdown",
   "id": "06f5e771-66c7-405a-ba22-4ff1ebac2992",
   "metadata": {},
   "source": [
    "## **Introdução**"
   ]
  },
  {
   "cell_type": "markdown",
   "id": "10c06caa-ee02-4dda-bb02-f1e3fa96b7be",
   "metadata": {},
   "source": [
    "Neste notebook veremos como alterar a escala de uma amostra usando a classe `MinMaxScaler()` do `sklearn.preprocessing`. Ela é importada da seguinte maneira:"
   ]
  },
  {
   "cell_type": "code",
   "execution_count": 1,
   "id": "4efcd4c1-a2e5-4ef9-8def-9db6e490b72d",
   "metadata": {},
   "outputs": [],
   "source": [
    "from sklearn.preprocessing import MinMaxScaler"
   ]
  },
  {
   "cell_type": "markdown",
   "id": "73076fdb-a1cc-4155-94e2-55f057a4d367",
   "metadata": {},
   "source": [
    "Sua documentação pode ser econtrada [neste link](https://scikit-learn.org/stable/modules/generated/sklearn.preprocessing.MinMaxScaler.html). Aqui focaremos mais no método `fit_transform()`. que padroniza os elementos da amostra no intervalo [0-1].\n",
    "\n",
    "Essa padronização se dá pela seguinte fórmula:\n",
    "\n",
    "$$\n",
    "x_{padronizado} = \\frac{x - x_{min} }{x_{max}-x_{min}}\n",
    "$$\n",
    "\n",
    "Sempre é válido perguntar por que alteramos a escala de nossas amostras. Ocorre que colunas com escalas diferentes não contribuem igualmente para a aprendizagem do modelo. Deste modo, o `MinMaxScaler()` se mostra adequado para colunas de DataFrames com valores muito altos ou muito baixos com relação às outras colunas."
   ]
  },
  {
   "cell_type": "code",
   "execution_count": 5,
   "id": "504454b9-2fc9-40a7-824b-2a0b817a5fe3",
   "metadata": {},
   "outputs": [
    {
     "data": {
      "text/plain": [
       "[[-1, 2], [-0.5, 6], [0, 10], [1, 18]]"
      ]
     },
     "execution_count": 5,
     "metadata": {},
     "output_type": "execute_result"
    }
   ],
   "source": [
    "data = [[-1, 2], [-0.5, 6], [0, 10], [1, 18]]\n",
    "\n",
    "data"
   ]
  },
  {
   "cell_type": "markdown",
   "id": "6e625672-a2d0-4d55-8c0a-a3c4b3d5a790",
   "metadata": {},
   "source": [
    "Aqui o interpretador entende que temos duas colunas, onde a primeira é formada pelos elementos (-1,-0.5,0,1), e a segunda é (2,6,10,18). Podemos verificar isso tanto com o método `fit_transform()`, quanto pelo atributo `data_min_`, que retorna um array com o mínimo de cada coluna."
   ]
  },
  {
   "cell_type": "code",
   "execution_count": 7,
   "id": "4dc6ca29-a870-41f3-83fb-d606d613a022",
   "metadata": {},
   "outputs": [
    {
     "data": {
      "text/plain": [
       "array([[0.  , 0.  ],\n",
       "       [0.25, 0.25],\n",
       "       [0.5 , 0.5 ],\n",
       "       [1.  , 1.  ]])"
      ]
     },
     "execution_count": 7,
     "metadata": {},
     "output_type": "execute_result"
    }
   ],
   "source": [
    "scaler = MinMaxScaler()\n",
    "\n",
    "scaler.fit_transform(data)"
   ]
  },
  {
   "cell_type": "markdown",
   "id": "9d8e255f-17d2-4692-81d5-7616b6d3ede9",
   "metadata": {},
   "source": [
    "Vendo pelo `data_min_`:"
   ]
  },
  {
   "cell_type": "code",
   "execution_count": 8,
   "id": "81adb57d-975c-49e1-bd81-b8c3bdb44b1c",
   "metadata": {},
   "outputs": [
    {
     "data": {
      "text/plain": [
       "array([-1.,  2.])"
      ]
     },
     "execution_count": 8,
     "metadata": {},
     "output_type": "execute_result"
    }
   ],
   "source": [
    "scaler.data_min_"
   ]
  },
  {
   "cell_type": "code",
   "execution_count": null,
   "id": "1a851971-9f85-4406-a2d5-4d3c9af5af5d",
   "metadata": {},
   "outputs": [],
   "source": []
  }
 ],
 "metadata": {
  "kernelspec": {
   "display_name": "Python 3 (ipykernel)",
   "language": "python",
   "name": "python3"
  },
  "language_info": {
   "codemirror_mode": {
    "name": "ipython",
    "version": 3
   },
   "file_extension": ".py",
   "mimetype": "text/x-python",
   "name": "python",
   "nbconvert_exporter": "python",
   "pygments_lexer": "ipython3",
   "version": "3.8.10"
  }
 },
 "nbformat": 4,
 "nbformat_minor": 5
}
