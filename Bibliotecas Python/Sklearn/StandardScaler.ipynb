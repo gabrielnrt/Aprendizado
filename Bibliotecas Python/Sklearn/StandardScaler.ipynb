{
 "cells": [
  {
   "cell_type": "markdown",
   "id": "0e15c1d7-d285-48e8-8ff7-03efdfb8a2b7",
   "metadata": {},
   "source": [
    "# Standard Scaler"
   ]
  },
  {
   "cell_type": "markdown",
   "id": "a64629b0-d673-4434-932c-17c1ca686d06",
   "metadata": {
    "jp-MarkdownHeadingCollapsed": true,
    "tags": []
   },
   "source": [
    "## Introdução"
   ]
  },
  {
   "cell_type": "markdown",
   "id": "f9b48bd5-ddf2-4463-9c70-02e2ac96720b",
   "metadata": {},
   "source": [
    "Neste notebook veremos como normalizar dados usando o ```StandardScaler```. Ele basicamente pega os dados e os padroniza segundo a relação\n",
    "\n",
    "<center> $\\Large X_p = \\frac{x - \\mu}{\\sigma}$ , </center>\n",
    "\n",
    "usada na distribuição normal, em que $\\mu$ é a média da amostra e $\\sigma$ é o desvio padrão."
   ]
  },
  {
   "cell_type": "markdown",
   "id": "d2dd2840-bf50-4526-9fa9-7645fab6b0c0",
   "metadata": {
    "tags": []
   },
   "source": [
    "## Dados Iniciais"
   ]
  },
  {
   "cell_type": "markdown",
   "id": "54d4e6dd-a324-4753-bd8c-70c6b524c688",
   "metadata": {},
   "source": [
    "Vamos criar um ```DataFrame``` para ilustrarmos a padronização."
   ]
  },
  {
   "cell_type": "code",
   "execution_count": 1,
   "id": "3f6b1e01-aee8-49ab-9ca8-9de47af2a93f",
   "metadata": {},
   "outputs": [
    {
     "data": {
      "text/html": [
       "<div>\n",
       "<style scoped>\n",
       "    .dataframe tbody tr th:only-of-type {\n",
       "        vertical-align: middle;\n",
       "    }\n",
       "\n",
       "    .dataframe tbody tr th {\n",
       "        vertical-align: top;\n",
       "    }\n",
       "\n",
       "    .dataframe thead th {\n",
       "        text-align: right;\n",
       "    }\n",
       "</style>\n",
       "<table border=\"1\" class=\"dataframe\">\n",
       "  <thead>\n",
       "    <tr style=\"text-align: right;\">\n",
       "      <th></th>\n",
       "      <th>Notas da Prova</th>\n",
       "    </tr>\n",
       "  </thead>\n",
       "  <tbody>\n",
       "    <tr>\n",
       "      <th>0</th>\n",
       "      <td>1.0</td>\n",
       "    </tr>\n",
       "    <tr>\n",
       "      <th>1</th>\n",
       "      <td>0.0</td>\n",
       "    </tr>\n",
       "    <tr>\n",
       "      <th>2</th>\n",
       "      <td>0.0</td>\n",
       "    </tr>\n",
       "    <tr>\n",
       "      <th>3</th>\n",
       "      <td>5.0</td>\n",
       "    </tr>\n",
       "    <tr>\n",
       "      <th>4</th>\n",
       "      <td>4.6</td>\n",
       "    </tr>\n",
       "    <tr>\n",
       "      <th>5</th>\n",
       "      <td>2.5</td>\n",
       "    </tr>\n",
       "    <tr>\n",
       "      <th>6</th>\n",
       "      <td>9.0</td>\n",
       "    </tr>\n",
       "    <tr>\n",
       "      <th>7</th>\n",
       "      <td>6.5</td>\n",
       "    </tr>\n",
       "    <tr>\n",
       "      <th>8</th>\n",
       "      <td>8.7</td>\n",
       "    </tr>\n",
       "    <tr>\n",
       "      <th>9</th>\n",
       "      <td>3.8</td>\n",
       "    </tr>\n",
       "    <tr>\n",
       "      <th>10</th>\n",
       "      <td>0.5</td>\n",
       "    </tr>\n",
       "    <tr>\n",
       "      <th>11</th>\n",
       "      <td>7.2</td>\n",
       "    </tr>\n",
       "    <tr>\n",
       "      <th>12</th>\n",
       "      <td>10.0</td>\n",
       "    </tr>\n",
       "    <tr>\n",
       "      <th>13</th>\n",
       "      <td>8.5</td>\n",
       "    </tr>\n",
       "  </tbody>\n",
       "</table>\n",
       "</div>"
      ],
      "text/plain": [
       "    Notas da Prova\n",
       "0              1.0\n",
       "1              0.0\n",
       "2              0.0\n",
       "3              5.0\n",
       "4              4.6\n",
       "5              2.5\n",
       "6              9.0\n",
       "7              6.5\n",
       "8              8.7\n",
       "9              3.8\n",
       "10             0.5\n",
       "11             7.2\n",
       "12            10.0\n",
       "13             8.5"
      ]
     },
     "execution_count": 1,
     "metadata": {},
     "output_type": "execute_result"
    }
   ],
   "source": [
    "from pandas import DataFrame\n",
    "\n",
    "lista = [1,0,0,5,4.6,2.5,9,6.5,8.7,3.8,0.5,7.2,10,8.5]\n",
    "\n",
    "dicionario = {'Notas da Prova': lista}\n",
    "\n",
    "df = DataFrame(data = dicionario)\n",
    "\n",
    "df"
   ]
  },
  {
   "cell_type": "markdown",
   "id": "0e8549c4-d0c2-4574-930c-ab5f7b670ce3",
   "metadata": {},
   "source": [
    "## ```StandardScaler()```"
   ]
  },
  {
   "cell_type": "markdown",
   "id": "222c8a99-f791-4c45-8a67-9976abe2e82b",
   "metadata": {},
   "source": [
    "Para usarmos a classe ```StandardScaler```, devemos importá-la do ```sklearn.preprocessing``` "
   ]
  },
  {
   "cell_type": "code",
   "execution_count": 2,
   "id": "28d5f4ce-896e-4bc8-9fe0-7530210337ea",
   "metadata": {},
   "outputs": [],
   "source": [
    "from sklearn.preprocessing import StandardScaler"
   ]
  },
  {
   "cell_type": "markdown",
   "id": "f75adff8-2c2f-4c67-933f-330c05bcbe55",
   "metadata": {},
   "source": [
    "Assim, criamos uma instância fazendo"
   ]
  },
  {
   "cell_type": "code",
   "execution_count": 5,
   "id": "e388f706-e6f4-46d1-b67f-8b21ba8f3706",
   "metadata": {},
   "outputs": [],
   "source": [
    "instancia = StandardScaler()"
   ]
  },
  {
   "cell_type": "markdown",
   "id": "8ad5086a-9d01-4bff-891e-38b51d782eef",
   "metadata": {},
   "source": [
    "Para realizar a padronização propriamente dita, usamos o método ```fit_transform```, colocando na entrada os dados a serem padronizados. Podemos retornar na propria variável ou criar uma outra."
   ]
  },
  {
   "cell_type": "code",
   "execution_count": 6,
   "id": "f102bd04-2545-477e-91cf-83d7ea487806",
   "metadata": {},
   "outputs": [
    {
     "data": {
      "text/plain": [
       "array([[-1.1003077 ],\n",
       "       [-1.38931911],\n",
       "       [-1.38931911],\n",
       "       [ 0.05573791],\n",
       "       [-0.05986665],\n",
       "       [-0.6667906 ],\n",
       "       [ 1.21178353],\n",
       "       [ 0.48925502],\n",
       "       [ 1.12508011],\n",
       "       [-0.29107577],\n",
       "       [-1.24481341],\n",
       "       [ 0.691563  ],\n",
       "       [ 1.50079494],\n",
       "       [ 1.06727783]])"
      ]
     },
     "execution_count": 6,
     "metadata": {},
     "output_type": "execute_result"
    }
   ],
   "source": [
    "x = instancia.fit_transform(df)\n",
    "\n",
    "x"
   ]
  },
  {
   "cell_type": "code",
   "execution_count": 7,
   "id": "c185b81b-5fb6-4e13-9ae2-cb1e14097337",
   "metadata": {},
   "outputs": [
    {
     "data": {
      "text/plain": [
       "array([[-1.1003077 ],\n",
       "       [-1.38931911],\n",
       "       [-1.38931911],\n",
       "       [ 0.05573791],\n",
       "       [-0.05986665],\n",
       "       [-0.6667906 ],\n",
       "       [ 1.21178353],\n",
       "       [ 0.48925502],\n",
       "       [ 1.12508011],\n",
       "       [-0.29107577],\n",
       "       [-1.24481341],\n",
       "       [ 0.691563  ],\n",
       "       [ 1.50079494],\n",
       "       [ 1.06727783]])"
      ]
     },
     "execution_count": 7,
     "metadata": {},
     "output_type": "execute_result"
    }
   ],
   "source": [
    "df = instancia.fit_transform(df)\n",
    "\n",
    "df"
   ]
  },
  {
   "cell_type": "code",
   "execution_count": null,
   "id": "d65b0aa3-3970-443d-9c3d-d334e1c9c865",
   "metadata": {},
   "outputs": [],
   "source": []
  }
 ],
 "metadata": {
  "kernelspec": {
   "display_name": "Python 3 (ipykernel)",
   "language": "python",
   "name": "python3"
  },
  "language_info": {
   "codemirror_mode": {
    "name": "ipython",
    "version": 3
   },
   "file_extension": ".py",
   "mimetype": "text/x-python",
   "name": "python",
   "nbconvert_exporter": "python",
   "pygments_lexer": "ipython3",
   "version": "3.8.10"
  }
 },
 "nbformat": 4,
 "nbformat_minor": 5
}
