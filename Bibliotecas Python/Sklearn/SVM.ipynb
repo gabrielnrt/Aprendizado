{
 "cells": [
  {
   "cell_type": "markdown",
   "id": "5800d4b9-f0c5-4cc0-ae82-cb8aca196f4c",
   "metadata": {},
   "source": [
    "# SVM (Support Vector Machine)"
   ]
  },
  {
   "cell_type": "markdown",
   "id": "b5208d1c-38f6-4c94-9a66-cf9e5e623c97",
   "metadata": {},
   "source": [
    "## Introdução"
   ]
  },
  {
   "cell_type": "markdown",
   "id": "abe32dda-c1ee-43ae-a502-0b2c4c6027c6",
   "metadata": {},
   "source": [
    "O modelo de vetor de suporte é um algoritmo que realiza classificação de um conjunto de dados. O objetivo dele é pegar o conjunto de dados da entrada e estabelecer \"fronteiras\" que delimitem cada tipo de categoria.\n",
    "\n",
    "Como a base de dados será a mesma de crédito, então vamos colocar a importação das bibliotecas, particionamento e codificação de categorias de maneira mais enxuta."
   ]
  },
  {
   "cell_type": "markdown",
   "id": "9f543fbf-383d-4233-8ebc-1176beaf0bf5",
   "metadata": {},
   "source": [
    "## Dados Iniciais"
   ]
  },
  {
   "cell_type": "code",
   "execution_count": 1,
   "id": "f90211b3-7c17-496d-bdce-c52d46ee042c",
   "metadata": {},
   "outputs": [],
   "source": [
    "from pandas import read_csv\n",
    "from sklearn.model_selection import train_test_split\n",
    "from sklearn.preprocessing import LabelEncoder\n",
    "from sklearn.metrics import confusion_matrix, accuracy_score\n",
    "\n",
    "credito = read_csv('Credit.csv')\n",
    "\n",
    "\n",
    "previsores = credito.iloc[:,0:20].values\n",
    "classe = credito.iloc[:,20].values\n",
    "\n",
    "\n",
    "labelencoder = LabelEncoder()\n",
    "previsores[:,0] = labelencoder.fit_transform(previsores[:,0])\n",
    "previsores[:,2] = labelencoder.fit_transform(previsores[:,2])\n",
    "previsores[:, 3] = labelencoder.fit_transform(previsores[:, 3])\n",
    "previsores[:, 5] = labelencoder.fit_transform(previsores[:, 5])\n",
    "previsores[:, 6] = labelencoder.fit_transform(previsores[:, 6])\n",
    "previsores[:, 8] = labelencoder.fit_transform(previsores[:, 8])\n",
    "previsores[:, 9] = labelencoder.fit_transform(previsores[:, 9])\n",
    "previsores[:, 11] = labelencoder.fit_transform(previsores[:, 11])\n",
    "previsores[:, 13] = labelencoder.fit_transform(previsores[:, 13])\n",
    "previsores[:, 14] = labelencoder.fit_transform(previsores[:, 14])\n",
    "previsores[:, 16] = labelencoder.fit_transform(previsores[:, 16])\n",
    "previsores[:, 18] = labelencoder.fit_transform(previsores[:, 18])\n",
    "previsores[:, 19] = labelencoder.fit_transform(previsores[:, 19])\n",
    "\n",
    "X_treinamento, X_teste, y_treinamento, y_teste = train_test_split(previsores,\n",
    "                                                                  classe,\n",
    "                                                                  test_size = 0.3,\n",
    "                                                                  random_state = 1)"
   ]
  },
  {
   "cell_type": "markdown",
   "id": "abb9024b-703d-45cf-9954-abe6ff5d8351",
   "metadata": {
    "jp-MarkdownHeadingCollapsed": true,
    "tags": []
   },
   "source": [
    "## ```SVC```"
   ]
  },
  {
   "cell_type": "markdown",
   "id": "5f50a60e-bf2e-432b-bf88-f26d1f8a4e72",
   "metadata": {},
   "source": [
    "Para usar esse modelo, devemos digitar"
   ]
  },
  {
   "cell_type": "code",
   "execution_count": 2,
   "id": "92b133a6-95a2-4d59-8b5c-a27395d59ef2",
   "metadata": {},
   "outputs": [],
   "source": [
    "from sklearn.svm import SVC"
   ]
  },
  {
   "cell_type": "markdown",
   "id": "ca1ad868-b6c8-444f-8e75-91adb4fc97e9",
   "metadata": {},
   "source": [
    "Assim, para criar uma instância dessa classe, fazemos"
   ]
  },
  {
   "cell_type": "code",
   "execution_count": 3,
   "id": "134b010f-ba27-4fc2-aac3-4184e39e01b4",
   "metadata": {},
   "outputs": [],
   "source": [
    "svm = SVC()"
   ]
  },
  {
   "cell_type": "markdown",
   "id": "0fffbc2f-110a-4396-b016-7fba6fd90180",
   "metadata": {},
   "source": [
    "Aqui vamos destacar os seguintes métodos:\n",
    "\n",
    "* ```fit```: realiza o treinamento dados X (instâncias) e y (classes);\n",
    "* ```predict```: realiza a previsão dado um conjunto X, que nem nos outros modelos vistos anteriormente."
   ]
  },
  {
   "cell_type": "code",
   "execution_count": 4,
   "id": "f01de7e1-342d-44bc-be6c-ce856868fe64",
   "metadata": {},
   "outputs": [
    {
     "data": {
      "text/plain": [
       "array(['good', 'bad', 'good', 'good', 'good', 'good', 'good', 'good',\n",
       "       'good', 'good', 'good', 'good', 'good', 'good', 'good', 'good',\n",
       "       'good', 'good', 'good', 'good', 'good', 'good', 'good', 'good',\n",
       "       'good', 'good', 'good', 'good', 'good', 'bad', 'good', 'good',\n",
       "       'bad', 'good', 'good', 'bad', 'good', 'good', 'good', 'good',\n",
       "       'good', 'good', 'good', 'good', 'good', 'good', 'good', 'good',\n",
       "       'good', 'good', 'good', 'good', 'good', 'good', 'good', 'good',\n",
       "       'good', 'good', 'good', 'good', 'good', 'good', 'bad', 'good',\n",
       "       'good', 'good', 'good', 'good', 'good', 'good', 'good', 'good',\n",
       "       'good', 'good', 'good', 'good', 'good', 'good', 'good', 'good',\n",
       "       'good', 'good', 'good', 'good', 'good', 'good', 'good', 'good',\n",
       "       'good', 'good', 'good', 'good', 'good', 'good', 'good', 'good',\n",
       "       'good', 'good', 'good', 'good', 'good', 'good', 'good', 'good',\n",
       "       'good', 'good', 'good', 'good', 'bad', 'good', 'good', 'good',\n",
       "       'good', 'good', 'good', 'good', 'good', 'good', 'good', 'good',\n",
       "       'good', 'good', 'good', 'good', 'good', 'good', 'good', 'good',\n",
       "       'good', 'good', 'good', 'good', 'good', 'good', 'good', 'good',\n",
       "       'good', 'good', 'good', 'good', 'good', 'good', 'good', 'good',\n",
       "       'good', 'good', 'good', 'good', 'good', 'good', 'good', 'good',\n",
       "       'good', 'good', 'good', 'good', 'good', 'good', 'good', 'good',\n",
       "       'good', 'good', 'good', 'good', 'bad', 'good', 'good', 'good',\n",
       "       'good', 'good', 'good', 'good', 'good', 'good', 'good', 'good',\n",
       "       'good', 'good', 'good', 'good', 'good', 'good', 'good', 'good',\n",
       "       'good', 'good', 'good', 'good', 'good', 'good', 'good', 'good',\n",
       "       'good', 'good', 'good', 'good', 'good', 'good', 'good', 'good',\n",
       "       'good', 'good', 'good', 'good', 'good', 'good', 'good', 'good',\n",
       "       'good', 'good', 'good', 'good', 'good', 'good', 'good', 'good',\n",
       "       'good', 'good', 'good', 'good', 'good', 'good', 'good', 'good',\n",
       "       'good', 'good', 'good', 'good', 'good', 'good', 'good', 'good',\n",
       "       'good', 'good', 'good', 'good', 'good', 'good', 'good', 'good',\n",
       "       'good', 'good', 'good', 'good', 'good', 'good', 'good', 'good',\n",
       "       'good', 'good', 'good', 'good', 'good', 'good', 'good', 'good',\n",
       "       'good', 'good', 'good', 'good', 'good', 'good', 'good', 'good',\n",
       "       'good', 'good', 'good', 'good', 'good', 'good', 'good', 'good',\n",
       "       'good', 'good', 'good', 'good', 'good', 'good', 'good', 'good',\n",
       "       'good', 'good', 'good', 'good', 'good', 'good', 'good', 'good',\n",
       "       'good', 'good', 'good', 'good', 'good', 'good', 'good', 'good',\n",
       "       'good', 'good', 'good', 'good'], dtype=object)"
      ]
     },
     "execution_count": 4,
     "metadata": {},
     "output_type": "execute_result"
    }
   ],
   "source": [
    "svm.fit(X_treinamento, y_treinamento)\n",
    "\n",
    "previsoes = svm.predict(X_teste)\n",
    "previsoes"
   ]
  },
  {
   "cell_type": "markdown",
   "id": "74ae4e96-9ed5-4f6c-9de1-a381a54b4bce",
   "metadata": {
    "jp-MarkdownHeadingCollapsed": true,
    "tags": []
   },
   "source": [
    "## Precisão"
   ]
  },
  {
   "cell_type": "markdown",
   "id": "9f50b853-480c-48c2-9014-1bea9d4abc4f",
   "metadata": {},
   "source": [
    "Para medirmos a precisão, tomamos o procedimento usual"
   ]
  },
  {
   "cell_type": "code",
   "execution_count": 6,
   "id": "5aa575a1-42b3-4f59-b953-b879fd95b638",
   "metadata": {},
   "outputs": [
    {
     "data": {
      "text/plain": [
       "0.7166666666666667"
      ]
     },
     "execution_count": 6,
     "metadata": {},
     "output_type": "execute_result"
    }
   ],
   "source": [
    "taxa_acerto = accuracy_score(y_teste, previsoes)\n",
    "\n",
    "taxa_acerto"
   ]
  },
  {
   "cell_type": "markdown",
   "id": "e89b7fb2-f618-41bd-bcd9-6f852168a555",
   "metadata": {},
   "source": [
    "## Extra: Extraindo os dados mais relevantes"
   ]
  },
  {
   "cell_type": "markdown",
   "id": "c7af68dc-6660-4b0d-bd96-66c0bc250198",
   "metadata": {},
   "source": [
    "Podemos aumentar a precisão do algoritmo usando a classe ```ExtraTreesClassifier```. Em particular, usamos o atributo ```feature_importances_``` para fazer essa filtragem."
   ]
  },
  {
   "cell_type": "code",
   "execution_count": 8,
   "id": "183c7788-215a-4c0d-9d2f-a8a6bf2e7e78",
   "metadata": {},
   "outputs": [
    {
     "data": {
      "text/plain": [
       "array([0.10066641, 0.07941789, 0.06865341, 0.05984583, 0.08161918,\n",
       "       0.05235527, 0.05117501, 0.05451698, 0.04468995, 0.02901965,\n",
       "       0.05316872, 0.04605822, 0.06897761, 0.04131652, 0.03534166,\n",
       "       0.03360195, 0.03870272, 0.02269821, 0.03160225, 0.00657256])"
      ]
     },
     "execution_count": 8,
     "metadata": {},
     "output_type": "execute_result"
    }
   ],
   "source": [
    "from sklearn.ensemble import ExtraTreesClassifier\n",
    "\n",
    "forest = ExtraTreesClassifier()\n",
    "forest.fit(X_treinamento, y_treinamento)\n",
    "importancias = forest.feature_importances_\n",
    "importancias"
   ]
  },
  {
   "cell_type": "markdown",
   "id": "6933969b-a07b-45c0-bbef-12e07e396604",
   "metadata": {},
   "source": [
    "Cada número desse array representa a importância de sua coluna. Por exemplo, a relevância da primeira coluna é 0,10066641 e assim por diante. Como podemos ver, apenas as quantro primeiras colunas são relevantes. Por esse motivo, definiremos um novo dataframe contendo apenas essas colunas e testar o modelo."
   ]
  },
  {
   "cell_type": "code",
   "execution_count": 9,
   "id": "479f089e-2121-4810-8acc-69d12b9e05d2",
   "metadata": {},
   "outputs": [
    {
     "data": {
      "text/plain": [
       "0.7233333333333334"
      ]
     },
     "execution_count": 9,
     "metadata": {},
     "output_type": "execute_result"
    }
   ],
   "source": [
    "X_treinamento2 = X_treinamento[:,[0,1,2,3]]\n",
    "X_teste2 = X_teste[:,[0,1,2,3]]\n",
    "\n",
    "svm2 = SVC()\n",
    "svm2.fit(X_treinamento2, y_treinamento)\n",
    "previsoes2 = svm2.predict(X_teste2)\n",
    "taxa_acerto = accuracy_score(y_teste, previsoes2)\n",
    "taxa_acerto"
   ]
  }
 ],
 "metadata": {
  "kernelspec": {
   "display_name": "Python 3 (ipykernel)",
   "language": "python",
   "name": "python3"
  },
  "language_info": {
   "codemirror_mode": {
    "name": "ipython",
    "version": 3
   },
   "file_extension": ".py",
   "mimetype": "text/x-python",
   "name": "python",
   "nbconvert_exporter": "python",
   "pygments_lexer": "ipython3",
   "version": "3.8.10"
  }
 },
 "nbformat": 4,
 "nbformat_minor": 5
}
