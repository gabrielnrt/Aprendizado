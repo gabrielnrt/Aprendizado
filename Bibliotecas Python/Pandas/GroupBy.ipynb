{
 "cells": [
  {
   "cell_type": "markdown",
   "id": "bdc400f2-5548-4d7f-8e15-0d552c28aa55",
   "metadata": {},
   "source": [
    "# **`groupby()`**"
   ]
  },
  {
   "cell_type": "markdown",
   "id": "ecaa1bc4-e4ef-42ad-8455-6b822dee5624",
   "metadata": {},
   "source": [
    "## **INTRODUÇÃO**"
   ]
  },
  {
   "cell_type": "markdown",
   "id": "823d9bed-382b-430a-b251-92c023192b4c",
   "metadata": {},
   "source": [
    "Neste notebook iremos discorrer sobre o objeto `GroupBy` do pandas, que aparece quando, por exemplo, usamos o método `groupby()` de um DataFrame.\n",
    "\n",
    "Para tal, vamos usar o conjunto de dados das pétalas Iris."
   ]
  },
  {
   "cell_type": "code",
   "execution_count": 1,
   "id": "aa968c58-5b3e-4c85-9c66-0032cf276070",
   "metadata": {},
   "outputs": [
    {
     "data": {
      "text/html": [
       "<div>\n",
       "<style scoped>\n",
       "    .dataframe tbody tr th:only-of-type {\n",
       "        vertical-align: middle;\n",
       "    }\n",
       "\n",
       "    .dataframe tbody tr th {\n",
       "        vertical-align: top;\n",
       "    }\n",
       "\n",
       "    .dataframe thead th {\n",
       "        text-align: right;\n",
       "    }\n",
       "</style>\n",
       "<table border=\"1\" class=\"dataframe\">\n",
       "  <thead>\n",
       "    <tr style=\"text-align: right;\">\n",
       "      <th></th>\n",
       "      <th>sepal_length</th>\n",
       "      <th>sepal_width</th>\n",
       "      <th>petal_length</th>\n",
       "      <th>petal_width</th>\n",
       "      <th>species</th>\n",
       "    </tr>\n",
       "  </thead>\n",
       "  <tbody>\n",
       "    <tr>\n",
       "      <th>36</th>\n",
       "      <td>5.5</td>\n",
       "      <td>3.5</td>\n",
       "      <td>1.3</td>\n",
       "      <td>0.2</td>\n",
       "      <td>setosa</td>\n",
       "    </tr>\n",
       "    <tr>\n",
       "      <th>66</th>\n",
       "      <td>5.6</td>\n",
       "      <td>3.0</td>\n",
       "      <td>4.5</td>\n",
       "      <td>1.5</td>\n",
       "      <td>versicolor</td>\n",
       "    </tr>\n",
       "    <tr>\n",
       "      <th>24</th>\n",
       "      <td>4.8</td>\n",
       "      <td>3.4</td>\n",
       "      <td>1.9</td>\n",
       "      <td>0.2</td>\n",
       "      <td>setosa</td>\n",
       "    </tr>\n",
       "    <tr>\n",
       "      <th>123</th>\n",
       "      <td>6.3</td>\n",
       "      <td>2.7</td>\n",
       "      <td>4.9</td>\n",
       "      <td>1.8</td>\n",
       "      <td>virginica</td>\n",
       "    </tr>\n",
       "    <tr>\n",
       "      <th>86</th>\n",
       "      <td>6.7</td>\n",
       "      <td>3.1</td>\n",
       "      <td>4.7</td>\n",
       "      <td>1.5</td>\n",
       "      <td>versicolor</td>\n",
       "    </tr>\n",
       "  </tbody>\n",
       "</table>\n",
       "</div>"
      ],
      "text/plain": [
       "     sepal_length  sepal_width  petal_length  petal_width     species\n",
       "36            5.5          3.5           1.3          0.2      setosa\n",
       "66            5.6          3.0           4.5          1.5  versicolor\n",
       "24            4.8          3.4           1.9          0.2      setosa\n",
       "123           6.3          2.7           4.9          1.8   virginica\n",
       "86            6.7          3.1           4.7          1.5  versicolor"
      ]
     },
     "execution_count": 1,
     "metadata": {},
     "output_type": "execute_result"
    }
   ],
   "source": [
    "from seaborn import load_dataset\n",
    "\n",
    "df = load_dataset('iris')\n",
    "\n",
    "df.sample(5)"
   ]
  },
  {
   "cell_type": "markdown",
   "id": "ca86324c-c7fa-4910-bb37-f8d0232d30c4",
   "metadata": {},
   "source": [
    "A ideia aqui é agrupar esse DataFrame em cada tipo de espécie: setosa, versicolor e virginica."
   ]
  },
  {
   "cell_type": "markdown",
   "id": "d7255779-317f-4cbe-81db-3c3bb676a2ae",
   "metadata": {},
   "source": [
    "## **Método `groupby()`**"
   ]
  },
  {
   "cell_type": "markdown",
   "id": "71f3187c-6c7b-477d-811c-409f770fb60a",
   "metadata": {},
   "source": [
    "O objeto `DataFrame` possui um método chamado `groupby()`, que realiza o agrupamento de uma tabela a partir de um critério definido pelo usuário. Sua documentação contendo todos os parâmetros se encontra [aqui](https://pandas.pydata.org/docs/reference/api/pandas.DataFrame.groupby.html). \n",
    "\n",
    "Dentre os parâmetros, destacamos:\n",
    "\n",
    "* `by`: Pode ser uma função, uma string contendo o nome de uma coluna ou uma lista de nomes das colunas da tabela. É esse parâmetro que será usado como critério para o agrupamento.\n",
    "\n",
    "Como queremos agrupar conforme a espécie, usaremos essa coluna como parâmetro do método."
   ]
  },
  {
   "cell_type": "code",
   "execution_count": 6,
   "id": "f881519c-11d3-4975-ada8-bb2f74e2e70e",
   "metadata": {},
   "outputs": [
    {
     "name": "stdout",
     "output_type": "stream",
     "text": [
      "<pandas.core.groupby.generic.DataFrameGroupBy object at 0x7fc60192c5e0> \n",
      "\n",
      "<class 'pandas.core.groupby.generic.DataFrameGroupBy'>\n"
     ]
    }
   ],
   "source": [
    "objeto = df.groupby(by = 'species')\n",
    "\n",
    "print(objeto, '\\n')\n",
    "\n",
    "print(type(objeto))"
   ]
  },
  {
   "cell_type": "markdown",
   "id": "2724c855-b8ee-46c0-8aae-50aa646b7401",
   "metadata": {},
   "source": [
    "Note que aparece um local na memória quando imprimimos `objeto`. Assim, para usarmos desse objeto, devemos conhecer seus métodos."
   ]
  },
  {
   "cell_type": "markdown",
   "id": "9a2e9d3d-21d8-4a95-b899-a2f4b51154f9",
   "metadata": {},
   "source": [
    "## **Objeto `GroupBy` e seus métodos**"
   ]
  },
  {
   "cell_type": "markdown",
   "id": "7c1c5785-49ca-4328-a84d-c6c617645333",
   "metadata": {},
   "source": [
    "A página contendo todos os atributos e métodos do objeto `GroupBy` está [neste link](https://pandas.pydata.org/docs/reference/groupby.html). Comecemos vendo alguns atributos."
   ]
  },
  {
   "cell_type": "code",
   "execution_count": 7,
   "id": "fa9b3f56-2a7a-4cba-b02a-fa389122db18",
   "metadata": {},
   "outputs": [
    {
     "data": {
      "text/plain": [
       "{'setosa': [0, 1, 2, 3, 4, 5, 6, 7, 8, 9, 10, 11, 12, 13, 14, 15, 16, 17, 18, 19, 20, 21, 22, 23, 24, 25, 26, 27, 28, 29, 30, 31, 32, 33, 34, 35, 36, 37, 38, 39, 40, 41, 42, 43, 44, 45, 46, 47, 48, 49], 'versicolor': [50, 51, 52, 53, 54, 55, 56, 57, 58, 59, 60, 61, 62, 63, 64, 65, 66, 67, 68, 69, 70, 71, 72, 73, 74, 75, 76, 77, 78, 79, 80, 81, 82, 83, 84, 85, 86, 87, 88, 89, 90, 91, 92, 93, 94, 95, 96, 97, 98, 99], 'virginica': [100, 101, 102, 103, 104, 105, 106, 107, 108, 109, 110, 111, 112, 113, 114, 115, 116, 117, 118, 119, 120, 121, 122, 123, 124, 125, 126, 127, 128, 129, 130, 131, 132, 133, 134, 135, 136, 137, 138, 139, 140, 141, 142, 143, 144, 145, 146, 147, 148, 149]}"
      ]
     },
     "execution_count": 7,
     "metadata": {},
     "output_type": "execute_result"
    }
   ],
   "source": [
    "objeto.groups"
   ]
  },
  {
   "cell_type": "code",
   "execution_count": 8,
   "id": "c3d2d621-f517-46fe-928a-ef4a6040493d",
   "metadata": {},
   "outputs": [
    {
     "data": {
      "text/plain": [
       "{'setosa': array([ 0,  1,  2,  3,  4,  5,  6,  7,  8,  9, 10, 11, 12, 13, 14, 15, 16,\n",
       "        17, 18, 19, 20, 21, 22, 23, 24, 25, 26, 27, 28, 29, 30, 31, 32, 33,\n",
       "        34, 35, 36, 37, 38, 39, 40, 41, 42, 43, 44, 45, 46, 47, 48, 49]),\n",
       " 'versicolor': array([50, 51, 52, 53, 54, 55, 56, 57, 58, 59, 60, 61, 62, 63, 64, 65, 66,\n",
       "        67, 68, 69, 70, 71, 72, 73, 74, 75, 76, 77, 78, 79, 80, 81, 82, 83,\n",
       "        84, 85, 86, 87, 88, 89, 90, 91, 92, 93, 94, 95, 96, 97, 98, 99]),\n",
       " 'virginica': array([100, 101, 102, 103, 104, 105, 106, 107, 108, 109, 110, 111, 112,\n",
       "        113, 114, 115, 116, 117, 118, 119, 120, 121, 122, 123, 124, 125,\n",
       "        126, 127, 128, 129, 130, 131, 132, 133, 134, 135, 136, 137, 138,\n",
       "        139, 140, 141, 142, 143, 144, 145, 146, 147, 148, 149])}"
      ]
     },
     "execution_count": 8,
     "metadata": {},
     "output_type": "execute_result"
    }
   ],
   "source": [
    "objeto.indices"
   ]
  },
  {
   "cell_type": "markdown",
   "id": "c8c213fd-dad3-4072-b600-00d320431e7b",
   "metadata": {},
   "source": [
    "Já com relação aos métodos desse objeto, boa parte deles aplica a função em cada grupo formado, e retorna esses resultados como DataFrame. \n",
    "\n",
    "Por exemplo, vamos calcular a média do comprimento da pétala de cada espécie de planta com o método `mean()`."
   ]
  },
  {
   "cell_type": "code",
   "execution_count": 11,
   "id": "4bfc34a9-8a32-4859-aeaa-bb250b053f01",
   "metadata": {},
   "outputs": [
    {
     "data": {
      "text/html": [
       "<div>\n",
       "<style scoped>\n",
       "    .dataframe tbody tr th:only-of-type {\n",
       "        vertical-align: middle;\n",
       "    }\n",
       "\n",
       "    .dataframe tbody tr th {\n",
       "        vertical-align: top;\n",
       "    }\n",
       "\n",
       "    .dataframe thead th {\n",
       "        text-align: right;\n",
       "    }\n",
       "</style>\n",
       "<table border=\"1\" class=\"dataframe\">\n",
       "  <thead>\n",
       "    <tr style=\"text-align: right;\">\n",
       "      <th></th>\n",
       "      <th>petal_length</th>\n",
       "    </tr>\n",
       "    <tr>\n",
       "      <th>species</th>\n",
       "      <th></th>\n",
       "    </tr>\n",
       "  </thead>\n",
       "  <tbody>\n",
       "    <tr>\n",
       "      <th>setosa</th>\n",
       "      <td>1.462</td>\n",
       "    </tr>\n",
       "    <tr>\n",
       "      <th>versicolor</th>\n",
       "      <td>4.260</td>\n",
       "    </tr>\n",
       "    <tr>\n",
       "      <th>virginica</th>\n",
       "      <td>5.552</td>\n",
       "    </tr>\n",
       "  </tbody>\n",
       "</table>\n",
       "</div>"
      ],
      "text/plain": [
       "            petal_length\n",
       "species                 \n",
       "setosa             1.462\n",
       "versicolor         4.260\n",
       "virginica          5.552"
      ]
     },
     "execution_count": 11,
     "metadata": {},
     "output_type": "execute_result"
    }
   ],
   "source": [
    "objeto = df[['species','petal_length']].groupby(by = 'species')\n",
    "\n",
    "objeto.mean()"
   ]
  },
  {
   "cell_type": "markdown",
   "id": "35697afc-4282-4ee0-855c-c023a00e1dfb",
   "metadata": {},
   "source": [
    "Para transformar as espécies em coluna de volta, é só usar o método `reset_index` de um DataFrame."
   ]
  },
  {
   "cell_type": "code",
   "execution_count": 12,
   "id": "903efda8-ce10-4d71-9d68-66d988f44fea",
   "metadata": {},
   "outputs": [
    {
     "data": {
      "text/html": [
       "<div>\n",
       "<style scoped>\n",
       "    .dataframe tbody tr th:only-of-type {\n",
       "        vertical-align: middle;\n",
       "    }\n",
       "\n",
       "    .dataframe tbody tr th {\n",
       "        vertical-align: top;\n",
       "    }\n",
       "\n",
       "    .dataframe thead th {\n",
       "        text-align: right;\n",
       "    }\n",
       "</style>\n",
       "<table border=\"1\" class=\"dataframe\">\n",
       "  <thead>\n",
       "    <tr style=\"text-align: right;\">\n",
       "      <th></th>\n",
       "      <th>species</th>\n",
       "      <th>petal_length</th>\n",
       "    </tr>\n",
       "  </thead>\n",
       "  <tbody>\n",
       "    <tr>\n",
       "      <th>0</th>\n",
       "      <td>setosa</td>\n",
       "      <td>1.462</td>\n",
       "    </tr>\n",
       "    <tr>\n",
       "      <th>1</th>\n",
       "      <td>versicolor</td>\n",
       "      <td>4.260</td>\n",
       "    </tr>\n",
       "    <tr>\n",
       "      <th>2</th>\n",
       "      <td>virginica</td>\n",
       "      <td>5.552</td>\n",
       "    </tr>\n",
       "  </tbody>\n",
       "</table>\n",
       "</div>"
      ],
      "text/plain": [
       "      species  petal_length\n",
       "0      setosa         1.462\n",
       "1  versicolor         4.260\n",
       "2   virginica         5.552"
      ]
     },
     "execution_count": 12,
     "metadata": {},
     "output_type": "execute_result"
    }
   ],
   "source": [
    "objeto.mean().reset_index()"
   ]
  },
  {
   "cell_type": "code",
   "execution_count": null,
   "id": "ce620179-5e96-4a95-8f4a-ef8f18593f79",
   "metadata": {},
   "outputs": [],
   "source": []
  }
 ],
 "metadata": {
  "kernelspec": {
   "display_name": "Python 3 (ipykernel)",
   "language": "python",
   "name": "python3"
  },
  "language_info": {
   "codemirror_mode": {
    "name": "ipython",
    "version": 3
   },
   "file_extension": ".py",
   "mimetype": "text/x-python",
   "name": "python",
   "nbconvert_exporter": "python",
   "pygments_lexer": "ipython3",
   "version": "3.8.10"
  }
 },
 "nbformat": 4,
 "nbformat_minor": 5
}
