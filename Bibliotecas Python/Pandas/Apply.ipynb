{
 "cells": [
  {
   "cell_type": "markdown",
   "id": "ba7bc887-62f0-4919-b8ad-bd09bb636fbf",
   "metadata": {},
   "source": [
    "# Apply"
   ]
  },
  {
   "cell_type": "markdown",
   "id": "3c7da4fe-0f85-45a5-9f73-43b78a8bc233",
   "metadata": {},
   "source": [
    "Este notebook versará sobre o método ```apply``` da classe ```DataFrame```, que aplica uma função em todas as células de uma linha ou coluna.\n",
    "\n",
    "Dentre os parâmetros que ele recebe, detacamos:\n",
    "\n",
    "* ```func```: função a ser aplicada. Pode ser uma função lambda.\n",
    "\n",
    "* ```axis```: ```0``` ou ```index``` para aplicar a função em cada coluna, e ```1``` ou ```columns``` par aaplicar a função em cada linha. **Por padrão está como ```'index'```**.\n",
    "\n",
    "Como exemplo, criemos um DataFrame simples para mudar uma das colunas de string para objeto de data."
   ]
  },
  {
   "cell_type": "code",
   "execution_count": 2,
   "id": "cb9a7dad-38a1-41fc-8265-631044d3fbf4",
   "metadata": {},
   "outputs": [
    {
     "data": {
      "text/html": [
       "<div>\n",
       "<style scoped>\n",
       "    .dataframe tbody tr th:only-of-type {\n",
       "        vertical-align: middle;\n",
       "    }\n",
       "\n",
       "    .dataframe tbody tr th {\n",
       "        vertical-align: top;\n",
       "    }\n",
       "\n",
       "    .dataframe thead th {\n",
       "        text-align: right;\n",
       "    }\n",
       "</style>\n",
       "<table border=\"1\" class=\"dataframe\">\n",
       "  <thead>\n",
       "    <tr style=\"text-align: right;\">\n",
       "      <th></th>\n",
       "      <th>Datas</th>\n",
       "      <th>Nomes</th>\n",
       "    </tr>\n",
       "  </thead>\n",
       "  <tbody>\n",
       "    <tr>\n",
       "      <th>0</th>\n",
       "      <td>01/02/2003</td>\n",
       "      <td>A</td>\n",
       "    </tr>\n",
       "    <tr>\n",
       "      <th>1</th>\n",
       "      <td>05/06/1872</td>\n",
       "      <td>B</td>\n",
       "    </tr>\n",
       "    <tr>\n",
       "      <th>2</th>\n",
       "      <td>07/09/1822</td>\n",
       "      <td>C</td>\n",
       "    </tr>\n",
       "  </tbody>\n",
       "</table>\n",
       "</div>"
      ],
      "text/plain": [
       "        Datas Nomes\n",
       "0  01/02/2003     A\n",
       "1  05/06/1872     B\n",
       "2  07/09/1822     C"
      ]
     },
     "execution_count": 2,
     "metadata": {},
     "output_type": "execute_result"
    }
   ],
   "source": [
    "from pandas import DataFrame\n",
    "\n",
    "dicionario = {'Datas':['01/02/2003', '05/06/1872', '07/09/1822'], 'Nomes':['A', 'B', 'C']}\n",
    "\n",
    "df = DataFrame(dicionario)\n",
    "\n",
    "df"
   ]
  },
  {
   "cell_type": "markdown",
   "id": "3553dd5d-a7a7-497a-b5c4-88c1e7a09412",
   "metadata": {},
   "source": [
    "Para transformar uma string num objeto de data, devemos usar a seguinte biblioteca."
   ]
  },
  {
   "cell_type": "code",
   "execution_count": 3,
   "id": "f8a5ece7-ff1d-434e-983d-b5ad2fd0fbed",
   "metadata": {},
   "outputs": [],
   "source": [
    "from datetime import datetime"
   ]
  },
  {
   "cell_type": "markdown",
   "id": "99ef2af6-8ec5-40e0-a5b1-af6233513a67",
   "metadata": {},
   "source": [
    "Agora apliquemos o método na coluna 'Datas':"
   ]
  },
  {
   "cell_type": "code",
   "execution_count": 4,
   "id": "dbbdf2c1-83d7-42a9-aa45-5bf9498f875e",
   "metadata": {},
   "outputs": [
    {
     "data": {
      "text/plain": [
       "0   2003-02-01\n",
       "1   1872-06-05\n",
       "2   1822-09-07\n",
       "Name: Datas, dtype: datetime64[ns]"
      ]
     },
     "execution_count": 4,
     "metadata": {},
     "output_type": "execute_result"
    }
   ],
   "source": [
    "df['Datas'].apply(func = lambda fecha : datetime.strptime(fecha, '%d/%m/%Y'))"
   ]
  },
  {
   "cell_type": "markdown",
   "id": "b0b612a1-641c-4eed-b787-2b28bb6ecba3",
   "metadata": {},
   "source": [
    "Retornando isso na própria coluna, temos"
   ]
  },
  {
   "cell_type": "code",
   "execution_count": 5,
   "id": "91d8c589-09c1-47fc-b817-423e8b0fc3e3",
   "metadata": {},
   "outputs": [
    {
     "data": {
      "text/html": [
       "<div>\n",
       "<style scoped>\n",
       "    .dataframe tbody tr th:only-of-type {\n",
       "        vertical-align: middle;\n",
       "    }\n",
       "\n",
       "    .dataframe tbody tr th {\n",
       "        vertical-align: top;\n",
       "    }\n",
       "\n",
       "    .dataframe thead th {\n",
       "        text-align: right;\n",
       "    }\n",
       "</style>\n",
       "<table border=\"1\" class=\"dataframe\">\n",
       "  <thead>\n",
       "    <tr style=\"text-align: right;\">\n",
       "      <th></th>\n",
       "      <th>Datas</th>\n",
       "      <th>Nomes</th>\n",
       "    </tr>\n",
       "  </thead>\n",
       "  <tbody>\n",
       "    <tr>\n",
       "      <th>0</th>\n",
       "      <td>2003-02-01</td>\n",
       "      <td>A</td>\n",
       "    </tr>\n",
       "    <tr>\n",
       "      <th>1</th>\n",
       "      <td>1872-06-05</td>\n",
       "      <td>B</td>\n",
       "    </tr>\n",
       "    <tr>\n",
       "      <th>2</th>\n",
       "      <td>1822-09-07</td>\n",
       "      <td>C</td>\n",
       "    </tr>\n",
       "  </tbody>\n",
       "</table>\n",
       "</div>"
      ],
      "text/plain": [
       "       Datas Nomes\n",
       "0 2003-02-01     A\n",
       "1 1872-06-05     B\n",
       "2 1822-09-07     C"
      ]
     },
     "execution_count": 5,
     "metadata": {},
     "output_type": "execute_result"
    }
   ],
   "source": [
    "df['Datas'] = df['Datas'].apply(func = lambda fecha : datetime.strptime(fecha, '%d/%m/%Y'))\n",
    "\n",
    "df"
   ]
  },
  {
   "cell_type": "code",
   "execution_count": null,
   "id": "47351921-4f06-486e-a758-0f06f426d6ca",
   "metadata": {},
   "outputs": [],
   "source": []
  }
 ],
 "metadata": {
  "kernelspec": {
   "display_name": "Python 3 (ipykernel)",
   "language": "python",
   "name": "python3"
  },
  "language_info": {
   "codemirror_mode": {
    "name": "ipython",
    "version": 3
   },
   "file_extension": ".py",
   "mimetype": "text/x-python",
   "name": "python",
   "nbconvert_exporter": "python",
   "pygments_lexer": "ipython3",
   "version": "3.8.10"
  }
 },
 "nbformat": 4,
 "nbformat_minor": 5
}
