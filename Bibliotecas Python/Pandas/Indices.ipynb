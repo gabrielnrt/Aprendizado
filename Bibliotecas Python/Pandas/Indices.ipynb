{
 "cells": [
  {
   "cell_type": "markdown",
   "id": "3cd35b3d-54f3-40dd-a5ff-58da3f8861f4",
   "metadata": {},
   "source": [
    "# **Índices**"
   ]
  },
  {
   "cell_type": "markdown",
   "id": "dedfc751-272f-48a6-b5ca-0e29e157f13f",
   "metadata": {},
   "source": [
    "## Resetar índices de uma tabela"
   ]
  },
  {
   "cell_type": "markdown",
   "id": "6b5396a5-3e0c-45ee-883e-b0653aca9427",
   "metadata": {},
   "source": [
    "É comum termos que criar sub tabelas a partir de da tabela inicial para agrupar linhas com as mesmas características, por exemplo. Quando isso ocorre, os índices da nova tabela acabam ficando \"bagunçados\", o que pode dificultar a localização das células.\n",
    "\n",
    "Para sanar esse problema, usamos um método chamado ```reset_index```, onde os parâmetros que destacaremos são:\n",
    "\n",
    "* ```drop```: ```True``` se quisermos retirar da tabela o índice anterior, e ```False``` para transformar o índice anterior numa coluna. **Padrão: ```False```**\n",
    "\n",
    "* ```inplace```: ```True``` para modificar a própria tabela, e ```False``` para retornar uma cópia da tabela com as modificações feitas. **Padrão: ```False```**.\n",
    "\n",
    "Para mais parâmetros, visite https://pandas.pydata.org/docs/reference/api/pandas.DataFrame.reset_index.html.\n",
    "\n",
    "Vamos usar o exemplo da documentação. Considere a tabela inicial abaixo:"
   ]
  },
  {
   "cell_type": "code",
   "execution_count": 2,
   "id": "e682b49a-de94-47fb-9d64-b7bc3e8cdbe5",
   "metadata": {},
   "outputs": [
    {
     "data": {
      "text/html": [
       "<div>\n",
       "<style scoped>\n",
       "    .dataframe tbody tr th:only-of-type {\n",
       "        vertical-align: middle;\n",
       "    }\n",
       "\n",
       "    .dataframe tbody tr th {\n",
       "        vertical-align: top;\n",
       "    }\n",
       "\n",
       "    .dataframe thead th {\n",
       "        text-align: right;\n",
       "    }\n",
       "</style>\n",
       "<table border=\"1\" class=\"dataframe\">\n",
       "  <thead>\n",
       "    <tr style=\"text-align: right;\">\n",
       "      <th></th>\n",
       "      <th>class</th>\n",
       "      <th>max_speed</th>\n",
       "    </tr>\n",
       "  </thead>\n",
       "  <tbody>\n",
       "    <tr>\n",
       "      <th>falcon</th>\n",
       "      <td>bird</td>\n",
       "      <td>389.0</td>\n",
       "    </tr>\n",
       "    <tr>\n",
       "      <th>parrot</th>\n",
       "      <td>bird</td>\n",
       "      <td>24.0</td>\n",
       "    </tr>\n",
       "    <tr>\n",
       "      <th>lion</th>\n",
       "      <td>mammal</td>\n",
       "      <td>80.5</td>\n",
       "    </tr>\n",
       "    <tr>\n",
       "      <th>monkey</th>\n",
       "      <td>mammal</td>\n",
       "      <td>NaN</td>\n",
       "    </tr>\n",
       "  </tbody>\n",
       "</table>\n",
       "</div>"
      ],
      "text/plain": [
       "         class  max_speed\n",
       "falcon    bird      389.0\n",
       "parrot    bird       24.0\n",
       "lion    mammal       80.5\n",
       "monkey  mammal        NaN"
      ]
     },
     "execution_count": 2,
     "metadata": {},
     "output_type": "execute_result"
    }
   ],
   "source": [
    "from pandas import DataFrame\n",
    "from numpy import nan\n",
    "\n",
    "df = DataFrame([('bird', 389.0),\n",
    "\n",
    "                ('bird', 24.0),\n",
    "\n",
    "                ('mammal', 80.5),\n",
    "\n",
    "                ('mammal', nan)],\n",
    "\n",
    "                index=['falcon', 'parrot', 'lion', 'monkey'],\n",
    "\n",
    "                columns=('class', 'max_speed'))\n",
    "\n",
    "df"
   ]
  },
  {
   "cell_type": "markdown",
   "id": "1fbe0e58-9465-47d3-8f72-3204b685e6f9",
   "metadata": {},
   "source": [
    "Resetamos a coluna dos índices, sem excluí-los, fazendo"
   ]
  },
  {
   "cell_type": "code",
   "execution_count": 4,
   "id": "5f93fc1c-7317-43a2-b547-fb155406162e",
   "metadata": {},
   "outputs": [
    {
     "data": {
      "text/html": [
       "<div>\n",
       "<style scoped>\n",
       "    .dataframe tbody tr th:only-of-type {\n",
       "        vertical-align: middle;\n",
       "    }\n",
       "\n",
       "    .dataframe tbody tr th {\n",
       "        vertical-align: top;\n",
       "    }\n",
       "\n",
       "    .dataframe thead th {\n",
       "        text-align: right;\n",
       "    }\n",
       "</style>\n",
       "<table border=\"1\" class=\"dataframe\">\n",
       "  <thead>\n",
       "    <tr style=\"text-align: right;\">\n",
       "      <th></th>\n",
       "      <th>index</th>\n",
       "      <th>class</th>\n",
       "      <th>max_speed</th>\n",
       "    </tr>\n",
       "  </thead>\n",
       "  <tbody>\n",
       "    <tr>\n",
       "      <th>0</th>\n",
       "      <td>falcon</td>\n",
       "      <td>bird</td>\n",
       "      <td>389.0</td>\n",
       "    </tr>\n",
       "    <tr>\n",
       "      <th>1</th>\n",
       "      <td>parrot</td>\n",
       "      <td>bird</td>\n",
       "      <td>24.0</td>\n",
       "    </tr>\n",
       "    <tr>\n",
       "      <th>2</th>\n",
       "      <td>lion</td>\n",
       "      <td>mammal</td>\n",
       "      <td>80.5</td>\n",
       "    </tr>\n",
       "    <tr>\n",
       "      <th>3</th>\n",
       "      <td>monkey</td>\n",
       "      <td>mammal</td>\n",
       "      <td>NaN</td>\n",
       "    </tr>\n",
       "  </tbody>\n",
       "</table>\n",
       "</div>"
      ],
      "text/plain": [
       "    index   class  max_speed\n",
       "0  falcon    bird      389.0\n",
       "1  parrot    bird       24.0\n",
       "2    lion  mammal       80.5\n",
       "3  monkey  mammal        NaN"
      ]
     },
     "execution_count": 4,
     "metadata": {},
     "output_type": "execute_result"
    }
   ],
   "source": [
    "df.reset_index(inplace = True)\n",
    "\n",
    "df"
   ]
  },
  {
   "cell_type": "markdown",
   "id": "09c8bd67-90ca-4eab-96fb-c6e6e45e19d2",
   "metadata": {},
   "source": [
    "Caso queiramos excluir os índices antigos, fazemos"
   ]
  },
  {
   "cell_type": "code",
   "execution_count": 6,
   "id": "a02e30dc-00cf-4909-817e-ad497e1d5497",
   "metadata": {},
   "outputs": [
    {
     "data": {
      "text/html": [
       "<div>\n",
       "<style scoped>\n",
       "    .dataframe tbody tr th:only-of-type {\n",
       "        vertical-align: middle;\n",
       "    }\n",
       "\n",
       "    .dataframe tbody tr th {\n",
       "        vertical-align: top;\n",
       "    }\n",
       "\n",
       "    .dataframe thead th {\n",
       "        text-align: right;\n",
       "    }\n",
       "</style>\n",
       "<table border=\"1\" class=\"dataframe\">\n",
       "  <thead>\n",
       "    <tr style=\"text-align: right;\">\n",
       "      <th></th>\n",
       "      <th>class</th>\n",
       "      <th>max_speed</th>\n",
       "    </tr>\n",
       "  </thead>\n",
       "  <tbody>\n",
       "    <tr>\n",
       "      <th>0</th>\n",
       "      <td>bird</td>\n",
       "      <td>389.0</td>\n",
       "    </tr>\n",
       "    <tr>\n",
       "      <th>1</th>\n",
       "      <td>bird</td>\n",
       "      <td>24.0</td>\n",
       "    </tr>\n",
       "    <tr>\n",
       "      <th>2</th>\n",
       "      <td>mammal</td>\n",
       "      <td>80.5</td>\n",
       "    </tr>\n",
       "    <tr>\n",
       "      <th>3</th>\n",
       "      <td>mammal</td>\n",
       "      <td>NaN</td>\n",
       "    </tr>\n",
       "  </tbody>\n",
       "</table>\n",
       "</div>"
      ],
      "text/plain": [
       "    class  max_speed\n",
       "0    bird      389.0\n",
       "1    bird       24.0\n",
       "2  mammal       80.5\n",
       "3  mammal        NaN"
      ]
     },
     "execution_count": 6,
     "metadata": {},
     "output_type": "execute_result"
    }
   ],
   "source": [
    "df = DataFrame([('bird', 389.0),\n",
    "\n",
    "                ('bird', 24.0),\n",
    "\n",
    "                ('mammal', 80.5),\n",
    "\n",
    "                ('mammal', nan)],\n",
    "\n",
    "                index=['falcon', 'parrot', 'lion', 'monkey'],\n",
    "\n",
    "                columns=('class', 'max_speed'))\n",
    "\n",
    "df.reset_index(drop = True, inplace = True)\n",
    "\n",
    "df"
   ]
  },
  {
   "cell_type": "code",
   "execution_count": null,
   "id": "d6a472fc-78f8-4b47-b8f8-48e8c2a205b3",
   "metadata": {},
   "outputs": [],
   "source": []
  }
 ],
 "metadata": {
  "kernelspec": {
   "display_name": "Python 3 (ipykernel)",
   "language": "python",
   "name": "python3"
  },
  "language_info": {
   "codemirror_mode": {
    "name": "ipython",
    "version": 3
   },
   "file_extension": ".py",
   "mimetype": "text/x-python",
   "name": "python",
   "nbconvert_exporter": "python",
   "pygments_lexer": "ipython3",
   "version": "3.8.10"
  }
 },
 "nbformat": 4,
 "nbformat_minor": 5
}
