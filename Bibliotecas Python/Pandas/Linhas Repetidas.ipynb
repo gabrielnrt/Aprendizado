{
 "cells": [
  {
   "cell_type": "markdown",
   "id": "2675be62-9e68-4b0e-b91d-0896591c07bc",
   "metadata": {},
   "source": [
    "# Linhas Repetidas"
   ]
  },
  {
   "cell_type": "markdown",
   "id": "f77a390b-1c3b-43fc-be40-1d50dc23b3df",
   "metadata": {
    "jp-MarkdownHeadingCollapsed": true,
    "tags": []
   },
   "source": [
    "## Introdução"
   ]
  },
  {
   "cell_type": "markdown",
   "id": "2a3c9953-737d-4d6e-8512-da43d8cb267f",
   "metadata": {},
   "source": [
    "Este notebook versará sobre linhas repetidas que podem aparecer nos dados a serem trabalhados. Como a resoulção desse problema é rápida, então este notebook será bem pequeno."
   ]
  },
  {
   "cell_type": "markdown",
   "id": "a7828f5c-49c9-440b-8ae8-6ac0c83f3c69",
   "metadata": {
    "jp-MarkdownHeadingCollapsed": true,
    "tags": []
   },
   "source": [
    "## Dados Iniciais"
   ]
  },
  {
   "cell_type": "markdown",
   "id": "8cfd47c6-71b2-44a7-bb18-43778877efaf",
   "metadata": {},
   "source": [
    "Vamos usar os mesmos dados do notebook das células nulas."
   ]
  },
  {
   "cell_type": "code",
   "execution_count": 1,
   "id": "3b4900a4-beac-4e5c-b7ce-6dc5b8288ba1",
   "metadata": {},
   "outputs": [],
   "source": [
    "from pandas import read_csv\n",
    "\n",
    "colunas = [\"Id\",\"Score\",\"Estado\",\"Genero\",\"Idade\",\"Patrimonio\",\"Saldo\",\"Produtos\",\"TemCartCredito\",\n",
    "                    \"Ativo\",\"Salario\",\"Saiu\"]\n",
    "\n",
    "df = read_csv('Churn.csv',\n",
    "              sep = ';',\n",
    "              names = colunas, \n",
    "              header = 0)"
   ]
  },
  {
   "cell_type": "markdown",
   "id": "198e8ad9-aa85-4e3c-9ff4-63996c17f9e8",
   "metadata": {
    "jp-MarkdownHeadingCollapsed": true,
    "tags": []
   },
   "source": [
    "## ```duplicated``` e ```drop_duplicates```"
   ]
  },
  {
   "cell_type": "markdown",
   "id": "64952282-b517-4cba-9157-d8da244e53d2",
   "metadata": {},
   "source": [
    "Para detectarmos as linhas duplicadas, usamos o método ```duplicated```, que retorna uma série de uma coluna boleana, onde ```True``` é para uma linha que foi duplicada e ```False``` quando a linha não for duplicada. Se quiséssemos sinalizar apenas uma das linhas como a duplicada, deveríamos colocar o parâmetro ```keep='first' ``` ou ```keep='last' ```. Como queremos sinalizar todas que estão duplicadas, colocamos ```keep = 'False' ```."
   ]
  },
  {
   "cell_type": "code",
   "execution_count": 7,
   "id": "3b8c6b90-3c81-4235-9852-2fef67b07fc9",
   "metadata": {},
   "outputs": [
    {
     "data": {
      "text/plain": [
       "0      False\n",
       "1      False\n",
       "2      False\n",
       "3      False\n",
       "4      False\n",
       "       ...  \n",
       "994    False\n",
       "995    False\n",
       "996    False\n",
       "997    False\n",
       "998    False\n",
       "Length: 999, dtype: bool"
      ]
     },
     "execution_count": 7,
     "metadata": {},
     "output_type": "execute_result"
    }
   ],
   "source": [
    "df.duplicated(keep = False)"
   ]
  },
  {
   "cell_type": "markdown",
   "id": "6fafa213-c5df-4f9b-8ed7-d2e0df347f61",
   "metadata": {},
   "source": [
    "Se quisermos saber **quais** linhas estão duplicadas, colocamos esse método dentro do próprio dataframe, da mesma forma que no caso das células vazias.  diferença é que aqui não especificamos a coluna, pois ele vai justamente comparar as linhas dos dados."
   ]
  },
  {
   "cell_type": "code",
   "execution_count": 8,
   "id": "99456e74-f22f-42e8-9a7b-629a99127584",
   "metadata": {},
   "outputs": [
    {
     "data": {
      "text/html": [
       "<div>\n",
       "<style scoped>\n",
       "    .dataframe tbody tr th:only-of-type {\n",
       "        vertical-align: middle;\n",
       "    }\n",
       "\n",
       "    .dataframe tbody tr th {\n",
       "        vertical-align: top;\n",
       "    }\n",
       "\n",
       "    .dataframe thead th {\n",
       "        text-align: right;\n",
       "    }\n",
       "</style>\n",
       "<table border=\"1\" class=\"dataframe\">\n",
       "  <thead>\n",
       "    <tr style=\"text-align: right;\">\n",
       "      <th></th>\n",
       "      <th>Id</th>\n",
       "      <th>Score</th>\n",
       "      <th>Estado</th>\n",
       "      <th>Genero</th>\n",
       "      <th>Idade</th>\n",
       "      <th>Patrimonio</th>\n",
       "      <th>Saldo</th>\n",
       "      <th>Produtos</th>\n",
       "      <th>TemCartCredito</th>\n",
       "      <th>Ativo</th>\n",
       "      <th>Salario</th>\n",
       "      <th>Saiu</th>\n",
       "    </tr>\n",
       "  </thead>\n",
       "  <tbody>\n",
       "    <tr>\n",
       "      <th>80</th>\n",
       "      <td>81</td>\n",
       "      <td>665</td>\n",
       "      <td>RS</td>\n",
       "      <td>Feminino</td>\n",
       "      <td>34</td>\n",
       "      <td>1</td>\n",
       "      <td>9664554</td>\n",
       "      <td>2</td>\n",
       "      <td>0</td>\n",
       "      <td>0</td>\n",
       "      <td>17141366.0</td>\n",
       "      <td>0</td>\n",
       "    </tr>\n",
       "    <tr>\n",
       "      <th>81</th>\n",
       "      <td>81</td>\n",
       "      <td>665</td>\n",
       "      <td>RS</td>\n",
       "      <td>Feminino</td>\n",
       "      <td>34</td>\n",
       "      <td>1</td>\n",
       "      <td>9664554</td>\n",
       "      <td>2</td>\n",
       "      <td>0</td>\n",
       "      <td>0</td>\n",
       "      <td>17141366.0</td>\n",
       "      <td>0</td>\n",
       "    </tr>\n",
       "  </tbody>\n",
       "</table>\n",
       "</div>"
      ],
      "text/plain": [
       "    Id  Score Estado    Genero  Idade  Patrimonio    Saldo  Produtos  \\\n",
       "80  81    665     RS  Feminino     34           1  9664554         2   \n",
       "81  81    665     RS  Feminino     34           1  9664554         2   \n",
       "\n",
       "    TemCartCredito  Ativo     Salario  Saiu  \n",
       "80               0      0  17141366.0     0  \n",
       "81               0      0  17141366.0     0  "
      ]
     },
     "execution_count": 8,
     "metadata": {},
     "output_type": "execute_result"
    }
   ],
   "source": [
    "df[ df.duplicated(keep = False) ]"
   ]
  },
  {
   "cell_type": "markdown",
   "id": "ea0f2cad-8445-4708-aeb6-ccf2ffaee6c8",
   "metadata": {},
   "source": [
    "Para excluir os dados duplicados, usamos o método ```drop_duplicates```, e colocamos os parâmetros ```keep = 'first'```, para manter o primeiro elemento repetido e excluir as demais, e ```inplace = True``` para substituir na própria variável, ao invés de criar uma cópia e consequentemente substituir na cópia."
   ]
  },
  {
   "cell_type": "code",
   "execution_count": 9,
   "id": "6de91062-7ef5-4c7f-9df8-96b1f51f2110",
   "metadata": {},
   "outputs": [],
   "source": [
    "df.drop_duplicates(keep = 'first',\n",
    "                  inplace = True)"
   ]
  },
  {
   "cell_type": "markdown",
   "id": "3796366b-4eff-403c-bc96-f06977ddef55",
   "metadata": {},
   "source": [
    "Verificando se de fato o método excluiu as linhas repetidas, basta digitar novamente"
   ]
  },
  {
   "cell_type": "code",
   "execution_count": 10,
   "id": "b5f94328-a4bd-4bbb-b21d-a1f9e0a24306",
   "metadata": {},
   "outputs": [
    {
     "data": {
      "text/html": [
       "<div>\n",
       "<style scoped>\n",
       "    .dataframe tbody tr th:only-of-type {\n",
       "        vertical-align: middle;\n",
       "    }\n",
       "\n",
       "    .dataframe tbody tr th {\n",
       "        vertical-align: top;\n",
       "    }\n",
       "\n",
       "    .dataframe thead th {\n",
       "        text-align: right;\n",
       "    }\n",
       "</style>\n",
       "<table border=\"1\" class=\"dataframe\">\n",
       "  <thead>\n",
       "    <tr style=\"text-align: right;\">\n",
       "      <th></th>\n",
       "      <th>Id</th>\n",
       "      <th>Score</th>\n",
       "      <th>Estado</th>\n",
       "      <th>Genero</th>\n",
       "      <th>Idade</th>\n",
       "      <th>Patrimonio</th>\n",
       "      <th>Saldo</th>\n",
       "      <th>Produtos</th>\n",
       "      <th>TemCartCredito</th>\n",
       "      <th>Ativo</th>\n",
       "      <th>Salario</th>\n",
       "      <th>Saiu</th>\n",
       "    </tr>\n",
       "  </thead>\n",
       "  <tbody>\n",
       "  </tbody>\n",
       "</table>\n",
       "</div>"
      ],
      "text/plain": [
       "Empty DataFrame\n",
       "Columns: [Id, Score, Estado, Genero, Idade, Patrimonio, Saldo, Produtos, TemCartCredito, Ativo, Salario, Saiu]\n",
       "Index: []"
      ]
     },
     "execution_count": 10,
     "metadata": {},
     "output_type": "execute_result"
    }
   ],
   "source": [
    "df[ df.duplicated(keep = False) ]"
   ]
  },
  {
   "cell_type": "markdown",
   "id": "d5932609-78c3-4f5c-a130-5254c1fb0370",
   "metadata": {},
   "source": [
    "Como podemos ver, o método executou a exclusão na própria variável, como esperado."
   ]
  },
  {
   "cell_type": "code",
   "execution_count": null,
   "id": "6badb574-2b3a-41e7-b4a4-3ace4ba0888b",
   "metadata": {},
   "outputs": [],
   "source": []
  }
 ],
 "metadata": {
  "kernelspec": {
   "display_name": "Python 3 (ipykernel)",
   "language": "python",
   "name": "python3"
  },
  "language_info": {
   "codemirror_mode": {
    "name": "ipython",
    "version": 3
   },
   "file_extension": ".py",
   "mimetype": "text/x-python",
   "name": "python",
   "nbconvert_exporter": "python",
   "pygments_lexer": "ipython3",
   "version": "3.8.10"
  }
 },
 "nbformat": 4,
 "nbformat_minor": 5
}
