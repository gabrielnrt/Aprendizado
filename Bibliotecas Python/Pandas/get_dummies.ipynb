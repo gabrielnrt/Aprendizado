{
 "cells": [
  {
   "cell_type": "markdown",
   "id": "b62f9044-a75e-4346-8cfd-cd062330ae87",
   "metadata": {},
   "source": [
    "# **`get_dummies()`**"
   ]
  },
  {
   "cell_type": "markdown",
   "id": "770f905d-01b2-4e3f-8848-bd8d03b9b702",
   "metadata": {},
   "source": [
    "## **Introdução**"
   ]
  },
  {
   "cell_type": "markdown",
   "id": "ac6066e9-0f64-42d4-92fe-5c2b75692727",
   "metadata": {},
   "source": [
    "A documentação completa sobre a função sobre o assunto se encontra [neste link](https://pandas.pydata.org/docs/reference/api/pandas.get_dummies.html). Também é útil um artigo do próprio pandas com vários exemplos, que se encontra [aqui](https://pandas.pydata.org/docs/user_guide/reshaping.html#reshaping-dummies). \n",
    "\n",
    "A função `get_dummies()` serve para transformar atributos categóricos em numéricos. Para importá-la, basta digitar"
   ]
  },
  {
   "cell_type": "code",
   "execution_count": 1,
   "id": "31cda5f8-0b93-4dba-be2c-1e8913184717",
   "metadata": {},
   "outputs": [],
   "source": [
    "from pandas import get_dummies"
   ]
  },
  {
   "cell_type": "markdown",
   "id": "7ef5de83-34cd-4b5c-b3c6-c82aac54e2bb",
   "metadata": {},
   "source": [
    "Criaremos a seguinte tabela para ilustrar o funcionamento da função."
   ]
  },
  {
   "cell_type": "code",
   "execution_count": 6,
   "id": "d2672da2-f755-478b-be36-fa8d9accbbdc",
   "metadata": {},
   "outputs": [
    {
     "data": {
      "text/html": [
       "<div>\n",
       "<style scoped>\n",
       "    .dataframe tbody tr th:only-of-type {\n",
       "        vertical-align: middle;\n",
       "    }\n",
       "\n",
       "    .dataframe tbody tr th {\n",
       "        vertical-align: top;\n",
       "    }\n",
       "\n",
       "    .dataframe thead th {\n",
       "        text-align: right;\n",
       "    }\n",
       "</style>\n",
       "<table border=\"1\" class=\"dataframe\">\n",
       "  <thead>\n",
       "    <tr style=\"text-align: right;\">\n",
       "      <th></th>\n",
       "      <th>chave</th>\n",
       "      <th>numero</th>\n",
       "    </tr>\n",
       "  </thead>\n",
       "  <tbody>\n",
       "    <tr>\n",
       "      <th>0</th>\n",
       "      <td>b</td>\n",
       "      <td>0</td>\n",
       "    </tr>\n",
       "    <tr>\n",
       "      <th>1</th>\n",
       "      <td>b</td>\n",
       "      <td>1</td>\n",
       "    </tr>\n",
       "    <tr>\n",
       "      <th>2</th>\n",
       "      <td>a</td>\n",
       "      <td>2</td>\n",
       "    </tr>\n",
       "    <tr>\n",
       "      <th>3</th>\n",
       "      <td>c</td>\n",
       "      <td>3</td>\n",
       "    </tr>\n",
       "    <tr>\n",
       "      <th>4</th>\n",
       "      <td>a</td>\n",
       "      <td>4</td>\n",
       "    </tr>\n",
       "    <tr>\n",
       "      <th>5</th>\n",
       "      <td>b</td>\n",
       "      <td>5</td>\n",
       "    </tr>\n",
       "  </tbody>\n",
       "</table>\n",
       "</div>"
      ],
      "text/plain": [
       "  chave  numero\n",
       "0     b       0\n",
       "1     b       1\n",
       "2     a       2\n",
       "3     c       3\n",
       "4     a       4\n",
       "5     b       5"
      ]
     },
     "execution_count": 6,
     "metadata": {},
     "output_type": "execute_result"
    }
   ],
   "source": [
    "from pandas import DataFrame\n",
    "\n",
    "dicionario = {\"chave\": ['b','b','a','c','a','b'], \"numero\": range(6)}\n",
    "\n",
    "df = DataFrame(dicionario)\n",
    "\n",
    "df"
   ]
  },
  {
   "cell_type": "markdown",
   "id": "3350c9ef-d423-477d-9048-9074bc6c86ea",
   "metadata": {},
   "source": [
    "## **Parâmetros Fundamentais**"
   ]
  },
  {
   "cell_type": "markdown",
   "id": "365a4a0c-9581-4b55-b261-7e079926849c",
   "metadata": {},
   "source": [
    "Os parâmetros fundamentais que destacamos são:\n",
    "\n",
    "* `data`: DataFrame a ser usado.\n",
    "\n",
    "* `columns`: string ou lista de strings da(s) coluna(s) a serem transformadas.\n",
    "\n",
    "Como saída, a função `get_dummies()` retorna o DataFrame com a coluna transformada."
   ]
  },
  {
   "cell_type": "code",
   "execution_count": 11,
   "id": "0c3760b3-f597-4c04-bf36-ef62a2b0e22d",
   "metadata": {},
   "outputs": [
    {
     "data": {
      "text/html": [
       "<div>\n",
       "<style scoped>\n",
       "    .dataframe tbody tr th:only-of-type {\n",
       "        vertical-align: middle;\n",
       "    }\n",
       "\n",
       "    .dataframe tbody tr th {\n",
       "        vertical-align: top;\n",
       "    }\n",
       "\n",
       "    .dataframe thead th {\n",
       "        text-align: right;\n",
       "    }\n",
       "</style>\n",
       "<table border=\"1\" class=\"dataframe\">\n",
       "  <thead>\n",
       "    <tr style=\"text-align: right;\">\n",
       "      <th></th>\n",
       "      <th>a</th>\n",
       "      <th>b</th>\n",
       "      <th>c</th>\n",
       "    </tr>\n",
       "  </thead>\n",
       "  <tbody>\n",
       "    <tr>\n",
       "      <th>0</th>\n",
       "      <td>0</td>\n",
       "      <td>1</td>\n",
       "      <td>0</td>\n",
       "    </tr>\n",
       "    <tr>\n",
       "      <th>1</th>\n",
       "      <td>1</td>\n",
       "      <td>0</td>\n",
       "      <td>0</td>\n",
       "    </tr>\n",
       "    <tr>\n",
       "      <th>2</th>\n",
       "      <td>0</td>\n",
       "      <td>1</td>\n",
       "      <td>0</td>\n",
       "    </tr>\n",
       "    <tr>\n",
       "      <th>3</th>\n",
       "      <td>0</td>\n",
       "      <td>1</td>\n",
       "      <td>0</td>\n",
       "    </tr>\n",
       "    <tr>\n",
       "      <th>4</th>\n",
       "      <td>0</td>\n",
       "      <td>0</td>\n",
       "      <td>1</td>\n",
       "    </tr>\n",
       "  </tbody>\n",
       "</table>\n",
       "</div>"
      ],
      "text/plain": [
       "   a  b  c\n",
       "0  0  1  0\n",
       "1  1  0  0\n",
       "2  0  1  0\n",
       "3  0  1  0\n",
       "4  0  0  1"
      ]
     },
     "execution_count": 11,
     "metadata": {},
     "output_type": "execute_result"
    }
   ],
   "source": [
    "from pandas import Series\n",
    "\n",
    "get_dummies(data = Series(['b','a','b','b','c']))"
   ]
  },
  {
   "cell_type": "markdown",
   "id": "79cccc61-22f3-481b-b2e9-fb42711f7f36",
   "metadata": {},
   "source": [
    "## **Parâmetros Adicionais**"
   ]
  },
  {
   "cell_type": "markdown",
   "id": "d9158d6b-182b-4bb7-9df4-a7b7e91a0015",
   "metadata": {},
   "source": [
    "Se quisermos personalizar o nome das colunas, podemos adicionar o parâmetro `prefix`, que é nome de alguma coluna que será usada para ajudar a nomear o nome das novas colunas."
   ]
  },
  {
   "cell_type": "code",
   "execution_count": 12,
   "id": "469e0685-97c5-4ea9-a10e-bbd0fa71203e",
   "metadata": {},
   "outputs": [
    {
     "data": {
      "text/html": [
       "<div>\n",
       "<style scoped>\n",
       "    .dataframe tbody tr th:only-of-type {\n",
       "        vertical-align: middle;\n",
       "    }\n",
       "\n",
       "    .dataframe tbody tr th {\n",
       "        vertical-align: top;\n",
       "    }\n",
       "\n",
       "    .dataframe thead th {\n",
       "        text-align: right;\n",
       "    }\n",
       "</style>\n",
       "<table border=\"1\" class=\"dataframe\">\n",
       "  <thead>\n",
       "    <tr style=\"text-align: right;\">\n",
       "      <th></th>\n",
       "      <th>numero</th>\n",
       "      <th>chave_a</th>\n",
       "      <th>chave_b</th>\n",
       "      <th>chave_c</th>\n",
       "    </tr>\n",
       "  </thead>\n",
       "  <tbody>\n",
       "    <tr>\n",
       "      <th>0</th>\n",
       "      <td>0</td>\n",
       "      <td>0</td>\n",
       "      <td>1</td>\n",
       "      <td>0</td>\n",
       "    </tr>\n",
       "    <tr>\n",
       "      <th>1</th>\n",
       "      <td>1</td>\n",
       "      <td>0</td>\n",
       "      <td>1</td>\n",
       "      <td>0</td>\n",
       "    </tr>\n",
       "    <tr>\n",
       "      <th>2</th>\n",
       "      <td>2</td>\n",
       "      <td>1</td>\n",
       "      <td>0</td>\n",
       "      <td>0</td>\n",
       "    </tr>\n",
       "    <tr>\n",
       "      <th>3</th>\n",
       "      <td>3</td>\n",
       "      <td>0</td>\n",
       "      <td>0</td>\n",
       "      <td>1</td>\n",
       "    </tr>\n",
       "    <tr>\n",
       "      <th>4</th>\n",
       "      <td>4</td>\n",
       "      <td>1</td>\n",
       "      <td>0</td>\n",
       "      <td>0</td>\n",
       "    </tr>\n",
       "    <tr>\n",
       "      <th>5</th>\n",
       "      <td>5</td>\n",
       "      <td>0</td>\n",
       "      <td>1</td>\n",
       "      <td>0</td>\n",
       "    </tr>\n",
       "  </tbody>\n",
       "</table>\n",
       "</div>"
      ],
      "text/plain": [
       "   numero  chave_a  chave_b  chave_c\n",
       "0       0        0        1        0\n",
       "1       1        0        1        0\n",
       "2       2        1        0        0\n",
       "3       3        0        0        1\n",
       "4       4        1        0        0\n",
       "5       5        0        1        0"
      ]
     },
     "execution_count": 12,
     "metadata": {},
     "output_type": "execute_result"
    }
   ],
   "source": [
    "get_dummies(data = df, columns = ['chave'], prefix = ['chave'])"
   ]
  },
  {
   "cell_type": "markdown",
   "id": "0587cb3e-44dd-41a8-bdab-5f1aca439bcd",
   "metadata": {},
   "source": [
    "Assim fica melhor para o usuário saber quais colunas foram separadas, principalmente quando temos várias colunas com atributos categóricos a serem transformados."
   ]
  },
  {
   "cell_type": "code",
   "execution_count": null,
   "id": "e6cd00bf-e00a-4eaf-8696-28a5b458193d",
   "metadata": {},
   "outputs": [],
   "source": []
  }
 ],
 "metadata": {
  "kernelspec": {
   "display_name": "Python 3 (ipykernel)",
   "language": "python",
   "name": "python3"
  },
  "language_info": {
   "codemirror_mode": {
    "name": "ipython",
    "version": 3
   },
   "file_extension": ".py",
   "mimetype": "text/x-python",
   "name": "python",
   "nbconvert_exporter": "python",
   "pygments_lexer": "ipython3",
   "version": "3.8.10"
  }
 },
 "nbformat": 4,
 "nbformat_minor": 5
}
