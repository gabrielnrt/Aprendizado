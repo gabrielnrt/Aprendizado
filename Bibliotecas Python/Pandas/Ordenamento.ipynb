{
 "cells": [
  {
   "cell_type": "markdown",
   "id": "ec7989e7-9e63-4965-a6d6-39029bd42d53",
   "metadata": {},
   "source": [
    "# **Ordenamento de uma tabela**"
   ]
  },
  {
   "cell_type": "markdown",
   "id": "150fae41-cce6-4e70-b500-4f48a541144a",
   "metadata": {},
   "source": [
    "Neste notebook vamos essencialmente falar sobre o método ```sort_values```, que realiza o ordenamento de uma tabela através de linhas ou colunas inseridas pelo usuário.\n",
    "\n",
    "Dentre os parâmetros desse método, vamos destacar os 4 primeiros, que são:\n",
    "\n",
    "* ```by```: string ou uma lista de strings. É o critério pelo qual vamos ordenar. Por exemplo, se inserimos o nome da coluna 'Col 1', então a tabela será organizada pela coluna 'Col 1'.\n",
    "\n",
    "* ```axis```: 0 ou 'index' para ordenar as linhas, e 1 ou 'columns' para ordenar as colunas. **Por padrão está como 0**.\n",
    "\n",
    "* ```ascending```: ```True``` para ordenar de forma ascendente, e ```False``` para ordenar de forma descendente. Se o parâmetro ```by``` for uma lista, podemos inserir aqui uma lista de variáveis booleanas para especificar o ordenamento de cada critério, ou deixar apenas uma variável booleana que vai ditar o ordenamento de todos os critérios. **Por padrão está ```True```**.\n",
    "\n",
    "* ```inplace```: Se ```True```, ele vai aplicar essas modificações na própria tabela. Se ```False```, o método vai retornar uma cópia da tabela com as modificações feitas. **Por padrão está ```False```**.\n",
    "\n",
    "Para ilustrar, vou usar a mesma tabela que está na [documentação](https://pandas.pydata.org/docs/reference/api/pandas.DataFrame.sort_values.html).\n"
   ]
  },
  {
   "cell_type": "code",
   "execution_count": 2,
   "id": "4e096bcc-3bdc-4452-bb84-4d5758fc8230",
   "metadata": {},
   "outputs": [
    {
     "data": {
      "text/html": [
       "<div>\n",
       "<style scoped>\n",
       "    .dataframe tbody tr th:only-of-type {\n",
       "        vertical-align: middle;\n",
       "    }\n",
       "\n",
       "    .dataframe tbody tr th {\n",
       "        vertical-align: top;\n",
       "    }\n",
       "\n",
       "    .dataframe thead th {\n",
       "        text-align: right;\n",
       "    }\n",
       "</style>\n",
       "<table border=\"1\" class=\"dataframe\">\n",
       "  <thead>\n",
       "    <tr style=\"text-align: right;\">\n",
       "      <th></th>\n",
       "      <th>col1</th>\n",
       "      <th>col2</th>\n",
       "      <th>col3</th>\n",
       "      <th>col4</th>\n",
       "    </tr>\n",
       "  </thead>\n",
       "  <tbody>\n",
       "    <tr>\n",
       "      <th>0</th>\n",
       "      <td>A</td>\n",
       "      <td>2</td>\n",
       "      <td>0</td>\n",
       "      <td>a</td>\n",
       "    </tr>\n",
       "    <tr>\n",
       "      <th>1</th>\n",
       "      <td>A</td>\n",
       "      <td>1</td>\n",
       "      <td>1</td>\n",
       "      <td>B</td>\n",
       "    </tr>\n",
       "    <tr>\n",
       "      <th>2</th>\n",
       "      <td>B</td>\n",
       "      <td>9</td>\n",
       "      <td>9</td>\n",
       "      <td>c</td>\n",
       "    </tr>\n",
       "    <tr>\n",
       "      <th>3</th>\n",
       "      <td>X</td>\n",
       "      <td>8</td>\n",
       "      <td>4</td>\n",
       "      <td>D</td>\n",
       "    </tr>\n",
       "    <tr>\n",
       "      <th>4</th>\n",
       "      <td>D</td>\n",
       "      <td>7</td>\n",
       "      <td>2</td>\n",
       "      <td>e</td>\n",
       "    </tr>\n",
       "    <tr>\n",
       "      <th>5</th>\n",
       "      <td>C</td>\n",
       "      <td>4</td>\n",
       "      <td>3</td>\n",
       "      <td>F</td>\n",
       "    </tr>\n",
       "  </tbody>\n",
       "</table>\n",
       "</div>"
      ],
      "text/plain": [
       "  col1  col2  col3 col4\n",
       "0    A     2     0    a\n",
       "1    A     1     1    B\n",
       "2    B     9     9    c\n",
       "3    X     8     4    D\n",
       "4    D     7     2    e\n",
       "5    C     4     3    F"
      ]
     },
     "execution_count": 2,
     "metadata": {},
     "output_type": "execute_result"
    }
   ],
   "source": [
    "from pandas import DataFrame\n",
    "\n",
    "dicionario = {\n",
    "\n",
    "    'col1': ['A', 'A', 'B', 'X', 'D', 'C'],\n",
    "\n",
    "    'col2': [2, 1, 9, 8, 7, 4],\n",
    "\n",
    "    'col3': [0, 1, 9, 4, 2, 3],\n",
    "\n",
    "    'col4': ['a', 'B', 'c', 'D', 'e', 'F']\n",
    "    }\n",
    "\n",
    "df = DataFrame(dicionario)\n",
    "\n",
    "df"
   ]
  },
  {
   "cell_type": "markdown",
   "id": "dd337b83-70b8-445a-883d-7834773e0a42",
   "metadata": {},
   "source": [
    "Ordenando pela primeira coluna, temos"
   ]
  },
  {
   "cell_type": "code",
   "execution_count": 3,
   "id": "19735f6e-52f9-4118-a8a8-ec2ce2da43eb",
   "metadata": {},
   "outputs": [
    {
     "data": {
      "text/html": [
       "<div>\n",
       "<style scoped>\n",
       "    .dataframe tbody tr th:only-of-type {\n",
       "        vertical-align: middle;\n",
       "    }\n",
       "\n",
       "    .dataframe tbody tr th {\n",
       "        vertical-align: top;\n",
       "    }\n",
       "\n",
       "    .dataframe thead th {\n",
       "        text-align: right;\n",
       "    }\n",
       "</style>\n",
       "<table border=\"1\" class=\"dataframe\">\n",
       "  <thead>\n",
       "    <tr style=\"text-align: right;\">\n",
       "      <th></th>\n",
       "      <th>col1</th>\n",
       "      <th>col2</th>\n",
       "      <th>col3</th>\n",
       "      <th>col4</th>\n",
       "    </tr>\n",
       "  </thead>\n",
       "  <tbody>\n",
       "    <tr>\n",
       "      <th>0</th>\n",
       "      <td>A</td>\n",
       "      <td>2</td>\n",
       "      <td>0</td>\n",
       "      <td>a</td>\n",
       "    </tr>\n",
       "    <tr>\n",
       "      <th>1</th>\n",
       "      <td>A</td>\n",
       "      <td>1</td>\n",
       "      <td>1</td>\n",
       "      <td>B</td>\n",
       "    </tr>\n",
       "    <tr>\n",
       "      <th>2</th>\n",
       "      <td>B</td>\n",
       "      <td>9</td>\n",
       "      <td>9</td>\n",
       "      <td>c</td>\n",
       "    </tr>\n",
       "    <tr>\n",
       "      <th>5</th>\n",
       "      <td>C</td>\n",
       "      <td>4</td>\n",
       "      <td>3</td>\n",
       "      <td>F</td>\n",
       "    </tr>\n",
       "    <tr>\n",
       "      <th>4</th>\n",
       "      <td>D</td>\n",
       "      <td>7</td>\n",
       "      <td>2</td>\n",
       "      <td>e</td>\n",
       "    </tr>\n",
       "    <tr>\n",
       "      <th>3</th>\n",
       "      <td>X</td>\n",
       "      <td>8</td>\n",
       "      <td>4</td>\n",
       "      <td>D</td>\n",
       "    </tr>\n",
       "  </tbody>\n",
       "</table>\n",
       "</div>"
      ],
      "text/plain": [
       "  col1  col2  col3 col4\n",
       "0    A     2     0    a\n",
       "1    A     1     1    B\n",
       "2    B     9     9    c\n",
       "5    C     4     3    F\n",
       "4    D     7     2    e\n",
       "3    X     8     4    D"
      ]
     },
     "execution_count": 3,
     "metadata": {},
     "output_type": "execute_result"
    }
   ],
   "source": [
    "df.sort_values(by = ['col1'])"
   ]
  },
  {
   "cell_type": "markdown",
   "id": "927a0764-d10d-40bf-b05a-791b63fbba2f",
   "metadata": {},
   "source": [
    "Para outros parâmetros, basta acessar a documentação, que está em https://pandas.pydata.org/docs/reference/api/pandas.DataFrame.sort_values.html."
   ]
  },
  {
   "cell_type": "code",
   "execution_count": null,
   "id": "9d2e95ce-dd0b-444b-abb0-e42247beb326",
   "metadata": {},
   "outputs": [],
   "source": []
  }
 ],
 "metadata": {
  "kernelspec": {
   "display_name": "Python 3 (ipykernel)",
   "language": "python",
   "name": "python3"
  },
  "language_info": {
   "codemirror_mode": {
    "name": "ipython",
    "version": 3
   },
   "file_extension": ".py",
   "mimetype": "text/x-python",
   "name": "python",
   "nbconvert_exporter": "python",
   "pygments_lexer": "ipython3",
   "version": "3.8.10"
  }
 },
 "nbformat": 4,
 "nbformat_minor": 5
}
