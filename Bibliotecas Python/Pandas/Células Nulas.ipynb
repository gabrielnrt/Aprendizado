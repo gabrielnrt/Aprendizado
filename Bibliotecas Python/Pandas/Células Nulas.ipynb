{
 "cells": [
  {
   "cell_type": "markdown",
   "id": "dadfd054-4798-4796-b47a-22bac1f7069a",
   "metadata": {},
   "source": [
    "# Células Nulas"
   ]
  },
  {
   "cell_type": "markdown",
   "id": "fdf6ebc5-231e-490e-a524-ff44b839a9f8",
   "metadata": {
    "jp-MarkdownHeadingCollapsed": true,
    "tags": []
   },
   "source": [
    "## Introdução"
   ]
  },
  {
   "cell_type": "markdown",
   "id": "c0391896-eee1-4962-bd26-370c86b8bad6",
   "metadata": {},
   "source": [
    "Neste notebook vamos nos ater ao problema de células não preenchidas. Para isso, vamos usar o arquivo ```Churn.csv``` como base. Obs: as colunas estão com um nome \"estranho\", e por isso vamos trocá-la logo no início."
   ]
  },
  {
   "cell_type": "markdown",
   "id": "fa2e36a2-ac21-49d0-9886-fc4793a87d74",
   "metadata": {
    "jp-MarkdownHeadingCollapsed": true,
    "tags": []
   },
   "source": [
    "## Dados Iniciais"
   ]
  },
  {
   "cell_type": "code",
   "execution_count": 10,
   "id": "8888d187-9ffe-4d85-9c7f-020717c9f792",
   "metadata": {},
   "outputs": [
    {
     "data": {
      "text/html": [
       "<div>\n",
       "<style scoped>\n",
       "    .dataframe tbody tr th:only-of-type {\n",
       "        vertical-align: middle;\n",
       "    }\n",
       "\n",
       "    .dataframe tbody tr th {\n",
       "        vertical-align: top;\n",
       "    }\n",
       "\n",
       "    .dataframe thead th {\n",
       "        text-align: right;\n",
       "    }\n",
       "</style>\n",
       "<table border=\"1\" class=\"dataframe\">\n",
       "  <thead>\n",
       "    <tr style=\"text-align: right;\">\n",
       "      <th></th>\n",
       "      <th>Id</th>\n",
       "      <th>Score</th>\n",
       "      <th>Estado</th>\n",
       "      <th>Genero</th>\n",
       "      <th>Idade</th>\n",
       "      <th>Patrimonio</th>\n",
       "      <th>Saldo</th>\n",
       "      <th>Produtos</th>\n",
       "      <th>TemCartCredito</th>\n",
       "      <th>Ativo</th>\n",
       "      <th>Salario</th>\n",
       "      <th>Saiu</th>\n",
       "    </tr>\n",
       "  </thead>\n",
       "  <tbody>\n",
       "    <tr>\n",
       "      <th>0</th>\n",
       "      <td>1</td>\n",
       "      <td>619</td>\n",
       "      <td>RS</td>\n",
       "      <td>Feminino</td>\n",
       "      <td>42</td>\n",
       "      <td>2</td>\n",
       "      <td>0</td>\n",
       "      <td>1</td>\n",
       "      <td>1</td>\n",
       "      <td>1</td>\n",
       "      <td>10134888.0</td>\n",
       "      <td>1</td>\n",
       "    </tr>\n",
       "    <tr>\n",
       "      <th>1</th>\n",
       "      <td>2</td>\n",
       "      <td>608</td>\n",
       "      <td>SC</td>\n",
       "      <td>Feminino</td>\n",
       "      <td>41</td>\n",
       "      <td>1</td>\n",
       "      <td>8380786</td>\n",
       "      <td>1</td>\n",
       "      <td>0</td>\n",
       "      <td>1</td>\n",
       "      <td>11254258.0</td>\n",
       "      <td>0</td>\n",
       "    </tr>\n",
       "    <tr>\n",
       "      <th>2</th>\n",
       "      <td>3</td>\n",
       "      <td>502</td>\n",
       "      <td>RS</td>\n",
       "      <td>Feminino</td>\n",
       "      <td>42</td>\n",
       "      <td>8</td>\n",
       "      <td>1596608</td>\n",
       "      <td>3</td>\n",
       "      <td>1</td>\n",
       "      <td>0</td>\n",
       "      <td>11393157.0</td>\n",
       "      <td>1</td>\n",
       "    </tr>\n",
       "    <tr>\n",
       "      <th>3</th>\n",
       "      <td>4</td>\n",
       "      <td>699</td>\n",
       "      <td>RS</td>\n",
       "      <td>Feminino</td>\n",
       "      <td>39</td>\n",
       "      <td>1</td>\n",
       "      <td>0</td>\n",
       "      <td>2</td>\n",
       "      <td>0</td>\n",
       "      <td>0</td>\n",
       "      <td>9382663.0</td>\n",
       "      <td>0</td>\n",
       "    </tr>\n",
       "    <tr>\n",
       "      <th>4</th>\n",
       "      <td>5</td>\n",
       "      <td>850</td>\n",
       "      <td>SC</td>\n",
       "      <td>Feminino</td>\n",
       "      <td>43</td>\n",
       "      <td>2</td>\n",
       "      <td>12551082</td>\n",
       "      <td>1</td>\n",
       "      <td>1</td>\n",
       "      <td>1</td>\n",
       "      <td>790841.0</td>\n",
       "      <td>0</td>\n",
       "    </tr>\n",
       "    <tr>\n",
       "      <th>...</th>\n",
       "      <td>...</td>\n",
       "      <td>...</td>\n",
       "      <td>...</td>\n",
       "      <td>...</td>\n",
       "      <td>...</td>\n",
       "      <td>...</td>\n",
       "      <td>...</td>\n",
       "      <td>...</td>\n",
       "      <td>...</td>\n",
       "      <td>...</td>\n",
       "      <td>...</td>\n",
       "      <td>...</td>\n",
       "    </tr>\n",
       "    <tr>\n",
       "      <th>994</th>\n",
       "      <td>996</td>\n",
       "      <td>838</td>\n",
       "      <td>SC</td>\n",
       "      <td>Masculino</td>\n",
       "      <td>43</td>\n",
       "      <td>9</td>\n",
       "      <td>12310588</td>\n",
       "      <td>2</td>\n",
       "      <td>1</td>\n",
       "      <td>0</td>\n",
       "      <td>14576583.0</td>\n",
       "      <td>0</td>\n",
       "    </tr>\n",
       "    <tr>\n",
       "      <th>995</th>\n",
       "      <td>997</td>\n",
       "      <td>610</td>\n",
       "      <td>SC</td>\n",
       "      <td>Masculino</td>\n",
       "      <td>29</td>\n",
       "      <td>9</td>\n",
       "      <td>0</td>\n",
       "      <td>3</td>\n",
       "      <td>0</td>\n",
       "      <td>1</td>\n",
       "      <td>8391224.0</td>\n",
       "      <td>0</td>\n",
       "    </tr>\n",
       "    <tr>\n",
       "      <th>996</th>\n",
       "      <td>998</td>\n",
       "      <td>811</td>\n",
       "      <td>SC</td>\n",
       "      <td>Masculino</td>\n",
       "      <td>44</td>\n",
       "      <td>3</td>\n",
       "      <td>0</td>\n",
       "      <td>2</td>\n",
       "      <td>0</td>\n",
       "      <td>1</td>\n",
       "      <td>7843973.0</td>\n",
       "      <td>0</td>\n",
       "    </tr>\n",
       "    <tr>\n",
       "      <th>997</th>\n",
       "      <td>999</td>\n",
       "      <td>587</td>\n",
       "      <td>SC</td>\n",
       "      <td>Masculino</td>\n",
       "      <td>62</td>\n",
       "      <td>7</td>\n",
       "      <td>12128627</td>\n",
       "      <td>1</td>\n",
       "      <td>0</td>\n",
       "      <td>1</td>\n",
       "      <td>677692.0</td>\n",
       "      <td>0</td>\n",
       "    </tr>\n",
       "    <tr>\n",
       "      <th>998</th>\n",
       "      <td>1000</td>\n",
       "      <td>811</td>\n",
       "      <td>PR</td>\n",
       "      <td>Feminino</td>\n",
       "      <td>28</td>\n",
       "      <td>4</td>\n",
       "      <td>16773882</td>\n",
       "      <td>2</td>\n",
       "      <td>1</td>\n",
       "      <td>1</td>\n",
       "      <td>990342.0</td>\n",
       "      <td>0</td>\n",
       "    </tr>\n",
       "  </tbody>\n",
       "</table>\n",
       "<p>999 rows × 12 columns</p>\n",
       "</div>"
      ],
      "text/plain": [
       "       Id  Score Estado     Genero  Idade  Patrimonio     Saldo  Produtos  \\\n",
       "0       1    619     RS   Feminino     42           2         0         1   \n",
       "1       2    608     SC   Feminino     41           1   8380786         1   \n",
       "2       3    502     RS   Feminino     42           8   1596608         3   \n",
       "3       4    699     RS   Feminino     39           1         0         2   \n",
       "4       5    850     SC   Feminino     43           2  12551082         1   \n",
       "..    ...    ...    ...        ...    ...         ...       ...       ...   \n",
       "994   996    838     SC  Masculino     43           9  12310588         2   \n",
       "995   997    610     SC  Masculino     29           9         0         3   \n",
       "996   998    811     SC  Masculino     44           3         0         2   \n",
       "997   999    587     SC  Masculino     62           7  12128627         1   \n",
       "998  1000    811     PR   Feminino     28           4  16773882         2   \n",
       "\n",
       "     TemCartCredito  Ativo     Salario  Saiu  \n",
       "0                 1      1  10134888.0     1  \n",
       "1                 0      1  11254258.0     0  \n",
       "2                 1      0  11393157.0     1  \n",
       "3                 0      0   9382663.0     0  \n",
       "4                 1      1    790841.0     0  \n",
       "..              ...    ...         ...   ...  \n",
       "994               1      0  14576583.0     0  \n",
       "995               0      1   8391224.0     0  \n",
       "996               0      1   7843973.0     0  \n",
       "997               0      1    677692.0     0  \n",
       "998               1      1    990342.0     0  \n",
       "\n",
       "[999 rows x 12 columns]"
      ]
     },
     "execution_count": 10,
     "metadata": {},
     "output_type": "execute_result"
    }
   ],
   "source": [
    "from pandas import read_csv\n",
    "\n",
    "colunas = [\"Id\",\"Score\",\"Estado\",\"Genero\",\"Idade\",\"Patrimonio\",\"Saldo\",\"Produtos\",\"TemCartCredito\",\n",
    "                    \"Ativo\",\"Salario\",\"Saiu\"]\n",
    "\n",
    "df = read_csv('Churn.csv',\n",
    "              sep = ';',\n",
    "              names = colunas, \n",
    "              header = 0)\n",
    "\n",
    "df"
   ]
  },
  {
   "cell_type": "markdown",
   "id": "00295039-256d-4bfc-b0f3-fd5a81fbbd59",
   "metadata": {},
   "source": [
    "Obs: Eu coloquei ```header=0``` para sobrescrever o nome das colunas iniciais, que estava como [X0, X1, ...]."
   ]
  },
  {
   "cell_type": "markdown",
   "id": "763ba274-3521-4c8d-8f63-a1a262406e37",
   "metadata": {
    "tags": []
   },
   "source": [
    "## Identificando células não preenchidas"
   ]
  },
  {
   "cell_type": "markdown",
   "id": "50f415d2-886f-4331-965e-70bb10bd4d17",
   "metadata": {},
   "source": [
    "Para identificarmos as células nulas, usamos o método ```isnull```, que retorna o DataFrame com valores boleanos indicando quais células estão vazias."
   ]
  },
  {
   "cell_type": "code",
   "execution_count": 5,
   "id": "3843ca8c-d664-45a7-b770-38b9a58f38be",
   "metadata": {},
   "outputs": [
    {
     "data": {
      "text/plain": [
       "0      False\n",
       "1      False\n",
       "2      False\n",
       "3      False\n",
       "4      False\n",
       "       ...  \n",
       "994    False\n",
       "995    False\n",
       "996    False\n",
       "997    False\n",
       "998    False\n",
       "Name: Genero, Length: 999, dtype: bool"
      ]
     },
     "execution_count": 5,
     "metadata": {},
     "output_type": "execute_result"
    }
   ],
   "source": [
    "df['Genero'].isnull()"
   ]
  },
  {
   "cell_type": "markdown",
   "id": "0a834bf8-13d6-4564-9c9b-7af07ac8f729",
   "metadata": {},
   "source": [
    "Se quiséssemos saber **quais** linhas possuem células nulas, devemos digitar a mesma linha anterior, mas dentro do próprio DataFrame, pois assim ele usará isso como uma condição, isto é, mostrará as linhas cuja coluna 'Genero' está vazia."
   ]
  },
  {
   "cell_type": "code",
   "execution_count": 11,
   "id": "1f287268-dbcf-49cf-8e2d-9b84ca4901fe",
   "metadata": {},
   "outputs": [
    {
     "data": {
      "text/html": [
       "<div>\n",
       "<style scoped>\n",
       "    .dataframe tbody tr th:only-of-type {\n",
       "        vertical-align: middle;\n",
       "    }\n",
       "\n",
       "    .dataframe tbody tr th {\n",
       "        vertical-align: top;\n",
       "    }\n",
       "\n",
       "    .dataframe thead th {\n",
       "        text-align: right;\n",
       "    }\n",
       "</style>\n",
       "<table border=\"1\" class=\"dataframe\">\n",
       "  <thead>\n",
       "    <tr style=\"text-align: right;\">\n",
       "      <th></th>\n",
       "      <th>Id</th>\n",
       "      <th>Score</th>\n",
       "      <th>Estado</th>\n",
       "      <th>Genero</th>\n",
       "      <th>Idade</th>\n",
       "      <th>Patrimonio</th>\n",
       "      <th>Saldo</th>\n",
       "      <th>Produtos</th>\n",
       "      <th>TemCartCredito</th>\n",
       "      <th>Ativo</th>\n",
       "      <th>Salario</th>\n",
       "      <th>Saiu</th>\n",
       "    </tr>\n",
       "  </thead>\n",
       "  <tbody>\n",
       "    <tr>\n",
       "      <th>64</th>\n",
       "      <td>65</td>\n",
       "      <td>603</td>\n",
       "      <td>PR</td>\n",
       "      <td>NaN</td>\n",
       "      <td>26</td>\n",
       "      <td>4</td>\n",
       "      <td>10916637</td>\n",
       "      <td>1</td>\n",
       "      <td>1</td>\n",
       "      <td>1</td>\n",
       "      <td>9284067.0</td>\n",
       "      <td>0</td>\n",
       "    </tr>\n",
       "    <tr>\n",
       "      <th>84</th>\n",
       "      <td>86</td>\n",
       "      <td>493</td>\n",
       "      <td>RS</td>\n",
       "      <td>NaN</td>\n",
       "      <td>46</td>\n",
       "      <td>4</td>\n",
       "      <td>0</td>\n",
       "      <td>2</td>\n",
       "      <td>1</td>\n",
       "      <td>0</td>\n",
       "      <td>190766.0</td>\n",
       "      <td>0</td>\n",
       "    </tr>\n",
       "    <tr>\n",
       "      <th>213</th>\n",
       "      <td>215</td>\n",
       "      <td>676</td>\n",
       "      <td>RS</td>\n",
       "      <td>NaN</td>\n",
       "      <td>34</td>\n",
       "      <td>1</td>\n",
       "      <td>6309501</td>\n",
       "      <td>1</td>\n",
       "      <td>1</td>\n",
       "      <td>1</td>\n",
       "      <td>4064581.0</td>\n",
       "      <td>0</td>\n",
       "    </tr>\n",
       "    <tr>\n",
       "      <th>296</th>\n",
       "      <td>298</td>\n",
       "      <td>714</td>\n",
       "      <td>RS</td>\n",
       "      <td>NaN</td>\n",
       "      <td>31</td>\n",
       "      <td>4</td>\n",
       "      <td>12516926</td>\n",
       "      <td>1</td>\n",
       "      <td>1</td>\n",
       "      <td>1</td>\n",
       "      <td>10663689.0</td>\n",
       "      <td>0</td>\n",
       "    </tr>\n",
       "    <tr>\n",
       "      <th>370</th>\n",
       "      <td>372</td>\n",
       "      <td>801</td>\n",
       "      <td>SC</td>\n",
       "      <td>NaN</td>\n",
       "      <td>42</td>\n",
       "      <td>4</td>\n",
       "      <td>14194767</td>\n",
       "      <td>1</td>\n",
       "      <td>1</td>\n",
       "      <td>1</td>\n",
       "      <td>1059829.0</td>\n",
       "      <td>0</td>\n",
       "    </tr>\n",
       "    <tr>\n",
       "      <th>501</th>\n",
       "      <td>503</td>\n",
       "      <td>692</td>\n",
       "      <td>RS</td>\n",
       "      <td>NaN</td>\n",
       "      <td>54</td>\n",
       "      <td>5</td>\n",
       "      <td>0</td>\n",
       "      <td>2</td>\n",
       "      <td>1</td>\n",
       "      <td>1</td>\n",
       "      <td>8872184.0</td>\n",
       "      <td>0</td>\n",
       "    </tr>\n",
       "    <tr>\n",
       "      <th>963</th>\n",
       "      <td>965</td>\n",
       "      <td>529</td>\n",
       "      <td>SC</td>\n",
       "      <td>NaN</td>\n",
       "      <td>63</td>\n",
       "      <td>4</td>\n",
       "      <td>9613411</td>\n",
       "      <td>3</td>\n",
       "      <td>1</td>\n",
       "      <td>0</td>\n",
       "      <td>10873296.0</td>\n",
       "      <td>1</td>\n",
       "    </tr>\n",
       "    <tr>\n",
       "      <th>969</th>\n",
       "      <td>971</td>\n",
       "      <td>649</td>\n",
       "      <td>PR</td>\n",
       "      <td>NaN</td>\n",
       "      <td>70</td>\n",
       "      <td>9</td>\n",
       "      <td>11685471</td>\n",
       "      <td>2</td>\n",
       "      <td>0</td>\n",
       "      <td>1</td>\n",
       "      <td>10712579.0</td>\n",
       "      <td>0</td>\n",
       "    </tr>\n",
       "  </tbody>\n",
       "</table>\n",
       "</div>"
      ],
      "text/plain": [
       "      Id  Score Estado Genero  Idade  Patrimonio     Saldo  Produtos  \\\n",
       "64    65    603     PR    NaN     26           4  10916637         1   \n",
       "84    86    493     RS    NaN     46           4         0         2   \n",
       "213  215    676     RS    NaN     34           1   6309501         1   \n",
       "296  298    714     RS    NaN     31           4  12516926         1   \n",
       "370  372    801     SC    NaN     42           4  14194767         1   \n",
       "501  503    692     RS    NaN     54           5         0         2   \n",
       "963  965    529     SC    NaN     63           4   9613411         3   \n",
       "969  971    649     PR    NaN     70           9  11685471         2   \n",
       "\n",
       "     TemCartCredito  Ativo     Salario  Saiu  \n",
       "64                1      1   9284067.0     0  \n",
       "84                1      0    190766.0     0  \n",
       "213               1      1   4064581.0     0  \n",
       "296               1      1  10663689.0     0  \n",
       "370               1      1   1059829.0     0  \n",
       "501               1      1   8872184.0     0  \n",
       "963               1      0  10873296.0     1  \n",
       "969               0      1  10712579.0     0  "
      ]
     },
     "execution_count": 11,
     "metadata": {},
     "output_type": "execute_result"
    }
   ],
   "source": [
    "df[ df['Genero'].isnull() ]"
   ]
  },
  {
   "cell_type": "markdown",
   "id": "76a947eb-244c-4fe6-b2ea-7c4b95d4f62b",
   "metadata": {},
   "source": [
    "Para sabermos **quantas** células não foram preenchidas, acoplamos o método ```sum``` ao método anterior."
   ]
  },
  {
   "cell_type": "code",
   "execution_count": 6,
   "id": "7254f61a-dcf5-4809-8523-5d75b282496b",
   "metadata": {},
   "outputs": [
    {
     "data": {
      "text/plain": [
       "8"
      ]
     },
     "execution_count": 6,
     "metadata": {},
     "output_type": "execute_result"
    }
   ],
   "source": [
    "df['Genero'].isnull().sum()"
   ]
  },
  {
   "cell_type": "markdown",
   "id": "0b56d4b6-ed67-4e37-9226-06bb2ff53ebe",
   "metadata": {
    "jp-MarkdownHeadingCollapsed": true,
    "tags": []
   },
   "source": [
    "## Preenchendo células nulas"
   ]
  },
  {
   "cell_type": "markdown",
   "id": "0a10605b-ae8d-4dd5-9d86-e3b1626e7aef",
   "metadata": {},
   "source": [
    "Para preenhcer as células nulas, usamos o método ```fillna```. Dentre os parâmetros que existem nesse método, destacamos os seguintes:\n",
    "\n",
    "* ```value```: valor a ocupar nas células vazias;\n",
    "\n",
    "* ```inplace```: variável boleana, onde ```True``` é para substituir na célula do DataFrame, enquanto que ```False``` substitui numa cópia do DataFrame.\n",
    "\n",
    "Se estivéssemos lidando com variáveis numéricas, podemos preencher as lacunas com o valor médio. Como neste caso estamos lidando com uma coluna de strings, é melhor substituir pela moda, que pode ser obtida tanto pela biblioteca statistics quanto pelo próprio pandas. \n",
    "\n",
    "Dado que estamos na pasta da biblioteca pandas, vamos usar o método ```mode```, que retorna a moda de um DataFrame."
   ]
  },
  {
   "cell_type": "code",
   "execution_count": 5,
   "id": "86852968-cb63-447c-ba60-6c96d17211bc",
   "metadata": {},
   "outputs": [
    {
     "data": {
      "text/plain": [
       "0    Masculino\n",
       "dtype: object"
      ]
     },
     "execution_count": 5,
     "metadata": {},
     "output_type": "execute_result"
    }
   ],
   "source": [
    "df['Genero'].mode()"
   ]
  },
  {
   "cell_type": "markdown",
   "id": "96fa214b-9faf-4f2f-b2f6-44fd5b7bce9b",
   "metadata": {},
   "source": [
    "Já que a moda é ```'Masculino'```, então vamos usar essa string para fazer a substituição."
   ]
  },
  {
   "cell_type": "code",
   "execution_count": 8,
   "id": "627c05dd-d994-41a6-ab80-f37fb77d1963",
   "metadata": {},
   "outputs": [],
   "source": [
    "df['Genero'].fillna(value = 'Masculino',\n",
    "                    inplace = True)"
   ]
  },
  {
   "cell_type": "markdown",
   "id": "61d27581-37e3-48ac-90de-cacba7d51b41",
   "metadata": {},
   "source": [
    "Por fim, vamos verificar se de fato as lacunas não existem mais."
   ]
  },
  {
   "cell_type": "code",
   "execution_count": 9,
   "id": "078a8825-361a-4b41-ab7d-4224d942d3c6",
   "metadata": {},
   "outputs": [
    {
     "data": {
      "text/plain": [
       "0"
      ]
     },
     "execution_count": 9,
     "metadata": {},
     "output_type": "execute_result"
    }
   ],
   "source": [
    "df['Genero'].isnull().sum()"
   ]
  },
  {
   "cell_type": "markdown",
   "id": "f70b807f-c917-4d30-a208-5c2e4637be88",
   "metadata": {},
   "source": [
    "Como podemos ver, de fato o método ```fillna``` resolve esse problema."
   ]
  },
  {
   "cell_type": "code",
   "execution_count": null,
   "id": "bc9f5e08-92c2-4174-9093-fe421777aa20",
   "metadata": {},
   "outputs": [],
   "source": []
  }
 ],
 "metadata": {
  "kernelspec": {
   "display_name": "Python 3 (ipykernel)",
   "language": "python",
   "name": "python3"
  },
  "language_info": {
   "codemirror_mode": {
    "name": "ipython",
    "version": 3
   },
   "file_extension": ".py",
   "mimetype": "text/x-python",
   "name": "python",
   "nbconvert_exporter": "python",
   "pygments_lexer": "ipython3",
   "version": "3.8.10"
  }
 },
 "nbformat": 4,
 "nbformat_minor": 5
}
