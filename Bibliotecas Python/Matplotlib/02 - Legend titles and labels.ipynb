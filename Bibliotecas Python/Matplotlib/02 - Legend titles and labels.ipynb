{
 "cells": [
  {
   "cell_type": "markdown",
   "metadata": {
    "tags": []
   },
   "source": [
    "# Legendas, títutlos e nome dos eixos\n",
    "\n",
    "Estou pegando como base o código feito pelo sentdex na playlist dele de matplotlib (https://www.youtube.com/playlist?list=PLQVvvaa0QuDfefDfXb9Yf0la1fPDKluPF), e aos poucos estou modificando. Eventualmente posso complementar com outros materiais."
   ]
  },
  {
   "cell_type": "markdown",
   "metadata": {
    "tags": []
   },
   "source": [
    "## Importando a biblioteca\n",
    "\n",
    "Para importar a parte que faz gráficos do matplotlib, fazemos ```from matplotlib.pyplot import (funções)```, mas também podemos fazer isso chamando o ```pylab```, que desempenha a mesma função, como coloquei abaixo."
   ]
  },
  {
   "cell_type": "code",
   "execution_count": 22,
   "metadata": {},
   "outputs": [],
   "source": [
    "from pylab import plot, xlabel, ylabel, title, legend, show"
   ]
  },
  {
   "cell_type": "markdown",
   "metadata": {},
   "source": [
    "## Dados de entrada\n",
    "\n",
    "Aqui queremos fazer duas curvas num mesmo gráfico, uma para a função $f(x) = x$ e outra para $f(x) = x^2$. Deste modo, inserimos apenas listas (mas também poderiam ser arrays), que serão usadas nas células seguintes.\n",
    "\n",
    "Para $f(x) = x$:"
   ]
  },
  {
   "cell_type": "code",
   "execution_count": 27,
   "metadata": {},
   "outputs": [],
   "source": [
    "x = [1,2,3]\n",
    "y = [1,2,3]"
   ]
  },
  {
   "cell_type": "markdown",
   "metadata": {},
   "source": [
    "Para $f(x) = x^2$:"
   ]
  },
  {
   "cell_type": "code",
   "execution_count": 28,
   "metadata": {},
   "outputs": [],
   "source": [
    "X = [1,2,3]\n",
    "Y = [1,4,9]"
   ]
  },
  {
   "cell_type": "markdown",
   "metadata": {},
   "source": [
    "## Realizando os gráficos\n",
    "\n",
    "### Plot dos pontos\n",
    "Para graficar os pontos, usamos a função ```plot()```, onde os argumentos obrigatórios são a lista ou arrays dos valores de x e y. Também há outros parâmetros opcionais, como ```label``` que serve para nomear a curva em questão (quando tem mais de um gráfico no mesmo plano), ```color``` que é para configurar a cor da curva, ```linewidth``` para customizar a grossura da curva, dentre outros."
   ]
  },
  {
   "cell_type": "markdown",
   "metadata": {},
   "source": [
    "### Nome nos eixos\n",
    "\n",
    "Para inserir um nome nos eixos, basta usar as funções ```xlabel``` e ```ylabel``` e inserir uma string no argumento da função."
   ]
  },
  {
   "cell_type": "markdown",
   "metadata": {
    "tags": []
   },
   "source": [
    "### Título\n",
    "\n",
    "Para colocar um título, basta usar a função ```title``` e colocar no argumento uma string."
   ]
  },
  {
   "cell_type": "markdown",
   "metadata": {
    "tags": []
   },
   "source": [
    "### Legenda\n",
    "\n",
    "Se o gráfico possuir só uma curva, então podemos inserir uma string no argumento da função ```legend()```. Caso contrário, colocamos cada legenda da curva dentro do parâmetro ```label``` da função ```plot()``` como visto previamente. Além disso, a função ```legend()``` também serve para \"ativar\" as legendas feitas anteriormente. \n",
    "\n",
    "Vale ressaltar que ela possui um parâmetro opcional que é o ```loc```, que se refere à localização das legendas no gráfico , como canto superior direito e canto superior esquerdo por exemplo. Existem 11 entradas possíveis para esse parâmetro, que são: 'best', 'upper right', 'upper left', 'lower left', 'lower right', 'right', 'center left', 'center right', 'lower center', 'upper center' e 'center'."
   ]
  },
  {
   "cell_type": "markdown",
   "metadata": {},
   "source": [
    "### Exibir a imagem\n",
    "\n",
    "Para mostrar o gráfico, simplesmente chamamos a função ```show()``` que desempenha essa função. Sem ela, nenhum gráfico é exibido."
   ]
  },
  {
   "cell_type": "markdown",
   "metadata": {},
   "source": [
    "### Obs: Uso de $\\LaTeX$ no matplotlib\n",
    "\n",
    "Podemos fazer o uso de Latex para formatar títulos, legendas, rótulos, dentre outros no matplotlib. Para isso, basta colocar o símbolo de $ \\$ $ e inserir o texto desejado, e depois fechar o texto com outro $\\$$. Note que fizemos isso no gráfico de $f(x) = x^2$."
   ]
  },
  {
   "cell_type": "code",
   "execution_count": 38,
   "metadata": {},
   "outputs": [
    {
     "data": {
      "image/png": "[encoded data removed]",
      "text/plain": [
       "<Figure size 432x288 with 1 Axes>"
      ]
     },
     "metadata": {
      "needs_background": "light"
     },
     "output_type": "display_data"
    }
   ],
   "source": [
    "plot(x,y, label='f(x) = x', color='orange', linewidth = 5) \n",
    "plot(X,Y, label='f(x) = $x^2$', color='blue')\n",
    "\n",
    "\n",
    "xlabel('Eixo x')\n",
    "ylabel('Eixo y')\n",
    "\n",
    "\n",
    "title('Gráfico de duas funções')\n",
    "\n",
    "legend(loc = 'center left')\n",
    "\n",
    "show()"
   ]
  },
  {
   "cell_type": "code",
   "execution_count": null,
   "metadata": {},
   "outputs": [],
   "source": []
  }
 ],
 "metadata": {
  "kernelspec": {
   "display_name": "Python 3 (ipykernel)",
   "language": "python",
   "name": "python3"
  },
  "language_info": {
   "codemirror_mode": {
    "name": "ipython",
    "version": 3
   },
   "file_extension": ".py",
   "mimetype": "text/x-python",
   "name": "python",
   "nbconvert_exporter": "python",
   "pygments_lexer": "ipython3",
   "version": "3.8.10"
  }
 },
 "nbformat": 4,
 "nbformat_minor": 4
}
