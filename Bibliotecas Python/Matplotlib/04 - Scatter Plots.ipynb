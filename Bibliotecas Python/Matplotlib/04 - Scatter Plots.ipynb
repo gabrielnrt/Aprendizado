{
 "cells": [
  {
   "cell_type": "code",
   "execution_count": 20,
   "metadata": {},
   "outputs": [
    {
     "data": {
      "image/png": "[encoded data removed]",
      "text/plain": [
       "<Figure size 432x288 with 1 Axes>"
      ]
     },
     "metadata": {
      "needs_background": "light"
     },
     "output_type": "display_data"
    }
   ],
   "source": [
    "import matplotlib.pyplot as plt\n",
    "\n",
    "x = [1,2,3,4,5,6,7,8]\n",
    "y = [5,6,8,3,9,5,0,7]\n",
    "\n",
    "\n",
    "# Esse é o comando qu faz o scatter: 'plt.scatter(...)'\n",
    "# o 's' é de size, e ele determina o tamanho do símbolo (marker)\n",
    "# Para ver mais símbolos de marcadores, é só colocar no google 'matplotlib marker options'\n",
    "\n",
    "plt.scatter(x,y, label='skitscat', color='k', marker='+', s=100)\n",
    "\n",
    "plt.xlabel('x')\n",
    "plt.ylabel('y')\n",
    "plt.title('Título do gráfico')\n",
    "\n",
    "plt.legend()\n",
    "\n",
    "plt.show()"
   ]
  },
  {
   "cell_type": "code",
   "execution_count": null,
   "metadata": {},
   "outputs": [],
   "source": []
  }
 ],
 "metadata": {
  "kernelspec": {
   "display_name": "Python 3",
   "language": "python",
   "name": "python3"
  },
  "language_info": {
   "codemirror_mode": {
    "name": "ipython",
    "version": 3
   },
   "file_extension": ".py",
   "mimetype": "text/x-python",
   "name": "python",
   "nbconvert_exporter": "python",
   "pygments_lexer": "ipython3",
   "version": "3.7.1"
  }
 },
 "nbformat": 4,
 "nbformat_minor": 2
}
