{
 "cells": [
  {
   "cell_type": "markdown",
   "metadata": {},
   "source": [
    "# Gráfico de dispersão"
   ]
  },
  {
   "cell_type": "code",
   "execution_count": 1,
   "metadata": {},
   "outputs": [],
   "source": [
    "from pylab import scatter, xlabel, ylabel, title, legend, show"
   ]
  },
  {
   "cell_type": "code",
   "execution_count": 5,
   "metadata": {},
   "outputs": [],
   "source": [
    "x = [1,2,3,4,5,6,7,8]\n",
    "y = [5,6,8,3,9,5,0,7]"
   ]
  },
  {
   "cell_type": "markdown",
   "metadata": {},
   "source": [
    "Para realizar gráficos de dispersão, uma opção é chamando a função ```scatter()```. O que ela tem de diferente do ```plot()``` é que podemos configurar o símbolo de marcador, que no caso foi escolhido o \"+\". Para ver todas as opções possíveis, basta acessar o link https://matplotlib.org/stable/api/markers_api.html. Além disso, também temos o parâmetro \"s\" (size), que se refere ao tamanho do símbolo de marcador."
   ]
  },
  {
   "cell_type": "code",
   "execution_count": 9,
   "metadata": {},
   "outputs": [
    {
     "data": {
      "image/png": "[encoded data removed]",
      "text/plain": [
       "<Figure size 432x288 with 1 Axes>"
      ]
     },
     "metadata": {
      "needs_background": "light"
     },
     "output_type": "display_data"
    }
   ],
   "source": [
    "scatter(x,y, label='skitscat', color='k', marker='+', s=100)\n",
    "\n",
    "xlabel('x')\n",
    "ylabel('y')\n",
    "title('Título do gráfico')\n",
    "\n",
    "legend()\n",
    "\n",
    "show()"
   ]
  },
  {
   "cell_type": "markdown",
   "metadata": {},
   "source": [
    "Caso queiramos adicionar barras de erro no gráfico, podemos usar a função ```errorbar()```, que usei na monografia: https://github.com/gabrielnrt/Unicamp/blob/main/Gradua%C3%A7%C3%A3o/F896/monografia.py"
   ]
  },
  {
   "cell_type": "code",
   "execution_count": null,
   "metadata": {},
   "outputs": [],
   "source": []
  }
 ],
 "metadata": {
  "kernelspec": {
   "display_name": "Python 3 (ipykernel)",
   "language": "python",
   "name": "python3"
  },
  "language_info": {
   "codemirror_mode": {
    "name": "ipython",
    "version": 3
   },
   "file_extension": ".py",
   "mimetype": "text/x-python",
   "name": "python",
   "nbconvert_exporter": "python",
   "pygments_lexer": "ipython3",
   "version": "3.8.10"
  }
 },
 "nbformat": 4,
 "nbformat_minor": 4
}
