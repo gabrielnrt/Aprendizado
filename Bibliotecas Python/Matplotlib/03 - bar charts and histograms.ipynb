{
 "cells": [
  {
   "cell_type": "markdown",
   "metadata": {
    "tags": []
   },
   "source": [
    "# Histogramas e gráfico de barras"
   ]
  },
  {
   "cell_type": "code",
   "execution_count": 3,
   "metadata": {},
   "outputs": [],
   "source": [
    "from pylab import bar, hist, xlabel, ylabel, title, legend, show"
   ]
  },
  {
   "cell_type": "markdown",
   "metadata": {},
   "source": [
    "## Barras"
   ]
  },
  {
   "cell_type": "code",
   "execution_count": 22,
   "metadata": {
    "scrolled": true
   },
   "outputs": [
    {
     "data": {
      "image/png": "[encoded data removed]",
      "text/plain": [
       "<Figure size 432x288 with 1 Axes>"
      ]
     },
     "metadata": {
      "needs_background": "light"
     },
     "output_type": "display_data"
    }
   ],
   "source": [
    "x = [2,4,6,8,10]\n",
    "y = [6,7,8,2, 4]\n",
    "\n",
    "x2 =[1,6,4,8,9] \n",
    "y2 =[2,4,3,0,6]\n",
    "\n",
    "\n",
    "bar(x,y, label='Barra 1', color='black')\n",
    "bar(x2,y2, label='Barra 2', color='c')\n",
    "\n",
    "\n",
    "\n",
    "xlabel('x')\n",
    "ylabel('y')\n",
    "title('Título do gráfico')\n",
    "\n",
    "legend()\n",
    "\n",
    "show()"
   ]
  },
  {
   "cell_type": "markdown",
   "metadata": {},
   "source": [
    "Como interpretar esse gráfico de barras? O valor de um tipo (preto ou ciano no caso) é igual ao valor mais alto que estiver \"na ponta\" de cima. Por exemplo, quando $x = 6$, o valor da barra em ciano é 4, enquanto que o valor da barra preta é 8, pois esse é o valor correspondente à \"ponta\" de cima da barra preta."
   ]
  },
  {
   "cell_type": "markdown",
   "metadata": {
    "tags": []
   },
   "source": [
    "## Histogramas"
   ]
  },
  {
   "cell_type": "markdown",
   "metadata": {},
   "source": [
    "A lista que chamamos de ```bins``` é referente aos pontos os quais definem os intervalos do histograma. Por exemplo, os primeiros termos são 0,10,20; o que significa que haverá uma barra para os elementos que estão entre 0 e 10, entre 10 e 20, e assim por diante."
   ]
  },
  {
   "cell_type": "code",
   "execution_count": 19,
   "metadata": {},
   "outputs": [],
   "source": [
    "bins = [0,10,20,30,40,50,60,70,80,90,100,110,120,130]"
   ]
  },
  {
   "cell_type": "code",
   "execution_count": 20,
   "metadata": {},
   "outputs": [],
   "source": [
    "population = [22,55,44,36,87,18,90,74,55,22,20,15,43,44,80,74,120,64,33]\n",
    "\n",
    "vinho = '#900020' # O código #900020 se refere a cor \"vinho.\""
   ]
  },
  {
   "cell_type": "code",
   "execution_count": 21,
   "metadata": {},
   "outputs": [
    {
     "data": {
      "image/png": "[encoded data removed]",
      "text/plain": [
       "<Figure size 432x288 with 1 Axes>"
      ]
     },
     "metadata": {
      "needs_background": "light"
     },
     "output_type": "display_data"
    }
   ],
   "source": [
    "hist(population, bins, histtype='bar', rwidth =0.8, color=vinho)\n",
    "\n",
    "\n",
    "xlabel('Faixa etária')\n",
    "ylabel('Idade')\n",
    "title('Histogramas')\n",
    "\n",
    "show()\n",
    "\n"
   ]
  },
  {
   "cell_type": "code",
   "execution_count": null,
   "metadata": {},
   "outputs": [],
   "source": []
  }
 ],
 "metadata": {
  "kernelspec": {
   "display_name": "Python 3 (ipykernel)",
   "language": "python",
   "name": "python3"
  },
  "language_info": {
   "codemirror_mode": {
    "name": "ipython",
    "version": 3
   },
   "file_extension": ".py",
   "mimetype": "text/x-python",
   "name": "python",
   "nbconvert_exporter": "python",
   "pygments_lexer": "ipython3",
   "version": "3.8.10"
  }
 },
 "nbformat": 4,
 "nbformat_minor": 4
}
