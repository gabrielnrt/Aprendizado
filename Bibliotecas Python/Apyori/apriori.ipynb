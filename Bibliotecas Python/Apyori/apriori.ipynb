{
 "cells": [
  {
   "cell_type": "markdown",
   "id": "4e37c277-3810-4b36-bc86-15cbe37dd0bd",
   "metadata": {},
   "source": [
    "# Regras de Associação (Apriori)"
   ]
  },
  {
   "cell_type": "markdown",
   "id": "c99d340f-1564-4e8a-8309-a020f541b64d",
   "metadata": {
    "jp-MarkdownHeadingCollapsed": true,
    "tags": []
   },
   "source": [
    "## Introdução"
   ]
  },
  {
   "cell_type": "markdown",
   "id": "a67d8e57-1331-4473-acc3-251f6412d9af",
   "metadata": {},
   "source": [
    "Antes de falar sobre o modelo propriamente dito, gostaria de ressaltar primeiramente que só consegui achar algo parecido com a documentação nos seguintes links: \n",
    "\n",
    "* https://github.com/ymoch/apyori/blob/master/apyori.py\n",
    "* https://zaxrosenberg.com/unofficial-apyori-documentation/\n",
    "\n",
    "Assim sendo, vejamos agora as regras de associação. Considere a relação \"A => B\". A grosso modo, podemos interpretar essa relação como: quem compra A também compra B. \n",
    "\n",
    "Então, definimos \n",
    "\n",
    "* Suporte: número de transações que contém A e B dividido pelo número total de registros;\n",
    "* Confiança: indica a proporção de vezes que, numa transação contendo A, também tem B;\n",
    "* Lift: Confiança/Suporte.\n",
    "\n",
    "Por exemplo, imagine que A, B, C, ... sejam produtos comprados numa loja, e que o histórico de compras de clientes num determinado período seja:\n",
    "\n",
    "* Cliente 1: A, C, D, E;\n",
    "* Cliente 2: A, B;\n",
    "* Cliente 3: B, C, D;\n",
    "* Cliente 4: A, B, C.\n",
    "\n",
    "Nesse caso, temos\n",
    "\n",
    "* * Suporte = 2/4 = 1/2\n",
    "* * Confiança = 2/3\n",
    "* * Lift = (2/3)/(1/2) = 4/3.\n",
    "\n",
    "Deste modo, vejamos no próximo bloco como aplicar essas ideias num conjunto de dados."
   ]
  },
  {
   "cell_type": "markdown",
   "id": "c68c87ab-e352-4f0a-8927-565ea21e3fe8",
   "metadata": {
    "jp-MarkdownHeadingCollapsed": true,
    "tags": []
   },
   "source": [
    "## Dados Iniciais"
   ]
  },
  {
   "cell_type": "code",
   "execution_count": 2,
   "id": "1a271838-17a1-48a9-8f64-a2a017862fe8",
   "metadata": {},
   "outputs": [
    {
     "data": {
      "text/html": [
       "<div>\n",
       "<style scoped>\n",
       "    .dataframe tbody tr th:only-of-type {\n",
       "        vertical-align: middle;\n",
       "    }\n",
       "\n",
       "    .dataframe tbody tr th {\n",
       "        vertical-align: top;\n",
       "    }\n",
       "\n",
       "    .dataframe thead th {\n",
       "        text-align: right;\n",
       "    }\n",
       "</style>\n",
       "<table border=\"1\" class=\"dataframe\">\n",
       "  <thead>\n",
       "    <tr style=\"text-align: right;\">\n",
       "      <th></th>\n",
       "      <th>0</th>\n",
       "      <th>1</th>\n",
       "      <th>2</th>\n",
       "    </tr>\n",
       "  </thead>\n",
       "  <tbody>\n",
       "    <tr>\n",
       "      <th>0</th>\n",
       "      <td>Cerveja</td>\n",
       "      <td>Pizza</td>\n",
       "      <td>Sorvete</td>\n",
       "    </tr>\n",
       "    <tr>\n",
       "      <th>1</th>\n",
       "      <td>Pizza</td>\n",
       "      <td>Sorvete</td>\n",
       "      <td>NaN</td>\n",
       "    </tr>\n",
       "    <tr>\n",
       "      <th>2</th>\n",
       "      <td>Cerveja</td>\n",
       "      <td>Pizza</td>\n",
       "      <td>NaN</td>\n",
       "    </tr>\n",
       "    <tr>\n",
       "      <th>3</th>\n",
       "      <td>Cerveja</td>\n",
       "      <td>Pizza</td>\n",
       "      <td>Sorvete</td>\n",
       "    </tr>\n",
       "    <tr>\n",
       "      <th>4</th>\n",
       "      <td>Cerveja</td>\n",
       "      <td>Pizza</td>\n",
       "      <td>NaN</td>\n",
       "    </tr>\n",
       "    <tr>\n",
       "      <th>5</th>\n",
       "      <td>Pizza</td>\n",
       "      <td>NaN</td>\n",
       "      <td>NaN</td>\n",
       "    </tr>\n",
       "  </tbody>\n",
       "</table>\n",
       "</div>"
      ],
      "text/plain": [
       "         0        1        2\n",
       "0  Cerveja    Pizza  Sorvete\n",
       "1    Pizza  Sorvete      NaN\n",
       "2  Cerveja    Pizza      NaN\n",
       "3  Cerveja    Pizza  Sorvete\n",
       "4  Cerveja    Pizza      NaN\n",
       "5    Pizza      NaN      NaN"
      ]
     },
     "execution_count": 2,
     "metadata": {},
     "output_type": "execute_result"
    }
   ],
   "source": [
    "from pandas import read_csv\n",
    "\n",
    "dados = read_csv('transacoes.txt', header = None)\n",
    "\n",
    "dados"
   ]
  },
  {
   "cell_type": "code",
   "execution_count": 3,
   "id": "83933b8c-1f0a-43fc-9adf-b5560616e312",
   "metadata": {},
   "outputs": [
    {
     "data": {
      "text/plain": [
       "pandas.core.frame.DataFrame"
      ]
     },
     "execution_count": 3,
     "metadata": {},
     "output_type": "execute_result"
    }
   ],
   "source": [
    "type(dados)"
   ]
  },
  {
   "cell_type": "markdown",
   "id": "88ecca95-62d7-417b-982e-50efa069515a",
   "metadata": {},
   "source": [
    "Vamos transformar a tipagem de ```DataFrame``` para ```list``` pois a biblioteca que vamos usar necessita desse último tipo."
   ]
  },
  {
   "cell_type": "code",
   "execution_count": 4,
   "id": "b0092b5b-724e-4fe3-a8af-dee7d883c8aa",
   "metadata": {},
   "outputs": [
    {
     "data": {
      "text/plain": [
       "[['Cerveja', 'Pizza', 'Sorvete'],\n",
       " ['Pizza', 'Sorvete', 'nan'],\n",
       " ['Cerveja', 'Pizza', 'nan'],\n",
       " ['Cerveja', 'Pizza', 'Sorvete'],\n",
       " ['Cerveja', 'Pizza', 'nan'],\n",
       " ['Pizza', 'nan', 'nan']]"
      ]
     },
     "execution_count": 4,
     "metadata": {},
     "output_type": "execute_result"
    }
   ],
   "source": [
    "transacoes = []\n",
    "\n",
    "for i in range(0,6):\n",
    "    transacoes.append([str(dados.values[i,j]) for j in range(0,3)])\n",
    "\n",
    "transacoes"
   ]
  },
  {
   "cell_type": "markdown",
   "id": "0199eb45-5541-4c69-bbbd-a5df352a7562",
   "metadata": {
    "jp-MarkdownHeadingCollapsed": true,
    "tags": []
   },
   "source": [
    "## ```apriori```"
   ]
  },
  {
   "cell_type": "markdown",
   "id": "d182f591-2cc9-4203-8ed2-a9f25561e453",
   "metadata": {},
   "source": [
    "Para importar o modelo Apriori, basta digitar"
   ]
  },
  {
   "cell_type": "code",
   "execution_count": 5,
   "id": "42653332-8d4b-46e0-8612-50a639a52b51",
   "metadata": {},
   "outputs": [],
   "source": [
    "from apyori import apriori"
   ]
  },
  {
   "cell_type": "markdown",
   "id": "6b62b889-a6a0-4160-bc51-075ec877d82b",
   "metadata": {},
   "source": [
    "Assim, executamos o algoritmo configurando os valores mínimos de suporte e confiança."
   ]
  },
  {
   "cell_type": "code",
   "execution_count": 19,
   "id": "a1302d60-c47d-4dc9-a09a-ab9c8fc10e8e",
   "metadata": {},
   "outputs": [],
   "source": [
    "regras = apriori(transacoes, \n",
    "                 min_support = 0.5,\n",
    "                 min_confidence = 0.5,\n",
    "                 min_length=2)"
   ]
  },
  {
   "cell_type": "markdown",
   "id": "7fe270ae-9e1e-4180-8f39-b45375aa2f7b",
   "metadata": {},
   "source": [
    "Para visualizar o objeto criado, devemos transformá-la em lista."
   ]
  },
  {
   "cell_type": "code",
   "execution_count": 20,
   "id": "b6d19883-25f1-4b65-bed1-0fcf961e8a31",
   "metadata": {},
   "outputs": [
    {
     "data": {
      "text/plain": [
       "[RelationRecord(items=frozenset({'Cerveja'}), support=0.6666666666666666, ordered_statistics=[OrderedStatistic(items_base=frozenset(), items_add=frozenset({'Cerveja'}), confidence=0.6666666666666666, lift=1.0)]),\n",
       " RelationRecord(items=frozenset({'Pizza'}), support=1.0, ordered_statistics=[OrderedStatistic(items_base=frozenset(), items_add=frozenset({'Pizza'}), confidence=1.0, lift=1.0)]),\n",
       " RelationRecord(items=frozenset({'Sorvete'}), support=0.5, ordered_statistics=[OrderedStatistic(items_base=frozenset(), items_add=frozenset({'Sorvete'}), confidence=0.5, lift=1.0)]),\n",
       " RelationRecord(items=frozenset({'nan'}), support=0.6666666666666666, ordered_statistics=[OrderedStatistic(items_base=frozenset(), items_add=frozenset({'nan'}), confidence=0.6666666666666666, lift=1.0)]),\n",
       " RelationRecord(items=frozenset({'Pizza', 'Cerveja'}), support=0.6666666666666666, ordered_statistics=[OrderedStatistic(items_base=frozenset(), items_add=frozenset({'Pizza', 'Cerveja'}), confidence=0.6666666666666666, lift=1.0), OrderedStatistic(items_base=frozenset({'Cerveja'}), items_add=frozenset({'Pizza'}), confidence=1.0, lift=1.0), OrderedStatistic(items_base=frozenset({'Pizza'}), items_add=frozenset({'Cerveja'}), confidence=0.6666666666666666, lift=1.0)]),\n",
       " RelationRecord(items=frozenset({'Sorvete', 'Pizza'}), support=0.5, ordered_statistics=[OrderedStatistic(items_base=frozenset(), items_add=frozenset({'Sorvete', 'Pizza'}), confidence=0.5, lift=1.0), OrderedStatistic(items_base=frozenset({'Pizza'}), items_add=frozenset({'Sorvete'}), confidence=0.5, lift=1.0), OrderedStatistic(items_base=frozenset({'Sorvete'}), items_add=frozenset({'Pizza'}), confidence=1.0, lift=1.0)]),\n",
       " RelationRecord(items=frozenset({'Pizza', 'nan'}), support=0.6666666666666666, ordered_statistics=[OrderedStatistic(items_base=frozenset(), items_add=frozenset({'Pizza', 'nan'}), confidence=0.6666666666666666, lift=1.0), OrderedStatistic(items_base=frozenset({'Pizza'}), items_add=frozenset({'nan'}), confidence=0.6666666666666666, lift=1.0), OrderedStatistic(items_base=frozenset({'nan'}), items_add=frozenset({'Pizza'}), confidence=1.0, lift=1.0)])]"
      ]
     },
     "execution_count": 20,
     "metadata": {},
     "output_type": "execute_result"
    }
   ],
   "source": [
    "resultados = list(regras)\n",
    "\n",
    "resultados"
   ]
  },
  {
   "cell_type": "markdown",
   "id": "cdd5f53b-6cfd-4b57-a656-44b9ba762a60",
   "metadata": {},
   "source": [
    "Para visualizar melhor esses resultados, criemos uma nova lista"
   ]
  },
  {
   "cell_type": "code",
   "execution_count": 23,
   "id": "c67e95f5-99fc-4e55-8d87-5099afb40ba0",
   "metadata": {},
   "outputs": [
    {
     "data": {
      "text/plain": [
       "[[frozenset({'Cerveja'}),\n",
       "  0.6666666666666666,\n",
       "  [OrderedStatistic(items_base=frozenset(), items_add=frozenset({'Cerveja'}), confidence=0.6666666666666666, lift=1.0)]],\n",
       " [frozenset({'Pizza'}),\n",
       "  1.0,\n",
       "  [OrderedStatistic(items_base=frozenset(), items_add=frozenset({'Pizza'}), confidence=1.0, lift=1.0)]],\n",
       " [frozenset({'Sorvete'}),\n",
       "  0.5,\n",
       "  [OrderedStatistic(items_base=frozenset(), items_add=frozenset({'Sorvete'}), confidence=0.5, lift=1.0)]],\n",
       " [frozenset({'nan'}),\n",
       "  0.6666666666666666,\n",
       "  [OrderedStatistic(items_base=frozenset(), items_add=frozenset({'nan'}), confidence=0.6666666666666666, lift=1.0)]],\n",
       " [frozenset({'Cerveja', 'Pizza'}),\n",
       "  0.6666666666666666,\n",
       "  [OrderedStatistic(items_base=frozenset(), items_add=frozenset({'Pizza', 'Cerveja'}), confidence=0.6666666666666666, lift=1.0),\n",
       "   OrderedStatistic(items_base=frozenset({'Cerveja'}), items_add=frozenset({'Pizza'}), confidence=1.0, lift=1.0),\n",
       "   OrderedStatistic(items_base=frozenset({'Pizza'}), items_add=frozenset({'Cerveja'}), confidence=0.6666666666666666, lift=1.0)]],\n",
       " [frozenset({'Pizza', 'Sorvete'}),\n",
       "  0.5,\n",
       "  [OrderedStatistic(items_base=frozenset(), items_add=frozenset({'Sorvete', 'Pizza'}), confidence=0.5, lift=1.0),\n",
       "   OrderedStatistic(items_base=frozenset({'Pizza'}), items_add=frozenset({'Sorvete'}), confidence=0.5, lift=1.0),\n",
       "   OrderedStatistic(items_base=frozenset({'Sorvete'}), items_add=frozenset({'Pizza'}), confidence=1.0, lift=1.0)]],\n",
       " [frozenset({'Pizza', 'nan'}),\n",
       "  0.6666666666666666,\n",
       "  [OrderedStatistic(items_base=frozenset(), items_add=frozenset({'Pizza', 'nan'}), confidence=0.6666666666666666, lift=1.0),\n",
       "   OrderedStatistic(items_base=frozenset({'Pizza'}), items_add=frozenset({'nan'}), confidence=0.6666666666666666, lift=1.0),\n",
       "   OrderedStatistic(items_base=frozenset({'nan'}), items_add=frozenset({'Pizza'}), confidence=1.0, lift=1.0)]]]"
      ]
     },
     "execution_count": 23,
     "metadata": {},
     "output_type": "execute_result"
    }
   ],
   "source": [
    "resultados2 = [list(x) for x in resultados]\n",
    "\n",
    "resultados2\n",
    "\n",
    "# for x in resultados:\n",
    "#     resultados2 = [list(x)]\n",
    "\n",
    "# resultados2"
   ]
  },
  {
   "cell_type": "markdown",
   "id": "e8d5b188-391c-4092-8a0e-0ea1380048c6",
   "metadata": {},
   "source": [
    "Desta maneira fica mais legível enxergar os parâmetros de suporte, confiança e lift."
   ]
  },
  {
   "cell_type": "code",
   "execution_count": null,
   "id": "fb7e8a2d-fceb-463c-92f0-4f2be5916e1f",
   "metadata": {},
   "outputs": [],
   "source": []
  }
 ],
 "metadata": {
  "kernelspec": {
   "display_name": "Python 3 (ipykernel)",
   "language": "python",
   "name": "python3"
  },
  "language_info": {
   "codemirror_mode": {
    "name": "ipython",
    "version": 3
   },
   "file_extension": ".py",
   "mimetype": "text/x-python",
   "name": "python",
   "nbconvert_exporter": "python",
   "pygments_lexer": "ipython3",
   "version": "3.8.10"
  }
 },
 "nbformat": 4,
 "nbformat_minor": 5
}
