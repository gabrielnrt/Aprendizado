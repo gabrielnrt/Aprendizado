{
 "cells": [
  {
   "cell_type": "markdown",
   "id": "5a032853-91bd-487c-8953-2a5d6e6bbb39",
   "metadata": {},
   "source": [
    "# **DROPDOWN**"
   ]
  },
  {
   "cell_type": "markdown",
   "id": "ee840a09-627c-497d-9a3b-0feff3a4d1c2",
   "metadata": {},
   "source": [
    "## **Introdução**"
   ]
  },
  {
   "cell_type": "markdown",
   "id": "4b4ac841-0a80-4d13-9754-c249e67a3b88",
   "metadata": {},
   "source": [
    "Neste notebook veremos brevemente como utilizar um dropdown, que é essencialmente uma \"caixinha\" que seleciona opções.\n",
    "\n",
    "A documentação se encontra [aqui](https://dash.plotly.com/dash-core-components/dropdown)."
   ]
  },
  {
   "cell_type": "markdown",
   "id": "adde5c2e-c26a-4f4e-abbf-3065a957c000",
   "metadata": {},
   "source": [
    "## **Parâmetros básicos**"
   ]
  },
  {
   "cell_type": "markdown",
   "id": "c2eb2e6c-9df6-4bc1-a56f-0cc503ccfed7",
   "metadata": {},
   "source": [
    "Para criar um dropdown, devemos fornecer os seguintes parâmetros:\n",
    "\n",
    "* `options`: lista com as opções a serem colocadas.\n",
    "\n",
    "* `value`: valor inicial que aparecerá.\n",
    "\n",
    "Também há outros parâmetros, como `id` (comum aos Dash Core Components), mas isso é mais útil nos callbacks."
   ]
  },
  {
   "cell_type": "markdown",
   "id": "c60ca903-2085-4f2b-9ab5-475708023048",
   "metadata": {},
   "source": [
    "## **Exemplo**"
   ]
  },
  {
   "cell_type": "markdown",
   "id": "9a5b13c7-142b-4798-80d2-4fcee6adc8c0",
   "metadata": {},
   "source": [
    "Como exemplo simples, criemos um painel que mostra três opções de código de aeroportos."
   ]
  },
  {
   "cell_type": "code",
   "execution_count": null,
   "id": "ab28a18a-f8d5-4357-a13a-e2adc1609e86",
   "metadata": {},
   "outputs": [],
   "source": [
    "from dash import html, dcc, Dash\n",
    "\n",
    "\n",
    "app = Dash(__name__)\n",
    "\n",
    "app.layout = html.Div(children = [\n",
    "\n",
    "    html.H1(children = 'Códigos de aeroportos'),\n",
    "\n",
    "    dcc.Dropdown(options = ['GRU', 'YYZ', 'ATL'], value = 'GRU')\n",
    "\n",
    "])\n",
    "\n",
    "if __name__ == '__main__':\n",
    "    app.run_server(debug = True)"
   ]
  }
 ],
 "metadata": {
  "kernelspec": {
   "display_name": "Python 3 (ipykernel)",
   "language": "python",
   "name": "python3"
  },
  "language_info": {
   "codemirror_mode": {
    "name": "ipython",
    "version": 3
   },
   "file_extension": ".py",
   "mimetype": "text/x-python",
   "name": "python",
   "nbconvert_exporter": "python",
   "pygments_lexer": "ipython3",
   "version": "3.8.10"
  }
 },
 "nbformat": 4,
 "nbformat_minor": 5
}
