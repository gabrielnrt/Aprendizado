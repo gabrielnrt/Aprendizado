{
 "cells": [
  {
   "cell_type": "markdown",
   "id": "0e739a96-2d12-4d01-b525-7b11110f8c81",
   "metadata": {},
   "source": [
    "# Dash - Layout"
   ]
  },
  {
   "cell_type": "markdown",
   "id": "20ceb37d-6266-4368-8d92-466069f4b35f",
   "metadata": {},
   "source": [
    "## Introdução"
   ]
  },
  {
   "cell_type": "markdown",
   "id": "2c90e010-a654-47ff-b0b8-4ba3452abb59",
   "metadata": {},
   "source": [
    "Neste notebook daremos início à biblioteca Dash, do plotly, para criar painéis interativos. \n",
    "\n",
    "Esses dashboards são compostos por:\n",
    "\n",
    "1. Dash Components: são objetos que interagem com o usuário, como slider, botão, dropdown e calendário\n",
    "\n",
    "2. Gráficos do Plotly: o que inclui histogramas, gráficos em pizza, mapas, dentre outros\n",
    "\n",
    "3. Callbacks: são objetos que farão a conexão dos componentes Dash e os gráficos de modo que o painel fique interativo.\n",
    "\n",
    "Os dois primeiros elementos ficam num objeto chamado `layout`, que é o assunto deste notebook. Usaremos o exemplo da documentação com algumas mudanças, que se encontra [aqui](https://dash.plotly.com/layout)."
   ]
  },
  {
   "cell_type": "markdown",
   "id": "1dd813a8-0a78-4598-8799-d47e3c0b54f9",
   "metadata": {},
   "source": [
    "# Dados Iniciais"
   ]
  },
  {
   "cell_type": "markdown",
   "id": "04bc062a-5e44-4543-bd15-9be0a50e194f",
   "metadata": {},
   "source": [
    "Como no exemplo da documentação, criaremos um painel contendo um gráfico de barras sobre quantidade de frutas em diferentes cidades."
   ]
  },
  {
   "cell_type": "code",
   "execution_count": 6,
   "id": "8dfafb67-0202-4b68-a9e1-3628d00485b4",
   "metadata": {},
   "outputs": [
    {
     "data": {
      "text/html": [
       "<div>\n",
       "<style scoped>\n",
       "    .dataframe tbody tr th:only-of-type {\n",
       "        vertical-align: middle;\n",
       "    }\n",
       "\n",
       "    .dataframe tbody tr th {\n",
       "        vertical-align: top;\n",
       "    }\n",
       "\n",
       "    .dataframe thead th {\n",
       "        text-align: right;\n",
       "    }\n",
       "</style>\n",
       "<table border=\"1\" class=\"dataframe\">\n",
       "  <thead>\n",
       "    <tr style=\"text-align: right;\">\n",
       "      <th></th>\n",
       "      <th>Fruit</th>\n",
       "      <th>Amount</th>\n",
       "      <th>City</th>\n",
       "    </tr>\n",
       "  </thead>\n",
       "  <tbody>\n",
       "    <tr>\n",
       "      <th>0</th>\n",
       "      <td>Apples</td>\n",
       "      <td>4</td>\n",
       "      <td>SF</td>\n",
       "    </tr>\n",
       "    <tr>\n",
       "      <th>1</th>\n",
       "      <td>Oranges</td>\n",
       "      <td>1</td>\n",
       "      <td>SF</td>\n",
       "    </tr>\n",
       "    <tr>\n",
       "      <th>2</th>\n",
       "      <td>Bananas</td>\n",
       "      <td>2</td>\n",
       "      <td>SF</td>\n",
       "    </tr>\n",
       "    <tr>\n",
       "      <th>3</th>\n",
       "      <td>Apples</td>\n",
       "      <td>2</td>\n",
       "      <td>Montreal</td>\n",
       "    </tr>\n",
       "    <tr>\n",
       "      <th>4</th>\n",
       "      <td>Oranges</td>\n",
       "      <td>4</td>\n",
       "      <td>Montreal</td>\n",
       "    </tr>\n",
       "    <tr>\n",
       "      <th>5</th>\n",
       "      <td>Bananas</td>\n",
       "      <td>5</td>\n",
       "      <td>Montreal</td>\n",
       "    </tr>\n",
       "  </tbody>\n",
       "</table>\n",
       "</div>"
      ],
      "text/plain": [
       "     Fruit  Amount      City\n",
       "0   Apples       4        SF\n",
       "1  Oranges       1        SF\n",
       "2  Bananas       2        SF\n",
       "3   Apples       2  Montreal\n",
       "4  Oranges       4  Montreal\n",
       "5  Bananas       5  Montreal"
      ]
     },
     "execution_count": 6,
     "metadata": {},
     "output_type": "execute_result"
    }
   ],
   "source": [
    "from pandas import DataFrame\n",
    "\n",
    "dicionario = {\"Fruit\": [\"Apples\", \"Oranges\", \"Bananas\", \"Apples\", \"Oranges\", \"Bananas\"],\n",
    "              \"Amount\": [4, 1, 2, 2, 4, 5],\n",
    "              \"City\": [\"SF\", \"SF\", \"SF\", \"Montreal\", \"Montreal\", \"Montreal\"]}\n",
    "\n",
    "df = DataFrame(dicionario) \n",
    "\n",
    "df"
   ]
  },
  {
   "cell_type": "code",
   "execution_count": null,
   "id": "230f616a-d37b-42f5-b697-613ffcb24002",
   "metadata": {},
   "outputs": [],
   "source": [
    "from dash import Dash, html, dcc\n",
    "from plotly.express import bar\n",
    "from pandas import DataFrame\n",
    "\n",
    "app = Dash(__name__)\n",
    "\n",
    "df = pd.DataFrame({\n",
    "    \"Fruit\": [\"Apples\", \"Oranges\", \"Bananas\", \"Apples\", \"Oranges\", \"Bananas\"],\n",
    "    \"Amount\": [4, 1, 2, 2, 4, 5],\n",
    "    \"City\": [\"SF\", \"SF\", \"SF\", \"Montreal\", \"Montreal\", \"Montreal\"]\n",
    "})\n",
    "\n",
    "fig = px.bar(df, x=\"Fruit\", y=\"Amount\", color=\"City\", barmode=\"group\")\n",
    "\n",
    "app.layout = html.Div(children=[\n",
    "    html.H1(children='Hello Dash'),\n",
    "\n",
    "    html.Div(children='''\n",
    "        Dash: A web application framework for your data.\n",
    "    '''),\n",
    "\n",
    "    dcc.Graph(\n",
    "        id='example-graph',\n",
    "        figure=fig\n",
    "    )\n",
    "])\n",
    "\n",
    "if __name__ == '__main__':\n",
    "    app.run_server(debug=True)\n"
   ]
  }
 ],
 "metadata": {
  "kernelspec": {
   "display_name": "Python 3 (ipykernel)",
   "language": "python",
   "name": "python3"
  },
  "language_info": {
   "codemirror_mode": {
    "name": "ipython",
    "version": 3
   },
   "file_extension": ".py",
   "mimetype": "text/x-python",
   "name": "python",
   "nbconvert_exporter": "python",
   "pygments_lexer": "ipython3",
   "version": "3.8.10"
  }
 },
 "nbformat": 4,
 "nbformat_minor": 5
}
