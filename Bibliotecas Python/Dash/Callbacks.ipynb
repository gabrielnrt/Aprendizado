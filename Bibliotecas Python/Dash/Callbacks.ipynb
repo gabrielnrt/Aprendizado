{
 "cells": [
  {
   "cell_type": "markdown",
   "id": "830ab0f1-d78c-4852-9c1d-eb3e1c22ebd6",
   "metadata": {},
   "source": [
    "# **CALLBACKS**"
   ]
  },
  {
   "cell_type": "markdown",
   "id": "e5ae088d-b407-469e-8794-4357633385c7",
   "metadata": {},
   "source": [
    "## **Introdução**"
   ]
  },
  {
   "cell_type": "markdown",
   "id": "7ef227c4-f947-4933-9ba5-abf2ba58b031",
   "metadata": {},
   "source": [
    "Nesta seção veremos de maneira introdutória como usar uma Callback. Uma explicação com mais exemplos se encontra no [site](https://dash.plotly.com/basic-callbacks) do plotly. Boa parte do conteúdo está baseado nos vídeos dos canais [Charming Data](https://www.youtube.com/watch?v=hSPmj7mK6ng&list=PLiDkHyXHxWCQdFgewaR6vYY1Q4NMBKokv&index=2) e da [Hashtag Programação](https://www.youtube.com/watch?v=aS64PvDqCbU&list=PLiDkHyXHxWCQdFgewaR6vYY1Q4NMBKokv&index=2)."
   ]
  },
  {
   "cell_type": "markdown",
   "id": "f73e1309-601b-45b6-a363-b26efaaadd9c",
   "metadata": {},
   "source": [
    "## **Dados Iniciais**"
   ]
  },
  {
   "cell_type": "markdown",
   "id": "51ab2c9a-d28b-42ea-8672-e9d73579e492",
   "metadata": {},
   "source": [
    "A ideia é construir um painel que conecte um dropdown com um gráfico, de modo que o dropdown selecione qual gráfico aparecerá. Tendo isso em vista, usaremos a mesma tabela de dados que [neste](https://github.com/gabrielnrt/Aprendizado/blob/main/Bibliotecas%20Python/Plotly%20Express/Linhas.ipynb) notebook."
   ]
  },
  {
   "cell_type": "code",
   "execution_count": 1,
   "id": "300623cc-0603-467d-838b-9e9fd6d23e8c",
   "metadata": {},
   "outputs": [
    {
     "data": {
      "text/html": [
       "<div>\n",
       "<style scoped>\n",
       "    .dataframe tbody tr th:only-of-type {\n",
       "        vertical-align: middle;\n",
       "    }\n",
       "\n",
       "    .dataframe tbody tr th {\n",
       "        vertical-align: top;\n",
       "    }\n",
       "\n",
       "    .dataframe thead th {\n",
       "        text-align: right;\n",
       "    }\n",
       "</style>\n",
       "<table border=\"1\" class=\"dataframe\">\n",
       "  <thead>\n",
       "    <tr style=\"text-align: right;\">\n",
       "      <th></th>\n",
       "      <th>Valores de x</th>\n",
       "      <th>Y_1</th>\n",
       "      <th>Y_2</th>\n",
       "    </tr>\n",
       "  </thead>\n",
       "  <tbody>\n",
       "    <tr>\n",
       "      <th>0</th>\n",
       "      <td>0.00</td>\n",
       "      <td>-0.5000</td>\n",
       "      <td>-1.00</td>\n",
       "    </tr>\n",
       "    <tr>\n",
       "      <th>1</th>\n",
       "      <td>0.01</td>\n",
       "      <td>-0.4999</td>\n",
       "      <td>-0.98</td>\n",
       "    </tr>\n",
       "    <tr>\n",
       "      <th>2</th>\n",
       "      <td>0.02</td>\n",
       "      <td>-0.4996</td>\n",
       "      <td>-0.96</td>\n",
       "    </tr>\n",
       "    <tr>\n",
       "      <th>3</th>\n",
       "      <td>0.03</td>\n",
       "      <td>-0.4991</td>\n",
       "      <td>-0.94</td>\n",
       "    </tr>\n",
       "    <tr>\n",
       "      <th>4</th>\n",
       "      <td>0.04</td>\n",
       "      <td>-0.4984</td>\n",
       "      <td>-0.92</td>\n",
       "    </tr>\n",
       "  </tbody>\n",
       "</table>\n",
       "</div>"
      ],
      "text/plain": [
       "   Valores de x     Y_1   Y_2\n",
       "0          0.00 -0.5000 -1.00\n",
       "1          0.01 -0.4999 -0.98\n",
       "2          0.02 -0.4996 -0.96\n",
       "3          0.03 -0.4991 -0.94\n",
       "4          0.04 -0.4984 -0.92"
      ]
     },
     "execution_count": 1,
     "metadata": {},
     "output_type": "execute_result"
    }
   ],
   "source": [
    "from pandas import DataFrame\n",
    "from numpy import arange\n",
    "\n",
    "x = arange(0.0, 2.0, 0.01)\n",
    "y1 = x**2 - 0.5\n",
    "y2 = 2*x - 1\n",
    "\n",
    "dicionario = {'Valores de x': x, 'Y_1': y1, 'Y_2': y2}\n",
    "\n",
    "df = DataFrame(dicionario)\n",
    "\n",
    "df.head()"
   ]
  },
  {
   "cell_type": "markdown",
   "id": "0627c74c-eeff-4486-a421-6bb64fa6d56d",
   "metadata": {},
   "source": [
    "## **Estrutura do Painel**"
   ]
  },
  {
   "cell_type": "markdown",
   "id": "86f0a362-3b3e-468a-ab42-94785e690fb2",
   "metadata": {},
   "source": [
    "A estrutura do painel terá um título, seguido de uma mensagem para selecionar o gráfico, dropdown contendo as opções e o gráfico propriamente dito."
   ]
  },
  {
   "cell_type": "code",
   "execution_count": 6,
   "id": "bba333f8-bac2-47f8-84a6-e43850e3e30a",
   "metadata": {},
   "outputs": [],
   "source": [
    "from dash import Dash, html, dcc\n",
    "from plotly.express import line\n",
    "\n",
    "app = Dash(__name__)\n",
    "\n",
    "app.layout = html.Div(children = [\n",
    "                html.H1('Callback Básica'),\n",
    "\n",
    "                html.Div('Selecione a função'),\n",
    "\n",
    "                html.Br(),\n",
    "\n",
    "                dcc.Dropdown(id = 'botao',\n",
    "                            options = ['f(x) = x² - 0.5', 'f(x) = 2x -1'], \n",
    "                             value = 'f(x) = x² - 0.5'),\n",
    "\n",
    "                dcc.Graph(id = 'grafico',\n",
    "                          figure = {})\n",
    "                          # figure = line(data_frame = df,\n",
    "                          #               x = 'Valores de x',\n",
    "                          #               y = 'Y_1',\n",
    "                          #               labels = {'Y_1': 'f(x) = x² - 0.5'}))\n",
    "\n",
    "\n",
    "])"
   ]
  },
  {
   "cell_type": "markdown",
   "id": "a9b3e835-7161-4faa-a05c-184ae46a6b01",
   "metadata": {},
   "source": [
    "Aqui eu coloquei um parâmetro `id` pois isso será utilizado quando criarmos a callback. Além disso, eu deixei a figura como um dicionário vazio pois é justamente esse parâmetro que será alterado."
   ]
  },
  {
   "cell_type": "markdown",
   "id": "dc0dc773-e8d3-4edb-9d34-033a5ff0ad02",
   "metadata": {},
   "source": [
    "## **`Input` e `Output`**"
   ]
  },
  {
   "cell_type": "markdown",
   "id": "b7b92d50-4f60-4abe-9835-7b0caa4fad69",
   "metadata": {},
   "source": [
    "Para criar uma callback, precisamos importar os objetos `Input` e `Output` da biblioteca `dash`."
   ]
  },
  {
   "cell_type": "code",
   "execution_count": 5,
   "id": "9618bb84-70aa-448d-80af-66004b5dcfb9",
   "metadata": {},
   "outputs": [],
   "source": [
    "from dash import Input, Output"
   ]
  },
  {
   "cell_type": "markdown",
   "id": "6e178e0e-7d23-45c2-ac19-8b0610ace7b9",
   "metadata": {},
   "source": [
    "A estrutura é da seguinte maneira:\n",
    "\n",
    "* **Decorador `@app.callback`**: Nesse decorador colocamos os objetos `Input` e `Output`. Se tivermos múltiplas entradas e saídas, usamos uma lista desses objetos. Dentro do `Input` e `Output`, devemos colocar os seguintes parâmetros:\n",
    "    \n",
    "    - `component_id`: (string) nome do `id` do objeto,no layout, para sabermos de qual objeto estamos \"falando\".\n",
    "    \n",
    "    - `component_property`: (string) nome da propriedade do objeto, no layout, que vai modificar ou ser modificado.\n",
    "    \n",
    "    No nosso caso, devemos digitar `Output(component_id = 'grafico', component_property = 'figure')` pois queremos modificar o gráfico a ser feito, e `Input(component_id = 'botao', component_property = 'value')` porque é a opção selecionada no dropdown que vai dizer qual gráfico queremos exibir.\n",
    "    \n",
    "* **Função atualizadora** : Ela deve possuir o mesmo número de entradas e saídas que aparecem no decorador. Em particular, devemos colocar os elementos da saída (retorno) na mesma ordem que os outputs do decorador. Esta função é quem realiza as modificações que entrarão nos objetos contidos em `app.layout`. No nosso caso, devemos criar um gráfico nesta função.\n",
    "\n",
    "Dito isto, a estrutura da nossa callback é a seguinte."
   ]
  },
  {
   "cell_type": "code",
   "execution_count": 7,
   "id": "0de50fc9-6702-4dcb-bc5e-2616a880da7e",
   "metadata": {},
   "outputs": [],
   "source": [
    "@app.callback(\n",
    "    Output(component_id = 'grafico', component_property = 'figure'),\n",
    "    Input(component_id = 'botao', component_property = 'value')\n",
    ")\n",
    "def FuncaoAtualizadora(nome):\n",
    "\n",
    "    if nome == 'f(x) = x² - 0.5':\n",
    "        eixoY = 'Y_1'\n",
    "    else:\n",
    "        eixoY = 'Y_2'\n",
    "\n",
    "    figura = line(data_frame = df,\n",
    "                  x = 'Valores de x',\n",
    "                  y = eixoY)\n",
    "\n",
    "    return figura\n"
   ]
  },
  {
   "cell_type": "markdown",
   "id": "8fedf001-3266-43b4-a7c4-9f0e12098cf3",
   "metadata": {},
   "source": [
    "Agora para rodar o programa, é só executar"
   ]
  },
  {
   "cell_type": "code",
   "execution_count": null,
   "id": "ae0a7794-9a3f-49da-b572-8d1df5022c6a",
   "metadata": {},
   "outputs": [],
   "source": [
    "if __name__ == '__main__':\n",
    "    app.run_server(debug = True)"
   ]
  },
  {
   "cell_type": "markdown",
   "id": "18427705-a25f-48cc-b417-66265b5f5582",
   "metadata": {},
   "source": [
    "Como um dashboard é melhor executado num script, então deixo na pasta o arquivo `callback.py` para ser \"rodado\"."
   ]
  },
  {
   "cell_type": "code",
   "execution_count": null,
   "id": "fc8c09eb-ad3a-41af-a808-047f2fabb83d",
   "metadata": {},
   "outputs": [],
   "source": []
  }
 ],
 "metadata": {
  "kernelspec": {
   "display_name": "Python 3 (ipykernel)",
   "language": "python",
   "name": "python3"
  },
  "language_info": {
   "codemirror_mode": {
    "name": "ipython",
    "version": 3
   },
   "file_extension": ".py",
   "mimetype": "text/x-python",
   "name": "python",
   "nbconvert_exporter": "python",
   "pygments_lexer": "ipython3",
   "version": "3.8.10"
  }
 },
 "nbformat": 4,
 "nbformat_minor": 5
}
