{
 "cells": [
  {
   "cell_type": "markdown",
   "id": "402175cd-76b6-4448-b72a-e7a627d5e55a",
   "metadata": {},
   "source": [
    "# **RegEx: Caracteres**"
   ]
  },
  {
   "cell_type": "markdown",
   "id": "ae90a6d4-a978-4b97-b355-36da231fbe26",
   "metadata": {},
   "source": [
    "## **Introdução**"
   ]
  },
  {
   "cell_type": "markdown",
   "id": "458c829c-45a1-4ec6-af3a-070fa5b16f1b",
   "metadata": {},
   "source": [
    "Nesta pasta discorreremos sobre a biblioteca ```re``` (expressões regulares), e dividiremos inicialmente em dois notebooks, em que o primeiro será sobre os caracteres e o segundo sobre as funções e métodos que essa biblioteca possui. O conteúdo está baseado no site https://www.w3schools.com/python/python_regex.asp e https://blog.geekhunter.com.br/python-regex/#Marcador_de_alternativa_ou_operador_OR."
   ]
  },
  {
   "cell_type": "markdown",
   "id": "ce8f4104-ec28-4d41-881c-3c127012f4dc",
   "metadata": {},
   "source": [
    "## **Metacaracteres**"
   ]
  },
  {
   "cell_type": "markdown",
   "id": "f37fd5c8-7cda-44e0-b8ad-b6651295ee77",
   "metadata": {},
   "source": [
    "* ```[]```: Conjunto de caracteres. Ex: ```[a-m]``` denota uma letra de a até m.\n",
    "\n",
    "* ```\\```: Sinaliza uma sequência especial. Ex: ```\\d``` singifica um dígito; isso será visto no próximo tópico.\n",
    "\n",
    "* ```.```: Qualquer caractere, exceto o caractere de nova linha. Ex: ```he..o``` significa qualquer string que comece com \"he\", seguido de 2 caracteres quaisquer, seguido de \"o\".\n",
    "\n",
    "* ```^```: Serve para sinalizar que a string começa com o que virá a sua direita. Ex: ```^hello``` significa uma string que começa com \"hello\".\n",
    "\n",
    "* ```$```: Serve para sinalizar que a string termina com o que está a sua direita. Ex: ```macaco$``` significa que a string termina com \"macaco\".\n",
    "\n",
    "* ```*```: 0 ou mais ocorrências. Ex: ```he.*o``` significa uma string que começa com \"he\", seguido de quantos caracteres quaisquer (incluindo nenhum), seguido de \"o\".\n",
    "\n",
    "* ```+```: 1 ou mais ocorrências. Ex: ```he.+o``` significa uma string que começa com \"he\", seguida de um ou mais caracteres quaisquer, seguido de \"o\".\n",
    "\n",
    "* ```?```: 0 ou 1 ocorrência. Ex: ```he.?o``` significa uma string que começa com \"he\", seguido de 0 ou 1 caractere qualquer, seguido de \"o\".\n",
    "\n",
    "* ```{}```: Especificando o número entre os colchetes, ele significa o número exato de ocorrências do caractere a sua esquerda. Ex: ```hel{2}o``` significa a string \"hello\".\n",
    "\n",
    "* ```|```: Operador \"ou\". Ex: ```Pyt|hon``` significa a string \"Pyt\" ou \"hon\".\n",
    "\n",
    "* ```()```: Agrupador. Ex: ```Py(t|h)on``` significa a string \"Pyton\" ou \"Pyhon\"."
   ]
  },
  {
   "cell_type": "markdown",
   "id": "248e91b7-5d94-4abc-be69-8f4e44ebe75b",
   "metadata": {},
   "source": [
    "## **Sequências Especiais**"
   ]
  },
  {
   "cell_type": "markdown",
   "id": "deb0399c-7dca-47fb-b176-34381758ae20",
   "metadata": {},
   "source": [
    "* ```\\w```: Representa um caractere alfanumérico, incluindo ocorrências maiúsculas e minúsculas das letras e o caractere “_”.\n",
    "\n",
    "* ```\\d```: Representa um caractere numérico e equivale a definição do conjunto [0-9].\n",
    "\n",
    "* ```\\s```: Representa um espaço em branco, incluindo tabulações e quebras de linha.\n",
    "\n",
    "* A utilização de \\W, \\D e \\S serve como negação de suas correspondentes descritas acima. \\W vai encontrar, por exemplo, qualquer caractere que não seja relevante para \\w."
   ]
  },
  {
   "cell_type": "code",
   "execution_count": null,
   "id": "2a288bd3-11da-4802-9a32-bb6a14f52abb",
   "metadata": {},
   "outputs": [],
   "source": []
  }
 ],
 "metadata": {
  "kernelspec": {
   "display_name": "Python 3 (ipykernel)",
   "language": "python",
   "name": "python3"
  },
  "language_info": {
   "codemirror_mode": {
    "name": "ipython",
    "version": 3
   },
   "file_extension": ".py",
   "mimetype": "text/x-python",
   "name": "python",
   "nbconvert_exporter": "python",
   "pygments_lexer": "ipython3",
   "version": "3.8.10"
  }
 },
 "nbformat": 4,
 "nbformat_minor": 5
}
