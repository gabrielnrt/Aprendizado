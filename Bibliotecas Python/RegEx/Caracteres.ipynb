{
 "cells": [
  {
   "cell_type": "markdown",
   "id": "402175cd-76b6-4448-b72a-e7a627d5e55a",
   "metadata": {},
   "source": [
    "# **RegEx: Caracteres**"
   ]
  },
  {
   "cell_type": "markdown",
   "id": "ae90a6d4-a978-4b97-b355-36da231fbe26",
   "metadata": {},
   "source": [
    "## **Introdução**"
   ]
  },
  {
   "cell_type": "markdown",
   "id": "458c829c-45a1-4ec6-af3a-070fa5b16f1b",
   "metadata": {},
   "source": [
    "Nesta pasta discorreremos sobre a biblioteca ```re``` (expressões regulares), e dividiremos inicialmente em dois notebooks, em que o primeiro será sobre os caracteres e o segundo sobre as funções e métodos que essa biblioteca funciona. O conteúdo está baseado no site https://www.w3schools.com/python/python_regex.asp."
   ]
  },
  {
   "cell_type": "code",
   "execution_count": null,
   "id": "cd027614-912a-4524-928e-a7882bb2d1ec",
   "metadata": {},
   "outputs": [],
   "source": []
  }
 ],
 "metadata": {
  "kernelspec": {
   "display_name": "Python 3 (ipykernel)",
   "language": "python",
   "name": "python3"
  },
  "language_info": {
   "codemirror_mode": {
    "name": "ipython",
    "version": 3
   },
   "file_extension": ".py",
   "mimetype": "text/x-python",
   "name": "python",
   "nbconvert_exporter": "python",
   "pygments_lexer": "ipython3",
   "version": "3.8.10"
  }
 },
 "nbformat": 4,
 "nbformat_minor": 5
}
