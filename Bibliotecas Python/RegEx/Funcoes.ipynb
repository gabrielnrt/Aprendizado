{
 "cells": [
  {
   "cell_type": "markdown",
   "id": "57d35abb-a7d4-44ec-9912-4fa36b06a550",
   "metadata": {},
   "source": [
    "# **Funções e a classe ```Match```**"
   ]
  },
  {
   "cell_type": "markdown",
   "id": "560cc654-45d7-4153-8afc-0e61226a5c2f",
   "metadata": {},
   "source": [
    "Neste notebook versaremos sobre algumas funções e o objeto ```match```, que são úteis para selecionar determinadas informações contidas em strings. Aqui supomos que vossa senhoria já tenha noção sobre os metacaracteres. Caso contrário, basta acessar https://github.com/gabrielnrt/Aprendizado/blob/main/Bibliotecas%20Python/RegEx/Caracteres.ipynb.\n",
    "\n",
    "Para vermos na prática as funções, usaremos strings de endereços."
   ]
  },
  {
   "cell_type": "code",
   "execution_count": 1,
   "id": "163981b1-91c6-4d93-af80-af10c898de4e",
   "metadata": {},
   "outputs": [],
   "source": [
    "texto1 = 'Alameda Santos, 981 - Jardim Paulista, São Paulo - SP, 01419-001'\n",
    "\n",
    "texto2 = 'R. Sérgio Buarque de Holanda, 777 - Cidade Universitária, Campinas - SP, 13083-859'\n",
    "\n",
    "texto3 = 'R. Serra de Paracaína, 132 - Cambuci, São Paulo - SP, 01522-020'\n",
    "\n",
    "texto4 = 'Av. Paulista, 1811 - Bela Vista, São Paulo - SP, 01311-200'"
   ]
  },
  {
   "cell_type": "markdown",
   "id": "2be97f89-afe0-4c25-9a4c-57f3d304b73a",
   "metadata": {},
   "source": [
    "## **```findall()```**"
   ]
  },
  {
   "cell_type": "markdown",
   "id": "2169fdf2-f9c5-4500-a58d-4aa64f6a84b2",
   "metadata": {},
   "source": [
    "A função ```findall()``` possui como parâmetros a expressão que queremos encontrar e a string que contém essa informação; e retorna uma lista contendo todas as ocorrências dessa expressão. Caso não encontre alguma expressão na string, a função retorna uma lista vazia.\n",
    "\n",
    "Essa função é chamada digitando"
   ]
  },
  {
   "cell_type": "code",
   "execution_count": 2,
   "id": "fa84e713-277c-46ba-9a06-70b5f1a5dfeb",
   "metadata": {},
   "outputs": [],
   "source": [
    "from re import findall"
   ]
  },
  {
   "cell_type": "markdown",
   "id": "19f57e77-0b68-4856-90a5-ea15ca3ffb28",
   "metadata": {},
   "source": [
    "Para começar, buscaremos em cada uma dessas strings o nome da rua. Das diferentes formas que podemos realizar essa tarefa, usaremos a regex ```'(^[A-Z]\\D+),'```. \n",
    "\n",
    "O ```[A-Z]``` indica que o nome da rua começa com uma letra maiúscula, já o ```\\D+``` indica que essa letra maiúscula é seguida de um ou mais caracteres que não são dígitos. A ```,``` indica que depois dessa seqência de caracteres que não são dígitos, vem uma vírgula. Por fim, colocamos ```^``` para indicar que essa informação está no começo da string e o ```()``` com a vírgula de fora pois não queremos coletá-la na busca.\n",
    "\n",
    "Obs: para encontrar essa regex, usamos o site https://regex101.com/ para testar os metacaracteres."
   ]
  },
  {
   "cell_type": "code",
   "execution_count": 3,
   "id": "81bd09eb-3d38-465a-b10b-ce3c6fe6f47b",
   "metadata": {},
   "outputs": [
    {
     "data": {
      "text/plain": [
       "['Alameda Santos']"
      ]
     },
     "execution_count": 3,
     "metadata": {},
     "output_type": "execute_result"
    }
   ],
   "source": [
    "regex = '(^[A-Z]\\D+),'\n",
    "\n",
    "findall(regex, texto1)"
   ]
  },
  {
   "cell_type": "markdown",
   "id": "e327d756-7a61-4f71-a1de-f746fdde3506",
   "metadata": {},
   "source": [
    "Note que a regex ```'(.+?),'``` também nos daria a resposta, mas também outras strings:"
   ]
  },
  {
   "cell_type": "code",
   "execution_count": 4,
   "id": "2c9379e3-b4a6-41b3-b56d-d6a3d1e3ec20",
   "metadata": {},
   "outputs": [
    {
     "data": {
      "text/plain": [
       "['Alameda Santos', ' 981 - Jardim Paulista', ' São Paulo - SP']"
      ]
     },
     "execution_count": 4,
     "metadata": {},
     "output_type": "execute_result"
    }
   ],
   "source": [
    "regex = '(.+?),'\n",
    "\n",
    "findall(regex,texto1)"
   ]
  },
  {
   "cell_type": "markdown",
   "id": "fb32b09a-e2b4-486e-abc2-d2e3059737bb",
   "metadata": {},
   "source": [
    "Tanto para um caso quanto o outro, o objeto retornado é uma lista. Então, devemos acessar o primeiro elemento para coletar a string."
   ]
  },
  {
   "cell_type": "code",
   "execution_count": 5,
   "id": "353e9b1e-c82c-4d0f-8dc0-07145f35f97b",
   "metadata": {},
   "outputs": [
    {
     "data": {
      "text/plain": [
       "'Alameda Santos'"
      ]
     },
     "execution_count": 5,
     "metadata": {},
     "output_type": "execute_result"
    }
   ],
   "source": [
    "findall(regex, texto1)[0]"
   ]
  },
  {
   "cell_type": "markdown",
   "id": "725d46c0-8f62-4e3c-b6c2-5cbff5cf5a92",
   "metadata": {},
   "source": [
    "Armazenando as ruas numa lista, temos"
   ]
  },
  {
   "cell_type": "code",
   "execution_count": 6,
   "id": "7ad94ab7-21ee-475d-a6b9-3e064e69c5f8",
   "metadata": {},
   "outputs": [
    {
     "data": {
      "text/plain": [
       "['Alameda Santos',\n",
       " 'R. Sérgio Buarque de Holanda',\n",
       " 'R. Serra de Paracaína',\n",
       " 'Av. Paulista']"
      ]
     },
     "execution_count": 6,
     "metadata": {},
     "output_type": "execute_result"
    }
   ],
   "source": [
    "Ruas = []\n",
    "\n",
    "for texto in [texto1,texto2,texto3,texto4]:\n",
    "    rua = findall(regex,texto)[0]\n",
    "    Ruas.append(rua)\n",
    "    \n",
    "Ruas"
   ]
  },
  {
   "cell_type": "markdown",
   "id": "8af467a9-7357-44b8-a122-b2f7d82218bb",
   "metadata": {},
   "source": [
    "## **```search()```**"
   ]
  },
  {
   "cell_type": "markdown",
   "id": "8c898221-2ae2-41ab-8bdc-518ea0daf9d1",
   "metadata": {},
   "source": [
    "A função ```search()```, invocada ao digitar ```from re import search```, recebe como 1º parâmetro a expressão regular que queremos encontrar, e depois a string onde a regex será aplicada, que nem na função ```findall()```, mas nesse caso ela retorna ```None``` se não houver ocorrências da regex na string, e o objeto ```match``` caso contrário. \n",
    "\n",
    "Vejamos o primieiro caso."
   ]
  },
  {
   "cell_type": "code",
   "execution_count": 8,
   "id": "c8f7c839-f9f5-41d4-b2f8-6419bfad8b17",
   "metadata": {},
   "outputs": [
    {
     "name": "stdout",
     "output_type": "stream",
     "text": [
      "None\n"
     ]
    }
   ],
   "source": [
    "from re import search\n",
    "\n",
    "print(search('tamanduá', texto1))"
   ]
  },
  {
   "cell_type": "markdown",
   "id": "8d40b3f2-b433-4165-b349-2f9d94da1029",
   "metadata": {},
   "source": [
    "Agora vejamos o que temos quando imprimimos o objeto ```match```. Aqui, coletaremos o número da rua:"
   ]
  },
  {
   "cell_type": "code",
   "execution_count": 20,
   "id": "1c6d3f32-0de2-4e03-9132-e0b3684b8fa8",
   "metadata": {},
   "outputs": [
    {
     "data": {
      "text/plain": [
       "<re.Match object; span=(16, 21), match='981 -'>"
      ]
     },
     "execution_count": 20,
     "metadata": {},
     "output_type": "execute_result"
    }
   ],
   "source": [
    "regex = '(\\d{3}) -'\n",
    "\n",
    "objeto = search(regex,texto1)\n",
    "\n",
    "objeto"
   ]
  },
  {
   "cell_type": "markdown",
   "id": "5bed07fe-ca53-4c05-91dc-6d25d1eb3eb1",
   "metadata": {},
   "source": [
    "Dentre os atributos e métodos, destacaremos o atributo ```string```, que é basicamente a string que passamos para checar a regex,"
   ]
  },
  {
   "cell_type": "code",
   "execution_count": 26,
   "id": "c60061a1-adf7-43d5-a617-282120de6fb3",
   "metadata": {},
   "outputs": [
    {
     "data": {
      "text/plain": [
       "'Alameda Santos, 981 - Jardim Paulista, São Paulo - SP, 01419-001'"
      ]
     },
     "execution_count": 26,
     "metadata": {},
     "output_type": "execute_result"
    }
   ],
   "source": [
    "objeto.string"
   ]
  },
  {
   "cell_type": "markdown",
   "id": "eeaf46c4-ace5-4226-b2f2-187ff8d8b89f",
   "metadata": {},
   "source": [
    "e o método ```group()```, que retorna 1 ou mais subgrupos do match. Por padrão, ele está como 0, o que significa que ele retorna a regex inteira sem considerar o(s) agrupamento(s) feito(s). \n",
    "\n",
    "Vendo a resposta padrão, temos"
   ]
  },
  {
   "cell_type": "code",
   "execution_count": 27,
   "id": "32202d19-acb8-4d8a-a5c2-5cdf01fb240c",
   "metadata": {},
   "outputs": [
    {
     "data": {
      "text/plain": [
       "'981 -'"
      ]
     },
     "execution_count": 27,
     "metadata": {},
     "output_type": "execute_result"
    }
   ],
   "source": [
    "objeto.group()"
   ]
  },
  {
   "cell_type": "code",
   "execution_count": 28,
   "id": "a16d11b3-0d97-495b-a8d6-3b7f3ed7c412",
   "metadata": {},
   "outputs": [
    {
     "data": {
      "text/plain": [
       "'981 -'"
      ]
     },
     "execution_count": 28,
     "metadata": {},
     "output_type": "execute_result"
    }
   ],
   "source": [
    "objeto.group(0)"
   ]
  },
  {
   "cell_type": "markdown",
   "id": "886da034-655e-41f8-8ded-85d66991d334",
   "metadata": {},
   "source": [
    "Caso quiséssemos ver a string que agrupamos, a parte de dentro dos parênteses da regex, basta colocar ```1``` no argumento."
   ]
  },
  {
   "cell_type": "code",
   "execution_count": 29,
   "id": "b710cdef-ebd1-4fc4-9366-2e2958a39274",
   "metadata": {},
   "outputs": [
    {
     "data": {
      "text/plain": [
       "'981'"
      ]
     },
     "execution_count": 29,
     "metadata": {},
     "output_type": "execute_result"
    }
   ],
   "source": [
    "objeto.group(1)"
   ]
  },
  {
   "cell_type": "markdown",
   "id": "d45752ae-4437-40a0-b943-6c5697c2b30c",
   "metadata": {},
   "source": [
    "Fazendo isso com todos os endereços."
   ]
  },
  {
   "cell_type": "code",
   "execution_count": 30,
   "id": "24598a21-e91b-49f5-849d-2ed80c9803e9",
   "metadata": {},
   "outputs": [
    {
     "data": {
      "text/plain": [
       "['981', '777', '132', '811']"
      ]
     },
     "execution_count": 30,
     "metadata": {},
     "output_type": "execute_result"
    }
   ],
   "source": [
    "Numeros = []\n",
    "\n",
    "for texto in [texto1,texto2,texto3,texto4]:\n",
    "    objeto = search(regex, texto)\n",
    "    Numeros.append(objeto.group(1))\n",
    "    \n",
    "Numeros"
   ]
  },
  {
   "cell_type": "code",
   "execution_count": null,
   "id": "65db0691-552b-422a-883a-cce9134f02e2",
   "metadata": {},
   "outputs": [],
   "source": []
  }
 ],
 "metadata": {
  "kernelspec": {
   "display_name": "Python 3 (ipykernel)",
   "language": "python",
   "name": "python3"
  },
  "language_info": {
   "codemirror_mode": {
    "name": "ipython",
    "version": 3
   },
   "file_extension": ".py",
   "mimetype": "text/x-python",
   "name": "python",
   "nbconvert_exporter": "python",
   "pygments_lexer": "ipython3",
   "version": "3.8.10"
  }
 },
 "nbformat": 4,
 "nbformat_minor": 5
}
