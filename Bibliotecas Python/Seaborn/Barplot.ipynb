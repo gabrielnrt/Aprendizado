{
 "cells": [
  {
   "cell_type": "markdown",
   "id": "86134e4c-2db8-4694-8d23-5b42ad58dc81",
   "metadata": {},
   "source": [
    "# **`barplot`**"
   ]
  },
  {
   "cell_type": "markdown",
   "id": "91d7556b-6548-4b23-bb62-3d26897a59ca",
   "metadata": {},
   "source": [
    "## **Introdução**"
   ]
  },
  {
   "cell_type": "markdown",
   "id": "5d75f20d-1e3d-41d0-a543-6c7fa0727df4",
   "metadata": {},
   "source": [
    "Aqui iremos abordar como fazer gráfico em barras com a função `barplot()` do seaborn. Para tal, importaremos o conjunto de dados `penguins`, que vem da função `load_dataset`. O eixo y é a **média** de cada grupo das amostras; por esse motivo, o eixo x acaba sendo variáveis categóricas.\n",
    "\n",
    "A documentação com todos os valores se encontra [neste link](https://seaborn.pydata.org/generated/seaborn.barplot.html)."
   ]
  },
  {
   "cell_type": "code",
   "execution_count": 1,
   "id": "51b51278-b624-435d-bde1-fae1437ec395",
   "metadata": {},
   "outputs": [
    {
     "data": {
      "text/html": [
       "<div>\n",
       "<style scoped>\n",
       "    .dataframe tbody tr th:only-of-type {\n",
       "        vertical-align: middle;\n",
       "    }\n",
       "\n",
       "    .dataframe tbody tr th {\n",
       "        vertical-align: top;\n",
       "    }\n",
       "\n",
       "    .dataframe thead th {\n",
       "        text-align: right;\n",
       "    }\n",
       "</style>\n",
       "<table border=\"1\" class=\"dataframe\">\n",
       "  <thead>\n",
       "    <tr style=\"text-align: right;\">\n",
       "      <th></th>\n",
       "      <th>species</th>\n",
       "      <th>island</th>\n",
       "      <th>bill_length_mm</th>\n",
       "      <th>bill_depth_mm</th>\n",
       "      <th>flipper_length_mm</th>\n",
       "      <th>body_mass_g</th>\n",
       "      <th>sex</th>\n",
       "    </tr>\n",
       "  </thead>\n",
       "  <tbody>\n",
       "    <tr>\n",
       "      <th>36</th>\n",
       "      <td>Adelie</td>\n",
       "      <td>Dream</td>\n",
       "      <td>38.8</td>\n",
       "      <td>20.0</td>\n",
       "      <td>190.0</td>\n",
       "      <td>3950.0</td>\n",
       "      <td>Male</td>\n",
       "    </tr>\n",
       "    <tr>\n",
       "      <th>299</th>\n",
       "      <td>Gentoo</td>\n",
       "      <td>Biscoe</td>\n",
       "      <td>45.2</td>\n",
       "      <td>16.4</td>\n",
       "      <td>223.0</td>\n",
       "      <td>5950.0</td>\n",
       "      <td>Male</td>\n",
       "    </tr>\n",
       "    <tr>\n",
       "      <th>35</th>\n",
       "      <td>Adelie</td>\n",
       "      <td>Dream</td>\n",
       "      <td>39.2</td>\n",
       "      <td>21.1</td>\n",
       "      <td>196.0</td>\n",
       "      <td>4150.0</td>\n",
       "      <td>Male</td>\n",
       "    </tr>\n",
       "    <tr>\n",
       "      <th>170</th>\n",
       "      <td>Chinstrap</td>\n",
       "      <td>Dream</td>\n",
       "      <td>46.4</td>\n",
       "      <td>18.6</td>\n",
       "      <td>190.0</td>\n",
       "      <td>3450.0</td>\n",
       "      <td>Female</td>\n",
       "    </tr>\n",
       "    <tr>\n",
       "      <th>5</th>\n",
       "      <td>Adelie</td>\n",
       "      <td>Torgersen</td>\n",
       "      <td>39.3</td>\n",
       "      <td>20.6</td>\n",
       "      <td>190.0</td>\n",
       "      <td>3650.0</td>\n",
       "      <td>Male</td>\n",
       "    </tr>\n",
       "  </tbody>\n",
       "</table>\n",
       "</div>"
      ],
      "text/plain": [
       "       species     island  bill_length_mm  bill_depth_mm  flipper_length_mm  \\\n",
       "36      Adelie      Dream            38.8           20.0              190.0   \n",
       "299     Gentoo     Biscoe            45.2           16.4              223.0   \n",
       "35      Adelie      Dream            39.2           21.1              196.0   \n",
       "170  Chinstrap      Dream            46.4           18.6              190.0   \n",
       "5       Adelie  Torgersen            39.3           20.6              190.0   \n",
       "\n",
       "     body_mass_g     sex  \n",
       "36        3950.0    Male  \n",
       "299       5950.0    Male  \n",
       "35        4150.0    Male  \n",
       "170       3450.0  Female  \n",
       "5         3650.0    Male  "
      ]
     },
     "execution_count": 1,
     "metadata": {},
     "output_type": "execute_result"
    }
   ],
   "source": [
    "from seaborn import load_dataset\n",
    "\n",
    "df = load_dataset('penguins')\n",
    "\n",
    "\n",
    "df.sample(5)"
   ]
  },
  {
   "cell_type": "markdown",
   "id": "421ef541-a845-4a47-83dd-d0026db19cb2",
   "metadata": {},
   "source": [
    "## **Parâmetros Fundamentais**"
   ]
  },
  {
   "cell_type": "markdown",
   "id": "066ba5ae-cf4f-478f-b2cf-f47aee80954d",
   "metadata": {},
   "source": [
    "A função `barplot()` é chamada digitando"
   ]
  },
  {
   "cell_type": "code",
   "execution_count": 2,
   "id": "67311edb-ebb3-4731-9e87-fb7f529776ef",
   "metadata": {},
   "outputs": [],
   "source": [
    "from seaborn import barplot"
   ]
  },
  {
   "cell_type": "markdown",
   "id": "061f6bef-3aa8-4b95-8a23-a2fbd56ed09f",
   "metadata": {},
   "source": [
    "e seus parâmetros fundamentais são:\n",
    "\n",
    "* `data`: DataFrame ou array contendo os dados a serem usados.\n",
    "\n",
    "* `x`: Nome da coluna que será usada no eixo x.\n",
    "\n",
    "* `y`: Nome da coluna que será usada no eixo y.\n",
    "\n",
    "Essa função retorna o objeto `Axes` do matplotlib contendo o gráfico.\n",
    "\n",
    "Para ilustrar, realizaremos um gráfico de barras em que o eixo x será o nome da ilha, e o y será a massa do penguin."
   ]
  },
  {
   "cell_type": "code",
   "execution_count": 3,
   "id": "3612904a-b6e5-44f7-a718-54a742dd177d",
   "metadata": {},
   "outputs": [
    {
     "data": {
      "text/plain": [
       "<AxesSubplot: xlabel='island', ylabel='body_mass_g'>"
      ]
     },
     "execution_count": 3,
     "metadata": {},
     "output_type": "execute_result"
    },
    {
     "data": {
      "image/png": "[encoded data removed]",
      "text/plain": [
       "<Figure size 640x480 with 1 Axes>"
      ]
     },
     "metadata": {},
     "output_type": "display_data"
    }
   ],
   "source": [
    "barplot(data = df, x = 'island', y = 'body_mass_g')"
   ]
  },
  {
   "cell_type": "markdown",
   "id": "71531611-ffe7-49f1-a081-e2684b04f0a0",
   "metadata": {},
   "source": [
    "## **Parâmetros Adicionais**"
   ]
  },
  {
   "cell_type": "markdown",
   "id": "1c426f17-98b3-4134-9bab-1ea3a97ebdd3",
   "metadata": {},
   "source": [
    "Se quisermos distinguir as amostras em cada grupo, usamos o seguinte parâmetro:\n",
    "\n",
    "* `hue`: Nome da coluna usado para fazer a distinção do grupo.\n",
    "\n",
    "No nosso caso, usaremos o sexo dos pinguins para saber quantos são machos ou fêmeas em cada ilha."
   ]
  },
  {
   "cell_type": "code",
   "execution_count": 5,
   "id": "ee9a20d0-2787-459e-bcc5-eac6db0a9fbf",
   "metadata": {},
   "outputs": [
    {
     "data": {
      "text/plain": [
       "<AxesSubplot: xlabel='island', ylabel='body_mass_g'>"
      ]
     },
     "execution_count": 5,
     "metadata": {},
     "output_type": "execute_result"
    },
    {
     "data": {
      "image/png": "[encoded data removed]",
      "text/plain": [
       "<Figure size 640x480 with 1 Axes>"
      ]
     },
     "metadata": {},
     "output_type": "display_data"
    }
   ],
   "source": [
    "barplot(data = df, x = 'island', y = 'body_mass_g', hue = 'sex')"
   ]
  },
  {
   "cell_type": "markdown",
   "id": "606e4d6d-79ac-473a-ad11-39a32b31e81f",
   "metadata": {},
   "source": [
    "Se a tabela tiver uma informação sobre o erro das medidas, então podemos inserí-lo com o parâmetro `errorbar`."
   ]
  },
  {
   "cell_type": "code",
   "execution_count": null,
   "id": "ad7c1e6a-0f5c-4181-8aeb-53b4cba9b846",
   "metadata": {},
   "outputs": [],
   "source": []
  }
 ],
 "metadata": {
  "kernelspec": {
   "display_name": "Python 3 (ipykernel)",
   "language": "python",
   "name": "python3"
  },
  "language_info": {
   "codemirror_mode": {
    "name": "ipython",
    "version": 3
   },
   "file_extension": ".py",
   "mimetype": "text/x-python",
   "name": "python",
   "nbconvert_exporter": "python",
   "pygments_lexer": "ipython3",
   "version": "3.8.10"
  }
 },
 "nbformat": 4,
 "nbformat_minor": 5
}
