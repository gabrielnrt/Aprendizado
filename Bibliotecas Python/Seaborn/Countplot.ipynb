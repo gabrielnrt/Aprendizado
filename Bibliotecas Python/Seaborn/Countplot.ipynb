{
 "cells": [
  {
   "cell_type": "markdown",
   "id": "153c328d-b96a-4dd6-8ded-4add20fa5ad6",
   "metadata": {},
   "source": [
    "# **`countplot`**"
   ]
  },
  {
   "cell_type": "markdown",
   "id": "bb2f6e70-4a96-4284-9080-f4bec7f51141",
   "metadata": {},
   "source": [
    "## **Introdução**"
   ]
  },
  {
   "cell_type": "markdown",
   "id": "60467eef-30e0-463f-9871-65ae0419b3f4",
   "metadata": {},
   "source": [
    "Neste notebook vamos usar a função `countplot()` da biblioteca seaborn, que nos fornece a frequência que um elemento aparece numa amostra. A documentação completa se encontra [aqui](https://seaborn.pydata.org/generated/seaborn.countplot.html).\n",
    "\n",
    "Para ilustrar, usaremos como dados iniciais o conjunto da tabela do Titanic, que é obtido fazendo:"
   ]
  },
  {
   "cell_type": "code",
   "execution_count": 1,
   "id": "37825455-a456-40f6-ad3b-c6b8d15e11de",
   "metadata": {},
   "outputs": [
    {
     "data": {
      "text/html": [
       "<div>\n",
       "<style scoped>\n",
       "    .dataframe tbody tr th:only-of-type {\n",
       "        vertical-align: middle;\n",
       "    }\n",
       "\n",
       "    .dataframe tbody tr th {\n",
       "        vertical-align: top;\n",
       "    }\n",
       "\n",
       "    .dataframe thead th {\n",
       "        text-align: right;\n",
       "    }\n",
       "</style>\n",
       "<table border=\"1\" class=\"dataframe\">\n",
       "  <thead>\n",
       "    <tr style=\"text-align: right;\">\n",
       "      <th></th>\n",
       "      <th>survived</th>\n",
       "      <th>pclass</th>\n",
       "      <th>sex</th>\n",
       "      <th>age</th>\n",
       "      <th>sibsp</th>\n",
       "      <th>parch</th>\n",
       "      <th>fare</th>\n",
       "      <th>embarked</th>\n",
       "      <th>class</th>\n",
       "      <th>who</th>\n",
       "      <th>adult_male</th>\n",
       "      <th>deck</th>\n",
       "      <th>embark_town</th>\n",
       "      <th>alive</th>\n",
       "      <th>alone</th>\n",
       "    </tr>\n",
       "  </thead>\n",
       "  <tbody>\n",
       "    <tr>\n",
       "      <th>796</th>\n",
       "      <td>1</td>\n",
       "      <td>1</td>\n",
       "      <td>female</td>\n",
       "      <td>49.0</td>\n",
       "      <td>0</td>\n",
       "      <td>0</td>\n",
       "      <td>25.9292</td>\n",
       "      <td>S</td>\n",
       "      <td>First</td>\n",
       "      <td>woman</td>\n",
       "      <td>False</td>\n",
       "      <td>D</td>\n",
       "      <td>Southampton</td>\n",
       "      <td>yes</td>\n",
       "      <td>True</td>\n",
       "    </tr>\n",
       "    <tr>\n",
       "      <th>586</th>\n",
       "      <td>0</td>\n",
       "      <td>2</td>\n",
       "      <td>male</td>\n",
       "      <td>47.0</td>\n",
       "      <td>0</td>\n",
       "      <td>0</td>\n",
       "      <td>15.0000</td>\n",
       "      <td>S</td>\n",
       "      <td>Second</td>\n",
       "      <td>man</td>\n",
       "      <td>True</td>\n",
       "      <td>NaN</td>\n",
       "      <td>Southampton</td>\n",
       "      <td>no</td>\n",
       "      <td>True</td>\n",
       "    </tr>\n",
       "    <tr>\n",
       "      <th>840</th>\n",
       "      <td>0</td>\n",
       "      <td>3</td>\n",
       "      <td>male</td>\n",
       "      <td>20.0</td>\n",
       "      <td>0</td>\n",
       "      <td>0</td>\n",
       "      <td>7.9250</td>\n",
       "      <td>S</td>\n",
       "      <td>Third</td>\n",
       "      <td>man</td>\n",
       "      <td>True</td>\n",
       "      <td>NaN</td>\n",
       "      <td>Southampton</td>\n",
       "      <td>no</td>\n",
       "      <td>True</td>\n",
       "    </tr>\n",
       "    <tr>\n",
       "      <th>889</th>\n",
       "      <td>1</td>\n",
       "      <td>1</td>\n",
       "      <td>male</td>\n",
       "      <td>26.0</td>\n",
       "      <td>0</td>\n",
       "      <td>0</td>\n",
       "      <td>30.0000</td>\n",
       "      <td>C</td>\n",
       "      <td>First</td>\n",
       "      <td>man</td>\n",
       "      <td>True</td>\n",
       "      <td>C</td>\n",
       "      <td>Cherbourg</td>\n",
       "      <td>yes</td>\n",
       "      <td>True</td>\n",
       "    </tr>\n",
       "    <tr>\n",
       "      <th>398</th>\n",
       "      <td>0</td>\n",
       "      <td>2</td>\n",
       "      <td>male</td>\n",
       "      <td>23.0</td>\n",
       "      <td>0</td>\n",
       "      <td>0</td>\n",
       "      <td>10.5000</td>\n",
       "      <td>S</td>\n",
       "      <td>Second</td>\n",
       "      <td>man</td>\n",
       "      <td>True</td>\n",
       "      <td>NaN</td>\n",
       "      <td>Southampton</td>\n",
       "      <td>no</td>\n",
       "      <td>True</td>\n",
       "    </tr>\n",
       "  </tbody>\n",
       "</table>\n",
       "</div>"
      ],
      "text/plain": [
       "     survived  pclass     sex   age  sibsp  parch     fare embarked   class  \\\n",
       "796         1       1  female  49.0      0      0  25.9292        S   First   \n",
       "586         0       2    male  47.0      0      0  15.0000        S  Second   \n",
       "840         0       3    male  20.0      0      0   7.9250        S   Third   \n",
       "889         1       1    male  26.0      0      0  30.0000        C   First   \n",
       "398         0       2    male  23.0      0      0  10.5000        S  Second   \n",
       "\n",
       "       who  adult_male deck  embark_town alive  alone  \n",
       "796  woman       False    D  Southampton   yes   True  \n",
       "586    man        True  NaN  Southampton    no   True  \n",
       "840    man        True  NaN  Southampton    no   True  \n",
       "889    man        True    C    Cherbourg   yes   True  \n",
       "398    man        True  NaN  Southampton    no   True  "
      ]
     },
     "execution_count": 1,
     "metadata": {},
     "output_type": "execute_result"
    }
   ],
   "source": [
    "from seaborn import load_dataset\n",
    "\n",
    "df = load_dataset('titanic')\n",
    "\n",
    "df.sample(5)"
   ]
  },
  {
   "cell_type": "markdown",
   "id": "97273542-3771-4ebe-bff7-b5adb0f1d341",
   "metadata": {},
   "source": [
    "## **Parâmetros Fundamentais**"
   ]
  },
  {
   "cell_type": "markdown",
   "id": "dc439fe1-2667-45bf-a2c6-c11c19b18914",
   "metadata": {},
   "source": [
    "Como parâmetros fundamentais, destacamos:\n",
    "\n",
    "* `data`: DataFrame contendo os dados a serem usados.\n",
    "\n",
    "* `x`: Nome da coluna a ser usada para o countplot. Geralmente as colunas que usamos contém variáveis categóricas.\n",
    "\n",
    "A função retorna o objeto `Axes` do Matplotlib.\n",
    "\n",
    "Note que não precisamos inserir a tabela em `data` se colocarmos a coluna na forma de `pandas.Series` ao invés de string."
   ]
  },
  {
   "cell_type": "code",
   "execution_count": 2,
   "id": "12459ea9-2bca-4b4d-90ca-87248871ef38",
   "metadata": {},
   "outputs": [
    {
     "data": {
      "text/plain": [
       "<AxesSubplot: xlabel='class', ylabel='count'>"
      ]
     },
     "execution_count": 2,
     "metadata": {},
     "output_type": "execute_result"
    },
    {
     "data": {
      "image/png": "[encoded data removed]",
      "text/plain": [
       "<Figure size 640x480 with 1 Axes>"
      ]
     },
     "metadata": {},
     "output_type": "display_data"
    }
   ],
   "source": [
    "from seaborn import countplot\n",
    "\n",
    "countplot(x = df['class'])"
   ]
  },
  {
   "cell_type": "markdown",
   "id": "bc789030-2261-41db-8d5d-d428905ef855",
   "metadata": {},
   "source": [
    "## **Parâmetros Adicionais**"
   ]
  },
  {
   "cell_type": "markdown",
   "id": "6a962a70-c8a3-408c-8c59-394877d7ad88",
   "metadata": {},
   "source": [
    "Segue abaixo alguns parâmetros adicionais:\n",
    "\n",
    "* `y`: Tem a mesma função que o x, mas nesse caso as barras ficam na horizontal.\n",
    "\n",
    "* `hue`: nome da coluna que será usada para fazer distinções em cada grupo.\n",
    "\n",
    "* `orient`: É a orientação das barras, sendo 'v' para vertical e 'h' para horizontal. "
   ]
  },
  {
   "cell_type": "code",
   "execution_count": 16,
   "id": "16219307-5b96-4dec-913a-a2ec94fb627f",
   "metadata": {},
   "outputs": [
    {
     "data": {
      "text/plain": [
       "<AxesSubplot: xlabel='count', ylabel='class'>"
      ]
     },
     "execution_count": 16,
     "metadata": {},
     "output_type": "execute_result"
    },
    {
     "data": {
      "image/png": "[encoded data removed]",
      "text/plain": [
       "<Figure size 640x480 with 1 Axes>"
      ]
     },
     "metadata": {},
     "output_type": "display_data"
    }
   ],
   "source": [
    "countplot(y = df['class'], hue = df['who'])"
   ]
  },
  {
   "cell_type": "code",
   "execution_count": null,
   "id": "e1133406-a661-4ca4-9e5e-41e89f5246b4",
   "metadata": {},
   "outputs": [],
   "source": []
  }
 ],
 "metadata": {
  "kernelspec": {
   "display_name": "Python 3 (ipykernel)",
   "language": "python",
   "name": "python3"
  },
  "language_info": {
   "codemirror_mode": {
    "name": "ipython",
    "version": 3
   },
   "file_extension": ".py",
   "mimetype": "text/x-python",
   "name": "python",
   "nbconvert_exporter": "python",
   "pygments_lexer": "ipython3",
   "version": "3.8.10"
  }
 },
 "nbformat": 4,
 "nbformat_minor": 5
}
