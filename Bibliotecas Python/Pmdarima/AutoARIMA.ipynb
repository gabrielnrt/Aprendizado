{
 "cells": [
  {
   "cell_type": "markdown",
   "id": "9c7df892-5bf3-4be8-a158-ca01ad2df63e",
   "metadata": {},
   "source": [
    "# Auto ARIMA"
   ]
  },
  {
   "cell_type": "markdown",
   "id": "7b946936-441a-438f-a3ab-c4f1c2743b2b",
   "metadata": {},
   "source": [
    "Esse notebook será essencialmente uma continuação do ARIMA da pasta do ```statsmodel```, e por isso usaremos a mesma base de dados como ponto de partida."
   ]
  },
  {
   "cell_type": "markdown",
   "id": "b5df56ab-db01-4e06-8641-3b140d13d888",
   "metadata": {},
   "source": [
    "## Dados iniciais"
   ]
  },
  {
   "cell_type": "code",
   "execution_count": 1,
   "id": "96722e37-8ef1-4795-9d99-e9d0f1c7c068",
   "metadata": {},
   "outputs": [],
   "source": [
    "from pandas import read_csv\n",
    "from datetime import datetime\n",
    "\n",
    "def conversor(data):\n",
    "    return datetime.strptime(data, '%Y-%m')\n",
    "\n",
    "df = read_csv('AirPassengers.csv',index_col = 'Month',parse_dates = ['Month'],date_parser = conversor)\n",
    "\n",
    "SerieTemporal = df['#Passengers']"
   ]
  },
  {
   "cell_type": "markdown",
   "id": "04d5e6e0-9e0e-4f0d-aa3c-c457ddc53774",
   "metadata": {},
   "source": [
    "## ```auto_arima()```"
   ]
  },
  {
   "cell_type": "markdown",
   "id": "0d325c62-039c-4c3b-84c6-03b6632d3ef4",
   "metadata": {},
   "source": [
    "Vimos anteriormente que é difícil acertar os valores de (p,d,q) para ajustar o modelo de previsão. Tendo em vista isso, podemos usar a classe ```auto_arima```. Para isso, importamos da seuinte maneira"
   ]
  },
  {
   "cell_type": "code",
   "execution_count": 3,
   "id": "4be695a1-dc12-4398-a440-96e9c4cdb66c",
   "metadata": {},
   "outputs": [],
   "source": [
    "from pmdarima.arima import auto_arima"
   ]
  },
  {
   "cell_type": "markdown",
   "id": "0f817838-5bb6-4427-87ba-f031d9df5a17",
   "metadata": {},
   "source": [
    "Dentre os parâmetros que existem, destacamos\n",
    "\n",
    "* ```y```: série temporal sobre a qual é feito previsões,\n",
    "* ```m```: é o período em que a série completa um ciclo. Isso deve ser observado pelo usuário. Além disso, colocar valores diferentes de m pode gerar previsões BASTANTE distintas.\n",
    "* ```seasonal```: (booleana) serve para \"dizer\" ao modelo se a série temporal é ou não sazonal "
   ]
  },
  {
   "cell_type": "code",
   "execution_count": 4,
   "id": "bbb5899d-6b89-4f58-94ba-d4199cea7be8",
   "metadata": {},
   "outputs": [],
   "source": [
    "modelo_auto = auto_arima(SerieTemporal, m = 12, seasonal = True)"
   ]
  },
  {
   "cell_type": "markdown",
   "id": "ae0a2ea3-6196-4ed3-b7ef-498c7401b71d",
   "metadata": {},
   "source": [
    "Para ver um resumo de parâmetros calculados, usamos o seguinte método:"
   ]
  },
  {
   "cell_type": "code",
   "execution_count": 6,
   "id": "fc9d4f90-ff58-42f1-ad7c-530a6c56d0e6",
   "metadata": {},
   "outputs": [
    {
     "data": {
      "text/html": [
       "<table class=\"simpletable\">\n",
       "<caption>SARIMAX Results</caption>\n",
       "<tr>\n",
       "  <th>Dep. Variable:</th>                  <td>y</td>                <th>  No. Observations:  </th>    <td>144</td>  \n",
       "</tr>\n",
       "<tr>\n",
       "  <th>Model:</th>           <td>SARIMAX(2, 1, 1)x(0, 1, [], 12)</td> <th>  Log Likelihood     </th> <td>-504.923</td>\n",
       "</tr>\n",
       "<tr>\n",
       "  <th>Date:</th>                   <td>Tue, 11 Jan 2022</td>         <th>  AIC                </th> <td>1017.847</td>\n",
       "</tr>\n",
       "<tr>\n",
       "  <th>Time:</th>                       <td>10:26:49</td>             <th>  BIC                </th> <td>1029.348</td>\n",
       "</tr>\n",
       "<tr>\n",
       "  <th>Sample:</th>                         <td>0</td>                <th>  HQIC               </th> <td>1022.520</td>\n",
       "</tr>\n",
       "<tr>\n",
       "  <th></th>                             <td> - 144</td>              <th>                     </th>     <td> </td>   \n",
       "</tr>\n",
       "<tr>\n",
       "  <th>Covariance Type:</th>               <td>opg</td>               <th>                     </th>     <td> </td>   \n",
       "</tr>\n",
       "</table>\n",
       "<table class=\"simpletable\">\n",
       "<tr>\n",
       "     <td></td>       <th>coef</th>     <th>std err</th>      <th>z</th>      <th>P>|z|</th>  <th>[0.025</th>    <th>0.975]</th>  \n",
       "</tr>\n",
       "<tr>\n",
       "  <th>ar.L1</th>  <td>    0.5959</td> <td>    0.085</td> <td>    6.987</td> <td> 0.000</td> <td>    0.429</td> <td>    0.763</td>\n",
       "</tr>\n",
       "<tr>\n",
       "  <th>ar.L2</th>  <td>    0.2143</td> <td>    0.091</td> <td>    2.343</td> <td> 0.019</td> <td>    0.035</td> <td>    0.394</td>\n",
       "</tr>\n",
       "<tr>\n",
       "  <th>ma.L1</th>  <td>   -0.9819</td> <td>    0.038</td> <td>  -25.605</td> <td> 0.000</td> <td>   -1.057</td> <td>   -0.907</td>\n",
       "</tr>\n",
       "<tr>\n",
       "  <th>sigma2</th> <td>  129.3125</td> <td>   14.556</td> <td>    8.884</td> <td> 0.000</td> <td>  100.783</td> <td>  157.842</td>\n",
       "</tr>\n",
       "</table>\n",
       "<table class=\"simpletable\">\n",
       "<tr>\n",
       "  <th>Ljung-Box (L1) (Q):</th>     <td>0.00</td> <th>  Jarque-Bera (JB):  </th> <td>7.68</td> \n",
       "</tr>\n",
       "<tr>\n",
       "  <th>Prob(Q):</th>                <td>0.98</td> <th>  Prob(JB):          </th> <td>0.02</td> \n",
       "</tr>\n",
       "<tr>\n",
       "  <th>Heteroskedasticity (H):</th> <td>2.33</td> <th>  Skew:              </th> <td>-0.01</td>\n",
       "</tr>\n",
       "<tr>\n",
       "  <th>Prob(H) (two-sided):</th>    <td>0.01</td> <th>  Kurtosis:          </th> <td>4.19</td> \n",
       "</tr>\n",
       "</table><br/><br/>Warnings:<br/>[1] Covariance matrix calculated using the outer product of gradients (complex-step)."
      ],
      "text/plain": [
       "<class 'statsmodels.iolib.summary.Summary'>\n",
       "\"\"\"\n",
       "                                      SARIMAX Results                                      \n",
       "===========================================================================================\n",
       "Dep. Variable:                                   y   No. Observations:                  144\n",
       "Model:             SARIMAX(2, 1, 1)x(0, 1, [], 12)   Log Likelihood                -504.923\n",
       "Date:                             Tue, 11 Jan 2022   AIC                           1017.847\n",
       "Time:                                     10:26:49   BIC                           1029.348\n",
       "Sample:                                          0   HQIC                          1022.520\n",
       "                                             - 144                                         \n",
       "Covariance Type:                               opg                                         \n",
       "==============================================================================\n",
       "                 coef    std err          z      P>|z|      [0.025      0.975]\n",
       "------------------------------------------------------------------------------\n",
       "ar.L1          0.5959      0.085      6.987      0.000       0.429       0.763\n",
       "ar.L2          0.2143      0.091      2.343      0.019       0.035       0.394\n",
       "ma.L1         -0.9819      0.038    -25.605      0.000      -1.057      -0.907\n",
       "sigma2       129.3125     14.556      8.884      0.000     100.783     157.842\n",
       "===================================================================================\n",
       "Ljung-Box (L1) (Q):                   0.00   Jarque-Bera (JB):                 7.68\n",
       "Prob(Q):                              0.98   Prob(JB):                         0.02\n",
       "Heteroskedasticity (H):               2.33   Skew:                            -0.01\n",
       "Prob(H) (two-sided):                  0.01   Kurtosis:                         4.19\n",
       "===================================================================================\n",
       "\n",
       "Warnings:\n",
       "[1] Covariance matrix calculated using the outer product of gradients (complex-step).\n",
       "\"\"\""
      ]
     },
     "execution_count": 6,
     "metadata": {},
     "output_type": "execute_result"
    }
   ],
   "source": [
    "modelo_auto.summary()"
   ]
  },
  {
   "cell_type": "markdown",
   "id": "a10a9723-3647-4533-9cb4-f8051edb9085",
   "metadata": {},
   "source": [
    "Para prever os próximos passos, usamos o método ```predict```, e informamos quantos passos a frente queremos estimar."
   ]
  },
  {
   "cell_type": "code",
   "execution_count": 7,
   "id": "ed9f4c76-7e07-4b08-b51d-1a1f2c27649c",
   "metadata": {},
   "outputs": [
    {
     "data": {
      "text/plain": [
       "array([445.63490714, 420.39494201, 449.19822468, 491.83980669,\n",
       "       503.3942907 , 566.86221826, 654.25989853, 638.59716697,\n",
       "       540.88337989, 494.1262208 , 423.3322736 , 465.50710847])"
      ]
     },
     "execution_count": 7,
     "metadata": {},
     "output_type": "execute_result"
    }
   ],
   "source": [
    "proximos_12 = modelo_auto.predict(n_periods = 12)\n",
    "\n",
    "proximos_12 "
   ]
  },
  {
   "cell_type": "code",
   "execution_count": null,
   "id": "3232f677-d3ea-468e-abd1-6205b5193733",
   "metadata": {},
   "outputs": [],
   "source": []
  }
 ],
 "metadata": {
  "kernelspec": {
   "display_name": "Python 3 (ipykernel)",
   "language": "python",
   "name": "python3"
  },
  "language_info": {
   "codemirror_mode": {
    "name": "ipython",
    "version": 3
   },
   "file_extension": ".py",
   "mimetype": "text/x-python",
   "name": "python",
   "nbconvert_exporter": "python",
   "pygments_lexer": "ipython3",
   "version": "3.8.10"
  }
 },
 "nbformat": 4,
 "nbformat_minor": 5
}
