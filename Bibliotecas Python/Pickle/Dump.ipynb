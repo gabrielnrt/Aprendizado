{
 "cells": [
  {
   "cell_type": "markdown",
   "id": "47ed1ac7-d91f-4270-b986-f56f47f335b7",
   "metadata": {},
   "source": [
    "# **Pickle**"
   ]
  },
  {
   "cell_type": "markdown",
   "id": "f2c1748e-4368-405a-b692-703961f8d097",
   "metadata": {},
   "source": [
    "## **Introdução**"
   ]
  },
  {
   "cell_type": "markdown",
   "id": "f445b98d-4294-4c57-b3da-8a927456802f",
   "metadata": {},
   "source": [
    "Este tutorial esta baseado neste [artigo em português](https://pense-python.caravela.club/14-arquivos/07-usando-o-pickle.html), e principalmente neste [artigo](https://www.digitalocean.com/community/tutorials/python-pickle-example) que possui uma explicação mais completa.\n",
    "\n",
    "Primeiramente, esta já vem com o python, então não precisamos dar uma linha de comando do tipo `sudo apt install ...` ou `pip3 instal ...` para instalá-la. Essa biblioteca serve para transformar objetos de python em strings, e vice-versa, de modo que o objeto compactado possa ser descompactado em outro script.\n",
    "\n",
    "Em particular, usaremos a função `dump()`, que é importada digitando"
   ]
  },
  {
   "cell_type": "code",
   "execution_count": 1,
   "id": "e67203ce-60fb-4c4a-9e89-b65775fad64b",
   "metadata": {},
   "outputs": [],
   "source": [
    "from pickle import dump"
   ]
  },
  {
   "cell_type": "markdown",
   "id": "0bcf840e-9f2f-49f1-940d-4b3955b4f7df",
   "metadata": {},
   "source": [
    "Esta função recebe 3 argumentos, dos quais discorreremos sobre os dois primeiros. O primeiro argumento é o objeto a ser serializado, enquanto que o segundo é o arquivo do objeto que obtemos ao abrí-lo no modo wb (write-binary)."
   ]
  },
  {
   "cell_type": "code",
   "execution_count": 4,
   "id": "27c33ef1-f012-4129-9d6f-53d10c998c33",
   "metadata": {},
   "outputs": [],
   "source": [
    "dump([1,2,1], open('teste.csv','wb'))"
   ]
  },
  {
   "cell_type": "code",
   "execution_count": null,
   "id": "e478856e-6280-4f6d-bf28-76480e68b7b1",
   "metadata": {},
   "outputs": [],
   "source": []
  }
 ],
 "metadata": {
  "kernelspec": {
   "display_name": "Python 3 (ipykernel)",
   "language": "python",
   "name": "python3"
  },
  "language_info": {
   "codemirror_mode": {
    "name": "ipython",
    "version": 3
   },
   "file_extension": ".py",
   "mimetype": "text/x-python",
   "name": "python",
   "nbconvert_exporter": "python",
   "pygments_lexer": "ipython3",
   "version": "3.8.10"
  }
 },
 "nbformat": 4,
 "nbformat_minor": 5
}
