{
 "cells": [
  {
   "cell_type": "markdown",
   "id": "eed634e2-e0c8-42ba-be86-e98f6d417f1b",
   "metadata": {},
   "source": [
    "# Vetores e Matrizes\n",
    "\n",
    "Tanto pra vetores quanto para matrizes, o numpy os considera como do tipo array. Para atribuir um objeto desses numa variável, basta usar a função ```array```."
   ]
  },
  {
   "cell_type": "code",
   "execution_count": 13,
   "id": "63056087-7736-40ce-9b2f-d42239a1f20f",
   "metadata": {},
   "outputs": [],
   "source": [
    "from numpy import array\n",
    "\n",
    "u = array([1,-1])\n",
    "v = array([0,1])"
   ]
  },
  {
   "cell_type": "markdown",
   "id": "f24590c1-d060-419f-b825-b1b3d784c4ce",
   "metadata": {},
   "source": [
    "Inserindo uma matriz"
   ]
  },
  {
   "cell_type": "code",
   "execution_count": 20,
   "id": "aadb1951-c7ea-47a0-9418-362c561ad675",
   "metadata": {},
   "outputs": [
    {
     "name": "stdout",
     "output_type": "stream",
     "text": [
      "[[ 1  0]\n",
      " [ 0 -1]]\n"
     ]
    }
   ],
   "source": [
    "A = array([[1,0],[0,-1]])\n",
    "print(A)"
   ]
  },
  {
   "cell_type": "markdown",
   "id": "4ed9f4e4-d7d5-4b43-aec0-75868f67c9d3",
   "metadata": {},
   "source": [
    "Essa matriz em particular é a $\\sigma_z$ de Pauli."
   ]
  },
  {
   "cell_type": "markdown",
   "id": "07b08260-eadf-42d1-a344-92dd4aa2ab66",
   "metadata": {},
   "source": [
    "## Produto entre arrays\n",
    "\n",
    "Para fazer um produto escalar ou entre matrizes, usamos a função ```dot```, que aceita tanto vetores quanto matrizes no argumento"
   ]
  },
  {
   "cell_type": "code",
   "execution_count": 16,
   "id": "0d2c263a-b91d-4564-baa0-43002a4bff77",
   "metadata": {},
   "outputs": [],
   "source": [
    "from numpy import dot"
   ]
  },
  {
   "cell_type": "markdown",
   "id": "196fb618-2beb-40fa-a30d-eb1bc4c1edc2",
   "metadata": {},
   "source": [
    "* Produto escalar de dois vetores"
   ]
  },
  {
   "cell_type": "code",
   "execution_count": 17,
   "id": "7008a986-a481-43ea-8b4e-337fca5115f0",
   "metadata": {},
   "outputs": [
    {
     "data": {
      "text/plain": [
       "-1"
      ]
     },
     "execution_count": 17,
     "metadata": {},
     "output_type": "execute_result"
    }
   ],
   "source": [
    "dot(u,v)"
   ]
  },
  {
   "cell_type": "markdown",
   "id": "399de163-230c-4c68-8556-e8b8205e8cca",
   "metadata": {},
   "source": [
    "* Produto do tipo matriz-vetor"
   ]
  },
  {
   "cell_type": "code",
   "execution_count": 21,
   "id": "0c47ecf7-33cb-4d3c-ad19-11c3f8b2e8aa",
   "metadata": {},
   "outputs": [
    {
     "data": {
      "text/plain": [
       "array([1, 1])"
      ]
     },
     "execution_count": 21,
     "metadata": {},
     "output_type": "execute_result"
    }
   ],
   "source": [
    "dot(u,A)"
   ]
  },
  {
   "cell_type": "markdown",
   "id": "f8a7573f-9737-41f7-910e-0a4d7c3109bc",
   "metadata": {},
   "source": [
    "Obs: Embora o que fazemos no papel seja $A  \\vec{u}$, podemos colocar os argumentos de forma invertida pois a função ```dot``` \"vai encontrar\" a maneira certa de interpretar aquilo que foi colocado na argumentação."
   ]
  },
  {
   "cell_type": "markdown",
   "id": "06eff900-a9b5-4b55-a787-a9dce8cb960a",
   "metadata": {},
   "source": [
    "* Produto entre duas matrizes"
   ]
  },
  {
   "cell_type": "code",
   "execution_count": 22,
   "id": "c2d890d0-a4b1-4f6a-9130-cfd10576cff9",
   "metadata": {},
   "outputs": [
    {
     "data": {
      "text/plain": [
       "array([[1, 0],\n",
       "       [0, 1]])"
      ]
     },
     "execution_count": 22,
     "metadata": {},
     "output_type": "execute_result"
    }
   ],
   "source": [
    "dot(A,A)"
   ]
  },
  {
   "cell_type": "code",
   "execution_count": null,
   "id": "4514426a-4347-4d78-9ae8-55efa7745e3e",
   "metadata": {},
   "outputs": [],
   "source": []
  }
 ],
 "metadata": {
  "kernelspec": {
   "display_name": "Python 3 (ipykernel)",
   "language": "python",
   "name": "python3"
  },
  "language_info": {
   "codemirror_mode": {
    "name": "ipython",
    "version": 3
   },
   "file_extension": ".py",
   "mimetype": "text/x-python",
   "name": "python",
   "nbconvert_exporter": "python",
   "pygments_lexer": "ipython3",
   "version": "3.8.10"
  }
 },
 "nbformat": 4,
 "nbformat_minor": 5
}
