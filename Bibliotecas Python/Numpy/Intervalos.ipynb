{
 "cells": [
  {
   "cell_type": "markdown",
   "id": "43a55307-b6cd-4c0b-8e32-f3a6ce292560",
   "metadata": {},
   "source": [
    "# Criação de intervalos\n",
    "\n",
    "Para delimitar intervalos numéricos igualmente espaçados, usamos a função ```linspace```, colocando o limite inferior, limite superior e o número de pontos do intervalos, respectivamente. "
   ]
  },
  {
   "cell_type": "code",
   "execution_count": 1,
   "id": "565d0b6e-b597-4e8c-8137-4ff13119e450",
   "metadata": {},
   "outputs": [
    {
     "data": {
      "text/plain": [
       "array([ 0.        ,  0.52631579,  1.05263158,  1.57894737,  2.10526316,\n",
       "        2.63157895,  3.15789474,  3.68421053,  4.21052632,  4.73684211,\n",
       "        5.26315789,  5.78947368,  6.31578947,  6.84210526,  7.36842105,\n",
       "        7.89473684,  8.42105263,  8.94736842,  9.47368421, 10.        ])"
      ]
     },
     "execution_count": 1,
     "metadata": {},
     "output_type": "execute_result"
    }
   ],
   "source": [
    "from numpy import linspace\n",
    "\n",
    "x = linspace(0,10, 20)\n",
    "\n",
    "x"
   ]
  },
  {
   "cell_type": "code",
   "execution_count": null,
   "id": "6d2fcd5b-797c-4286-b5ac-aaed3318c36c",
   "metadata": {},
   "outputs": [],
   "source": []
  }
 ],
 "metadata": {
  "kernelspec": {
   "display_name": "Python 3 (ipykernel)",
   "language": "python",
   "name": "python3"
  },
  "language_info": {
   "codemirror_mode": {
    "name": "ipython",
    "version": 3
   },
   "file_extension": ".py",
   "mimetype": "text/x-python",
   "name": "python",
   "nbconvert_exporter": "python",
   "pygments_lexer": "ipython3",
   "version": "3.8.10"
  }
 },
 "nbformat": 4,
 "nbformat_minor": 5
}
