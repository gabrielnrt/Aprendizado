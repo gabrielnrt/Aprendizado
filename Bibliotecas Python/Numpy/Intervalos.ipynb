{
 "cells": [
  {
   "cell_type": "markdown",
   "id": "43a55307-b6cd-4c0b-8e32-f3a6ce292560",
   "metadata": {},
   "source": [
    "# Criação de intervalos\n",
    "\n",
    "Para delimitar intervalos numéricos igualmente espaçados, usamos a função ```linspace```, colocando o limite inferior, limite superior e o número de pontos do intervalos, respectivamente. "
   ]
  },
  {
   "cell_type": "code",
   "execution_count": 1,
   "id": "565d0b6e-b597-4e8c-8137-4ff13119e450",
   "metadata": {},
   "outputs": [
    {
     "data": {
      "text/plain": [
       "array([ 0.        ,  0.52631579,  1.05263158,  1.57894737,  2.10526316,\n",
       "        2.63157895,  3.15789474,  3.68421053,  4.21052632,  4.73684211,\n",
       "        5.26315789,  5.78947368,  6.31578947,  6.84210526,  7.36842105,\n",
       "        7.89473684,  8.42105263,  8.94736842,  9.47368421, 10.        ])"
      ]
     },
     "execution_count": 1,
     "metadata": {},
     "output_type": "execute_result"
    }
   ],
   "source": [
    "from numpy import linspace\n",
    "\n",
    "x = linspace(0,10, 20)\n",
    "\n",
    "x"
   ]
  },
  {
   "cell_type": "markdown",
   "id": "c9dd8f38-af63-46c4-a741-d60490178717",
   "metadata": {},
   "source": [
    "Outra maneira bastante comum de gerar intervalos é com a função ```arange```, no qual o inserimos os pontos inciais, o de parada e a distância entre os pontos, respectivamente. Note que o último ponto, o de parada, não é incluso no intervalo. Vamos tentar replicar o mesmo intervalo com essa função."
   ]
  },
  {
   "cell_type": "code",
   "execution_count": 2,
   "id": "ba7b4435-bcbe-4e84-94fe-9b3187c19015",
   "metadata": {},
   "outputs": [
    {
     "data": {
      "text/plain": [
       "array([ 0.        ,  0.52631579,  1.05263158,  1.57894737,  2.10526316,\n",
       "        2.63157895,  3.15789474,  3.68421053,  4.21052632,  4.73684211,\n",
       "        5.2631579 ,  5.78947369,  6.31578948,  6.84210527,  7.36842106,\n",
       "        7.89473685,  8.42105264,  8.94736843,  9.47368422, 10.00000001])"
      ]
     },
     "execution_count": 2,
     "metadata": {},
     "output_type": "execute_result"
    }
   ],
   "source": [
    "from numpy import arange\n",
    "\n",
    "y = arange(0,10.5, 0.52631579)\n",
    "\n",
    "y"
   ]
  },
  {
   "cell_type": "code",
   "execution_count": null,
   "id": "531af7b4-2895-43f3-8180-3e4a2b3dfc09",
   "metadata": {},
   "outputs": [],
   "source": []
  }
 ],
 "metadata": {
  "kernelspec": {
   "display_name": "Python 3 (ipykernel)",
   "language": "python",
   "name": "python3"
  },
  "language_info": {
   "codemirror_mode": {
    "name": "ipython",
    "version": 3
   },
   "file_extension": ".py",
   "mimetype": "text/x-python",
   "name": "python",
   "nbconvert_exporter": "python",
   "pygments_lexer": "ipython3",
   "version": "3.8.10"
  }
 },
 "nbformat": 4,
 "nbformat_minor": 5
}
