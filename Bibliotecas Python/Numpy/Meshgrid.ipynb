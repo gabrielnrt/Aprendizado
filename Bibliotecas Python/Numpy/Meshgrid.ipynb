{
 "cells": [
  {
   "cell_type": "markdown",
   "id": "2fc030dc-6bf0-4dd5-ac7b-40022c67a79e",
   "metadata": {},
   "source": [
    "# Meshgrid"
   ]
  },
  {
   "cell_type": "markdown",
   "id": "b0a5cdd6-d70f-4bc3-a8b4-d1bb01ae2e33",
   "metadata": {},
   "source": [
    "## Introdução"
   ]
  },
  {
   "cell_type": "markdown",
   "id": "77f4591c-f639-43c7-88b9-2b329018d0fc",
   "metadata": {},
   "source": [
    "Neste notebook vamos falar sobre a função ```meshgrid``` do numpy, que é essencial para realizar gráficos 3D no matplotlib. Suponha que queremos fazer uma grade de dispersão dos seguintes pontos:\n",
    "\n",
    "* (1, -0.5)\n",
    "* (1.2, 2) \n",
    "* (1, 2)\n",
    "* (1.2, -0.5)\n",
    "* (1, -0.2)\n",
    "* (1.2, -0.2)\n",
    "\n",
    "Podemos fazer isso da maneira usual através de"
   ]
  },
  {
   "cell_type": "code",
   "execution_count": 2,
   "id": "67ee216e-9d23-449c-9cfd-fb5e1c2b28b4",
   "metadata": {},
   "outputs": [
    {
     "data": {
      "text/plain": [
       "<matplotlib.collections.PathCollection at 0x7f23c5d77f70>"
      ]
     },
     "execution_count": 2,
     "metadata": {},
     "output_type": "execute_result"
    },
    {
     "data": {
      "image/png": "[encoded data removed]",
      "text/plain": [
       "<Figure size 432x288 with 1 Axes>"
      ]
     },
     "metadata": {
      "needs_background": "light"
     },
     "output_type": "display_data"
    }
   ],
   "source": [
    "from pylab import scatter\n",
    "from numpy import array\n",
    "\n",
    "x = array([1, 1.2, 1, 1.2, 1, 1.2])\n",
    "y = array([-0.5, 2, 2, -0.5, -0.2, -0.2])\n",
    "\n",
    "scatter(x,y,\n",
    "       marker = '+',\n",
    "       color = 'green')"
   ]
  },
  {
   "cell_type": "markdown",
   "id": "522fb585-001c-4cd6-8c98-572dfa665d2f",
   "metadata": {},
   "source": [
    "Contudo, se a nossa grade tivesse vários pontos, colocar cada um deles no código seria uma tarefa bastante cansativa. Tendo isso em vista, podemos criar uma matriz que contenha todos os pontos, e é aí que entra a função ```meshgrid```."
   ]
  },
  {
   "cell_type": "markdown",
   "id": "5d884dab-92fd-4dc9-b520-09f9de459b8a",
   "metadata": {},
   "source": [
    "## ```meshgrid```"
   ]
  },
  {
   "cell_type": "markdown",
   "id": "9701b469-b0ea-4ae5-aa95-1e32f271fb71",
   "metadata": {},
   "source": [
    "Por hora, vamos trabalhar com a notação complexa por fins didáticos, e depois entraremos em mais detalhes no retorno da função propriamente dito. Para importar, basta digitar"
   ]
  },
  {
   "cell_type": "code",
   "execution_count": 3,
   "id": "123fd086-13f1-4c14-aedd-a07e049a1b1e",
   "metadata": {},
   "outputs": [],
   "source": [
    "from numpy import meshgrid"
   ]
  },
  {
   "cell_type": "markdown",
   "id": "a8ca2e01-896f-4ed4-a81d-56a9998e6a9d",
   "metadata": {},
   "source": [
    "Deste modo, vamos agora criar duas variáveis, sendo uma delas os valores que x assume e a outra os valores que y assume. Como faremos usando notação complexa, então os valores de y serão imaginários."
   ]
  },
  {
   "cell_type": "code",
   "execution_count": 3,
   "id": "4f7b216e-1b41-4d29-9f62-7f0d8cde690e",
   "metadata": {},
   "outputs": [],
   "source": [
    "ValoresX = array([complex(1,0), complex(1.2, 0)])\n",
    "ValoresY = array([complex(0, -0.5), complex(0, -0.2), complex(0,2)])"
   ]
  },
  {
   "cell_type": "markdown",
   "id": "671682c0-6f81-483e-8a7d-5a0701bd2a5d",
   "metadata": {},
   "source": [
    "Para criar a grade, devemos inserir no argumento da função os dois arrays, e assim ele nos retorna duas matrizes (que abordaremos mais adiante)."
   ]
  },
  {
   "cell_type": "code",
   "execution_count": 4,
   "id": "06cac646-55a5-4012-99b5-509a335d5597",
   "metadata": {},
   "outputs": [],
   "source": [
    "XX, YY = meshgrid(ValoresX, ValoresY)"
   ]
  },
  {
   "cell_type": "markdown",
   "id": "82b8052c-17a3-457a-a015-3a564f86fe32",
   "metadata": {},
   "source": [
    "Então, a nossa matriz contendo todos os pontos da grade será dada pela soma dos objetos que a função retornou"
   ]
  },
  {
   "cell_type": "code",
   "execution_count": 5,
   "id": "7177191b-0f26-4146-a9ab-cba6fa6ab934",
   "metadata": {},
   "outputs": [
    {
     "data": {
      "text/plain": [
       "array([[1. -0.5j, 1.2-0.5j],\n",
       "       [1. -0.2j, 1.2-0.2j],\n",
       "       [1. +2.j , 1.2+2.j ]])"
      ]
     },
     "execution_count": 5,
     "metadata": {},
     "output_type": "execute_result"
    }
   ],
   "source": [
    "ZZ = XX + YY\n",
    "ZZ"
   ]
  },
  {
   "cell_type": "markdown",
   "id": "4f8c9ca0-1db3-405e-a76a-73426199184b",
   "metadata": {},
   "source": [
    "Vendo o objeto ZZ, fica mais nítido enxergar o que a função ```meshgrid``` retorna: o primeiro objeto (XX) é uma matriz contendo não só os valores que x assume, mas também quantas vezes ele se repete na grade."
   ]
  },
  {
   "cell_type": "code",
   "execution_count": 6,
   "id": "b3793dce-2dda-4bb9-a210-a60310eb865b",
   "metadata": {},
   "outputs": [
    {
     "data": {
      "text/plain": [
       "array([[1. +0.j, 1.2+0.j],\n",
       "       [1. +0.j, 1.2+0.j],\n",
       "       [1. +0.j, 1.2+0.j]])"
      ]
     },
     "execution_count": 6,
     "metadata": {},
     "output_type": "execute_result"
    }
   ],
   "source": [
    "XX"
   ]
  },
  {
   "cell_type": "markdown",
   "id": "b2324aae-2915-4c91-84a6-7b51be7902a9",
   "metadata": {},
   "source": [
    "Já o segundo objeto (YY) também é uma matriz, contendo os valores que y assume, assim como a quantidade de vezes que ele se repete."
   ]
  },
  {
   "cell_type": "code",
   "execution_count": 7,
   "id": "82a46126-2a24-4501-a842-8632ee12d0bb",
   "metadata": {},
   "outputs": [
    {
     "data": {
      "text/plain": [
       "array([[0.-0.5j, 0.-0.5j],\n",
       "       [0.-0.2j, 0.-0.2j],\n",
       "       [0.+2.j , 0.+2.j ]])"
      ]
     },
     "execution_count": 7,
     "metadata": {},
     "output_type": "execute_result"
    }
   ],
   "source": [
    "YY"
   ]
  },
  {
   "cell_type": "markdown",
   "id": "4687bf40-a33c-487d-9f0c-edb78e9b7295",
   "metadata": {},
   "source": [
    "Vale ressaltar que colocamos os valores complexos por fins didáticos. Como o resultado final que queremos é um gráfico de dispersão contendo a grade desejada, vamos usar a função da forma mais comum, que é com arrays reais."
   ]
  },
  {
   "cell_type": "code",
   "execution_count": 5,
   "id": "cf18198d-b979-4199-a2ff-605c2dcc9244",
   "metadata": {},
   "outputs": [
    {
     "data": {
      "text/plain": [
       "array([[1. , 1.2],\n",
       "       [1. , 1.2],\n",
       "       [1. , 1.2]])"
      ]
     },
     "execution_count": 5,
     "metadata": {},
     "output_type": "execute_result"
    }
   ],
   "source": [
    "X = array([1,1.2])\n",
    "Y = array([-0.5, -0.2, 2])\n",
    "\n",
    "xx, yy = meshgrid(X, Y)\n",
    "\n",
    "xx"
   ]
  },
  {
   "cell_type": "code",
   "execution_count": 6,
   "id": "7fe41ffa-3bd1-442c-8781-d342178015dd",
   "metadata": {},
   "outputs": [
    {
     "data": {
      "text/plain": [
       "array([[-0.5, -0.5],\n",
       "       [-0.2, -0.2],\n",
       "       [ 2. ,  2. ]])"
      ]
     },
     "execution_count": 6,
     "metadata": {},
     "output_type": "execute_result"
    }
   ],
   "source": [
    "yy"
   ]
  },
  {
   "cell_type": "markdown",
   "id": "01a1d056-03e4-4c7d-aa9b-823973e08983",
   "metadata": {},
   "source": [
    "Agora sim vejamos quão mais fácil é criar uma grade com essa função."
   ]
  },
  {
   "cell_type": "code",
   "execution_count": 8,
   "id": "1cc579e9-d3fb-48d5-ba74-1383ab31985d",
   "metadata": {},
   "outputs": [
    {
     "data": {
      "text/plain": [
       "<matplotlib.collections.PathCollection at 0x7f23bdc98f40>"
      ]
     },
     "execution_count": 8,
     "metadata": {},
     "output_type": "execute_result"
    },
    {
     "data": {
      "image/png": "[encoded data removed]",
      "text/plain": [
       "<Figure size 432x288 with 1 Axes>"
      ]
     },
     "metadata": {
      "needs_background": "light"
     },
     "output_type": "display_data"
    }
   ],
   "source": [
    "scatter(xx, yy,\n",
    "        color = 'green',\n",
    "        marker = '+')"
   ]
  },
  {
   "cell_type": "markdown",
   "id": "93414417-0f01-4b25-892a-59463f43fb5e",
   "metadata": {},
   "source": [
    "Em suma, ao invés de criar cada ponto da grade, podemos criá-la configurando todos os valores que x e y assumem, e assim a função ```meshgrid``` nos gera pontos (x,y) referentes a todas as combinações de pares (x,y) possíveis."
   ]
  },
  {
   "cell_type": "code",
   "execution_count": null,
   "id": "e4091409-8a46-4739-b5c3-08d2ac6bfc7e",
   "metadata": {},
   "outputs": [],
   "source": []
  }
 ],
 "metadata": {
  "kernelspec": {
   "display_name": "Python 3 (ipykernel)",
   "language": "python",
   "name": "python3"
  },
  "language_info": {
   "codemirror_mode": {
    "name": "ipython",
    "version": 3
   },
   "file_extension": ".py",
   "mimetype": "text/x-python",
   "name": "python",
   "nbconvert_exporter": "python",
   "pygments_lexer": "ipython3",
   "version": "3.8.10"
  }
 },
 "nbformat": 4,
 "nbformat_minor": 5
}
