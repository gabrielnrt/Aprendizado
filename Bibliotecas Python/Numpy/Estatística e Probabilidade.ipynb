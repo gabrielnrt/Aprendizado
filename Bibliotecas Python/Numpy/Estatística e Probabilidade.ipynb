{
 "cells": [
  {
   "cell_type": "markdown",
   "id": "963828ed-52f1-43d5-abf4-ce7355bd5f5a",
   "metadata": {},
   "source": [
    "# Estatística e Probabilidade\n",
    "\n",
    "Aqui virá a parte de estatística e probabilidade."
   ]
  },
  {
   "cell_type": "code",
   "execution_count": null,
   "id": "716b2790-8d2d-4d3f-bf9e-40e9ee9401d8",
   "metadata": {},
   "outputs": [],
   "source": []
  }
 ],
 "metadata": {
  "kernelspec": {
   "display_name": "Python 3 (ipykernel)",
   "language": "python",
   "name": "python3"
  },
  "language_info": {
   "codemirror_mode": {
    "name": "ipython",
    "version": 3
   },
   "file_extension": ".py",
   "mimetype": "text/x-python",
   "name": "python",
   "nbconvert_exporter": "python",
   "pygments_lexer": "ipython3",
   "version": "3.8.10"
  }
 },
 "nbformat": 4,
 "nbformat_minor": 5
}
