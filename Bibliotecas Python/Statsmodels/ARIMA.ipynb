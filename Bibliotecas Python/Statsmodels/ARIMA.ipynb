{
 "cells": [
  {
   "cell_type": "markdown",
   "id": "3cc12500-c716-4d52-86da-d3416ab1a268",
   "metadata": {
    "tags": []
   },
   "source": [
    "# ARIMA"
   ]
  },
  {
   "cell_type": "markdown",
   "id": "7354cf52-d0f2-4957-84dc-d32fb5810d39",
   "metadata": {
    "tags": []
   },
   "source": [
    "## Introdução"
   ]
  },
  {
   "cell_type": "markdown",
   "id": "8560797d-985f-4238-888d-2668e1070f92",
   "metadata": {},
   "source": [
    "Neste notebook veremos sobre o ARIMA.  Talvez eu me aprofunde nisso mais tarde pois é um tópico grande e difícil, contudo vou por hora abordar de uma maneira resumida.\n",
    "\n",
    "A grosso modo, o ARIMA é um modelo que recebe como entrada uma série temporal e devolve uma previsão da série em instantes futuros. Para isso, precisamos fornecer 3 parâmetros,\n",
    "\n",
    "* p: ordem da parte autoregressiva,\n",
    "* d: grau de diferenciação,\n",
    "* q: ordem da média variável.\n",
    "\n",
    "Em muitos casos é difícil saber qual conjunto (p,d,q) devemos escolher de tal modo que o erro seja mínimo. Assim, é possível usar o ```AUTO.arima()``` que testa várias combinações para encontrar a melhor combinação desses parâmetros. Como essa função pertence a outra biblioteca, isso será visto em outro notebook."
   ]
  },
  {
   "cell_type": "markdown",
   "id": "3e9bb8cb-626c-4f93-8913-1376ef703ef8",
   "metadata": {
    "tags": []
   },
   "source": [
    "## Importando os dados iniciais"
   ]
  },
  {
   "cell_type": "code",
   "execution_count": 1,
   "id": "51c0035f-71ba-496a-9eeb-d620ade258a3",
   "metadata": {},
   "outputs": [],
   "source": [
    "from pandas import read_csv\n",
    "from datetime import datetime\n",
    "\n",
    "def conversor(data):\n",
    "    return datetime.strptime(data, '%Y-%m')\n",
    "\n",
    "df = read_csv('AirPassengers.csv',index_col = 'Month',parse_dates = ['Month'],date_parser = conversor)\n",
    "\n",
    "SerieTemporal = df['#Passengers']"
   ]
  },
  {
   "cell_type": "markdown",
   "id": "db0a2d44-b7a3-4d12-9f09-2886ec98a702",
   "metadata": {},
   "source": [
    "Posto isso, chamamos a classe ```ARIMA``` da seguinte maneira"
   ]
  },
  {
   "cell_type": "code",
   "execution_count": 6,
   "id": "9b142dca-f8b8-405f-bbae-afb8e48ca1e4",
   "metadata": {},
   "outputs": [],
   "source": [
    "from statsmodels.tsa.arima.model import ARIMA"
   ]
  },
  {
   "cell_type": "markdown",
   "id": "a58e2ba8-b80b-4148-a8a0-2b0e0b90ca7d",
   "metadata": {},
   "source": [
    "Dentre as variáveis possíveis, vamos destacar as seguintes:\n",
    "\n",
    "* ```endog```: série temporal que será nossa entrada,\n",
    "* ```order```: sequência de parâmetros (p,d,q),\n",
    "* ```freq```: frequência da série temporal.\n",
    "\n",
    "Deste modo,"
   ]
  },
  {
   "cell_type": "code",
   "execution_count": 7,
   "id": "9e75c08d-f307-49be-8e73-275418aaec8c",
   "metadata": {},
   "outputs": [
    {
     "name": "stderr",
     "output_type": "stream",
     "text": [
      "/home/gabriel/Github/gabrielnrt/Aprendizado/notebooks/lib/python3.8/site-packages/statsmodels/tsa/base/tsa_model.py:536: ValueWarning: No frequency information was provided, so inferred frequency MS will be used.\n",
      "  warnings.warn('No frequency information was'\n"
     ]
    }
   ],
   "source": [
    "modelo = ARIMA(endog = SerieTemporal, \n",
    "              order = (2,1,2),\n",
    "              freq = SerieTemporal.index.inferred_freq)"
   ]
  },
  {
   "cell_type": "markdown",
   "id": "301eae7b-2df8-4f9d-8098-efedb5124bf7",
   "metadata": {},
   "source": [
    "Uma vez criada a instância, destacamos aqui o seguinte método:\n",
    "\n",
    "*  ```fit```: ajuste (treinamento) de parâmetros do modelo,\n",
    "\n",
    "que retorna uma instância de outra classe, chamada de ```ARIMAResults```. Essa nova instância, por sua vez, é dotada de outras variáveis, das quais destacamos\n",
    "\n",
    "* ```summary```: resumo do modelo,\n",
    "* ```forecast```: calcula os próximos passos da série\n",
    "\n",
    "Visualizando o resumo:"
   ]
  },
  {
   "cell_type": "code",
   "execution_count": 9,
   "id": "90e3387b-5b79-4b57-bd8a-a299ceb658bb",
   "metadata": {},
   "outputs": [
    {
     "name": "stderr",
     "output_type": "stream",
     "text": [
      "/home/gabriel/Github/gabrielnrt/Aprendizado/notebooks/lib/python3.8/site-packages/statsmodels/base/model.py:604: ConvergenceWarning: Maximum Likelihood optimization failed to converge. Check mle_retvals\n",
      "  warnings.warn(\"Maximum Likelihood optimization failed to \"\n"
     ]
    },
    {
     "data": {
      "text/html": [
       "<table class=\"simpletable\">\n",
       "<caption>SARIMAX Results</caption>\n",
       "<tr>\n",
       "  <th>Dep. Variable:</th>      <td>#Passengers</td>   <th>  No. Observations:  </th>    <td>144</td>  \n",
       "</tr>\n",
       "<tr>\n",
       "  <th>Model:</th>            <td>ARIMA(2, 1, 2)</td>  <th>  Log Likelihood     </th> <td>-671.673</td>\n",
       "</tr>\n",
       "<tr>\n",
       "  <th>Date:</th>            <td>Mon, 10 Jan 2022</td> <th>  AIC                </th> <td>1353.347</td>\n",
       "</tr>\n",
       "<tr>\n",
       "  <th>Time:</th>                <td>20:34:54</td>     <th>  BIC                </th> <td>1368.161</td>\n",
       "</tr>\n",
       "<tr>\n",
       "  <th>Sample:</th>             <td>01-01-1949</td>    <th>  HQIC               </th> <td>1359.366</td>\n",
       "</tr>\n",
       "<tr>\n",
       "  <th></th>                   <td>- 12-01-1960</td>   <th>                     </th>     <td> </td>   \n",
       "</tr>\n",
       "<tr>\n",
       "  <th>Covariance Type:</th>        <td>opg</td>       <th>                     </th>     <td> </td>   \n",
       "</tr>\n",
       "</table>\n",
       "<table class=\"simpletable\">\n",
       "<tr>\n",
       "     <td></td>       <th>coef</th>     <th>std err</th>      <th>z</th>      <th>P>|z|</th>  <th>[0.025</th>    <th>0.975]</th>  \n",
       "</tr>\n",
       "<tr>\n",
       "  <th>ar.L1</th>  <td>    1.6850</td> <td>    0.020</td> <td>   83.061</td> <td> 0.000</td> <td>    1.645</td> <td>    1.725</td>\n",
       "</tr>\n",
       "<tr>\n",
       "  <th>ar.L2</th>  <td>   -0.9549</td> <td>    0.017</td> <td>  -55.421</td> <td> 0.000</td> <td>   -0.989</td> <td>   -0.921</td>\n",
       "</tr>\n",
       "<tr>\n",
       "  <th>ma.L1</th>  <td>   -1.8432</td> <td>    0.124</td> <td>  -14.857</td> <td> 0.000</td> <td>   -2.086</td> <td>   -1.600</td>\n",
       "</tr>\n",
       "<tr>\n",
       "  <th>ma.L2</th>  <td>    0.9953</td> <td>    0.134</td> <td>    7.404</td> <td> 0.000</td> <td>    0.732</td> <td>    1.259</td>\n",
       "</tr>\n",
       "<tr>\n",
       "  <th>sigma2</th> <td>  665.9677</td> <td>  113.831</td> <td>    5.851</td> <td> 0.000</td> <td>  442.864</td> <td>  889.071</td>\n",
       "</tr>\n",
       "</table>\n",
       "<table class=\"simpletable\">\n",
       "<tr>\n",
       "  <th>Ljung-Box (L1) (Q):</th>     <td>0.30</td> <th>  Jarque-Bera (JB):  </th> <td>1.84</td>\n",
       "</tr>\n",
       "<tr>\n",
       "  <th>Prob(Q):</th>                <td>0.59</td> <th>  Prob(JB):          </th> <td>0.40</td>\n",
       "</tr>\n",
       "<tr>\n",
       "  <th>Heteroskedasticity (H):</th> <td>7.38</td> <th>  Skew:              </th> <td>0.27</td>\n",
       "</tr>\n",
       "<tr>\n",
       "  <th>Prob(H) (two-sided):</th>    <td>0.00</td> <th>  Kurtosis:          </th> <td>3.14</td>\n",
       "</tr>\n",
       "</table><br/><br/>Warnings:<br/>[1] Covariance matrix calculated using the outer product of gradients (complex-step)."
      ],
      "text/plain": [
       "<class 'statsmodels.iolib.summary.Summary'>\n",
       "\"\"\"\n",
       "                               SARIMAX Results                                \n",
       "==============================================================================\n",
       "Dep. Variable:            #Passengers   No. Observations:                  144\n",
       "Model:                 ARIMA(2, 1, 2)   Log Likelihood                -671.673\n",
       "Date:                Mon, 10 Jan 2022   AIC                           1353.347\n",
       "Time:                        20:34:54   BIC                           1368.161\n",
       "Sample:                    01-01-1949   HQIC                          1359.366\n",
       "                         - 12-01-1960                                         \n",
       "Covariance Type:                  opg                                         \n",
       "==============================================================================\n",
       "                 coef    std err          z      P>|z|      [0.025      0.975]\n",
       "------------------------------------------------------------------------------\n",
       "ar.L1          1.6850      0.020     83.061      0.000       1.645       1.725\n",
       "ar.L2         -0.9549      0.017    -55.421      0.000      -0.989      -0.921\n",
       "ma.L1         -1.8432      0.124    -14.857      0.000      -2.086      -1.600\n",
       "ma.L2          0.9953      0.134      7.404      0.000       0.732       1.259\n",
       "sigma2       665.9677    113.831      5.851      0.000     442.864     889.071\n",
       "===================================================================================\n",
       "Ljung-Box (L1) (Q):                   0.30   Jarque-Bera (JB):                 1.84\n",
       "Prob(Q):                              0.59   Prob(JB):                         0.40\n",
       "Heteroskedasticity (H):               7.38   Skew:                             0.27\n",
       "Prob(H) (two-sided):                  0.00   Kurtosis:                         3.14\n",
       "===================================================================================\n",
       "\n",
       "Warnings:\n",
       "[1] Covariance matrix calculated using the outer product of gradients (complex-step).\n",
       "\"\"\""
      ]
     },
     "execution_count": 9,
     "metadata": {},
     "output_type": "execute_result"
    }
   ],
   "source": [
    "modelo_treinado = modelo.fit()\n",
    "\n",
    "modelo_treinado.summary()"
   ]
  },
  {
   "cell_type": "markdown",
   "id": "77435d36-8b28-4d89-886b-c714c6a2999e",
   "metadata": {},
   "source": [
    "Calculando os próximos 12 passos,"
   ]
  },
  {
   "cell_type": "code",
   "execution_count": 24,
   "id": "bf3c8169-65db-46ce-9b87-bcbcacf2a5d4",
   "metadata": {},
   "outputs": [
    {
     "data": {
      "text/plain": [
       "1961-01-01    439.854197\n",
       "1961-02-01    465.295567\n",
       "1961-03-01    500.665338\n",
       "1961-04-01    535.971534\n",
       "1961-05-01    561.690427\n",
       "1961-06-01    571.315163\n",
       "1961-07-01    562.975295\n",
       "1961-08-01    539.732172\n",
       "1961-09-01    508.530253\n",
       "1961-10-01    478.147989\n",
       "1961-11-01    456.746363\n",
       "1961-12-01    449.694697\n",
       "1962-01-01    458.247893\n",
       "1962-02-01    479.393572\n",
       "1962-03-01    506.857546\n",
       "1962-04-01    532.944025\n",
       "1962-05-01    550.676335\n",
       "1962-06-01    555.646955\n",
       "1962-07-01    547.090804\n",
       "1962-08-01    527.927243\n",
       "1962-09-01    503.806011\n",
       "1962-10-01    481.459507\n",
       "1962-11-01    466.837323\n",
       "1962-12-01    463.536215\n",
       "1963-01-01    471.935821\n",
       "1963-02-01    489.241457\n",
       "1963-03-01    510.381514\n",
       "1963-04-01    529.478707\n",
       "1963-05-01    541.472304\n",
       "1963-06-01    543.446793\n",
       "1963-07-01    535.321717\n",
       "1963-08-01    519.745398\n",
       "1963-09-01    501.257152\n",
       "1963-10-01    484.977085\n",
       "1963-11-01    475.198324\n",
       "1963-12-01    474.265950\n",
       "1964-01-01    482.032169\n",
       "1964-02-01    496.008736\n",
       "1964-03-01    512.144015\n",
       "1964-04-01    525.986800\n",
       "Freq: MS, Name: predicted_mean, dtype: float64"
      ]
     },
     "execution_count": 24,
     "metadata": {},
     "output_type": "execute_result"
    }
   ],
   "source": [
    "previsoes = modelo_treinado.forecast(steps = 40)\n",
    "\n",
    "previsoes"
   ]
  },
  {
   "cell_type": "markdown",
   "id": "3e41249e-55a7-466e-a1fa-af1d45f01b01",
   "metadata": {},
   "source": [
    "Caso queiramos ver apenas a primeira linha,"
   ]
  },
  {
   "cell_type": "code",
   "execution_count": 25,
   "id": "8a77a668-02ac-40e4-b31b-31018c68164d",
   "metadata": {},
   "outputs": [
    {
     "data": {
      "text/plain": [
       "439.854196996335"
      ]
     },
     "execution_count": 25,
     "metadata": {},
     "output_type": "execute_result"
    }
   ],
   "source": [
    "previsoes2 = modelo_treinado.forecast(steps = 40)[0]\n",
    "\n",
    "previsoes2"
   ]
  },
  {
   "cell_type": "markdown",
   "id": "28b54819-0899-4589-bee8-52ab7a576f15",
   "metadata": {},
   "source": [
    "Com o conjunto de previsões em mãos, vamos realizar o gráfico e comparar com os dados de base."
   ]
  },
  {
   "cell_type": "code",
   "execution_count": 32,
   "id": "75a538bb-5a63-4685-9e3e-81b7b423e1ce",
   "metadata": {},
   "outputs": [
    {
     "data": {
      "text/plain": [
       "<matplotlib.legend.Legend at 0x7f68dfd3af10>"
      ]
     },
     "execution_count": 32,
     "metadata": {},
     "output_type": "execute_result"
    },
    {
     "data": {
      "image/png": "[encoded data removed]",
      "text/plain": [
       "<Figure size 432x288 with 1 Axes>"
      ]
     },
     "metadata": {
      "needs_background": "light"
     },
     "output_type": "display_data"
    }
   ],
   "source": [
    "from pylab import plot, legend\n",
    "\n",
    "plot(SerieTemporal, label = 'Original')\n",
    "plot(previsoes, color = 'orange', label = 'Previsão')\n",
    "legend()"
   ]
  },
  {
   "cell_type": "markdown",
   "id": "01b67ff8-a4e2-4223-a4d6-ba5d5b64e9c1",
   "metadata": {},
   "source": [
    "Como podemos ver, a escolha de (p,d,q) não foi a ideal, mas podemos consertar isso com o autoARIMA, que é tema de outro notebook."
   ]
  },
  {
   "cell_type": "code",
   "execution_count": null,
   "id": "ca389521-21b3-4c28-876b-954656abbbb7",
   "metadata": {},
   "outputs": [],
   "source": []
  }
 ],
 "metadata": {
  "kernelspec": {
   "display_name": "Python 3 (ipykernel)",
   "language": "python",
   "name": "python3"
  },
  "language_info": {
   "codemirror_mode": {
    "name": "ipython",
    "version": 3
   },
   "file_extension": ".py",
   "mimetype": "text/x-python",
   "name": "python",
   "nbconvert_exporter": "python",
   "pygments_lexer": "ipython3",
   "version": "3.8.10"
  }
 },
 "nbformat": 4,
 "nbformat_minor": 5
}
