{
 "cells": [
  {
   "cell_type": "markdown",
   "id": "4a2de72a-8548-4e22-9e51-5d927edfe75b",
   "metadata": {},
   "source": [
    "# Decomposição de séries temporais"
   ]
  },
  {
   "cell_type": "markdown",
   "id": "378f1a5e-7dc0-4dc6-89ac-b34b480bd475",
   "metadata": {},
   "source": [
    "Esse notebook é basicamente dedicado à função ```seasonal_decompose``` para analisar as componentes de uma série temporal. Vamos primeiramente importar o pandas e transformar o dado numa série temporal. \n",
    "\n",
    "Obs: Aqui não discorreremos sobre a parte do pandas pois isto está mais aprofundado na pasta Pandas."
   ]
  },
  {
   "cell_type": "markdown",
   "id": "4e1ecd17-9bf6-4aa8-adf6-6ad1f782d5b1",
   "metadata": {
    "tags": []
   },
   "source": [
    "## Pegando o dado e transformando em série temporal"
   ]
  },
  {
   "cell_type": "code",
   "execution_count": 1,
   "id": "d67397e0-276a-412d-8362-7c5a1b60bfef",
   "metadata": {},
   "outputs": [],
   "source": [
    "from pandas import read_csv\n",
    "from datetime import datetime\n",
    "\n",
    "def conversor(data):\n",
    "    return datetime.strptime(data, '%Y-%m')\n",
    "\n",
    "df = read_csv('AirPassengers.csv',index_col = 'Month',parse_dates = ['Month'],date_parser = conversor)\n",
    "\n",
    "SerieTemporal = df['#Passengers']"
   ]
  },
  {
   "cell_type": "markdown",
   "id": "ef5a66e8-d2fb-4123-9088-bb01cb00bc6f",
   "metadata": {},
   "source": [
    "## Decomposição "
   ]
  },
  {
   "cell_type": "markdown",
   "id": "a6249a18-09c3-4473-a0c8-be85cdf50ba3",
   "metadata": {},
   "source": [
    "Para chamarmos a função ```seasonal_decompose```, importamos da seguinte maneira:"
   ]
  },
  {
   "cell_type": "code",
   "execution_count": 2,
   "id": "1ee677f6-3159-4d6a-bd1c-86d4f4ec3bc7",
   "metadata": {},
   "outputs": [],
   "source": [
    "from statsmodels.tsa.seasonal import seasonal_decompose"
   ]
  },
  {
   "cell_type": "markdown",
   "id": "ad0dc718-6233-4780-9150-cf8dd575421c",
   "metadata": {},
   "source": [
    "Essa função recebe como parâmetro obrigatório uma série temporal. Uma explicação sobre os parâmetros opcionais está em https://www.statsmodels.org/dev/generated/statsmodels.tsa.seasonal.seasonal_decompose.html. \n",
    "\n",
    "Como retorno, ela nos dá uma instância da classe ```DecomposeResult```, que possui as seguintes variáveis:\n",
    "\n",
    "* ```nobs```: número de observações;\n",
    "* ```observed```: dado observado;\n",
    "* ```resid```: componente aleatória da série temporal, que também é outra série temporal;\n",
    "* ```seasonal```: (série temporal) componente periódica da série temporal;\n",
    "* ```trend```: (série temporal) tendência da série temporal;\n",
    "* ```weights```: pesos usados na estimativas.\n",
    "\n",
    "A classe também é dotada de um método, chamado de ```plot```, mas como realizamos os gráficos mais com o ```matplotlib```, então não vamos discorrer muito sobre.\n",
    "\n",
    "Deste modo, vamos usar essa função na nossa série temporal:"
   ]
  },
  {
   "cell_type": "code",
   "execution_count": 3,
   "id": "ebee27c7-4a0d-4b31-893f-f60569010573",
   "metadata": {},
   "outputs": [],
   "source": [
    "decomposicao = seasonal_decompose(SerieTemporal)"
   ]
  },
  {
   "cell_type": "markdown",
   "id": "542f67eb-87e2-4c37-99ff-6a9c9ce5461f",
   "metadata": {},
   "source": [
    "Assim, destacamos aqui as seguintes características da série temporal:"
   ]
  },
  {
   "cell_type": "code",
   "execution_count": 4,
   "id": "4bb5e14b-962b-4d1a-9d12-052df0b483d1",
   "metadata": {},
   "outputs": [
    {
     "data": {
      "text/plain": [
       "Month\n",
       "1949-01-01   NaN\n",
       "1949-02-01   NaN\n",
       "1949-03-01   NaN\n",
       "1949-04-01   NaN\n",
       "1949-05-01   NaN\n",
       "              ..\n",
       "1960-08-01   NaN\n",
       "1960-09-01   NaN\n",
       "1960-10-01   NaN\n",
       "1960-11-01   NaN\n",
       "1960-12-01   NaN\n",
       "Name: resid, Length: 144, dtype: float64"
      ]
     },
     "execution_count": 4,
     "metadata": {},
     "output_type": "execute_result"
    }
   ],
   "source": [
    "decomposicao.resid"
   ]
  },
  {
   "cell_type": "code",
   "execution_count": 5,
   "id": "046e3d25-31af-484c-a81f-e0ce338077ae",
   "metadata": {},
   "outputs": [
    {
     "data": {
      "text/plain": [
       "Month\n",
       "1949-01-01   -24.748737\n",
       "1949-02-01   -36.188131\n",
       "1949-03-01    -2.241162\n",
       "1949-04-01    -8.036616\n",
       "1949-05-01    -4.506313\n",
       "                ...    \n",
       "1960-08-01    62.823232\n",
       "1960-09-01    16.520202\n",
       "1960-10-01   -20.642677\n",
       "1960-11-01   -53.593434\n",
       "1960-12-01   -28.619949\n",
       "Name: seasonal, Length: 144, dtype: float64"
      ]
     },
     "execution_count": 5,
     "metadata": {},
     "output_type": "execute_result"
    }
   ],
   "source": [
    "decomposicao.seasonal"
   ]
  },
  {
   "cell_type": "code",
   "execution_count": 6,
   "id": "565b9fcb-dc7b-4f7c-997b-1b40e947f75f",
   "metadata": {},
   "outputs": [
    {
     "data": {
      "text/plain": [
       "Month\n",
       "1949-01-01   NaN\n",
       "1949-02-01   NaN\n",
       "1949-03-01   NaN\n",
       "1949-04-01   NaN\n",
       "1949-05-01   NaN\n",
       "              ..\n",
       "1960-08-01   NaN\n",
       "1960-09-01   NaN\n",
       "1960-10-01   NaN\n",
       "1960-11-01   NaN\n",
       "1960-12-01   NaN\n",
       "Name: trend, Length: 144, dtype: float64"
      ]
     },
     "execution_count": 6,
     "metadata": {},
     "output_type": "execute_result"
    }
   ],
   "source": [
    "decomposicao.trend"
   ]
  },
  {
   "cell_type": "code",
   "execution_count": null,
   "id": "80f86e2f-efa9-46d6-84a8-e8601ec43fa0",
   "metadata": {},
   "outputs": [],
   "source": []
  }
 ],
 "metadata": {
  "kernelspec": {
   "display_name": "Python 3 (ipykernel)",
   "language": "python",
   "name": "python3"
  },
  "language_info": {
   "codemirror_mode": {
    "name": "ipython",
    "version": 3
   },
   "file_extension": ".py",
   "mimetype": "text/x-python",
   "name": "python",
   "nbconvert_exporter": "python",
   "pygments_lexer": "ipython3",
   "version": "3.8.10"
  }
 },
 "nbformat": 4,
 "nbformat_minor": 5
}
