{
 "cells": [
  {
   "cell_type": "markdown",
   "id": "8aceff1a-97ad-41ac-9841-a0c01e687660",
   "metadata": {
    "tags": []
   },
   "source": [
    "# **LINKS ÚTEIS**\n",
    "\n",
    "Como a biblioteca do plotly possui vários recursos, decidi criar um notebook só para colocar os links contendo a documentação e a galeria que possui diversos exemplos de gráficos possíveis.\n",
    "\n",
    "O procedimento \"padrão\" para destrinchar algum tipo de gráfico é procurando-o primeiramente na galeria, e depois indo na seção \"Reference\" (que quase sempre tem), o que leva à página contendo todos os parâmetros possíveis da função.\n",
    "\n",
    "\n",
    "## **GALERIA**\n",
    "\n",
    "Neste [link](https://plotly.com/python/) se encontra uma galeria com exemplos dos gráficos que podemos fazer com o plotly.\n",
    "\n",
    "\n",
    "## **DOCUMENTAÇÃO**\n",
    "\n",
    "Neste [link](https://plotly.com/python-api-reference/) está a lista com todos os tipos de gráficos que o plotly oferece. Ao acessar um gráfico específico, ele mostrará **todos** os parâmetros possíveis que o usuário pode colocar.\n",
    "\n",
    "Vale ressaltar que boa parte dessas funções (`bar`, `line`, `scatter`, etc) retornam um objeto chamado `Figure`, onde usamos basicamente o método `show()` para mostrar o gráfico feito.\n",
    "\n"
   ]
  }
 ],
 "metadata": {
  "kernelspec": {
   "display_name": "Python 3 (ipykernel)",
   "language": "python",
   "name": "python3"
  },
  "language_info": {
   "codemirror_mode": {
    "name": "ipython",
    "version": 3
   },
   "file_extension": ".py",
   "mimetype": "text/x-python",
   "name": "python",
   "nbconvert_exporter": "python",
   "pygments_lexer": "ipython3",
   "version": "3.8.10"
  }
 },
 "nbformat": 4,
 "nbformat_minor": 5
}
