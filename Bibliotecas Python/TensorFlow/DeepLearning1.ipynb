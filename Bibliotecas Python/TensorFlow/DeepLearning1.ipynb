{
 "cells": [
  {
   "cell_type": "markdown",
   "id": "bfa6c2b8-7ea6-45e8-a196-f0e096c89001",
   "metadata": {},
   "source": [
    "# Redes Neurais Profundas"
   ]
  },
  {
   "cell_type": "markdown",
   "id": "28724912-b427-4735-b06d-eba38ebe7bff",
   "metadata": {},
   "source": [
    "## Introdução"
   ]
  },
  {
   "cell_type": "markdown",
   "id": "1f0c9719-b0e9-467b-851e-8ea25f93cb5b",
   "metadata": {},
   "source": [
    "As redes neurais profundas são redes com várias camadas. Dentre elas, destacam-se\n",
    "\n",
    "* **Redes Neurais Convolucionais**: são usadas no processamento de imagens, buscando destacar suas características;\n",
    "\n",
    "* **Redes Neurais Recorrentes**: são puteis em séries temporais e processos que requerem uma sequência em geral, como a fala;\n",
    "\n",
    "* **Mapas Auto-Organizados**: é um modelo não-supervisionado;\n",
    "\n",
    "* **Máquinas de Boltzmann**: nele todos os neurônios são conectados, não existe uma camada de saída. É um modelo que gera dados e usado em sistemas de recomendação."
   ]
  },
  {
   "cell_type": "code",
   "execution_count": null,
   "id": "e38ac5db-9819-4be1-a57b-4304b4fe5799",
   "metadata": {},
   "outputs": [],
   "source": []
  }
 ],
 "metadata": {
  "kernelspec": {
   "display_name": "Python 3 (ipykernel)",
   "language": "python",
   "name": "python3"
  },
  "language_info": {
   "codemirror_mode": {
    "name": "ipython",
    "version": 3
   },
   "file_extension": ".py",
   "mimetype": "text/x-python",
   "name": "python",
   "nbconvert_exporter": "python",
   "pygments_lexer": "ipython3",
   "version": "3.8.10"
  }
 },
 "nbformat": 4,
 "nbformat_minor": 5
}
