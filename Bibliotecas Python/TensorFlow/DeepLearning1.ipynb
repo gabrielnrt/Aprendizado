{
 "cells": [
  {
   "cell_type": "markdown",
   "id": "bfa6c2b8-7ea6-45e8-a196-f0e096c89001",
   "metadata": {},
   "source": [
    "# Redes Neurais Profundas"
   ]
  },
  {
   "cell_type": "markdown",
   "id": "28724912-b427-4735-b06d-eba38ebe7bff",
   "metadata": {
    "jp-MarkdownHeadingCollapsed": true,
    "tags": []
   },
   "source": [
    "## Introdução"
   ]
  },
  {
   "cell_type": "markdown",
   "id": "1f0c9719-b0e9-467b-851e-8ea25f93cb5b",
   "metadata": {},
   "source": [
    "As redes neurais profundas são redes com várias camadas. Dentre elas, destacam-se\n",
    "\n",
    "* **Redes Neurais Convolucionais**: são usadas no processamento de imagens, buscando destacar suas características;\n",
    "\n",
    "* **Redes Neurais Recorrentes**: são puteis em séries temporais e processos que requerem uma sequência em geral, como a fala;\n",
    "\n",
    "* **Mapas Auto-Organizados**: é um modelo não-supervisionado;\n",
    "\n",
    "* **Máquinas de Boltzmann**: nele todos os neurônios são conectados, não existe uma camada de saída. É um modelo que gera dados e usado em sistemas de recomendação."
   ]
  },
  {
   "cell_type": "markdown",
   "id": "33be6758-2dc3-4924-9918-bbaaef24561e",
   "metadata": {
    "tags": []
   },
   "source": [
    "## Dados Iniciais"
   ]
  },
  {
   "cell_type": "markdown",
   "id": "b150b539-2ca4-4d04-b8d1-aed112d6270d",
   "metadata": {},
   "source": [
    "Como base de dados, vamos usar o MNIST, que é um conjunto de imagens de dígitos (0,1,2,...,9) escritos a mão que foram digitalizados. Cada imagem é um conjunto de 28 x 28 pixels; contudo, quando carregamos os dados, eles se dão por uma tabela com 785 colunas, sendo 784 referentes ao valor rgb de cada pixel (28x28) e a última coluna é a classe, dizendo o dígito daquela imagem. \n",
    "\n",
    "Além disso, quando carregamos os dados, a função já retorna registros que servirão de teste e treino, sendo 60 mil exemplos de treino e 10 mil exemplos de teste."
   ]
  },
  {
   "cell_type": "code",
   "execution_count": 1,
   "id": "99195a95-0732-49f0-92e0-0b50add46ab4",
   "metadata": {},
   "outputs": [
    {
     "name": "stderr",
     "output_type": "stream",
     "text": [
      "2022-02-09 20:18:47.037420: W tensorflow/stream_executor/platform/default/dso_loader.cc:64] Could not load dynamic library 'libcudart.so.11.0'; dlerror: libcudart.so.11.0: cannot open shared object file: No such file or directory\n",
      "2022-02-09 20:18:47.037523: I tensorflow/stream_executor/cuda/cudart_stub.cc:29] Ignore above cudart dlerror if you do not have a GPU set up on your machine.\n"
     ]
    }
   ],
   "source": [
    "from pylab import imshow, title, plot\n",
    "from keras.datasets import mnist\n",
    "\n",
    "\n",
    "(X_treinamento, y_treinamento), (X_teste, y_teste) = mnist.load_data()"
   ]
  },
  {
   "cell_type": "markdown",
   "id": "73bb82c6-f609-4a54-b019-b880bb866922",
   "metadata": {},
   "source": [
    "Para vermos como os dados estão dispostos, vejamos uma \"imagem\"."
   ]
  },
  {
   "cell_type": "code",
   "execution_count": 13,
   "id": "a198f6a2-59cb-4a57-b954-92f42672d09f",
   "metadata": {},
   "outputs": [
    {
     "data": {
      "text/plain": [
       "(28, 28)"
      ]
     },
     "execution_count": 13,
     "metadata": {},
     "output_type": "execute_result"
    }
   ],
   "source": [
    "X_treinamento[21].shape"
   ]
  },
  {
   "cell_type": "markdown",
   "id": "b71e4ff6-e0c6-4240-a5b3-84fa23f9da96",
   "metadata": {},
   "source": [
    "Como podemos ver, é um array do tipo 28x28. Assim, o total que temos de teste é um array de dimensões 60000x28x28, que queremos transformar em apenas num array do tipo 60000x784. Para isso, poderíamos simplesmente fazer ```X_treinamento = X_treinamento.reshape(60000,784)```. Contudo, a fim de ficar mais genérico e ser aplicável no conjunto dos testes, fazemos"
   ]
  },
  {
   "cell_type": "code",
   "execution_count": 2,
   "id": "e9a10b21-c3f0-4f92-86d8-3c1cc51b21f2",
   "metadata": {},
   "outputs": [],
   "source": [
    "from numpy import prod\n",
    "\n",
    "linhas = len(X_treinamento)\n",
    "colunas = prod(X_treinamento.shape[1:])\n",
    "\n",
    "X_treinamento = X_treinamento.reshape(linhas, colunas)"
   ]
  },
  {
   "cell_type": "markdown",
   "id": "dc4a0775-4cfc-444e-8bf8-48ae041b3fba",
   "metadata": {},
   "source": [
    "Obs: A função ```prod``` do numpy calcula o produto dos elementos de um array. Como ```X_treinamento.shape[1:]``` retorna o array ```(28,28)```, então ```colunas``` é igual a 784, como desejado.\n",
    "\n",
    "Fazendo o mesmo procedimento com os dados de teste,"
   ]
  },
  {
   "cell_type": "code",
   "execution_count": 3,
   "id": "6f56d82f-5b45-4872-8a8f-681b42d12561",
   "metadata": {},
   "outputs": [],
   "source": [
    "X_teste = X_teste.reshape((len(X_teste), prod(X_teste.shape[1:])))"
   ]
  },
  {
   "cell_type": "markdown",
   "id": "8b92e7fc-4a90-4305-928a-c9aeed8be0d6",
   "metadata": {},
   "source": [
    "Além disso, precisamos tornar as entradas variáveis do tipo ```float```, pois o que temos são valores inteiros. Por exemplo, a primeira linha está da seguinte maneira."
   ]
  },
  {
   "cell_type": "code",
   "execution_count": 16,
   "id": "056e9961-9d63-4b14-bfbc-5284f2b12836",
   "metadata": {},
   "outputs": [
    {
     "data": {
      "text/plain": [
       "array([  0,   0,   0,   0,   0,   0,   0,   0,   0,   0,   0,   0,   0,\n",
       "         0,   0,   0,   0,   0,   0,   0,   0,   0,   0,   0,   0,   0,\n",
       "         0,   0,   0,   0,   0,   0,   0,   0,   0,   0,   0,   0,   0,\n",
       "         0,   0,   0,   0,   0,   0,   0,   0,   0,   0,   0,   0,   0,\n",
       "         0,   0,   0,   0,   0,   0,   0,   0,   0,   0,   0,   0,   0,\n",
       "         0,   0,   0,   0,   0,   0,   0,   0,   0,   0,   0,   0,   0,\n",
       "         0,   0,   0,   0,   0,   0,   0,   0,   0,   0,   0,   0,   0,\n",
       "         0,   0,   0,   0,   0,   0,   0,   0,   0,   0,   0,   0,   0,\n",
       "         0,   0,   0,   0,   0,   0,   0,   0,   0,   0,   0,   0,   0,\n",
       "         0,   0,   0,   0,   0,   0,   0,   0,   0,   0,   0,   0,   0,\n",
       "         0,   0,   0,   0,   0,   0,   0,   0,   0,   0,   0,   0,   0,\n",
       "         0,   0,   0,   0,   0,   0,   0,   0,   0,   3,  18,  18,  18,\n",
       "       126, 136, 175,  26, 166, 255, 247, 127,   0,   0,   0,   0,   0,\n",
       "         0,   0,   0,   0,   0,   0,   0,  30,  36,  94, 154, 170, 253,\n",
       "       253, 253, 253, 253, 225, 172, 253, 242, 195,  64,   0,   0,   0,\n",
       "         0,   0,   0,   0,   0,   0,   0,   0,  49, 238, 253, 253, 253,\n",
       "       253, 253, 253, 253, 253, 251,  93,  82,  82,  56,  39,   0,   0,\n",
       "         0,   0,   0,   0,   0,   0,   0,   0,   0,   0,  18, 219, 253,\n",
       "       253, 253, 253, 253, 198, 182, 247, 241,   0,   0,   0,   0,   0,\n",
       "         0,   0,   0,   0,   0,   0,   0,   0,   0,   0,   0,   0,   0,\n",
       "        80, 156, 107, 253, 253, 205,  11,   0,  43, 154,   0,   0,   0,\n",
       "         0,   0,   0,   0,   0,   0,   0,   0,   0,   0,   0,   0,   0,\n",
       "         0,   0,   0,  14,   1, 154, 253,  90,   0,   0,   0,   0,   0,\n",
       "         0,   0,   0,   0,   0,   0,   0,   0,   0,   0,   0,   0,   0,\n",
       "         0,   0,   0,   0,   0,   0,   0, 139, 253, 190,   2,   0,   0,\n",
       "         0,   0,   0,   0,   0,   0,   0,   0,   0,   0,   0,   0,   0,\n",
       "         0,   0,   0,   0,   0,   0,   0,   0,   0,  11, 190, 253,  70,\n",
       "         0,   0,   0,   0,   0,   0,   0,   0,   0,   0,   0,   0,   0,\n",
       "         0,   0,   0,   0,   0,   0,   0,   0,   0,   0,   0,   0,  35,\n",
       "       241, 225, 160, 108,   1,   0,   0,   0,   0,   0,   0,   0,   0,\n",
       "         0,   0,   0,   0,   0,   0,   0,   0,   0,   0,   0,   0,   0,\n",
       "         0,   0,  81, 240, 253, 253, 119,  25,   0,   0,   0,   0,   0,\n",
       "         0,   0,   0,   0,   0,   0,   0,   0,   0,   0,   0,   0,   0,\n",
       "         0,   0,   0,   0,   0,  45, 186, 253, 253, 150,  27,   0,   0,\n",
       "         0,   0,   0,   0,   0,   0,   0,   0,   0,   0,   0,   0,   0,\n",
       "         0,   0,   0,   0,   0,   0,   0,   0,  16,  93, 252, 253, 187,\n",
       "         0,   0,   0,   0,   0,   0,   0,   0,   0,   0,   0,   0,   0,\n",
       "         0,   0,   0,   0,   0,   0,   0,   0,   0,   0,   0,   0, 249,\n",
       "       253, 249,  64,   0,   0,   0,   0,   0,   0,   0,   0,   0,   0,\n",
       "         0,   0,   0,   0,   0,   0,   0,   0,   0,   0,   0,  46, 130,\n",
       "       183, 253, 253, 207,   2,   0,   0,   0,   0,   0,   0,   0,   0,\n",
       "         0,   0,   0,   0,   0,   0,   0,   0,   0,   0,   0,  39, 148,\n",
       "       229, 253, 253, 253, 250, 182,   0,   0,   0,   0,   0,   0,   0,\n",
       "         0,   0,   0,   0,   0,   0,   0,   0,   0,   0,   0,  24, 114,\n",
       "       221, 253, 253, 253, 253, 201,  78,   0,   0,   0,   0,   0,   0,\n",
       "         0,   0,   0,   0,   0,   0,   0,   0,   0,   0,   0,  23,  66,\n",
       "       213, 253, 253, 253, 253, 198,  81,   2,   0,   0,   0,   0,   0,\n",
       "         0,   0,   0,   0,   0,   0,   0,   0,   0,   0,   0,  18, 171,\n",
       "       219, 253, 253, 253, 253, 195,  80,   9,   0,   0,   0,   0,   0,\n",
       "         0,   0,   0,   0,   0,   0,   0,   0,   0,   0,   0,  55, 172,\n",
       "       226, 253, 253, 253, 253, 244, 133,  11,   0,   0,   0,   0,   0,\n",
       "         0,   0,   0,   0,   0,   0,   0,   0,   0,   0,   0,   0,   0,\n",
       "       136, 253, 253, 253, 212, 135, 132,  16,   0,   0,   0,   0,   0,\n",
       "         0,   0,   0,   0,   0,   0,   0,   0,   0,   0,   0,   0,   0,\n",
       "         0,   0,   0,   0,   0,   0,   0,   0,   0,   0,   0,   0,   0,\n",
       "         0,   0,   0,   0,   0,   0,   0,   0,   0,   0,   0,   0,   0,\n",
       "         0,   0,   0,   0,   0,   0,   0,   0,   0,   0,   0,   0,   0,\n",
       "         0,   0,   0,   0,   0,   0,   0,   0,   0,   0,   0,   0,   0,\n",
       "         0,   0,   0,   0,   0,   0,   0,   0,   0,   0,   0,   0,   0,\n",
       "         0,   0,   0,   0,   0,   0,   0,   0,   0,   0,   0,   0,   0,\n",
       "         0,   0,   0,   0], dtype=uint8)"
      ]
     },
     "execution_count": 16,
     "metadata": {},
     "output_type": "execute_result"
    }
   ],
   "source": [
    "X_treinamento[0]"
   ]
  },
  {
   "cell_type": "markdown",
   "id": "edb719e0-281f-473e-b2f3-c8ee688fff45",
   "metadata": {},
   "source": [
    "Para isso, é só usar o método ```astype``` do numpy, que realiza essa mudança na tipagem da variável,"
   ]
  },
  {
   "cell_type": "code",
   "execution_count": 4,
   "id": "ecf0807e-650b-4305-8644-1532399e2627",
   "metadata": {},
   "outputs": [],
   "source": [
    "X_treinamento = X_treinamento.astype('float32')\n",
    "X_teste = X_teste.astype('float32')"
   ]
  },
  {
   "cell_type": "markdown",
   "id": "86e52c56-038b-418c-97a2-be3568d00b2d",
   "metadata": {},
   "source": [
    "Precisamos também normalizar os valores, pois o valor máximo de um pixel é 255."
   ]
  },
  {
   "cell_type": "code",
   "execution_count": 5,
   "id": "dd246920-cd8d-4ac8-a0a0-32f20c594c92",
   "metadata": {},
   "outputs": [],
   "source": [
    "X_treinamento = X_treinamento / 255\n",
    "X_teste /= 255"
   ]
  },
  {
   "cell_type": "markdown",
   "id": "47b3daa3-a7d0-4c39-a1c9-c5a6a62cbd3e",
   "metadata": {},
   "source": [
    "Obs: O operador ```/=``` faz a mesma coisa que a linha de cima, isto é, ele retorna a variável dividida pelo valor que está na direita.\n",
    "\n",
    "Por fim, devemos transformar as classes em matrizes com 10 colunas, pois temos 10 tipos de resultados diferentes (0,1,2,...,9). Caso tenha dúvida nessa parte, veja o notebook \"RedesNeurais.ipynb\"."
   ]
  },
  {
   "cell_type": "code",
   "execution_count": 6,
   "id": "8eb037c0-3b68-49bd-964f-fc2ccec1708e",
   "metadata": {},
   "outputs": [],
   "source": [
    "from keras.utils import np_utils\n",
    "\n",
    "y_treinamento = np_utils.to_categorical(y_treinamento, 10)\n",
    "\n",
    "y_teste = np_utils.to_categorical(y_teste, 10)"
   ]
  },
  {
   "cell_type": "markdown",
   "id": "c003dc1d-25e5-40ab-88c2-b9cb46d03d20",
   "metadata": {},
   "source": [
    "## Criação da Rede e ```Dropout()```"
   ]
  },
  {
   "cell_type": "markdown",
   "id": "4f313ad1-b3d8-48a2-b932-dac2c00dd34c",
   "metadata": {},
   "source": [
    "Agora que fizemos o pré-processamento dos dados, vamos construir a rede neural. A novidade é que vamos introduzir uma nova camada, chamada de ```Dropout```, que retira parte dos neurônios para evitar superajuste dos dados. O importamos da mesma maneira que a camada ```Dense```."
   ]
  },
  {
   "cell_type": "code",
   "execution_count": 7,
   "id": "ea9e939f-4ba4-4c59-8a61-099bf3a4a9ba",
   "metadata": {},
   "outputs": [],
   "source": [
    "from keras.layers import Dense, Dropout"
   ]
  },
  {
   "cell_type": "markdown",
   "id": "9cfe354f-ab1a-442f-803a-c8041af1f6f2",
   "metadata": {},
   "source": [
    "Dentre os argumentos que essa classe possui, vamos destacar apenas o ```rate```, que é uma porcentagem que representa a quantidade de neurônios da camada que serão apagados.\n",
    "\n",
    "Deste modo, tomando uma quantia de 20% de neurônios a serem excluídos, segue que as nossas camadas serão"
   ]
  },
  {
   "cell_type": "code",
   "execution_count": 8,
   "id": "8fa36b5e-75c9-4a7d-8ebd-75e289ba4e15",
   "metadata": {},
   "outputs": [],
   "source": [
    "taxa = 0.2\n",
    "\n",
    "camada1 = Dense(units = 64, activation = 'relu', input_dim = 784)\n",
    "camada2 = Dropout(rate = taxa)\n",
    "\n",
    "camada3 = Dense(units = 64, activation = 'relu')\n",
    "camada4 = Dropout(rate = taxa)\n",
    "\n",
    "camada5 = Dense(units = 64, activation = 'relu')\n",
    "camada6 = Dropout(rate = taxa)\n",
    "\n",
    "camada7 = Dense(units = 10, activation = 'softmax')\n",
    "\n",
    "lista = [camada1, camada2, camada3, camada4, camada5, camada6, camada7]"
   ]
  },
  {
   "cell_type": "markdown",
   "id": "016dede1-2ca6-40b9-a168-6f77c4426274",
   "metadata": {},
   "source": [
    "Obs: colocamos a função softmax na última camada para gerar probabilidades do desenho ser um determinado dígito.\n",
    "\n",
    "Com isso, criemos a rede propriamente dita."
   ]
  },
  {
   "cell_type": "code",
   "execution_count": 9,
   "id": "552c7228-85bf-44f2-8232-0c9aa76e2d71",
   "metadata": {},
   "outputs": [
    {
     "name": "stderr",
     "output_type": "stream",
     "text": [
      "2022-02-09 20:43:13.360482: W tensorflow/stream_executor/platform/default/dso_loader.cc:64] Could not load dynamic library 'libcuda.so.1'; dlerror: libcuda.so.1: cannot open shared object file: No such file or directory\n",
      "2022-02-09 20:43:13.360542: W tensorflow/stream_executor/cuda/cuda_driver.cc:269] failed call to cuInit: UNKNOWN ERROR (303)\n",
      "2022-02-09 20:43:13.360589: I tensorflow/stream_executor/cuda/cuda_diagnostics.cc:156] kernel driver does not appear to be running on this host (ProBook6460b): /proc/driver/nvidia/version does not exist\n"
     ]
    }
   ],
   "source": [
    "from keras.models import Sequential\n",
    "\n",
    "modelo = Sequential(layers = lista)"
   ]
  },
  {
   "cell_type": "code",
   "execution_count": 10,
   "id": "810205b3-7f40-4475-a42f-3d824730d4aa",
   "metadata": {},
   "outputs": [
    {
     "name": "stdout",
     "output_type": "stream",
     "text": [
      "Model: \"sequential\"\n",
      "_________________________________________________________________\n",
      " Layer (type)                Output Shape              Param #   \n",
      "=================================================================\n",
      " dense (Dense)               (None, 64)                50240     \n",
      "                                                                 \n",
      " dropout (Dropout)           (None, 64)                0         \n",
      "                                                                 \n",
      " dense_1 (Dense)             (None, 64)                4160      \n",
      "                                                                 \n",
      " dropout_1 (Dropout)         (None, 64)                0         \n",
      "                                                                 \n",
      " dense_2 (Dense)             (None, 64)                4160      \n",
      "                                                                 \n",
      " dropout_2 (Dropout)         (None, 64)                0         \n",
      "                                                                 \n",
      " dense_3 (Dense)             (None, 10)                650       \n",
      "                                                                 \n",
      "=================================================================\n",
      "Total params: 59,210\n",
      "Trainable params: 59,210\n",
      "Non-trainable params: 0\n",
      "_________________________________________________________________\n"
     ]
    }
   ],
   "source": [
    "modelo.summary()"
   ]
  },
  {
   "cell_type": "markdown",
   "id": "dc72ee5a-25d8-4912-b75d-51a43f179aaf",
   "metadata": {},
   "source": [
    "Aqui faremos o treinamento do modelo e armazenaremos o histórico numa variável."
   ]
  },
  {
   "cell_type": "code",
   "execution_count": 12,
   "id": "a1f3a25d-4c02-4a94-bf92-f1763f74bc0f",
   "metadata": {},
   "outputs": [
    {
     "name": "stderr",
     "output_type": "stream",
     "text": [
      "2022-02-09 20:45:56.408891: W tensorflow/core/framework/cpu_allocator_impl.cc:82] Allocation of 188160000 exceeds 10% of free system memory.\n"
     ]
    },
    {
     "name": "stdout",
     "output_type": "stream",
     "text": [
      "Epoch 1/20\n",
      "1863/1875 [============================>.] - ETA: 0s - loss: 0.4541 - accuracy: 0.8599"
     ]
    },
    {
     "name": "stderr",
     "output_type": "stream",
     "text": [
      "2022-02-09 20:46:03.078971: W tensorflow/core/framework/cpu_allocator_impl.cc:82] Allocation of 31360000 exceeds 10% of free system memory.\n"
     ]
    },
    {
     "name": "stdout",
     "output_type": "stream",
     "text": [
      "1875/1875 [==============================] - 7s 3ms/step - loss: 0.4529 - accuracy: 0.8604 - val_loss: 0.1748 - val_accuracy: 0.9442\n",
      "Epoch 2/20\n",
      "1875/1875 [==============================] - 6s 3ms/step - loss: 0.2309 - accuracy: 0.9346 - val_loss: 0.1362 - val_accuracy: 0.9591\n",
      "Epoch 3/20\n",
      "1875/1875 [==============================] - 6s 3ms/step - loss: 0.1914 - accuracy: 0.9446 - val_loss: 0.1178 - val_accuracy: 0.9655\n",
      "Epoch 4/20\n",
      "1875/1875 [==============================] - 6s 3ms/step - loss: 0.1668 - accuracy: 0.9511 - val_loss: 0.1136 - val_accuracy: 0.9669\n",
      "Epoch 5/20\n",
      "1875/1875 [==============================] - 6s 3ms/step - loss: 0.1538 - accuracy: 0.9552 - val_loss: 0.1043 - val_accuracy: 0.9687\n",
      "Epoch 6/20\n",
      "1875/1875 [==============================] - 6s 3ms/step - loss: 0.1406 - accuracy: 0.9591 - val_loss: 0.1027 - val_accuracy: 0.9704\n",
      "Epoch 7/20\n",
      "1875/1875 [==============================] - 6s 3ms/step - loss: 0.1330 - accuracy: 0.9608 - val_loss: 0.0991 - val_accuracy: 0.9712\n",
      "Epoch 8/20\n",
      "1875/1875 [==============================] - 6s 3ms/step - loss: 0.1270 - accuracy: 0.9623 - val_loss: 0.0916 - val_accuracy: 0.9733\n",
      "Epoch 9/20\n",
      "1875/1875 [==============================] - 6s 3ms/step - loss: 0.1170 - accuracy: 0.9646 - val_loss: 0.0979 - val_accuracy: 0.9710\n",
      "Epoch 10/20\n",
      "1875/1875 [==============================] - 6s 3ms/step - loss: 0.1109 - accuracy: 0.9664 - val_loss: 0.0988 - val_accuracy: 0.9705\n",
      "Epoch 11/20\n",
      "1875/1875 [==============================] - 6s 3ms/step - loss: 0.1103 - accuracy: 0.9677 - val_loss: 0.0964 - val_accuracy: 0.9738\n",
      "Epoch 12/20\n",
      "1875/1875 [==============================] - 6s 3ms/step - loss: 0.1044 - accuracy: 0.9688 - val_loss: 0.0879 - val_accuracy: 0.9757\n",
      "Epoch 13/20\n",
      "1875/1875 [==============================] - 6s 3ms/step - loss: 0.1018 - accuracy: 0.9691 - val_loss: 0.0962 - val_accuracy: 0.9730\n",
      "Epoch 14/20\n",
      "1875/1875 [==============================] - 6s 3ms/step - loss: 0.1001 - accuracy: 0.9689 - val_loss: 0.0915 - val_accuracy: 0.9737\n",
      "Epoch 15/20\n",
      "1875/1875 [==============================] - 6s 3ms/step - loss: 0.0944 - accuracy: 0.9722 - val_loss: 0.0948 - val_accuracy: 0.9736\n",
      "Epoch 16/20\n",
      "1875/1875 [==============================] - 6s 3ms/step - loss: 0.0946 - accuracy: 0.9717 - val_loss: 0.0911 - val_accuracy: 0.9732\n",
      "Epoch 17/20\n",
      "1875/1875 [==============================] - 6s 3ms/step - loss: 0.0961 - accuracy: 0.9709 - val_loss: 0.0929 - val_accuracy: 0.9741\n",
      "Epoch 18/20\n",
      "1875/1875 [==============================] - 6s 3ms/step - loss: 0.0891 - accuracy: 0.9737 - val_loss: 0.1004 - val_accuracy: 0.9739\n",
      "Epoch 19/20\n",
      "1875/1875 [==============================] - 6s 3ms/step - loss: 0.0885 - accuracy: 0.9734 - val_loss: 0.0904 - val_accuracy: 0.9754\n",
      "Epoch 20/20\n",
      "1875/1875 [==============================] - 6s 3ms/step - loss: 0.0859 - accuracy: 0.9743 - val_loss: 0.0922 - val_accuracy: 0.9753\n"
     ]
    }
   ],
   "source": [
    "modelo.compile(optimizer = 'adam', loss = 'categorical_crossentropy',\n",
    "               metrics = ['accuracy'])\n",
    "\n",
    "historico = modelo.fit(X_treinamento, y_treinamento, epochs = 20,\n",
    "                       validation_data = (X_teste, y_teste))"
   ]
  },
  {
   "cell_type": "markdown",
   "id": "a37c4a87-bff6-472d-a017-a4cc549ffbc9",
   "metadata": {},
   "source": [
    "Para visualizar a evolução temporal do erro, fazemos o seguinte"
   ]
  },
  {
   "cell_type": "code",
   "execution_count": 13,
   "id": "d9c36467-5170-4bb2-85bd-28ee70478a08",
   "metadata": {},
   "outputs": [
    {
     "data": {
      "text/plain": [
       "[<matplotlib.lines.Line2D at 0x7fe0ec267040>]"
      ]
     },
     "execution_count": 13,
     "metadata": {},
     "output_type": "execute_result"
    },
    {
     "data": {
      "image/png": "[encoded data removed]",
      "text/plain": [
       "<Figure size 432x288 with 1 Axes>"
      ]
     },
     "metadata": {
      "needs_background": "light"
     },
     "output_type": "display_data"
    }
   ],
   "source": [
    "# Gráfico para visualizar os erros e accuracy\n",
    "historico.history.keys()\n",
    "#evolução do erro, azul\n",
    "plot(historico.history['val_loss'])\n",
    "#performance da rede\n",
    "plot(historico.history['val_accuracy'])"
   ]
  },
  {
   "cell_type": "markdown",
   "id": "d8473b82-b76b-43ef-a678-ac83bd2ad370",
   "metadata": {},
   "source": [
    "Para realizarmos uma previsão, embora ela já esteja escondida em ```historico```, digitamos"
   ]
  },
  {
   "cell_type": "code",
   "execution_count": 14,
   "id": "ee6d9775-12bb-4b54-8f23-13aa62e2c645",
   "metadata": {},
   "outputs": [
    {
     "name": "stderr",
     "output_type": "stream",
     "text": [
      "2022-02-09 20:57:21.482730: W tensorflow/core/framework/cpu_allocator_impl.cc:82] Allocation of 31360000 exceeds 10% of free system memory.\n"
     ]
    }
   ],
   "source": [
    "previsoes = modelo.predict(X_teste)"
   ]
  },
  {
   "cell_type": "markdown",
   "id": "ceb5cffb-df78-4fa4-aa75-b5446aef609c",
   "metadata": {},
   "source": [
    "## Precisão do modelo"
   ]
  },
  {
   "cell_type": "markdown",
   "id": "148f5536-3783-4b96-a4fe-56e4209163c0",
   "metadata": {},
   "source": [
    "Como usual, vejamos agora como calcular a matriz de confusão para o modelo criado. Como a metodologia é a mesma que o notebook \"RedesNeurais.ipynb\", então vamos colocar o código de uma forma mais enxuta."
   ]
  },
  {
   "cell_type": "code",
   "execution_count": 16,
   "id": "d5535fa2-961d-4697-9fe5-c52b40c20936",
   "metadata": {},
   "outputs": [
    {
     "data": {
      "text/plain": [
       "array([[ 971,    0,    2,    1,    0,    0,    4,    1,    1,    0],\n",
       "       [   0, 1121,    3,    3,    0,    1,    2,    0,    5,    0],\n",
       "       [   1,    1, 1010,    3,    3,    2,    1,    6,    5,    0],\n",
       "       [   0,    0,    5,  993,    0,    6,    0,    4,    2,    0],\n",
       "       [   0,    0,    4,    0,  956,    0,    9,    1,    1,   11],\n",
       "       [   2,    0,    0,   22,    1,  855,    5,    1,    2,    4],\n",
       "       [   5,    2,    1,    1,    6,    3,  936,    0,    4,    0],\n",
       "       [   2,    5,   10,    9,    0,    0,    0,  999,    1,    2],\n",
       "       [   2,    0,    3,    8,    6,    3,    2,    5,  941,    4],\n",
       "       [   2,    4,    0,    9,   10,    3,    1,    7,    2,  971]])"
      ]
     },
     "execution_count": 16,
     "metadata": {},
     "output_type": "execute_result"
    }
   ],
   "source": [
    "from numpy import argmax\n",
    "from sklearn.metrics import confusion_matrix\n",
    "\n",
    "y_teste_matriz = [argmax(t) for t in y_teste]\n",
    "y_previsoes_matriz = [argmax(t) for t in previsoes]\n",
    "confusao = confusion_matrix(y_teste_matriz, y_previsoes_matriz)\n",
    "confusao"
   ]
  },
  {
   "cell_type": "markdown",
   "id": "58c26308-e19d-4760-a965-088c819a520a",
   "metadata": {},
   "source": [
    "Como podemos ver, o modelo teve uma performance bem alta dado que os termos diagonais da matriz são bem maiores que os demais."
   ]
  },
  {
   "cell_type": "code",
   "execution_count": null,
   "id": "eea33c67-d096-4630-8a86-ef45cba47b2f",
   "metadata": {},
   "outputs": [],
   "source": []
  }
 ],
 "metadata": {
  "kernelspec": {
   "display_name": "Python 3 (ipykernel)",
   "language": "python",
   "name": "python3"
  },
  "language_info": {
   "codemirror_mode": {
    "name": "ipython",
    "version": 3
   },
   "file_extension": ".py",
   "mimetype": "text/x-python",
   "name": "python",
   "nbconvert_exporter": "python",
   "pygments_lexer": "ipython3",
   "version": "3.8.10"
  }
 },
 "nbformat": 4,
 "nbformat_minor": 5
}
