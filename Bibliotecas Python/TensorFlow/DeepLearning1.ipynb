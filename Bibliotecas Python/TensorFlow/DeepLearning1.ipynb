{
 "cells": [
  {
   "cell_type": "markdown",
   "id": "bfa6c2b8-7ea6-45e8-a196-f0e096c89001",
   "metadata": {},
   "source": [
    "# Redes Neurais Profundas"
   ]
  },
  {
   "cell_type": "markdown",
   "id": "28724912-b427-4735-b06d-eba38ebe7bff",
   "metadata": {
    "jp-MarkdownHeadingCollapsed": true,
    "tags": []
   },
   "source": [
    "## Introdução"
   ]
  },
  {
   "cell_type": "markdown",
   "id": "1f0c9719-b0e9-467b-851e-8ea25f93cb5b",
   "metadata": {},
   "source": [
    "As redes neurais profundas são redes com várias camadas. Dentre elas, destacam-se\n",
    "\n",
    "* **Redes Neurais Convolucionais**: são usadas no processamento de imagens, buscando destacar suas características;\n",
    "\n",
    "* **Redes Neurais Recorrentes**: são puteis em séries temporais e processos que requerem uma sequência em geral, como a fala;\n",
    "\n",
    "* **Mapas Auto-Organizados**: é um modelo não-supervisionado;\n",
    "\n",
    "* **Máquinas de Boltzmann**: nele todos os neurônios são conectados, não existe uma camada de saída. É um modelo que gera dados e usado em sistemas de recomendação."
   ]
  },
  {
   "cell_type": "markdown",
   "id": "33be6758-2dc3-4924-9918-bbaaef24561e",
   "metadata": {
    "jp-MarkdownHeadingCollapsed": true,
    "tags": []
   },
   "source": [
    "## Dados Iniciais"
   ]
  },
  {
   "cell_type": "markdown",
   "id": "b150b539-2ca4-4d04-b8d1-aed112d6270d",
   "metadata": {},
   "source": [
    "Como base de dados, vamos usar o MNIST, que é um conjunto de imagens de dígitos (0,1,2,...,9) escritos a mão que foram digitalizados. Cada imagem é um conjunto de 28 x 28 pixels; contudo, quando carregamos os dados, eles se dão por uma tabela com 785 colunas, sendo 784 referentes ao valor rgb de cada pixel (28x28) e a última coluna é a classe, dizendo o dígito daquela imagem. \n",
    "\n",
    "Além disso, quando carregamos os dados, a função já retorna registros que servirão de teste e treino, sendo 60 mil exemplos de treino e 10 mil exemplos de teste."
   ]
  },
  {
   "cell_type": "code",
   "execution_count": 10,
   "id": "99195a95-0732-49f0-92e0-0b50add46ab4",
   "metadata": {},
   "outputs": [],
   "source": [
    "from pylab import imshow, title, plot\n",
    "from keras.datasets import mnist\n",
    "\n",
    "\n",
    "(X_treinamento, y_treinamento), (X_teste, y_teste) = mnist.load_data()"
   ]
  },
  {
   "cell_type": "markdown",
   "id": "73bb82c6-f609-4a54-b019-b880bb866922",
   "metadata": {},
   "source": [
    "Para vermos como os dados estão dispostos, vejamos uma \"imagem\"."
   ]
  },
  {
   "cell_type": "code",
   "execution_count": 13,
   "id": "a198f6a2-59cb-4a57-b954-92f42672d09f",
   "metadata": {},
   "outputs": [
    {
     "data": {
      "text/plain": [
       "(28, 28)"
      ]
     },
     "execution_count": 13,
     "metadata": {},
     "output_type": "execute_result"
    }
   ],
   "source": [
    "X_treinamento[21].shape"
   ]
  },
  {
   "cell_type": "markdown",
   "id": "b71e4ff6-e0c6-4240-a5b3-84fa23f9da96",
   "metadata": {},
   "source": [
    "Como podemos ver, é um array do tipo 28x28. Assim, o total que temos de teste é um array de dimensões 60000x28x28, que queremos transformar em apenas num array do tipo 60000x784. Para isso, poderíamos simplesmente fazer ```X_treinamento = X_treinamento.reshape(60000,784)```. Contudo, a fim de ficar mais genérico e ser aplicável no conjunto dos testes, fazemos"
   ]
  },
  {
   "cell_type": "code",
   "execution_count": 14,
   "id": "e9a10b21-c3f0-4f92-86d8-3c1cc51b21f2",
   "metadata": {},
   "outputs": [],
   "source": [
    "from numpy import prod\n",
    "\n",
    "linhas = len(X_treinamento)\n",
    "colunas = prod(X_treinamento.shape[1:])\n",
    "\n",
    "X_treinamento = X_treinamento.reshape(linhas, colunas)"
   ]
  },
  {
   "cell_type": "markdown",
   "id": "dc4a0775-4cfc-444e-8bf8-48ae041b3fba",
   "metadata": {},
   "source": [
    "Obs: A função ```prod``` do numpy calcula o produto dos elementos de um array. Como ```X_treinamento.shape[1:]``` retorna o array ```(28,28)```, então ```colunas``` é igual a 784, como desejado.\n",
    "\n",
    "Fazendo o mesmo procedimento com os dados de teste,"
   ]
  },
  {
   "cell_type": "code",
   "execution_count": 15,
   "id": "6f56d82f-5b45-4872-8a8f-681b42d12561",
   "metadata": {},
   "outputs": [],
   "source": [
    "X_teste = X_teste.reshape((len(X_teste), prod(X_teste.shape[1:])))"
   ]
  },
  {
   "cell_type": "markdown",
   "id": "8b92e7fc-4a90-4305-928a-c9aeed8be0d6",
   "metadata": {},
   "source": [
    "Além disso, precisamos tornar as entradas variáveis do tipo ```float```, pois o que temos são valores inteiros. Por exemplo, a primeira linha está da seguinte maneira."
   ]
  },
  {
   "cell_type": "code",
   "execution_count": 16,
   "id": "056e9961-9d63-4b14-bfbc-5284f2b12836",
   "metadata": {},
   "outputs": [
    {
     "data": {
      "text/plain": [
       "array([  0,   0,   0,   0,   0,   0,   0,   0,   0,   0,   0,   0,   0,\n",
       "         0,   0,   0,   0,   0,   0,   0,   0,   0,   0,   0,   0,   0,\n",
       "         0,   0,   0,   0,   0,   0,   0,   0,   0,   0,   0,   0,   0,\n",
       "         0,   0,   0,   0,   0,   0,   0,   0,   0,   0,   0,   0,   0,\n",
       "         0,   0,   0,   0,   0,   0,   0,   0,   0,   0,   0,   0,   0,\n",
       "         0,   0,   0,   0,   0,   0,   0,   0,   0,   0,   0,   0,   0,\n",
       "         0,   0,   0,   0,   0,   0,   0,   0,   0,   0,   0,   0,   0,\n",
       "         0,   0,   0,   0,   0,   0,   0,   0,   0,   0,   0,   0,   0,\n",
       "         0,   0,   0,   0,   0,   0,   0,   0,   0,   0,   0,   0,   0,\n",
       "         0,   0,   0,   0,   0,   0,   0,   0,   0,   0,   0,   0,   0,\n",
       "         0,   0,   0,   0,   0,   0,   0,   0,   0,   0,   0,   0,   0,\n",
       "         0,   0,   0,   0,   0,   0,   0,   0,   0,   3,  18,  18,  18,\n",
       "       126, 136, 175,  26, 166, 255, 247, 127,   0,   0,   0,   0,   0,\n",
       "         0,   0,   0,   0,   0,   0,   0,  30,  36,  94, 154, 170, 253,\n",
       "       253, 253, 253, 253, 225, 172, 253, 242, 195,  64,   0,   0,   0,\n",
       "         0,   0,   0,   0,   0,   0,   0,   0,  49, 238, 253, 253, 253,\n",
       "       253, 253, 253, 253, 253, 251,  93,  82,  82,  56,  39,   0,   0,\n",
       "         0,   0,   0,   0,   0,   0,   0,   0,   0,   0,  18, 219, 253,\n",
       "       253, 253, 253, 253, 198, 182, 247, 241,   0,   0,   0,   0,   0,\n",
       "         0,   0,   0,   0,   0,   0,   0,   0,   0,   0,   0,   0,   0,\n",
       "        80, 156, 107, 253, 253, 205,  11,   0,  43, 154,   0,   0,   0,\n",
       "         0,   0,   0,   0,   0,   0,   0,   0,   0,   0,   0,   0,   0,\n",
       "         0,   0,   0,  14,   1, 154, 253,  90,   0,   0,   0,   0,   0,\n",
       "         0,   0,   0,   0,   0,   0,   0,   0,   0,   0,   0,   0,   0,\n",
       "         0,   0,   0,   0,   0,   0,   0, 139, 253, 190,   2,   0,   0,\n",
       "         0,   0,   0,   0,   0,   0,   0,   0,   0,   0,   0,   0,   0,\n",
       "         0,   0,   0,   0,   0,   0,   0,   0,   0,  11, 190, 253,  70,\n",
       "         0,   0,   0,   0,   0,   0,   0,   0,   0,   0,   0,   0,   0,\n",
       "         0,   0,   0,   0,   0,   0,   0,   0,   0,   0,   0,   0,  35,\n",
       "       241, 225, 160, 108,   1,   0,   0,   0,   0,   0,   0,   0,   0,\n",
       "         0,   0,   0,   0,   0,   0,   0,   0,   0,   0,   0,   0,   0,\n",
       "         0,   0,  81, 240, 253, 253, 119,  25,   0,   0,   0,   0,   0,\n",
       "         0,   0,   0,   0,   0,   0,   0,   0,   0,   0,   0,   0,   0,\n",
       "         0,   0,   0,   0,   0,  45, 186, 253, 253, 150,  27,   0,   0,\n",
       "         0,   0,   0,   0,   0,   0,   0,   0,   0,   0,   0,   0,   0,\n",
       "         0,   0,   0,   0,   0,   0,   0,   0,  16,  93, 252, 253, 187,\n",
       "         0,   0,   0,   0,   0,   0,   0,   0,   0,   0,   0,   0,   0,\n",
       "         0,   0,   0,   0,   0,   0,   0,   0,   0,   0,   0,   0, 249,\n",
       "       253, 249,  64,   0,   0,   0,   0,   0,   0,   0,   0,   0,   0,\n",
       "         0,   0,   0,   0,   0,   0,   0,   0,   0,   0,   0,  46, 130,\n",
       "       183, 253, 253, 207,   2,   0,   0,   0,   0,   0,   0,   0,   0,\n",
       "         0,   0,   0,   0,   0,   0,   0,   0,   0,   0,   0,  39, 148,\n",
       "       229, 253, 253, 253, 250, 182,   0,   0,   0,   0,   0,   0,   0,\n",
       "         0,   0,   0,   0,   0,   0,   0,   0,   0,   0,   0,  24, 114,\n",
       "       221, 253, 253, 253, 253, 201,  78,   0,   0,   0,   0,   0,   0,\n",
       "         0,   0,   0,   0,   0,   0,   0,   0,   0,   0,   0,  23,  66,\n",
       "       213, 253, 253, 253, 253, 198,  81,   2,   0,   0,   0,   0,   0,\n",
       "         0,   0,   0,   0,   0,   0,   0,   0,   0,   0,   0,  18, 171,\n",
       "       219, 253, 253, 253, 253, 195,  80,   9,   0,   0,   0,   0,   0,\n",
       "         0,   0,   0,   0,   0,   0,   0,   0,   0,   0,   0,  55, 172,\n",
       "       226, 253, 253, 253, 253, 244, 133,  11,   0,   0,   0,   0,   0,\n",
       "         0,   0,   0,   0,   0,   0,   0,   0,   0,   0,   0,   0,   0,\n",
       "       136, 253, 253, 253, 212, 135, 132,  16,   0,   0,   0,   0,   0,\n",
       "         0,   0,   0,   0,   0,   0,   0,   0,   0,   0,   0,   0,   0,\n",
       "         0,   0,   0,   0,   0,   0,   0,   0,   0,   0,   0,   0,   0,\n",
       "         0,   0,   0,   0,   0,   0,   0,   0,   0,   0,   0,   0,   0,\n",
       "         0,   0,   0,   0,   0,   0,   0,   0,   0,   0,   0,   0,   0,\n",
       "         0,   0,   0,   0,   0,   0,   0,   0,   0,   0,   0,   0,   0,\n",
       "         0,   0,   0,   0,   0,   0,   0,   0,   0,   0,   0,   0,   0,\n",
       "         0,   0,   0,   0,   0,   0,   0,   0,   0,   0,   0,   0,   0,\n",
       "         0,   0,   0,   0], dtype=uint8)"
      ]
     },
     "execution_count": 16,
     "metadata": {},
     "output_type": "execute_result"
    }
   ],
   "source": [
    "X_treinamento[0]"
   ]
  },
  {
   "cell_type": "markdown",
   "id": "edb719e0-281f-473e-b2f3-c8ee688fff45",
   "metadata": {},
   "source": [
    "Para isso, é só usar o método ```astype``` do numpy, que realiza essa mudança na tipagem da variável,"
   ]
  },
  {
   "cell_type": "code",
   "execution_count": 17,
   "id": "ecf0807e-650b-4305-8644-1532399e2627",
   "metadata": {},
   "outputs": [],
   "source": [
    "X_treinamento = X_treinamento.astype('float32')\n",
    "X_teste = X_teste.astype('float32')"
   ]
  },
  {
   "cell_type": "markdown",
   "id": "86e52c56-038b-418c-97a2-be3568d00b2d",
   "metadata": {},
   "source": [
    "Precisamos também normalizar os valores, pois o valor máximo de um pixel é 255."
   ]
  },
  {
   "cell_type": "code",
   "execution_count": 18,
   "id": "dd246920-cd8d-4ac8-a0a0-32f20c594c92",
   "metadata": {},
   "outputs": [],
   "source": [
    "X_treinamento = X_treinamento / 255\n",
    "X_teste /= 255"
   ]
  },
  {
   "cell_type": "markdown",
   "id": "47b3daa3-a7d0-4c39-a1c9-c5a6a62cbd3e",
   "metadata": {},
   "source": [
    "Obs: O operador ```/=``` faz a mesma coisa que a linha de cima, isto é, ele retorna a variável dividida pelo valor que está na direita.\n",
    "\n",
    "Por fim, devemos transformar as classes em matrizes com 10 colunas, pois temos 10 tipos de resultados diferentes (0,1,2,...,9). Caso tenha dúvida nessa parte, veja o notebook \"RedesNeurais.ipynb\"."
   ]
  },
  {
   "cell_type": "code",
   "execution_count": 20,
   "id": "8eb037c0-3b68-49bd-964f-fc2ccec1708e",
   "metadata": {},
   "outputs": [],
   "source": [
    "from keras.utils import np_utils\n",
    "\n",
    "y_treinamento = np_utils.to_categorical(y_treinamento, 10)\n",
    "\n",
    "y_teste = np_utils.to_categorical(y_teste, 10)"
   ]
  },
  {
   "cell_type": "markdown",
   "id": "c003dc1d-25e5-40ab-88c2-b9cb46d03d20",
   "metadata": {},
   "source": [
    "## Criação da Rede"
   ]
  },
  {
   "cell_type": "code",
   "execution_count": null,
   "id": "922888da-1400-41bf-a82f-3437ae3433f5",
   "metadata": {},
   "outputs": [],
   "source": []
  }
 ],
 "metadata": {
  "kernelspec": {
   "display_name": "Python 3 (ipykernel)",
   "language": "python",
   "name": "python3"
  },
  "language_info": {
   "codemirror_mode": {
    "name": "ipython",
    "version": 3
   },
   "file_extension": ".py",
   "mimetype": "text/x-python",
   "name": "python",
   "nbconvert_exporter": "python",
   "pygments_lexer": "ipython3",
   "version": "3.8.10"
  }
 },
 "nbformat": 4,
 "nbformat_minor": 5
}
