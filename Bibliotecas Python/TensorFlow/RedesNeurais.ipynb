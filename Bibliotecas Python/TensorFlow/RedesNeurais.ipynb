{
 "cells": [
  {
   "cell_type": "markdown",
   "id": "bbecb993-5250-49f7-a82e-74cbe87cdd82",
   "metadata": {},
   "source": [
    "# Redes Neurais"
   ]
  },
  {
   "cell_type": "markdown",
   "id": "c03551cd-0e81-4915-b40f-24cb554bc7a7",
   "metadata": {},
   "source": [
    "## Introdução"
   ]
  },
  {
   "cell_type": "markdown",
   "id": "d3fc5286-6e2c-484a-886d-3274002ea3a3",
   "metadata": {},
   "source": [
    "Nesta pasta da biblioteca do TensorFlow, veremos como criar redes neurais."
   ]
  }
 ],
 "metadata": {
  "kernelspec": {
   "display_name": "Python 3 (ipykernel)",
   "language": "python",
   "name": "python3"
  },
  "language_info": {
   "codemirror_mode": {
    "name": "ipython",
    "version": 3
   },
   "file_extension": ".py",
   "mimetype": "text/x-python",
   "name": "python",
   "nbconvert_exporter": "python",
   "pygments_lexer": "ipython3",
   "version": "3.8.10"
  }
 },
 "nbformat": 4,
 "nbformat_minor": 5
}
