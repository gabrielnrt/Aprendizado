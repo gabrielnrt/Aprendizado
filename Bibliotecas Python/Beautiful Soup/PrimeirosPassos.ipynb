{
 "cells": [
  {
   "cell_type": "markdown",
   "id": "e1124182-303e-416c-9c41-2757227b083c",
   "metadata": {},
   "source": [
    "# WebScraping - Primeiros Passos"
   ]
  },
  {
   "cell_type": "markdown",
   "id": "95ace5c0-6a31-419a-be50-f016771e06e5",
   "metadata": {},
   "source": [
    "A ideia deste notebook será sobre a biblioteca ```BeautifulSoup```, que realiza a tarefa de \"raspar\" dados de sites na internet; em particular, de páginas HTML. Na verdade, essa biblioteca também faz webscraping de outro formato, mas é necessário instalar manualmente o parser.\n",
    "\n",
    "Como este é o primeiro notebook, vamos nos atentar na classe ```BeautifulSoup``` e alguns de seus métodos.\n",
    "\n",
    "Para importá-lo, digitamos"
   ]
  },
  {
   "cell_type": "code",
   "execution_count": 3,
   "id": "6b238cf2-77ae-4e69-be82-1182e0a2a8f7",
   "metadata": {},
   "outputs": [],
   "source": [
    "from bs4 import BeautifulSoup"
   ]
  },
  {
   "cell_type": "markdown",
   "id": "cfcf21d4-f3f8-4aac-a63d-2eb2495a7148",
   "metadata": {},
   "source": [
    "Agora que importamos a classe, coletemos o código fonte do site em html usado como exemplo na documentação, https://www.crummy.com/software/BeautifulSoup/bs4/doc/#encodings."
   ]
  },
  {
   "cell_type": "code",
   "execution_count": 4,
   "id": "f015f1ec-3638-4a71-b541-dcf45bd2d118",
   "metadata": {},
   "outputs": [],
   "source": [
    "html_doc = \"\"\"<html><head><title>The Dormouse's story</title></head>\n",
    "<body>\n",
    "<p class=\"title\"><b>The Dormouse's story</b></p>\n",
    "\n",
    "<p class=\"story\">Once upon a time there were three little sisters; and their names were\n",
    "<a href=\"http://example.com/elsie\" class=\"sister\" id=\"link1\">Elsie</a>,\n",
    "<a href=\"http://example.com/lacie\" class=\"sister\" id=\"link2\">Lacie</a> and\n",
    "<a href=\"http://example.com/tillie\" class=\"sister\" id=\"link3\">Tillie</a>;\n",
    "and they lived at the bottom of a well.</p>\n",
    "\n",
    "<p class=\"story\">...</p>\n",
    "\"\"\""
   ]
  },
  {
   "cell_type": "markdown",
   "id": "207777a1-e7ad-42d6-9046-68a5ac8b3180",
   "metadata": {},
   "source": [
    "Para instanciar a classe, colocamos como primeiro parâmetro a string do código em HTML, e depois o parser, que é ```html.parser```."
   ]
  },
  {
   "cell_type": "code",
   "execution_count": 6,
   "id": "17647ce9-838f-46bd-ac31-1dc5c7ff1863",
   "metadata": {},
   "outputs": [],
   "source": [
    "sopa = BeautifulSoup(html_doc, 'html.parser')"
   ]
  },
  {
   "cell_type": "markdown",
   "id": "b767ddcc-467f-4a58-9b7c-0a5872d9b55c",
   "metadata": {},
   "source": [
    "Vejamos como o string do código fonte é tratado."
   ]
  },
  {
   "cell_type": "code",
   "execution_count": 10,
   "id": "b762ad46-46e0-48a0-bb89-60cf305631f8",
   "metadata": {},
   "outputs": [
    {
     "data": {
      "text/plain": [
       "<html><head><title>The Dormouse's story</title></head>\n",
       "<body>\n",
       "<p class=\"title\"><b>The Dormouse's story</b></p>\n",
       "<p class=\"story\">Once upon a time there were three little sisters; and their names were\n",
       "<a class=\"sister\" href=\"http://example.com/elsie\" id=\"link1\">Elsie</a>,\n",
       "<a class=\"sister\" href=\"http://example.com/lacie\" id=\"link2\">Lacie</a> and\n",
       "<a class=\"sister\" href=\"http://example.com/tillie\" id=\"link3\">Tillie</a>;\n",
       "and they lived at the bottom of a well.</p>\n",
       "<p class=\"story\">...</p>\n",
       "</body></html>"
      ]
     },
     "execution_count": 10,
     "metadata": {},
     "output_type": "execute_result"
    }
   ],
   "source": [
    "sopa"
   ]
  },
  {
   "cell_type": "markdown",
   "id": "7db688d3-fbbb-47a2-b298-3e57f9228990",
   "metadata": {},
   "source": [
    "Para pegar uma tag específica do código, basta inserí-la como atributo. Por exemplo, caso queiramos só o título, basta fazer"
   ]
  },
  {
   "cell_type": "code",
   "execution_count": 17,
   "id": "dc5f0c10-df87-4f66-a1fa-b5b4ed644ab8",
   "metadata": {},
   "outputs": [
    {
     "data": {
      "text/plain": [
       "<title>The Dormouse's story</title>"
      ]
     },
     "execution_count": 17,
     "metadata": {},
     "output_type": "execute_result"
    }
   ],
   "source": [
    "sopa.title"
   ]
  },
  {
   "cell_type": "markdown",
   "id": "99e6cc82-73fc-451c-a75c-c38d0ba95e10",
   "metadata": {},
   "source": [
    "Se quisermos apenas o texto da tag, ao invés de sua linha de código, colocamos ```.string``` depois da tag inserida, como se fosse um \"atributo de um atributo\"."
   ]
  },
  {
   "cell_type": "code",
   "execution_count": 18,
   "id": "2dc936d4-09c0-42f1-a4a3-345d6840509a",
   "metadata": {},
   "outputs": [
    {
     "data": {
      "text/plain": [
       "\"The Dormouse's story\""
      ]
     },
     "execution_count": 18,
     "metadata": {},
     "output_type": "execute_result"
    }
   ],
   "source": [
    "sopa.title.string"
   ]
  },
  {
   "cell_type": "markdown",
   "id": "f0bfc29a-d96a-489f-b7bf-3b3ae3c30ba8",
   "metadata": {},
   "source": [
    "Note que temos 3 tags do tipo ```a```, isto é, 3 tags de hiperlink. Se usarmos o atributo como nos casos anteriores, obteríamos apenas a primeria tag que aparece no código fonte."
   ]
  },
  {
   "cell_type": "code",
   "execution_count": 19,
   "id": "34b9e47e-d21b-4788-98aa-de6f3cce625a",
   "metadata": {},
   "outputs": [
    {
     "data": {
      "text/plain": [
       "<a class=\"sister\" href=\"http://example.com/elsie\" id=\"link1\">Elsie</a>"
      ]
     },
     "execution_count": 19,
     "metadata": {},
     "output_type": "execute_result"
    }
   ],
   "source": [
    "sopa.a"
   ]
  },
  {
   "cell_type": "markdown",
   "id": "7a122799-cbb5-47a9-8f4f-ed0f4ddd362d",
   "metadata": {},
   "source": [
    "Para achar todas as linhas de um mesmo tipo de tag, usamos o método ```find_all()```."
   ]
  },
  {
   "cell_type": "markdown",
   "id": "2272ddd2-4bbe-446b-a188-9184d943457e",
   "metadata": {},
   "source": [
    "## ```find_all()```"
   ]
  },
  {
   "cell_type": "code",
   "execution_count": 25,
   "id": "1b8ce88e-5a5c-4370-9666-44e146a56456",
   "metadata": {},
   "outputs": [
    {
     "data": {
      "text/plain": [
       "[<a class=\"sister\" href=\"http://example.com/elsie\" id=\"link1\">Elsie</a>,\n",
       " <a class=\"sister\" href=\"http://example.com/lacie\" id=\"link2\">Lacie</a>,\n",
       " <a class=\"sister\" href=\"http://example.com/tillie\" id=\"link3\">Tillie</a>]"
      ]
     },
     "execution_count": 25,
     "metadata": {},
     "output_type": "execute_result"
    }
   ],
   "source": [
    "sopa.find_all(class_='sister')"
   ]
  },
  {
   "cell_type": "code",
   "execution_count": 23,
   "id": "c9465c7f-9c22-41e1-ab4c-4fb44de93a10",
   "metadata": {},
   "outputs": [
    {
     "name": "stdout",
     "output_type": "stream",
     "text": [
      "Elsie\n",
      "Lacie\n",
      "Tillie\n"
     ]
    }
   ],
   "source": [
    "for tag in sopa.find_all(class_='sister'):\n",
    "    print(tag.string)"
   ]
  }
 ],
 "metadata": {
  "kernelspec": {
   "display_name": "Python 3 (ipykernel)",
   "language": "python",
   "name": "python3"
  },
  "language_info": {
   "codemirror_mode": {
    "name": "ipython",
    "version": 3
   },
   "file_extension": ".py",
   "mimetype": "text/x-python",
   "name": "python",
   "nbconvert_exporter": "python",
   "pygments_lexer": "ipython3",
   "version": "3.8.10"
  }
 },
 "nbformat": 4,
 "nbformat_minor": 5
}
