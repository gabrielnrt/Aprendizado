{
 "cells": [
  {
   "cell_type": "markdown",
   "id": "e1124182-303e-416c-9c41-2757227b083c",
   "metadata": {},
   "source": [
    "# WebScraping - Primeiros Passos"
   ]
  },
  {
   "cell_type": "markdown",
   "id": "95ace5c0-6a31-419a-be50-f016771e06e5",
   "metadata": {},
   "source": [
    "A ideia deste notebook será sobre a biblioteca ```BeautifulSoup```, que realiza a tarefa de \"raspar\" dados de sites na internet; em particular, de páginas HTML. Na verdade, essa biblioteca também faz webscraping de outro formato, mas é necessário instalar manualmente o interpretador.\n",
    "\n",
    "Como este é o primeiro notebook, vamos nos atentar na classe ```BeautifulSoup``` e alguns de seus métodos.\n",
    "\n",
    "Para importá-lo, digitamos"
   ]
  },
  {
   "cell_type": "code",
   "execution_count": 2,
   "id": "6b238cf2-77ae-4e69-be82-1182e0a2a8f7",
   "metadata": {},
   "outputs": [],
   "source": [
    "from bs4 import BeautifulSoup"
   ]
  },
  {
   "cell_type": "markdown",
   "id": "cfcf21d4-f3f8-4aac-a63d-2eb2495a7148",
   "metadata": {},
   "source": [
    "Agora que importamos a classe, coletemos o código fonte do site em html usado como exemplo na documentação, https://www.crummy.com/software/BeautifulSoup/bs4/doc/#encodings."
   ]
  },
  {
   "cell_type": "code",
   "execution_count": 3,
   "id": "f015f1ec-3638-4a71-b541-dcf45bd2d118",
   "metadata": {},
   "outputs": [],
   "source": [
    "html_doc = \"\"\"<html><head><title>The Dormouse's story</title></head>\n",
    "<body>\n",
    "<p class=\"title\"><b>The Dormouse's story</b></p>\n",
    "\n",
    "<p class=\"story\">Once upon a time there were three little sisters; and their names were\n",
    "<a href=\"http://example.com/elsie\" class=\"sister\" id=\"link1\">Elsie</a>,\n",
    "<a href=\"http://example.com/lacie\" class=\"sister\" id=\"link2\">Lacie</a> and\n",
    "<a href=\"http://example.com/tillie\" class=\"sister\" id=\"link3\">Tillie</a>;\n",
    "and they lived at the bottom of a well.</p>\n",
    "\n",
    "<p class=\"story\">...</p>\n",
    "\"\"\""
   ]
  },
  {
   "cell_type": "markdown",
   "id": "207777a1-e7ad-42d6-9046-68a5ac8b3180",
   "metadata": {},
   "source": [
    "Para instanciar a classe, colocamos como primeiro parâmetro a string do código em HTML, e depois o parser, que é ```html.parser```."
   ]
  },
  {
   "cell_type": "code",
   "execution_count": 4,
   "id": "17647ce9-838f-46bd-ac31-1dc5c7ff1863",
   "metadata": {},
   "outputs": [],
   "source": [
    "sopa = BeautifulSoup(html_doc, 'html.parser')"
   ]
  },
  {
   "cell_type": "markdown",
   "id": "b767ddcc-467f-4a58-9b7c-0a5872d9b55c",
   "metadata": {},
   "source": [
    "Vejamos como o string do código fonte é tratado."
   ]
  },
  {
   "cell_type": "code",
   "execution_count": 10,
   "id": "b762ad46-46e0-48a0-bb89-60cf305631f8",
   "metadata": {},
   "outputs": [
    {
     "data": {
      "text/plain": [
       "<html><head><title>The Dormouse's story</title></head>\n",
       "<body>\n",
       "<p class=\"title\"><b>The Dormouse's story</b></p>\n",
       "<p class=\"story\">Once upon a time there were three little sisters; and their names were\n",
       "<a class=\"sister\" href=\"http://example.com/elsie\" id=\"link1\">Elsie</a>,\n",
       "<a class=\"sister\" href=\"http://example.com/lacie\" id=\"link2\">Lacie</a> and\n",
       "<a class=\"sister\" href=\"http://example.com/tillie\" id=\"link3\">Tillie</a>;\n",
       "and they lived at the bottom of a well.</p>\n",
       "<p class=\"story\">...</p>\n",
       "</body></html>"
      ]
     },
     "execution_count": 10,
     "metadata": {},
     "output_type": "execute_result"
    }
   ],
   "source": [
    "sopa"
   ]
  },
  {
   "cell_type": "markdown",
   "id": "4424ba0d-7abe-403a-bb3c-002faed6440c",
   "metadata": {},
   "source": [
    "Os objetos nessa biblioteca que são mais relevantes por hora são o ```BeautifulSoup``` e ```Tag```. O primeiro objeto pode ser tratado, a grosso modo, como uma tag.\n",
    "\n",
    "Para acessar alguma tag específica, devemos colocá-la depois de intanciar o ```BeautifulSoup```. Por exemplo,"
   ]
  },
  {
   "cell_type": "code",
   "execution_count": 5,
   "id": "dc5f0c10-df87-4f66-a1fa-b5b4ed644ab8",
   "metadata": {},
   "outputs": [
    {
     "data": {
      "text/plain": [
       "<title>The Dormouse's story</title>"
      ]
     },
     "execution_count": 5,
     "metadata": {},
     "output_type": "execute_result"
    }
   ],
   "source": [
    "sopa.title"
   ]
  },
  {
   "cell_type": "markdown",
   "id": "6bcc6ba7-bd94-41ed-81fc-800fc6f9a8c3",
   "metadata": {},
   "source": [
    "Verificando que esse objeto é do tipo ```Tag```, digitamos"
   ]
  },
  {
   "cell_type": "code",
   "execution_count": 6,
   "id": "ccb6c233-c3b9-4c2f-8a45-2a9df1141871",
   "metadata": {},
   "outputs": [
    {
     "data": {
      "text/plain": [
       "bs4.element.Tag"
      ]
     },
     "execution_count": 6,
     "metadata": {},
     "output_type": "execute_result"
    }
   ],
   "source": [
    "type(sopa.title)"
   ]
  },
  {
   "cell_type": "markdown",
   "id": "40f05abf-054f-47ee-9731-d607994b02c2",
   "metadata": {},
   "source": [
    "Uma tag pode conter outra tag, como no caso do cabeçalho por exemplo."
   ]
  },
  {
   "cell_type": "code",
   "execution_count": 7,
   "id": "5aaed038-3e4a-4abd-b570-4b083d2b37a3",
   "metadata": {},
   "outputs": [
    {
     "data": {
      "text/plain": [
       "<head><title>The Dormouse's story</title></head>"
      ]
     },
     "execution_count": 7,
     "metadata": {},
     "output_type": "execute_result"
    }
   ],
   "source": [
    "cabecalho = sopa.head\n",
    "\n",
    "cabecalho"
   ]
  },
  {
   "cell_type": "markdown",
   "id": "03f16d55-74dd-4feb-9b52-d028f452a5d2",
   "metadata": {},
   "source": [
    "Além disso, uma tag quase sempre contém um atributo chamado ```string```, que é o texto associado que aparece no site."
   ]
  },
  {
   "cell_type": "code",
   "execution_count": 19,
   "id": "b559af8b-7f30-4ac5-8b3d-31a87600f7ee",
   "metadata": {},
   "outputs": [
    {
     "data": {
      "text/plain": [
       "\"The Dormouse's story\""
      ]
     },
     "execution_count": 19,
     "metadata": {},
     "output_type": "execute_result"
    }
   ],
   "source": [
    "cabecalho.string"
   ]
  },
  {
   "cell_type": "markdown",
   "id": "6c79ca01-300a-494a-b327-4da360e20dbb",
   "metadata": {},
   "source": [
    "Caso queiramos imprimir o nome da tag, usamos o atributo ```name```."
   ]
  },
  {
   "cell_type": "code",
   "execution_count": 20,
   "id": "706370b5-baf7-4139-8372-c426bb4216a6",
   "metadata": {},
   "outputs": [
    {
     "data": {
      "text/plain": [
       "'head'"
      ]
     },
     "execution_count": 20,
     "metadata": {},
     "output_type": "execute_result"
    }
   ],
   "source": [
    "cabecalho.name"
   ]
  },
  {
   "cell_type": "markdown",
   "id": "5c546610-4414-42e9-83b1-1a9a6e5663d9",
   "metadata": {},
   "source": [
    "Note que as tags do tipo ```a``` (hiperlink) possuem vários atributos."
   ]
  },
  {
   "cell_type": "code",
   "execution_count": 21,
   "id": "4d3d91f6-4a62-443b-8d32-3c268fedbb69",
   "metadata": {},
   "outputs": [
    {
     "data": {
      "text/plain": [
       "<a class=\"sister\" href=\"http://example.com/elsie\" id=\"link1\">Elsie</a>"
      ]
     },
     "execution_count": 21,
     "metadata": {},
     "output_type": "execute_result"
    }
   ],
   "source": [
    "sopa.a"
   ]
  },
  {
   "cell_type": "markdown",
   "id": "be5d3218-996f-40b7-97fd-1353c7fa7def",
   "metadata": {},
   "source": [
    "Para ver todas os atributos dela, podemos usar a variável de instância ```attrs```, que retorna um dicionário contendo os atributos da tag."
   ]
  },
  {
   "cell_type": "code",
   "execution_count": 22,
   "id": "a7f79d61-0814-47e0-970a-a848781bdd44",
   "metadata": {},
   "outputs": [
    {
     "data": {
      "text/plain": [
       "{'href': 'http://example.com/elsie', 'class': ['sister'], 'id': 'link1'}"
      ]
     },
     "execution_count": 22,
     "metadata": {},
     "output_type": "execute_result"
    }
   ],
   "source": [
    "sopa.a.attrs"
   ]
  },
  {
   "cell_type": "markdown",
   "id": "604f88ca-49df-45ff-9622-6655a9b3115d",
   "metadata": {},
   "source": [
    "Cada um deles pode ser acessado como se o objeto ```tag``` fosse um dicionário."
   ]
  },
  {
   "cell_type": "code",
   "execution_count": 25,
   "id": "7a46b8f2-121b-4d70-841e-b1288ce35795",
   "metadata": {},
   "outputs": [
    {
     "data": {
      "text/plain": [
       "'http://example.com/elsie'"
      ]
     },
     "execution_count": 25,
     "metadata": {},
     "output_type": "execute_result"
    }
   ],
   "source": [
    "# Isso aqui também daria na mesma: \n",
    "# sopa.a['href']\n",
    "\n",
    "tag = sopa.a\n",
    "\n",
    "tag['href']"
   ]
  },
  {
   "cell_type": "markdown",
   "id": "7a122799-cbb5-47a9-8f4f-ed0f4ddd362d",
   "metadata": {},
   "source": [
    "Para achar todas as linhas de um mesmo tipo de tag, usamos o método ```find_all()```."
   ]
  },
  {
   "cell_type": "markdown",
   "id": "2272ddd2-4bbe-446b-a188-9184d943457e",
   "metadata": {},
   "source": [
    "## ```find_all()```"
   ]
  },
  {
   "cell_type": "markdown",
   "id": "7ab36b57-e708-4a59-acef-fa58e517b217",
   "metadata": {},
   "source": [
    "O método ```find_all()``` retorna uma lista de descendentes de uma tag que contenham determinadas características colocadas no argumento. Dentre os parâmetros que podemos colocar, destacamos o ```name```, que é o tipo de tag (a, p, body, title, etc), e o ```*kwargs```, onde podemos inserir os atributos dessa tag. Por exemplo, vejamos todas as tags correspondentes aos links."
   ]
  },
  {
   "cell_type": "code",
   "execution_count": 26,
   "id": "de4071c6-28f9-46d2-ac41-06cecfb055c1",
   "metadata": {},
   "outputs": [
    {
     "data": {
      "text/plain": [
       "[<a class=\"sister\" href=\"http://example.com/elsie\" id=\"link1\">Elsie</a>,\n",
       " <a class=\"sister\" href=\"http://example.com/lacie\" id=\"link2\">Lacie</a>,\n",
       " <a class=\"sister\" href=\"http://example.com/tillie\" id=\"link3\">Tillie</a>]"
      ]
     },
     "execution_count": 26,
     "metadata": {},
     "output_type": "execute_result"
    }
   ],
   "source": [
    "sopa.find_all(name = 'a')"
   ]
  },
  {
   "cell_type": "markdown",
   "id": "ce2e2190-6335-4898-b2a2-23ddf1da8613",
   "metadata": {},
   "source": [
    "Se quisermos inserir o nome da classe, devemos escrever \"class_\" ao invés de \"class\", pois o último termo é uma palavra reservada em pyhton."
   ]
  },
  {
   "cell_type": "code",
   "execution_count": 25,
   "id": "1b8ce88e-5a5c-4370-9666-44e146a56456",
   "metadata": {},
   "outputs": [
    {
     "data": {
      "text/plain": [
       "[<a class=\"sister\" href=\"http://example.com/elsie\" id=\"link1\">Elsie</a>,\n",
       " <a class=\"sister\" href=\"http://example.com/lacie\" id=\"link2\">Lacie</a>,\n",
       " <a class=\"sister\" href=\"http://example.com/tillie\" id=\"link3\">Tillie</a>]"
      ]
     },
     "execution_count": 25,
     "metadata": {},
     "output_type": "execute_result"
    }
   ],
   "source": [
    "sopa.find_all(class_='sister')"
   ]
  },
  {
   "cell_type": "markdown",
   "id": "9bfba205-51f1-4ca9-9a38-58cd702c8372",
   "metadata": {},
   "source": [
    "Para pegar a segunda linha apenas, podemos ver que ela se diferencia das demais pelo atributo ```id```. Assim, temos"
   ]
  },
  {
   "cell_type": "code",
   "execution_count": 27,
   "id": "fb5e7f72-7eea-4f06-a42f-d27c0a29199c",
   "metadata": {},
   "outputs": [
    {
     "data": {
      "text/plain": [
       "[<a class=\"sister\" href=\"http://example.com/lacie\" id=\"link2\">Lacie</a>]"
      ]
     },
     "execution_count": 27,
     "metadata": {},
     "output_type": "execute_result"
    }
   ],
   "source": [
    "sopa.find_all(name = 'a', id ='link2')"
   ]
  },
  {
   "cell_type": "markdown",
   "id": "ca75d8cf-9bf9-4fb1-a8b0-6f96ba6aa57a",
   "metadata": {},
   "source": [
    "Tanto nesse caso quanto nos outros, cada elemento da lista retornada é um objeto ```Tag```. Logo, se quisermos extrair apenas o texto que elas possuem (Elsie, Lacie e Tillie), então podemos usar o atributo ```string```."
   ]
  },
  {
   "cell_type": "code",
   "execution_count": 32,
   "id": "555de2cb-610c-46e2-9af7-2f8fca038307",
   "metadata": {},
   "outputs": [
    {
     "name": "stdout",
     "output_type": "stream",
     "text": [
      "Elsie\n",
      "Lacie\n",
      "Tillie\n"
     ]
    }
   ],
   "source": [
    "for tag in sopa.find_all(name = 'a'):\n",
    "    print(tag.string)"
   ]
  },
  {
   "cell_type": "code",
   "execution_count": null,
   "id": "f794daf3-d929-469e-88b9-661c2fad75ba",
   "metadata": {},
   "outputs": [],
   "source": []
  }
 ],
 "metadata": {
  "kernelspec": {
   "display_name": "Python 3 (ipykernel)",
   "language": "python",
   "name": "python3"
  },
  "language_info": {
   "codemirror_mode": {
    "name": "ipython",
    "version": 3
   },
   "file_extension": ".py",
   "mimetype": "text/x-python",
   "name": "python",
   "nbconvert_exporter": "python",
   "pygments_lexer": "ipython3",
   "version": "3.8.10"
  }
 },
 "nbformat": 4,
 "nbformat_minor": 5
}
