{
 "cells": [
  {
   "cell_type": "markdown",
   "id": "31420449-9614-407d-ae3d-662bc9226ed9",
   "metadata": {},
   "source": [
    "# **`plotly.graph_objects`**\n",
    "\n",
    "# **INTRODUÇÃO**\n",
    "\n",
    "Neste notebook vou só introduzir algumas estruturas da biblioteca `plotly.graph_objects`, que é a base do `plotly.express` dado que o retorno de boa parte das funções são objetos pertencentes ao `graph_objects`.\n",
    "\n",
    "[Aqui](https://plotly.com/python/reference/index/) há uma explicação do próprio site do plotly sobre, enquanto que a documentação completa se encontra neste [link](https://plotly.com/python-api-reference/index.html). Além disso, parte do conteúdo será baseada [neste](https://www.kaggle.com/code/kanncaa1/plotly-tutorial-for-beginners) tutorial que encontrei no Kaggle.\n",
    "\n",
    "Uma forma de fazer gráficos com essa biblioteca é primeiramente criando uma instância do objeto `Figure`, e depois adicionando cada gráfico com o método `add_traces()`, onde o argumento é preenchido com o tipo de gráfico e suas especificações, como nome da legenda, cor, grossura da linha, etc.\n"
   ]
  },
  {
   "cell_type": "code",
   "execution_count": null,
   "id": "f753e2bc-b175-419c-acb7-0ac572b9ddfe",
   "metadata": {},
   "outputs": [],
   "source": []
  }
 ],
 "metadata": {
  "kernelspec": {
   "display_name": "Python 3 (ipykernel)",
   "language": "python",
   "name": "python3"
  },
  "language_info": {
   "codemirror_mode": {
    "name": "ipython",
    "version": 3
   },
   "file_extension": ".py",
   "mimetype": "text/x-python",
   "name": "python",
   "nbconvert_exporter": "python",
   "pygments_lexer": "ipython3",
   "version": "3.8.10"
  }
 },
 "nbformat": 4,
 "nbformat_minor": 5
}
