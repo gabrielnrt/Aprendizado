{
 "cells": [
  {
   "cell_type": "code",
   "execution_count": 8,
   "metadata": {},
   "outputs": [],
   "source": [
    "import pandas as pd\n",
    "from sklearn.model_selection import train_test_split\n",
    "from sklearn.linear_model import LinearRegression\n",
    "from sklearn import metrics\n",
    "import numpy as np\n",
    "\n",
    "publi = pd.read_csv('http://faculty.marshall.usc.edu/gareth-james/ISL/Advertising.csv',index_col=0)"
   ]
  },
  {
   "cell_type": "markdown",
   "metadata": {},
   "source": [
    "### TV e Rádio"
   ]
  },
  {
   "cell_type": "code",
   "execution_count": 9,
   "metadata": {},
   "outputs": [
    {
     "name": "stdout",
     "output_type": "stream",
     "text": [
      "Média do erro absoluto\n",
      "1.2149068467539905\n",
      "RMS\n",
      "1.5821239241271172\n"
     ]
    }
   ],
   "source": [
    "x = publi[['TV','radio']]\n",
    "y = publi['sales']\n",
    "\n",
    "x_train,x_test,y_train,y_test = train_test_split(x,y,test_size=0.3,random_state=5)\n",
    "\n",
    "reglin = LinearRegression()\n",
    "reglin.fit(x_train,y_train)\n",
    "\n",
    "y_prev = reglin.predict(x_test)\n",
    "\n",
    "print('Média do erro absoluto')\n",
    "print(metrics.mean_absolute_error(y_test,y_prev))\n",
    "print('RMS')\n",
    "print(np.sqrt(metrics.mean_squared_error(y_test,y_prev)))"
   ]
  },
  {
   "cell_type": "markdown",
   "metadata": {},
   "source": [
    "### TV e Jornal"
   ]
  },
  {
   "cell_type": "code",
   "execution_count": 10,
   "metadata": {},
   "outputs": [
    {
     "name": "stdout",
     "output_type": "stream",
     "text": [
      "Média do erro absoluto\n",
      "2.379102311273906\n",
      "RMS\n",
      "3.095160664554646\n"
     ]
    }
   ],
   "source": [
    "x = publi[['TV','newspaper']]\n",
    "y = publi['sales']\n",
    "\n",
    "x_train,x_test,y_train,y_test = train_test_split(x,y,test_size=0.3,random_state=5)\n",
    "\n",
    "reglin = LinearRegression()\n",
    "reglin.fit(x_train,y_train)\n",
    "\n",
    "y_prev = reglin.predict(x_test)\n",
    "\n",
    "print('Média do erro absoluto')\n",
    "print(metrics.mean_absolute_error(y_test,y_prev))\n",
    "print('RMS')\n",
    "print(np.sqrt(metrics.mean_squared_error(y_test,y_prev)))"
   ]
  },
  {
   "cell_type": "markdown",
   "metadata": {},
   "source": [
    "### Rádio e Jornal"
   ]
  },
  {
   "cell_type": "code",
   "execution_count": 11,
   "metadata": {},
   "outputs": [
    {
     "name": "stdout",
     "output_type": "stream",
     "text": [
      "Média do erro absoluto\n",
      "3.230067173578635\n",
      "RMS\n",
      "4.044704848174974\n"
     ]
    }
   ],
   "source": [
    "x = publi[['radio','newspaper']]\n",
    "y = publi['sales']\n",
    "\n",
    "x_train,x_test,y_train,y_test = train_test_split(x,y,test_size=0.3,random_state=5)\n",
    "\n",
    "reglin = LinearRegression()\n",
    "reglin.fit(x_train,y_train)\n",
    "\n",
    "y_prev = reglin.predict(x_test)\n",
    "\n",
    "print('Média do erro absoluto')\n",
    "print(metrics.mean_absolute_error(y_test,y_prev))\n",
    "print('RMS')\n",
    "print(np.sqrt(metrics.mean_squared_error(y_test,y_prev)))"
   ]
  },
  {
   "cell_type": "code",
   "execution_count": null,
   "metadata": {},
   "outputs": [],
   "source": []
  }
 ],
 "metadata": {
  "kernelspec": {
   "display_name": "Python 3",
   "language": "python",
   "name": "python3"
  },
  "language_info": {
   "codemirror_mode": {
    "name": "ipython",
    "version": 3
   },
   "file_extension": ".py",
   "mimetype": "text/x-python",
   "name": "python",
   "nbconvert_exporter": "python",
   "pygments_lexer": "ipython3",
   "version": "3.8.4"
  }
 },
 "nbformat": 4,
 "nbformat_minor": 4
}
