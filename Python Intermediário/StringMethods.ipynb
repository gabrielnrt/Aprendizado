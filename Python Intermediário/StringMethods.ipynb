{
 "cells": [
  {
   "cell_type": "markdown",
   "id": "63ebd50e-fe6b-4d23-b860-d66ea153bbf5",
   "metadata": {},
   "source": [
    "# **Métodos de String**"
   ]
  },
  {
   "cell_type": "markdown",
   "id": "bf631ac7-b06e-40df-8153-8c2976fcb3c3",
   "metadata": {},
   "source": [
    "## **Introdução**"
   ]
  },
  {
   "cell_type": "markdown",
   "id": "5bde2dc5-b55d-4033-bdf0-6dfda72d038b",
   "metadata": {},
   "source": [
    "Como é bem sabido, python é uma linguagem de programação orientada a objetos. Deste modo, este notebook versará sobre alguns métodos de strings. Inicialmente vou tentar colocá-los neste notebook, mas se o arquivo ficar muito grande, criarei outros notebooks para cada método.\n",
    "\n",
    "**Vale ressaltar que os métodos de strings não alteram a string original. Eles só retornam novos valores.**"
   ]
  },
  {
   "cell_type": "markdown",
   "id": "aa8d7c51-ef6a-4375-a262-9915cc8849b2",
   "metadata": {},
   "source": [
    "## ```split()``` "
   ]
  },
  {
   "cell_type": "markdown",
   "id": "0121f8f5-cd9d-483e-b94d-714421c6bfdc",
   "metadata": {},
   "source": [
    "O método ```split()``` separa uma string dado um separador e a quantidade de vezes que a string original deve ser \"fatiada\" usando o separador, retornando uma lista com as strings obtidas. Por padrão, ele separa adotando o espaço como separador e realiza isso em todas as ocorrências.\n",
    "\n",
    "Vejamos alguns exemplos:"
   ]
  },
  {
   "cell_type": "code",
   "execution_count": 1,
   "id": "4e32cd1d-b840-4f0d-827d-3d4c7e9ced35",
   "metadata": {},
   "outputs": [
    {
     "data": {
      "text/plain": [
       "['Meu', 'nome', 'é', 'Gabriel.']"
      ]
     },
     "execution_count": 1,
     "metadata": {},
     "output_type": "execute_result"
    }
   ],
   "source": [
    "texto = 'Meu nome é Gabriel.'\n",
    "\n",
    "texto.split()"
   ]
  },
  {
   "cell_type": "markdown",
   "id": "9e2af55b-006f-485f-8957-0c1085b8ed15",
   "metadata": {},
   "source": [
    "Note que se se fatiarmos n vezes uma string, teremos n+1 novos \"pedaços\", como no exemplo abaixo."
   ]
  },
  {
   "cell_type": "code",
   "execution_count": 4,
   "id": "28f0576c-c54d-444e-ac55-2abdc9fd39ad",
   "metadata": {},
   "outputs": [
    {
     "data": {
      "text/plain": [
       "['Meu', 'nome', 'é Gabriel.']"
      ]
     },
     "execution_count": 4,
     "metadata": {},
     "output_type": "execute_result"
    }
   ],
   "source": [
    "texto.split(' ', 2)"
   ]
  },
  {
   "cell_type": "markdown",
   "id": "70c0ce06-dc82-4664-b1d7-a0541660afd5",
   "metadata": {},
   "source": [
    "## ```replace()```"
   ]
  },
  {
   "cell_type": "markdown",
   "id": "9b4bea4f-433c-4495-b576-d3bf4e04f017",
   "metadata": {},
   "source": [
    "O método ```replace()```, como o próprio nome sugere, substitui um trecho por outro, em que devemos colocar primeiramente o trecho antigo, e depois o novo trecho que vai substituir. Além disso, podemos colocar por último, de maneira opcional, o número de vezes (n) que o trecho antigo será substituído, e desta forma as primeiras n ocorrências serão substituídas. Este método retorna uma nova string com os trechos substituídos."
   ]
  },
  {
   "cell_type": "code",
   "execution_count": 5,
   "id": "87d17e1c-0ea9-4511-8ea6-5693f35b3861",
   "metadata": {},
   "outputs": [
    {
     "data": {
      "text/plain": [
       "'X XX XXX B BCD '"
      ]
     },
     "execution_count": 5,
     "metadata": {},
     "output_type": "execute_result"
    }
   ],
   "source": [
    "texto = 'A AA AAA B BCD '\n",
    "\n",
    "texto.replace('A', 'X')"
   ]
  },
  {
   "cell_type": "markdown",
   "id": "4545a4b1-0206-4e00-a26b-151171ef5036",
   "metadata": {},
   "source": [
    "Se quisermos retirar apenas o primeiro A, fazemos"
   ]
  },
  {
   "cell_type": "code",
   "execution_count": 6,
   "id": "a37dfbdd-a5ef-42b9-955b-a3a08b02b983",
   "metadata": {},
   "outputs": [
    {
     "data": {
      "text/plain": [
       "'X AA AAA B BCD '"
      ]
     },
     "execution_count": 6,
     "metadata": {},
     "output_type": "execute_result"
    }
   ],
   "source": [
    "texto.replace('A', 'X', 1)"
   ]
  },
  {
   "cell_type": "markdown",
   "id": "74f260e6-1d32-4463-9b95-eb870a4b8842",
   "metadata": {},
   "source": [
    "Note que podemos remover um trecho colocando ```''``` no segundo parâmetro."
   ]
  },
  {
   "cell_type": "code",
   "execution_count": 8,
   "id": "b59c3814-9048-40a8-a2f5-2ccdac36e27d",
   "metadata": {},
   "outputs": [
    {
     "data": {
      "text/plain": [
       "'A AA AAA B '"
      ]
     },
     "execution_count": 8,
     "metadata": {},
     "output_type": "execute_result"
    }
   ],
   "source": [
    "texto.replace('BCD ','')"
   ]
  },
  {
   "cell_type": "code",
   "execution_count": null,
   "id": "385d4eab-38c6-4198-94d6-eb862893b5ae",
   "metadata": {},
   "outputs": [],
   "source": []
  }
 ],
 "metadata": {
  "kernelspec": {
   "display_name": "Python 3 (ipykernel)",
   "language": "python",
   "name": "python3"
  },
  "language_info": {
   "codemirror_mode": {
    "name": "ipython",
    "version": 3
   },
   "file_extension": ".py",
   "mimetype": "text/x-python",
   "name": "python",
   "nbconvert_exporter": "python",
   "pygments_lexer": "ipython3",
   "version": "3.8.10"
  }
 },
 "nbformat": 4,
 "nbformat_minor": 5
}
