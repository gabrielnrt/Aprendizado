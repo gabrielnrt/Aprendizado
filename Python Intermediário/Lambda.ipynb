{
 "cells": [
  {
   "cell_type": "markdown",
   "id": "3705468c-2bf8-44e0-8282-741664f99ba6",
   "metadata": {},
   "source": [
    "# Funções Lambda"
   ]
  },
  {
   "cell_type": "markdown",
   "id": "bff87393-3d43-448c-a984-e43f5d3b19d9",
   "metadata": {},
   "source": [
    "Por definição, uma função lambda em python é uma função anônima que pode receber vários objetos como entrada, mas apenas retorna um objeto na saída. Para usarmos num código, devemos obedecer à seguinte sintaxe:\n",
    "\n",
    "```lambda variaveis : retorno```\n",
    "\n",
    "As funções lambda são úteis quando criamos funções pequenas e também para colocarmos dentro de uma função ou método de uma classe.\n",
    "\n",
    "Para exemplificar, usaremos uma função lambda como argumento num DataFrame, que realizará a conversão de uma string em objeto de data."
   ]
  },
  {
   "cell_type": "code",
   "execution_count": 3,
   "id": "7e48175f-7b1c-448e-9313-49c9bea5cb32",
   "metadata": {},
   "outputs": [
    {
     "data": {
      "text/html": [
       "<div>\n",
       "<style scoped>\n",
       "    .dataframe tbody tr th:only-of-type {\n",
       "        vertical-align: middle;\n",
       "    }\n",
       "\n",
       "    .dataframe tbody tr th {\n",
       "        vertical-align: top;\n",
       "    }\n",
       "\n",
       "    .dataframe thead th {\n",
       "        text-align: right;\n",
       "    }\n",
       "</style>\n",
       "<table border=\"1\" class=\"dataframe\">\n",
       "  <thead>\n",
       "    <tr style=\"text-align: right;\">\n",
       "      <th></th>\n",
       "      <th>Datas</th>\n",
       "    </tr>\n",
       "  </thead>\n",
       "  <tbody>\n",
       "    <tr>\n",
       "      <th>0</th>\n",
       "      <td>1976-06-14</td>\n",
       "    </tr>\n",
       "    <tr>\n",
       "      <th>1</th>\n",
       "      <td>2008-05-02</td>\n",
       "    </tr>\n",
       "    <tr>\n",
       "      <th>2</th>\n",
       "      <td>1821-07-28</td>\n",
       "    </tr>\n",
       "    <tr>\n",
       "      <th>3</th>\n",
       "      <td>2014-07-08</td>\n",
       "    </tr>\n",
       "  </tbody>\n",
       "</table>\n",
       "</div>"
      ],
      "text/plain": [
       "       Datas\n",
       "0 1976-06-14\n",
       "1 2008-05-02\n",
       "2 1821-07-28\n",
       "3 2014-07-08"
      ]
     },
     "execution_count": 3,
     "metadata": {},
     "output_type": "execute_result"
    }
   ],
   "source": [
    "from pandas import read_csv\n",
    "from datetime import datetime\n",
    "\n",
    "\n",
    "df = read_csv('Fechas.csv', parse_dates = ['Datas'], \n",
    "               date_parser = lambda fecha : datetime.strptime(fecha, '%d/%m/%Y'))\n",
    "\n",
    "df"
   ]
  },
  {
   "cell_type": "code",
   "execution_count": null,
   "id": "54f277c3-83c7-43e9-9bdc-685816b74357",
   "metadata": {},
   "outputs": [],
   "source": []
  }
 ],
 "metadata": {
  "kernelspec": {
   "display_name": "Python 3 (ipykernel)",
   "language": "python",
   "name": "python3"
  },
  "language_info": {
   "codemirror_mode": {
    "name": "ipython",
    "version": 3
   },
   "file_extension": ".py",
   "mimetype": "text/x-python",
   "name": "python",
   "nbconvert_exporter": "python",
   "pygments_lexer": "ipython3",
   "version": "3.8.10"
  }
 },
 "nbformat": 4,
 "nbformat_minor": 5
}
